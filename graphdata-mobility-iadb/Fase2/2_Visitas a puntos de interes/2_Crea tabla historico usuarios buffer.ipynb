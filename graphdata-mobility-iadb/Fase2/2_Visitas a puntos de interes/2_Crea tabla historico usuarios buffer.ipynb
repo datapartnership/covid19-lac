{
 "cells": [
  {
   "cell_type": "code",
   "execution_count": 1,
   "metadata": {},
   "outputs": [
    {
     "name": "stdout",
     "output_type": "stream",
     "text": [
      "/home/ec2-user/anaconda3/envs/python3/lib/python3.6/enum.py\n"
     ]
    }
   ],
   "source": [
    "import enum\n",
    "print(enum.__file__)  \n",
    "# standard library location should be something like \n",
    "# /usr/local/lib/python3.6/enum.py"
   ]
  },
  {
   "cell_type": "code",
   "execution_count": 2,
   "metadata": {},
   "outputs": [
    {
     "name": "stdout",
     "output_type": "stream",
     "text": [
      "\u001b[33mWARNING: Skipping enum34 as it is not installed.\u001b[0m\r\n"
     ]
    }
   ],
   "source": [
    "import sys\n",
    "!{sys.executable} -m pip uninstall -y enum34"
   ]
  },
  {
   "cell_type": "code",
   "execution_count": 3,
   "metadata": {
    "scrolled": true
   },
   "outputs": [
    {
     "name": "stdout",
     "output_type": "stream",
     "text": [
      "Requirement already satisfied: awswrangler in /home/ec2-user/anaconda3/envs/python3/lib/python3.6/site-packages (2.7.0)\n",
      "Requirement already satisfied: pg8000<1.19.0,>=1.16.0 in /home/ec2-user/anaconda3/envs/python3/lib/python3.6/site-packages (from awswrangler) (1.18.0)\n",
      "Requirement already satisfied: pyarrow<3.1.0,>=2.0.0 in /home/ec2-user/anaconda3/envs/python3/lib/python3.6/site-packages (from awswrangler) (3.0.0)\n",
      "Requirement already satisfied: pandas<1.3.0,>=1.1.0 in /home/ec2-user/anaconda3/envs/python3/lib/python3.6/site-packages (from awswrangler) (1.1.5)\n",
      "Requirement already satisfied: boto3<2.0.0,>=1.12.49 in /home/ec2-user/anaconda3/envs/python3/lib/python3.6/site-packages (from awswrangler) (1.17.35)\n",
      "Requirement already satisfied: redshift-connector~=2.0.0 in /home/ec2-user/anaconda3/envs/python3/lib/python3.6/site-packages (from awswrangler) (2.0.878)\n",
      "Requirement already satisfied: pymysql<1.1.0,>=0.9.0 in /home/ec2-user/anaconda3/envs/python3/lib/python3.6/site-packages (from awswrangler) (1.0.2)\n",
      "Requirement already satisfied: openpyxl~=3.0.0 in /home/ec2-user/anaconda3/envs/python3/lib/python3.6/site-packages (from awswrangler) (3.0.6)\n",
      "Requirement already satisfied: numpy<1.21.0,>=1.18.0 in /home/ec2-user/anaconda3/envs/python3/lib/python3.6/site-packages (from awswrangler) (1.19.5)\n",
      "Requirement already satisfied: botocore<2.0.0,>=1.15.49 in /home/ec2-user/anaconda3/envs/python3/lib/python3.6/site-packages (from awswrangler) (1.20.35)\n",
      "Requirement already satisfied: s3transfer<0.4.0,>=0.3.0 in /home/ec2-user/anaconda3/envs/python3/lib/python3.6/site-packages (from boto3<2.0.0,>=1.12.49->awswrangler) (0.3.4)\n",
      "Requirement already satisfied: jmespath<1.0.0,>=0.7.1 in /home/ec2-user/anaconda3/envs/python3/lib/python3.6/site-packages (from boto3<2.0.0,>=1.12.49->awswrangler) (0.10.0)\n",
      "Requirement already satisfied: urllib3<1.27,>=1.25.4 in /home/ec2-user/anaconda3/envs/python3/lib/python3.6/site-packages (from botocore<2.0.0,>=1.15.49->awswrangler) (1.26.3)\n",
      "Requirement already satisfied: python-dateutil<3.0.0,>=2.1 in /home/ec2-user/anaconda3/envs/python3/lib/python3.6/site-packages (from botocore<2.0.0,>=1.15.49->awswrangler) (2.8.1)\n",
      "Requirement already satisfied: et-xmlfile in /home/ec2-user/anaconda3/envs/python3/lib/python3.6/site-packages (from openpyxl~=3.0.0->awswrangler) (1.0.1)\n",
      "Requirement already satisfied: jdcal in /home/ec2-user/anaconda3/envs/python3/lib/python3.6/site-packages (from openpyxl~=3.0.0->awswrangler) (1.4.1)\n",
      "Requirement already satisfied: pytz>=2017.2 in /home/ec2-user/anaconda3/envs/python3/lib/python3.6/site-packages (from pandas<1.3.0,>=1.1.0->awswrangler) (2021.1)\n",
      "Requirement already satisfied: scramp==1.2.2 in /home/ec2-user/anaconda3/envs/python3/lib/python3.6/site-packages (from pg8000<1.19.0,>=1.16.0->awswrangler) (1.2.2)\n",
      "Requirement already satisfied: asn1crypto==1.4.0 in /home/ec2-user/anaconda3/envs/python3/lib/python3.6/site-packages (from scramp==1.2.2->pg8000<1.19.0,>=1.16.0->awswrangler) (1.4.0)\n",
      "Requirement already satisfied: six>=1.5 in /home/ec2-user/anaconda3/envs/python3/lib/python3.6/site-packages (from python-dateutil<3.0.0,>=2.1->botocore<2.0.0,>=1.15.49->awswrangler) (1.15.0)\n",
      "Requirement already satisfied: requests<2.25.2,>=2.23.0 in /home/ec2-user/anaconda3/envs/python3/lib/python3.6/site-packages (from redshift-connector~=2.0.0->awswrangler) (2.25.1)\n",
      "Requirement already satisfied: lxml>=4.6.2 in /home/ec2-user/anaconda3/envs/python3/lib/python3.6/site-packages (from redshift-connector~=2.0.0->awswrangler) (4.6.2)\n",
      "Requirement already satisfied: beautifulsoup4<5.0.0,>=4.7.0 in /home/ec2-user/anaconda3/envs/python3/lib/python3.6/site-packages (from redshift-connector~=2.0.0->awswrangler) (4.9.3)\n",
      "Requirement already satisfied: soupsieve>1.2 in /home/ec2-user/anaconda3/envs/python3/lib/python3.6/site-packages (from beautifulsoup4<5.0.0,>=4.7.0->redshift-connector~=2.0.0->awswrangler) (2.0.1)\n",
      "Requirement already satisfied: chardet<5,>=3.0.2 in /home/ec2-user/anaconda3/envs/python3/lib/python3.6/site-packages (from requests<2.25.2,>=2.23.0->redshift-connector~=2.0.0->awswrangler) (3.0.4)\n",
      "Requirement already satisfied: certifi>=2017.4.17 in /home/ec2-user/anaconda3/envs/python3/lib/python3.6/site-packages (from requests<2.25.2,>=2.23.0->redshift-connector~=2.0.0->awswrangler) (2020.12.5)\n",
      "Requirement already satisfied: idna<3,>=2.5 in /home/ec2-user/anaconda3/envs/python3/lib/python3.6/site-packages (from requests<2.25.2,>=2.23.0->redshift-connector~=2.0.0->awswrangler) (2.10)\n"
     ]
    }
   ],
   "source": [
    "!{sys.executable} -m pip install awswrangler"
   ]
  },
  {
   "cell_type": "code",
   "execution_count": 4,
   "metadata": {},
   "outputs": [],
   "source": [
    "import pandas as pd\n",
    "import awswrangler as wr\n",
    "import numpy as np\n",
    "import calendar\n",
    "import boto3\n",
    "s3 = boto3.resource('s3')"
   ]
  },
  {
   "cell_type": "markdown",
   "metadata": {},
   "source": [
    "Instalar PyAthena"
   ]
  },
  {
   "cell_type": "code",
   "execution_count": 5,
   "metadata": {
    "scrolled": true
   },
   "outputs": [
    {
     "name": "stdout",
     "output_type": "stream",
     "text": [
      "Requirement already satisfied: PyAthena in /home/ec2-user/anaconda3/envs/python3/lib/python3.6/site-packages (2.2.0)\n",
      "Requirement already satisfied: tenacity>=4.1.0 in /home/ec2-user/anaconda3/envs/python3/lib/python3.6/site-packages (from PyAthena) (7.0.0)\n",
      "Requirement already satisfied: boto3>=1.4.4 in /home/ec2-user/anaconda3/envs/python3/lib/python3.6/site-packages (from PyAthena) (1.17.35)\n",
      "Requirement already satisfied: botocore>=1.5.52 in /home/ec2-user/anaconda3/envs/python3/lib/python3.6/site-packages (from PyAthena) (1.20.35)\n",
      "Requirement already satisfied: s3transfer<0.4.0,>=0.3.0 in /home/ec2-user/anaconda3/envs/python3/lib/python3.6/site-packages (from boto3>=1.4.4->PyAthena) (0.3.4)\n",
      "Requirement already satisfied: jmespath<1.0.0,>=0.7.1 in /home/ec2-user/anaconda3/envs/python3/lib/python3.6/site-packages (from boto3>=1.4.4->PyAthena) (0.10.0)\n",
      "Requirement already satisfied: urllib3<1.27,>=1.25.4 in /home/ec2-user/anaconda3/envs/python3/lib/python3.6/site-packages (from botocore>=1.5.52->PyAthena) (1.26.3)\n",
      "Requirement already satisfied: python-dateutil<3.0.0,>=2.1 in /home/ec2-user/anaconda3/envs/python3/lib/python3.6/site-packages (from botocore>=1.5.52->PyAthena) (2.8.1)\n",
      "Requirement already satisfied: six>=1.5 in /home/ec2-user/anaconda3/envs/python3/lib/python3.6/site-packages (from python-dateutil<3.0.0,>=2.1->botocore>=1.5.52->PyAthena) (1.15.0)\n"
     ]
    }
   ],
   "source": [
    "!{sys.executable} -m pip install PyAthena"
   ]
  },
  {
   "cell_type": "code",
   "execution_count": 6,
   "metadata": {
    "scrolled": true
   },
   "outputs": [
    {
     "name": "stdout",
     "output_type": "stream",
     "text": [
      "Requirement already satisfied: geopandas in /home/ec2-user/anaconda3/envs/python3/lib/python3.6/site-packages (0.9.0)\n",
      "Requirement already satisfied: pyproj>=2.2.0 in /home/ec2-user/anaconda3/envs/python3/lib/python3.6/site-packages (from geopandas) (3.0.1)\n",
      "Requirement already satisfied: shapely>=1.6 in /home/ec2-user/anaconda3/envs/python3/lib/python3.6/site-packages (from geopandas) (1.7.1)\n",
      "Requirement already satisfied: pandas>=0.24.0 in /home/ec2-user/anaconda3/envs/python3/lib/python3.6/site-packages (from geopandas) (1.1.5)\n",
      "Requirement already satisfied: fiona>=1.8 in /home/ec2-user/anaconda3/envs/python3/lib/python3.6/site-packages (from geopandas) (1.8.19)\n",
      "Requirement already satisfied: attrs>=17 in /home/ec2-user/anaconda3/envs/python3/lib/python3.6/site-packages (from fiona>=1.8->geopandas) (20.3.0)\n",
      "Requirement already satisfied: click-plugins>=1.0 in /home/ec2-user/anaconda3/envs/python3/lib/python3.6/site-packages (from fiona>=1.8->geopandas) (1.1.1)\n",
      "Requirement already satisfied: six>=1.7 in /home/ec2-user/anaconda3/envs/python3/lib/python3.6/site-packages (from fiona>=1.8->geopandas) (1.15.0)\n",
      "Requirement already satisfied: click<8,>=4.0 in /home/ec2-user/anaconda3/envs/python3/lib/python3.6/site-packages (from fiona>=1.8->geopandas) (7.1.2)\n",
      "Requirement already satisfied: cligj>=0.5 in /home/ec2-user/anaconda3/envs/python3/lib/python3.6/site-packages (from fiona>=1.8->geopandas) (0.7.1)\n",
      "Requirement already satisfied: munch in /home/ec2-user/anaconda3/envs/python3/lib/python3.6/site-packages (from fiona>=1.8->geopandas) (2.5.0)\n",
      "Requirement already satisfied: certifi in /home/ec2-user/anaconda3/envs/python3/lib/python3.6/site-packages (from fiona>=1.8->geopandas) (2020.12.5)\n",
      "Requirement already satisfied: python-dateutil>=2.7.3 in /home/ec2-user/anaconda3/envs/python3/lib/python3.6/site-packages (from pandas>=0.24.0->geopandas) (2.8.1)\n",
      "Requirement already satisfied: pytz>=2017.2 in /home/ec2-user/anaconda3/envs/python3/lib/python3.6/site-packages (from pandas>=0.24.0->geopandas) (2021.1)\n",
      "Requirement already satisfied: numpy>=1.15.4 in /home/ec2-user/anaconda3/envs/python3/lib/python3.6/site-packages (from pandas>=0.24.0->geopandas) (1.19.5)\n"
     ]
    }
   ],
   "source": [
    "!{sys.executable} -m pip install geopandas"
   ]
  },
  {
   "cell_type": "code",
   "execution_count": 7,
   "metadata": {},
   "outputs": [
    {
     "name": "stdout",
     "output_type": "stream",
     "text": [
      "Requirement already satisfied: mkl in /home/ec2-user/anaconda3/envs/python3/lib/python3.6/site-packages (2021.2.0)\r\n",
      "Requirement already satisfied: tbb==2021.* in /home/ec2-user/anaconda3/envs/python3/lib/python3.6/site-packages (from mkl) (2021.2.0)\r\n",
      "Requirement already satisfied: intel-openmp==2021.* in /home/ec2-user/anaconda3/envs/python3/lib/python3.6/site-packages (from mkl) (2021.2.0)\r\n"
     ]
    }
   ],
   "source": [
    "!{sys.executable} -m pip install mkl"
   ]
  },
  {
   "cell_type": "code",
   "execution_count": 8,
   "metadata": {},
   "outputs": [
    {
     "name": "stdout",
     "output_type": "stream",
     "text": [
      "Requirement already satisfied: tensorflow in /home/ec2-user/anaconda3/envs/python3/lib/python3.6/site-packages (2.4.1)\n",
      "Requirement already satisfied: flatbuffers~=1.12.0 in /home/ec2-user/anaconda3/envs/python3/lib/python3.6/site-packages (from tensorflow) (1.12)\n",
      "Requirement already satisfied: termcolor~=1.1.0 in /home/ec2-user/anaconda3/envs/python3/lib/python3.6/site-packages (from tensorflow) (1.1.0)\n",
      "Requirement already satisfied: absl-py~=0.10 in /home/ec2-user/anaconda3/envs/python3/lib/python3.6/site-packages (from tensorflow) (0.12.0)\n",
      "Requirement already satisfied: protobuf>=3.9.2 in /home/ec2-user/anaconda3/envs/python3/lib/python3.6/site-packages (from tensorflow) (3.15.2)\n",
      "Requirement already satisfied: gast==0.3.3 in /home/ec2-user/anaconda3/envs/python3/lib/python3.6/site-packages (from tensorflow) (0.3.3)\n",
      "Requirement already satisfied: google-pasta~=0.2 in /home/ec2-user/anaconda3/envs/python3/lib/python3.6/site-packages (from tensorflow) (0.2.0)\n",
      "Requirement already satisfied: keras-preprocessing~=1.1.2 in /home/ec2-user/anaconda3/envs/python3/lib/python3.6/site-packages (from tensorflow) (1.1.2)\n",
      "Requirement already satisfied: wrapt~=1.12.1 in /home/ec2-user/anaconda3/envs/python3/lib/python3.6/site-packages (from tensorflow) (1.12.1)\n",
      "Requirement already satisfied: tensorboard~=2.4 in /home/ec2-user/anaconda3/envs/python3/lib/python3.6/site-packages (from tensorflow) (2.5.0)\n",
      "Requirement already satisfied: six~=1.15.0 in /home/ec2-user/anaconda3/envs/python3/lib/python3.6/site-packages (from tensorflow) (1.15.0)\n",
      "Requirement already satisfied: h5py~=2.10.0 in /home/ec2-user/anaconda3/envs/python3/lib/python3.6/site-packages (from tensorflow) (2.10.0)\n",
      "Requirement already satisfied: opt-einsum~=3.3.0 in /home/ec2-user/anaconda3/envs/python3/lib/python3.6/site-packages (from tensorflow) (3.3.0)\n",
      "Requirement already satisfied: wheel~=0.35 in /home/ec2-user/anaconda3/envs/python3/lib/python3.6/site-packages (from tensorflow) (0.36.2)\n",
      "Requirement already satisfied: grpcio~=1.32.0 in /home/ec2-user/anaconda3/envs/python3/lib/python3.6/site-packages (from tensorflow) (1.32.0)\n",
      "Requirement already satisfied: astunparse~=1.6.3 in /home/ec2-user/anaconda3/envs/python3/lib/python3.6/site-packages (from tensorflow) (1.6.3)\n",
      "Requirement already satisfied: tensorflow-estimator<2.5.0,>=2.4.0 in /home/ec2-user/anaconda3/envs/python3/lib/python3.6/site-packages (from tensorflow) (2.4.0)\n",
      "Requirement already satisfied: typing-extensions~=3.7.4 in /home/ec2-user/anaconda3/envs/python3/lib/python3.6/site-packages (from tensorflow) (3.7.4.3)\n",
      "Requirement already satisfied: numpy~=1.19.2 in /home/ec2-user/anaconda3/envs/python3/lib/python3.6/site-packages (from tensorflow) (1.19.5)\n",
      "Requirement already satisfied: werkzeug>=0.11.15 in /home/ec2-user/anaconda3/envs/python3/lib/python3.6/site-packages (from tensorboard~=2.4->tensorflow) (1.0.1)\n",
      "Requirement already satisfied: google-auth-oauthlib<0.5,>=0.4.1 in /home/ec2-user/anaconda3/envs/python3/lib/python3.6/site-packages (from tensorboard~=2.4->tensorflow) (0.4.4)\n",
      "Requirement already satisfied: markdown>=2.6.8 in /home/ec2-user/anaconda3/envs/python3/lib/python3.6/site-packages (from tensorboard~=2.4->tensorflow) (3.3.4)\n",
      "Requirement already satisfied: requests<3,>=2.21.0 in /home/ec2-user/anaconda3/envs/python3/lib/python3.6/site-packages (from tensorboard~=2.4->tensorflow) (2.25.1)\n",
      "Requirement already satisfied: setuptools>=41.0.0 in /home/ec2-user/anaconda3/envs/python3/lib/python3.6/site-packages (from tensorboard~=2.4->tensorflow) (49.6.0.post20210108)\n",
      "Requirement already satisfied: tensorboard-plugin-wit>=1.6.0 in /home/ec2-user/anaconda3/envs/python3/lib/python3.6/site-packages (from tensorboard~=2.4->tensorflow) (1.8.0)\n",
      "Requirement already satisfied: tensorboard-data-server<0.7.0,>=0.6.0 in /home/ec2-user/anaconda3/envs/python3/lib/python3.6/site-packages (from tensorboard~=2.4->tensorflow) (0.6.0)\n",
      "Requirement already satisfied: google-auth<2,>=1.6.3 in /home/ec2-user/anaconda3/envs/python3/lib/python3.6/site-packages (from tensorboard~=2.4->tensorflow) (1.29.0)\n",
      "Requirement already satisfied: pyasn1-modules>=0.2.1 in /home/ec2-user/anaconda3/envs/python3/lib/python3.6/site-packages (from google-auth<2,>=1.6.3->tensorboard~=2.4->tensorflow) (0.2.8)\n",
      "Requirement already satisfied: rsa<5,>=3.1.4 in /home/ec2-user/anaconda3/envs/python3/lib/python3.6/site-packages (from google-auth<2,>=1.6.3->tensorboard~=2.4->tensorflow) (4.7.2)\n",
      "Requirement already satisfied: cachetools<5.0,>=2.0.0 in /home/ec2-user/anaconda3/envs/python3/lib/python3.6/site-packages (from google-auth<2,>=1.6.3->tensorboard~=2.4->tensorflow) (4.2.1)\n",
      "Requirement already satisfied: requests-oauthlib>=0.7.0 in /home/ec2-user/anaconda3/envs/python3/lib/python3.6/site-packages (from google-auth-oauthlib<0.5,>=0.4.1->tensorboard~=2.4->tensorflow) (1.3.0)\n",
      "Requirement already satisfied: importlib-metadata in /home/ec2-user/anaconda3/envs/python3/lib/python3.6/site-packages (from markdown>=2.6.8->tensorboard~=2.4->tensorflow) (3.7.0)\n",
      "Requirement already satisfied: pyasn1<0.5.0,>=0.4.6 in /home/ec2-user/anaconda3/envs/python3/lib/python3.6/site-packages (from pyasn1-modules>=0.2.1->google-auth<2,>=1.6.3->tensorboard~=2.4->tensorflow) (0.4.8)\n",
      "Requirement already satisfied: certifi>=2017.4.17 in /home/ec2-user/anaconda3/envs/python3/lib/python3.6/site-packages (from requests<3,>=2.21.0->tensorboard~=2.4->tensorflow) (2020.12.5)\n",
      "Requirement already satisfied: chardet<5,>=3.0.2 in /home/ec2-user/anaconda3/envs/python3/lib/python3.6/site-packages (from requests<3,>=2.21.0->tensorboard~=2.4->tensorflow) (3.0.4)\n",
      "Requirement already satisfied: urllib3<1.27,>=1.21.1 in /home/ec2-user/anaconda3/envs/python3/lib/python3.6/site-packages (from requests<3,>=2.21.0->tensorboard~=2.4->tensorflow) (1.26.3)\n",
      "Requirement already satisfied: idna<3,>=2.5 in /home/ec2-user/anaconda3/envs/python3/lib/python3.6/site-packages (from requests<3,>=2.21.0->tensorboard~=2.4->tensorflow) (2.10)\n",
      "Requirement already satisfied: oauthlib>=3.0.0 in /home/ec2-user/anaconda3/envs/python3/lib/python3.6/site-packages (from requests-oauthlib>=0.7.0->google-auth-oauthlib<0.5,>=0.4.1->tensorboard~=2.4->tensorflow) (3.1.0)\n",
      "Requirement already satisfied: zipp>=0.5 in /home/ec2-user/anaconda3/envs/python3/lib/python3.6/site-packages (from importlib-metadata->markdown>=2.6.8->tensorboard~=2.4->tensorflow) (3.4.0)\n"
     ]
    }
   ],
   "source": [
    "!{sys.executable} -m pip install tensorflow --upgrade"
   ]
  },
  {
   "cell_type": "markdown",
   "metadata": {},
   "source": [
    "Configurar PyAthena"
   ]
  },
  {
   "cell_type": "code",
   "execution_count": 9,
   "metadata": {},
   "outputs": [],
   "source": [
    "from pyathena.pandas.cursor import PandasCursor\n",
    "from pyathena import connect\n",
    "import pandas as pd\n",
    "import time\n",
    "from datetime import datetime\n",
    "# agregar directorio en el cual se almacenan las tablas que se van a consultar\n",
    "directorio = 's3://iadbprod-csd-hub-analyticaldata/graphdata-mobility-temporal/athena-results/'\n",
    "# base de datos\n",
    "bd = 'graphdata' # Database in Glue\n",
    "cursor = connect(s3_staging_dir = directorio, region_name = 'us-east-1', schema_name = bd, cursor_class = PandasCursor).cursor()"
   ]
  },
  {
   "cell_type": "code",
   "execution_count": 10,
   "metadata": {},
   "outputs": [],
   "source": [
    "import geopandas as gpd\n",
    "import glob\n",
    "import os"
   ]
  },
  {
   "cell_type": "code",
   "execution_count": 11,
   "metadata": {},
   "outputs": [],
   "source": [
    "import mkl"
   ]
  },
  {
   "cell_type": "code",
   "execution_count": 12,
   "metadata": {},
   "outputs": [
    {
     "name": "stdout",
     "output_type": "stream",
     "text": [
      "2.4.1\n"
     ]
    }
   ],
   "source": [
    "import tensorflow as tf\n",
    "print(tf.__version__)"
   ]
  },
  {
   "cell_type": "markdown",
   "metadata": {},
   "source": [
    "## Seleccionar paises"
   ]
  },
  {
   "cell_type": "code",
   "execution_count": 13,
   "metadata": {},
   "outputs": [
    {
     "data": {
      "text/plain": [
       "22"
      ]
     },
     "execution_count": 13,
     "metadata": {},
     "output_type": "execute_result"
    }
   ],
   "source": [
    "paises = ['BO','EC','CL','VE','AR','CR','DO','SV','GT','HN','NI','PA','PY','PE','UY','BZ','GY','JM','TT','CO','MX','BR']\n",
    "len(paises)"
   ]
  },
  {
   "cell_type": "code",
   "execution_count": 14,
   "metadata": {},
   "outputs": [],
   "source": [
    "pais = 'BR'"
   ]
  },
  {
   "cell_type": "markdown",
   "metadata": {},
   "source": [
    "## Asignar poligonos a usuarios"
   ]
  },
  {
   "cell_type": "code",
   "execution_count": 15,
   "metadata": {
    "scrolled": true
   },
   "outputs": [
    {
     "name": "stdout",
     "output_type": "stream",
     "text": [
      "Tamaño tabla: 143986741\n"
     ]
    }
   ],
   "source": [
    "query = f'''SELECT iso_country_code,\n",
    "                   caid, \n",
    "                   lat_mas_visitado as lat_final,\n",
    "                   long_mas_visitado as long_final\n",
    "            FROM historico_usuarios_deltas                            \n",
    "            WHERE iso_country_code='{pais}'\n",
    "            GROUP BY iso_country_code,\n",
    "                     caid, \n",
    "                     lat_mas_visitado,\n",
    "                     long_mas_visitado'''\n",
    "df = cursor.execute(query).as_pandas()    \n",
    "print(f\"Tamaño tabla: {df.shape[0]}\")\n",
    "gdf_homes = gpd.GeoDataFrame(df,geometry = gpd.points_from_xy(df.long_final, df.lat_final), crs = 'epsg:4326')"
   ]
  },
  {
   "cell_type": "code",
   "execution_count": 16,
   "metadata": {},
   "outputs": [
    {
     "data": {
      "text/html": [
       "<div>\n",
       "<style scoped>\n",
       "    .dataframe tbody tr th:only-of-type {\n",
       "        vertical-align: middle;\n",
       "    }\n",
       "\n",
       "    .dataframe tbody tr th {\n",
       "        vertical-align: top;\n",
       "    }\n",
       "\n",
       "    .dataframe thead th {\n",
       "        text-align: right;\n",
       "    }\n",
       "</style>\n",
       "<table border=\"1\" class=\"dataframe\">\n",
       "  <thead>\n",
       "    <tr style=\"text-align: right;\">\n",
       "      <th></th>\n",
       "      <th>iso_country_code</th>\n",
       "      <th>caid</th>\n",
       "      <th>lat_final</th>\n",
       "      <th>long_final</th>\n",
       "      <th>geometry</th>\n",
       "    </tr>\n",
       "  </thead>\n",
       "  <tbody>\n",
       "    <tr>\n",
       "      <th>0</th>\n",
       "      <td>BR</td>\n",
       "      <td>086cac9dc16851a51578b9900ed634247ec6feba070054...</td>\n",
       "      <td>-3.076</td>\n",
       "      <td>-60.011</td>\n",
       "      <td>POINT (-60.01100 -3.07600)</td>\n",
       "    </tr>\n",
       "    <tr>\n",
       "      <th>1</th>\n",
       "      <td>BR</td>\n",
       "      <td>d49cf986a7c52612d7b9db6c42aa75edceb903a2c31c45...</td>\n",
       "      <td>-14.245</td>\n",
       "      <td>-46.470</td>\n",
       "      <td>POINT (-46.47000 -14.24500)</td>\n",
       "    </tr>\n",
       "    <tr>\n",
       "      <th>2</th>\n",
       "      <td>BR</td>\n",
       "      <td>f9f55fa9515fca687f79a2af273d591f618db5e76019b9...</td>\n",
       "      <td>-25.695</td>\n",
       "      <td>-48.487</td>\n",
       "      <td>POINT (-48.48700 -25.69500)</td>\n",
       "    </tr>\n",
       "    <tr>\n",
       "      <th>3</th>\n",
       "      <td>BR</td>\n",
       "      <td>af29c33b3f76779d24f0cff019bc3b53fda0abe57514c9...</td>\n",
       "      <td>-23.982</td>\n",
       "      <td>-48.877</td>\n",
       "      <td>POINT (-48.87700 -23.98200)</td>\n",
       "    </tr>\n",
       "    <tr>\n",
       "      <th>4</th>\n",
       "      <td>BR</td>\n",
       "      <td>78f4e83adf8b4cf7b09ab4def524d32f9de9f7a1fb2a76...</td>\n",
       "      <td>-23.595</td>\n",
       "      <td>-46.627</td>\n",
       "      <td>POINT (-46.62700 -23.59500)</td>\n",
       "    </tr>\n",
       "    <tr>\n",
       "      <th>...</th>\n",
       "      <td>...</td>\n",
       "      <td>...</td>\n",
       "      <td>...</td>\n",
       "      <td>...</td>\n",
       "      <td>...</td>\n",
       "    </tr>\n",
       "    <tr>\n",
       "      <th>143986736</th>\n",
       "      <td>BR</td>\n",
       "      <td>e878e74cace84f83dd3620677278601ceadf644629e953...</td>\n",
       "      <td>-29.831</td>\n",
       "      <td>-51.135</td>\n",
       "      <td>POINT (-51.13500 -29.83100)</td>\n",
       "    </tr>\n",
       "    <tr>\n",
       "      <th>143986737</th>\n",
       "      <td>BR</td>\n",
       "      <td>6a0f1f57902d2009f97c5e623596cf02c8f88b7f367190...</td>\n",
       "      <td>-5.699</td>\n",
       "      <td>-36.794</td>\n",
       "      <td>POINT (-36.79400 -5.69900)</td>\n",
       "    </tr>\n",
       "    <tr>\n",
       "      <th>143986738</th>\n",
       "      <td>BR</td>\n",
       "      <td>9d524a2aaa42da0b5b2f388db475bc343c20e295248565...</td>\n",
       "      <td>-16.640</td>\n",
       "      <td>-49.260</td>\n",
       "      <td>POINT (-49.26000 -16.64000)</td>\n",
       "    </tr>\n",
       "    <tr>\n",
       "      <th>143986739</th>\n",
       "      <td>BR</td>\n",
       "      <td>6be56b2339a6993332d839e39ebd42041ea67954087231...</td>\n",
       "      <td>-24.324</td>\n",
       "      <td>-50.636</td>\n",
       "      <td>POINT (-50.63600 -24.32400)</td>\n",
       "    </tr>\n",
       "    <tr>\n",
       "      <th>143986740</th>\n",
       "      <td>BR</td>\n",
       "      <td>9ae062c7008bf53675cc2573e79ddb220988e6ee9c741d...</td>\n",
       "      <td>-3.755</td>\n",
       "      <td>-38.600</td>\n",
       "      <td>POINT (-38.60000 -3.75500)</td>\n",
       "    </tr>\n",
       "  </tbody>\n",
       "</table>\n",
       "<p>143986741 rows × 5 columns</p>\n",
       "</div>"
      ],
      "text/plain": [
       "          iso_country_code                                               caid  \\\n",
       "0                       BR  086cac9dc16851a51578b9900ed634247ec6feba070054...   \n",
       "1                       BR  d49cf986a7c52612d7b9db6c42aa75edceb903a2c31c45...   \n",
       "2                       BR  f9f55fa9515fca687f79a2af273d591f618db5e76019b9...   \n",
       "3                       BR  af29c33b3f76779d24f0cff019bc3b53fda0abe57514c9...   \n",
       "4                       BR  78f4e83adf8b4cf7b09ab4def524d32f9de9f7a1fb2a76...   \n",
       "...                    ...                                                ...   \n",
       "143986736               BR  e878e74cace84f83dd3620677278601ceadf644629e953...   \n",
       "143986737               BR  6a0f1f57902d2009f97c5e623596cf02c8f88b7f367190...   \n",
       "143986738               BR  9d524a2aaa42da0b5b2f388db475bc343c20e295248565...   \n",
       "143986739               BR  6be56b2339a6993332d839e39ebd42041ea67954087231...   \n",
       "143986740               BR  9ae062c7008bf53675cc2573e79ddb220988e6ee9c741d...   \n",
       "\n",
       "           lat_final  long_final                     geometry  \n",
       "0             -3.076     -60.011   POINT (-60.01100 -3.07600)  \n",
       "1            -14.245     -46.470  POINT (-46.47000 -14.24500)  \n",
       "2            -25.695     -48.487  POINT (-48.48700 -25.69500)  \n",
       "3            -23.982     -48.877  POINT (-48.87700 -23.98200)  \n",
       "4            -23.595     -46.627  POINT (-46.62700 -23.59500)  \n",
       "...              ...         ...                          ...  \n",
       "143986736    -29.831     -51.135  POINT (-51.13500 -29.83100)  \n",
       "143986737     -5.699     -36.794   POINT (-36.79400 -5.69900)  \n",
       "143986738    -16.640     -49.260  POINT (-49.26000 -16.64000)  \n",
       "143986739    -24.324     -50.636  POINT (-50.63600 -24.32400)  \n",
       "143986740     -3.755     -38.600   POINT (-38.60000 -3.75500)  \n",
       "\n",
       "[143986741 rows x 5 columns]"
      ]
     },
     "execution_count": 16,
     "metadata": {},
     "output_type": "execute_result"
    }
   ],
   "source": [
    "gdf_homes"
   ]
  },
  {
   "cell_type": "code",
   "execution_count": 17,
   "metadata": {},
   "outputs": [],
   "source": [
    "# Puntos de interes - Entidades bancarias\n",
    "nom_shpefile = 'puntos_interes_CEF_Buffer' # Nombre del shapefile \n",
    "id_adm = 'id_agnc' # ID del punto de interes\n",
    "loc_adm = f\"Shapefiles/{pais}/{nom_shpefile}.shp\"\n",
    "path = glob.glob(f'{loc_adm}')\n",
    "mapa = gpd.read_file(path[0], encoding = 'utf-8')\n",
    "mapa['geometry'] = mapa['geometry'].to_crs(epsg = 4326)\n",
    "gdf_homes.crs = mapa.crs\n",
    "mapa = mapa.loc[:,[id_adm, 'geometry']]\n",
    "mapa = mapa.rename(columns = {id_adm:'id_pi'})\n",
    "gdf_homes_joined = gpd.sjoin(gdf_homes, mapa, op = 'within') \n",
    "gdf_homes_joined = gdf_homes_joined[['caid','iso_country_code', 'lat_final', 'long_final', 'id_pi']]\n",
    "gdf_homes_joined['lat_final'] = round(gdf_homes_joined['lat_final'], 3)\n",
    "gdf_homes_joined['long_final'] = round(gdf_homes_joined['long_final'], 3)\n",
    "gdf_homes = gdf_homes_joined"
   ]
  },
  {
   "cell_type": "code",
   "execution_count": 18,
   "metadata": {},
   "outputs": [
    {
     "data": {
      "text/html": [
       "<div>\n",
       "<style scoped>\n",
       "    .dataframe tbody tr th:only-of-type {\n",
       "        vertical-align: middle;\n",
       "    }\n",
       "\n",
       "    .dataframe tbody tr th {\n",
       "        vertical-align: top;\n",
       "    }\n",
       "\n",
       "    .dataframe thead th {\n",
       "        text-align: right;\n",
       "    }\n",
       "</style>\n",
       "<table border=\"1\" class=\"dataframe\">\n",
       "  <thead>\n",
       "    <tr style=\"text-align: right;\">\n",
       "      <th></th>\n",
       "      <th>caid</th>\n",
       "      <th>iso_country_code</th>\n",
       "      <th>lat_final</th>\n",
       "      <th>long_final</th>\n",
       "      <th>id_pi</th>\n",
       "    </tr>\n",
       "  </thead>\n",
       "  <tbody>\n",
       "    <tr>\n",
       "      <th>917</th>\n",
       "      <td>594ccb4ff789dfacfe5f9e22f6b9e7721354a91f4e4928...</td>\n",
       "      <td>BR</td>\n",
       "      <td>-22.900</td>\n",
       "      <td>-43.178</td>\n",
       "      <td>9.999363e+09</td>\n",
       "    </tr>\n",
       "    <tr>\n",
       "      <th>203899</th>\n",
       "      <td>0f15e8da06a4705d39ea5b27ec75b2b662e479ee164501...</td>\n",
       "      <td>BR</td>\n",
       "      <td>-22.900</td>\n",
       "      <td>-43.178</td>\n",
       "      <td>9.999363e+09</td>\n",
       "    </tr>\n",
       "    <tr>\n",
       "      <th>233310</th>\n",
       "      <td>c93ce34c7ca7bb958b2afc98a5e2ae44977e648594c6e3...</td>\n",
       "      <td>BR</td>\n",
       "      <td>-22.900</td>\n",
       "      <td>-43.178</td>\n",
       "      <td>9.999363e+09</td>\n",
       "    </tr>\n",
       "    <tr>\n",
       "      <th>322126</th>\n",
       "      <td>fb109abac0bc5560da60e3eb93b2eabb1fade4ab8ad620...</td>\n",
       "      <td>BR</td>\n",
       "      <td>-22.900</td>\n",
       "      <td>-43.178</td>\n",
       "      <td>9.999363e+09</td>\n",
       "    </tr>\n",
       "    <tr>\n",
       "      <th>365774</th>\n",
       "      <td>968eb794459c8cff9af9d3cfb4d31c246c498f1d01aa74...</td>\n",
       "      <td>BR</td>\n",
       "      <td>-22.900</td>\n",
       "      <td>-43.178</td>\n",
       "      <td>9.999363e+09</td>\n",
       "    </tr>\n",
       "    <tr>\n",
       "      <th>...</th>\n",
       "      <td>...</td>\n",
       "      <td>...</td>\n",
       "      <td>...</td>\n",
       "      <td>...</td>\n",
       "      <td>...</td>\n",
       "    </tr>\n",
       "    <tr>\n",
       "      <th>115226360</th>\n",
       "      <td>2046d3610d334b979e63aa436310c1b04a370f2750e30a...</td>\n",
       "      <td>BR</td>\n",
       "      <td>-22.536</td>\n",
       "      <td>-44.765</td>\n",
       "      <td>9.999776e+09</td>\n",
       "    </tr>\n",
       "    <tr>\n",
       "      <th>131716331</th>\n",
       "      <td>8564a17cf3d38942cdac694617cddc49c0cfd7c7e0d7e5...</td>\n",
       "      <td>BR</td>\n",
       "      <td>-22.536</td>\n",
       "      <td>-44.765</td>\n",
       "      <td>9.999776e+09</td>\n",
       "    </tr>\n",
       "    <tr>\n",
       "      <th>132462868</th>\n",
       "      <td>52c690d07d2b20e3c13cfd55da714766c50604da0d411a...</td>\n",
       "      <td>BR</td>\n",
       "      <td>-22.536</td>\n",
       "      <td>-44.765</td>\n",
       "      <td>9.999776e+09</td>\n",
       "    </tr>\n",
       "    <tr>\n",
       "      <th>140924596</th>\n",
       "      <td>07f2bf8cbca8e5cee34a4db985e7401fe2502d095dfc67...</td>\n",
       "      <td>BR</td>\n",
       "      <td>-22.536</td>\n",
       "      <td>-44.765</td>\n",
       "      <td>9.999776e+09</td>\n",
       "    </tr>\n",
       "    <tr>\n",
       "      <th>141351440</th>\n",
       "      <td>f504a20d89dd747be19226935f7f9213d6fb7f09129c20...</td>\n",
       "      <td>BR</td>\n",
       "      <td>-22.536</td>\n",
       "      <td>-44.765</td>\n",
       "      <td>9.999776e+09</td>\n",
       "    </tr>\n",
       "  </tbody>\n",
       "</table>\n",
       "<p>180574 rows × 5 columns</p>\n",
       "</div>"
      ],
      "text/plain": [
       "                                                        caid iso_country_code  \\\n",
       "917        594ccb4ff789dfacfe5f9e22f6b9e7721354a91f4e4928...               BR   \n",
       "203899     0f15e8da06a4705d39ea5b27ec75b2b662e479ee164501...               BR   \n",
       "233310     c93ce34c7ca7bb958b2afc98a5e2ae44977e648594c6e3...               BR   \n",
       "322126     fb109abac0bc5560da60e3eb93b2eabb1fade4ab8ad620...               BR   \n",
       "365774     968eb794459c8cff9af9d3cfb4d31c246c498f1d01aa74...               BR   \n",
       "...                                                      ...              ...   \n",
       "115226360  2046d3610d334b979e63aa436310c1b04a370f2750e30a...               BR   \n",
       "131716331  8564a17cf3d38942cdac694617cddc49c0cfd7c7e0d7e5...               BR   \n",
       "132462868  52c690d07d2b20e3c13cfd55da714766c50604da0d411a...               BR   \n",
       "140924596  07f2bf8cbca8e5cee34a4db985e7401fe2502d095dfc67...               BR   \n",
       "141351440  f504a20d89dd747be19226935f7f9213d6fb7f09129c20...               BR   \n",
       "\n",
       "           lat_final  long_final         id_pi  \n",
       "917          -22.900     -43.178  9.999363e+09  \n",
       "203899       -22.900     -43.178  9.999363e+09  \n",
       "233310       -22.900     -43.178  9.999363e+09  \n",
       "322126       -22.900     -43.178  9.999363e+09  \n",
       "365774       -22.900     -43.178  9.999363e+09  \n",
       "...              ...         ...           ...  \n",
       "115226360    -22.536     -44.765  9.999776e+09  \n",
       "131716331    -22.536     -44.765  9.999776e+09  \n",
       "132462868    -22.536     -44.765  9.999776e+09  \n",
       "140924596    -22.536     -44.765  9.999776e+09  \n",
       "141351440    -22.536     -44.765  9.999776e+09  \n",
       "\n",
       "[180574 rows x 5 columns]"
      ]
     },
     "execution_count": 18,
     "metadata": {},
     "output_type": "execute_result"
    }
   ],
   "source": [
    "gdf_homes"
   ]
  },
  {
   "cell_type": "code",
   "execution_count": 19,
   "metadata": {},
   "outputs": [
    {
     "data": {
      "text/plain": [
       "{'paths': ['s3://iadbprod-csd-hub-analyticaldata/graphdata-mobility-usuarios/historico_usuarios_pi/BR/historico_usuarios_pi_BR/ffc6eb96e84540f2a46e9c1621e0e25f.snappy.parquet'],\n",
       " 'partitions_values': {}}"
      ]
     },
     "execution_count": 19,
     "metadata": {},
     "output_type": "execute_result"
    }
   ],
   "source": [
    "table_pi = f'historico_usuarios_pi_{pais}'\n",
    "wr.s3.to_parquet(  # Storing the data and metadata to Data Lake\n",
    "    df = gdf_homes,\n",
    "    dataset = True,\n",
    "    table = table_pi,\n",
    "    database = \"graphdata\",\n",
    "    path = f\"s3://iadbprod-csd-hub-analyticaldata/graphdata-mobility-usuarios/historico_usuarios_pi/{pais}/{table_pi}\"\n",
    ")"
   ]
  },
  {
   "cell_type": "raw",
   "metadata": {},
   "source": [
    "tabla_datos_pais = f\"historico_usuarios_pi_{pais}\"\n",
    "query = f\"DROP TABLE {tabla_datos_pais}\"\n",
    "cursor.execute(query)\n",
    "\n",
    "print('Tablas eliminadas')"
   ]
  }
 ],
 "metadata": {
  "kernelspec": {
   "display_name": "conda_python3",
   "language": "python",
   "name": "conda_python3"
  },
  "language_info": {
   "codemirror_mode": {
    "name": "ipython",
    "version": 3
   },
   "file_extension": ".py",
   "mimetype": "text/x-python",
   "name": "python",
   "nbconvert_exporter": "python",
   "pygments_lexer": "ipython3",
   "version": "3.6.13"
  }
 },
 "nbformat": 4,
 "nbformat_minor": 4
}
