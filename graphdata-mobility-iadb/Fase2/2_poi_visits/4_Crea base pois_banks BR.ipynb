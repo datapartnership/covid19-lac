{
 "cells": [
  {
   "cell_type": "markdown",
   "metadata": {},
   "source": [
    "#### Preparar Ambiente"
   ]
  },
  {
   "cell_type": "code",
   "execution_count": 1,
   "metadata": {},
   "outputs": [],
   "source": [
    "import sys"
   ]
  },
  {
   "cell_type": "code",
   "execution_count": 2,
   "metadata": {},
   "outputs": [
    {
     "name": "stdout",
     "output_type": "stream",
     "text": [
      "Collecting PyAthena\n",
      "  Downloading PyAthena-2.3.0-py3-none-any.whl (37 kB)\n",
      "Collecting tenacity>=4.1.0\n",
      "  Downloading tenacity-8.0.1-py3-none-any.whl (24 kB)\n",
      "Requirement already satisfied: boto3>=1.4.4 in /home/ec2-user/anaconda3/envs/python3/lib/python3.6/site-packages (from PyAthena) (1.17.99)\n",
      "Requirement already satisfied: botocore>=1.5.52 in /home/ec2-user/anaconda3/envs/python3/lib/python3.6/site-packages (from PyAthena) (1.20.99)\n",
      "Requirement already satisfied: jmespath<1.0.0,>=0.7.1 in /home/ec2-user/anaconda3/envs/python3/lib/python3.6/site-packages (from boto3>=1.4.4->PyAthena) (0.10.0)\n",
      "Requirement already satisfied: s3transfer<0.5.0,>=0.4.0 in /home/ec2-user/anaconda3/envs/python3/lib/python3.6/site-packages (from boto3>=1.4.4->PyAthena) (0.4.2)\n",
      "Requirement already satisfied: python-dateutil<3.0.0,>=2.1 in /home/ec2-user/anaconda3/envs/python3/lib/python3.6/site-packages (from botocore>=1.5.52->PyAthena) (2.8.1)\n",
      "Requirement already satisfied: urllib3<1.27,>=1.25.4 in /home/ec2-user/anaconda3/envs/python3/lib/python3.6/site-packages (from botocore>=1.5.52->PyAthena) (1.26.5)\n",
      "Requirement already satisfied: six>=1.5 in /home/ec2-user/anaconda3/envs/python3/lib/python3.6/site-packages (from python-dateutil<3.0.0,>=2.1->botocore>=1.5.52->PyAthena) (1.15.0)\n",
      "Installing collected packages: tenacity, PyAthena\n",
      "Successfully installed PyAthena-2.3.0 tenacity-8.0.1\n",
      "\u001b[33mWARNING: You are using pip version 21.1.2; however, version 21.1.3 is available.\n",
      "You should consider upgrading via the '/home/ec2-user/anaconda3/envs/python3/bin/python -m pip install --upgrade pip' command.\u001b[0m\n"
     ]
    }
   ],
   "source": [
    "!{sys.executable} -m pip install PyAthena"
   ]
  },
  {
   "cell_type": "code",
   "execution_count": 3,
   "metadata": {},
   "outputs": [
    {
     "name": "stdout",
     "output_type": "stream",
     "text": [
      "Requirement already satisfied: pytz in /home/ec2-user/anaconda3/envs/python3/lib/python3.6/site-packages (2021.1)\n",
      "\u001b[33mWARNING: You are using pip version 21.1.2; however, version 21.1.3 is available.\n",
      "You should consider upgrading via the '/home/ec2-user/anaconda3/envs/python3/bin/python -m pip install --upgrade pip' command.\u001b[0m\n"
     ]
    }
   ],
   "source": [
    "!{sys.executable} -m pip install pytz"
   ]
  },
  {
   "cell_type": "code",
   "execution_count": 4,
   "metadata": {},
   "outputs": [
    {
     "name": "stdout",
     "output_type": "stream",
     "text": [
      "Collecting tqdm\n",
      "  Downloading tqdm-4.61.2-py2.py3-none-any.whl (76 kB)\n",
      "\u001b[K     |████████████████████████████████| 76 kB 5.6 MB/s  eta 0:00:01\n",
      "\u001b[?25hInstalling collected packages: tqdm\n",
      "Successfully installed tqdm-4.61.2\n",
      "\u001b[33mWARNING: You are using pip version 21.1.2; however, version 21.1.3 is available.\n",
      "You should consider upgrading via the '/home/ec2-user/anaconda3/envs/python3/bin/python -m pip install --upgrade pip' command.\u001b[0m\n"
     ]
    }
   ],
   "source": [
    "!{sys.executable} -m pip install tqdm"
   ]
  },
  {
   "cell_type": "markdown",
   "metadata": {},
   "source": [
    "#### Conectar con pyathena"
   ]
  },
  {
   "cell_type": "code",
   "execution_count": 5,
   "metadata": {},
   "outputs": [],
   "source": [
    "from pyathena.pandas.cursor import PandasCursor\n",
    "from pyathena import connect\n",
    "import pandas as pd\n",
    "import time\n",
    "# agregar directorio en el cual se almacenan las tablas que se van a consultar\n",
    "directorio = 's3://iadbprod-csd-hub-analyticaldata/graphdata-mobility-temporal/athena-results/'\n",
    "# base de datos\n",
    "bd = 'graphdata' # Database in Glue\n",
    "cursor = connect(s3_staging_dir = directorio, region_name = 'us-east-1', schema_name = bd, cursor_class = PandasCursor).cursor()"
   ]
  },
  {
   "cell_type": "code",
   "execution_count": 6,
   "metadata": {},
   "outputs": [],
   "source": [
    "from datetime import datetime, timedelta\n",
    "import numpy as np"
   ]
  },
  {
   "cell_type": "code",
   "execution_count": 7,
   "metadata": {},
   "outputs": [],
   "source": [
    "from tqdm.notebook import tqdm\n",
    "from time import sleep"
   ]
  },
  {
   "cell_type": "markdown",
   "metadata": {},
   "source": [
    "#### Crear tablas por pais"
   ]
  },
  {
   "cell_type": "code",
   "execution_count": 8,
   "metadata": {},
   "outputs": [
    {
     "data": {
      "text/plain": [
       "22"
      ]
     },
     "execution_count": 8,
     "metadata": {},
     "output_type": "execute_result"
    }
   ],
   "source": [
    "paises = ['BO','EC','CL','VE','AR','CR','DO','SV','GT','HN','NI','PA','PY','PE','UY','BZ','GY','JM','TT','CO','MX','BR']\n",
    "len(paises)"
   ]
  },
  {
   "cell_type": "code",
   "execution_count": 9,
   "metadata": {},
   "outputs": [],
   "source": [
    "pais = 'BR'"
   ]
  },
  {
   "cell_type": "markdown",
   "metadata": {},
   "source": [
    "#### Cuantil de distancia"
   ]
  },
  {
   "cell_type": "code",
   "execution_count": 10,
   "metadata": {},
   "outputs": [
    {
     "data": {
      "text/html": [
       "<div>\n",
       "<style scoped>\n",
       "    .dataframe tbody tr th:only-of-type {\n",
       "        vertical-align: middle;\n",
       "    }\n",
       "\n",
       "    .dataframe tbody tr th {\n",
       "        vertical-align: top;\n",
       "    }\n",
       "\n",
       "    .dataframe thead th {\n",
       "        text-align: right;\n",
       "    }\n",
       "</style>\n",
       "<table border=\"1\" class=\"dataframe\">\n",
       "  <thead>\n",
       "    <tr style=\"text-align: right;\">\n",
       "      <th></th>\n",
       "      <th>iso_country_code</th>\n",
       "      <th>month</th>\n",
       "      <th>day</th>\n",
       "      <th>distancia_recorrida</th>\n",
       "    </tr>\n",
       "  </thead>\n",
       "  <tbody>\n",
       "    <tr>\n",
       "      <th>0</th>\n",
       "      <td>BR</td>\n",
       "      <td>2</td>\n",
       "      <td>5</td>\n",
       "      <td>2.392055</td>\n",
       "    </tr>\n",
       "    <tr>\n",
       "      <th>1</th>\n",
       "      <td>BR</td>\n",
       "      <td>2</td>\n",
       "      <td>5</td>\n",
       "      <td>0.000000</td>\n",
       "    </tr>\n",
       "    <tr>\n",
       "      <th>2</th>\n",
       "      <td>BR</td>\n",
       "      <td>2</td>\n",
       "      <td>5</td>\n",
       "      <td>7.486799</td>\n",
       "    </tr>\n",
       "    <tr>\n",
       "      <th>3</th>\n",
       "      <td>BR</td>\n",
       "      <td>2</td>\n",
       "      <td>5</td>\n",
       "      <td>52.348395</td>\n",
       "    </tr>\n",
       "    <tr>\n",
       "      <th>4</th>\n",
       "      <td>BR</td>\n",
       "      <td>2</td>\n",
       "      <td>5</td>\n",
       "      <td>0.211835</td>\n",
       "    </tr>\n",
       "  </tbody>\n",
       "</table>\n",
       "</div>"
      ],
      "text/plain": [
       "  iso_country_code  month  day  distancia_recorrida\n",
       "0               BR      2    5             2.392055\n",
       "1               BR      2    5             0.000000\n",
       "2               BR      2    5             7.486799\n",
       "3               BR      2    5            52.348395\n",
       "4               BR      2    5             0.211835"
      ]
     },
     "execution_count": 10,
     "metadata": {},
     "output_type": "execute_result"
    }
   ],
   "source": [
    "tabla_historica_usuarios = f'historico_usuarios'\n",
    "query = f'''\n",
    "    SELECT iso_country_code, month, day, distancia_recorrida\n",
    "    FROM {tabla_historica_usuarios}\n",
    "    WHERE iso_country_code = '{pais}' and month = 02 and day = 05 '''\n",
    "dfq = cursor.execute(query).as_pandas()\n",
    "dfq.head()"
   ]
  },
  {
   "cell_type": "code",
   "execution_count": 11,
   "metadata": {},
   "outputs": [
    {
     "data": {
      "text/plain": [
       "0.25         0.000000\n",
       "0.50         1.100152\n",
       "0.75        16.277515\n",
       "1.00    213076.179756\n",
       "Name: distancia_recorrida, dtype: float64"
      ]
     },
     "execution_count": 11,
     "metadata": {},
     "output_type": "execute_result"
    }
   ],
   "source": [
    "dfq.distancia_recorrida.quantile([0.25, 0.5, 0.75, 1.00])"
   ]
  },
  {
   "cell_type": "markdown",
   "metadata": {},
   "source": [
    "#### Revisar tabla usuarios-pois"
   ]
  },
  {
   "cell_type": "code",
   "execution_count": 12,
   "metadata": {},
   "outputs": [
    {
     "data": {
      "text/html": [
       "<div>\n",
       "<style scoped>\n",
       "    .dataframe tbody tr th:only-of-type {\n",
       "        vertical-align: middle;\n",
       "    }\n",
       "\n",
       "    .dataframe tbody tr th {\n",
       "        vertical-align: top;\n",
       "    }\n",
       "\n",
       "    .dataframe thead th {\n",
       "        text-align: right;\n",
       "    }\n",
       "</style>\n",
       "<table border=\"1\" class=\"dataframe\">\n",
       "  <thead>\n",
       "    <tr style=\"text-align: right;\">\n",
       "      <th></th>\n",
       "      <th>n</th>\n",
       "      <th>n_usuarios_unicos</th>\n",
       "    </tr>\n",
       "  </thead>\n",
       "  <tbody>\n",
       "    <tr>\n",
       "      <th>0</th>\n",
       "      <td>460553</td>\n",
       "      <td>342306</td>\n",
       "    </tr>\n",
       "  </tbody>\n",
       "</table>\n",
       "</div>"
      ],
      "text/plain": [
       "        n  n_usuarios_unicos\n",
       "0  460553             342306"
      ]
     },
     "execution_count": 12,
     "metadata": {},
     "output_type": "execute_result"
    }
   ],
   "source": [
    "cat = 'banks'\n",
    "#cat = 'all'\n",
    "\n",
    "tabla_hogares_pois_pais = f'historico_hogares_pois_{cat}_{pais}'\n",
    "query = f'''\n",
    "    SELECT count(*) as n,\n",
    "    COUNT(distinct (caid, iso_country_code)) as n_usuarios_unicos\n",
    "    FROM {tabla_hogares_pois_pais}'''\n",
    "cursor.execute(query).as_pandas()"
   ]
  },
  {
   "cell_type": "code",
   "execution_count": 13,
   "metadata": {},
   "outputs": [
    {
     "name": "stdout",
     "output_type": "stream",
     "text": [
      "Generacion de tabla historico_usuarios_pois_banks_BR: terminado\n"
     ]
    }
   ],
   "source": [
    "historico_usuarios_pois_pais = f'historico_usuarios_pois_{cat}_{pais}'\n",
    "query = f'''\n",
    "    CREATE TABLE IF NOT EXISTS {historico_usuarios_pois_pais} AS\n",
    "    SELECT  g.id_poi,\n",
    "            h.caid,\n",
    "            h.distancia_recorrida,\n",
    "            h.lat_final,\n",
    "            h.long_final,\n",
    "            h.n_obs,\n",
    "            h.n_obs_noche,\n",
    "            h.n_obs_madrugada,\n",
    "            h.day,\n",
    "            h.month,\n",
    "            h.year,\n",
    "            h.iso_country_code\n",
    "    FROM (SELECT caid,\n",
    "                 id_poi\n",
    "          FROM {tabla_hogares_pois_pais}) as g INNER JOIN (\n",
    "            SELECT *\n",
    "            FROM historico_usuarios\n",
    "            WHERE iso_country_code='{pais}') as h\n",
    "        ON h.caid=g.caid\n",
    "'''\n",
    "cursor.execute(query)\n",
    "\n",
    "print(f'Generacion de tabla {historico_usuarios_pois_pais}: terminado')"
   ]
  },
  {
   "cell_type": "markdown",
   "metadata": {},
   "source": [
    "#### Cruzar tabla pois con tabla de pings por dia"
   ]
  },
  {
   "cell_type": "code",
   "execution_count": null,
   "metadata": {},
   "outputs": [],
   "source": [
    "fechas = pd.date_range('09/01/2020','09/30/2020')\n",
    "\n",
    "for fecha in fechas:\n",
    "    mes = fecha.month\n",
    "    dia = fecha.day\n",
    "    codigo_mes = '0'+str(mes) if mes<10 else str(mes)\n",
    "    codigo_dia = '0'+str(dia) if dia<10 else str(dia)\n",
    "    codigo_fecha = codigo_mes + codigo_dia\n",
    "    \n",
    "    \n",
    "    # Tabla historico pings con pois de hogar por dia\n",
    "    #===========================================\n",
    "    tabla_pings_poish_dia = f'pings_poish_{cat}_{pais}_{codigo_fecha}'\n",
    "    query = f'''\n",
    "        CREATE TABLE {tabla_pings_poish_dia} AS\n",
    "        SELECT  g.id_poi,\n",
    "                h.utc_timestamp,\n",
    "                h.latitude,\n",
    "                h.longitude,\n",
    "                h.caid,\n",
    "                h.id_type,\n",
    "                h.hour_of_day,\n",
    "                h.day,\n",
    "                h.month,\n",
    "                h.year,\n",
    "                h.iso_country_code\n",
    "        FROM (SELECT caid,\n",
    "                     id_poi\n",
    "              FROM {tabla_hogares_pois_pais}) as g INNER JOIN (\n",
    "                SELECT *\n",
    "                FROM historico_pings\n",
    "                WHERE iso_country_code='{pais}' AND month={mes} AND day={dia}) as h\n",
    "            ON h.caid=g.caid\n",
    "    '''\n",
    "    cursor.execute(query)\n",
    "    time.sleep(20)\n",
    "    #\n",
    "    cursor.close()\n",
    "    #print(f\"Table {tabla_pings_poish_dia}: DONE \")\n",
    "    \n",
    "    \n",
    "    # Asignando pois a tabla pings por dia\n",
    "    #===========================================\n",
    "    tabla_pings_poisp_dia = f'pings_poisp_{cat}_{pais}_{codigo_fecha}'\n",
    "    query = f'''\n",
    "                CREATE TABLE {tabla_pings_poisp_dia} AS\n",
    "                SELECT utc_timestamp,\n",
    "                    caid,\n",
    "                    id_type,\n",
    "                    hour_of_day,\n",
    "                    day,\n",
    "                    month,\n",
    "                    year,\n",
    "                    iso_country_code,\n",
    "                    id as id_poip,\n",
    "                    nom_gnc as nom_gncp,\n",
    "                    banco as bancop,\n",
    "                    cd_geocmi as cd_geocmip\n",
    "                FROM {tabla_pings_poish_dia}\n",
    "                CROSS JOIN pois_{cat}_{pais}\n",
    "                WHERE ST_CONTAINS (ST_GeomFromLegacyBinary(pois_{cat}_{pais}.boundarypoi), ST_POINT({tabla_pings_poish_dia}.longitude, {tabla_pings_poish_dia}.latitude))\n",
    "                ORDER BY  id'''\n",
    "    cursor.execute(query)\n",
    "    time.sleep(20)\n",
    "    #\n",
    "    cursor.close()\n",
    "    #print(f\"Table {tabla_pings_poisp_dia}: DONE \")\n",
    "    \n",
    "    \n",
    "    # Asignando indicadores de usuarios a tabla de pings y pois por dia\n",
    "    #===========================================\n",
    "    tabla_pings_usuarios_fecha = f'pings_pois_{cat}_usuarios_{pais}_{codigo_fecha}'\n",
    "    query = f'''\n",
    "        CREATE TABLE {tabla_pings_usuarios_fecha} AS\n",
    "        SELECT  {tabla_pings_poisp_dia}.id_poip,\n",
    "                {tabla_pings_poisp_dia}.nom_gncp,\n",
    "                {tabla_pings_poisp_dia}.bancop,\n",
    "                {tabla_pings_poisp_dia}.cd_geocmip,\n",
    "                {tabla_pings_poisp_dia}.utc_timestamp,\n",
    "                {tabla_pings_poisp_dia}.caid,\n",
    "                {tabla_pings_poisp_dia}.id_type,\n",
    "                {tabla_pings_poisp_dia}.hour_of_day,\n",
    "                {tabla_pings_poisp_dia}.day,\n",
    "                {tabla_pings_poisp_dia}.month,\n",
    "                {tabla_pings_poisp_dia}.year,\n",
    "                {tabla_pings_poisp_dia}.iso_country_code,\n",
    "                h.distancia_recorrida,\n",
    "                h.lat_final,\n",
    "                h.long_final,\n",
    "                h.n_obs,\n",
    "                h.n_obs_noche,\n",
    "                h.n_obs_madrugada,\n",
    "                h.id_poi as id_poih\n",
    "        FROM {tabla_pings_poisp_dia} LEFT JOIN (SELECT * \n",
    "                                          FROM {historico_usuarios_pois_pais}\n",
    "                                          WHERE month={mes} AND day={dia}) as h\n",
    "            ON h.caid={tabla_pings_poisp_dia}.caid\n",
    "            AND h.year={tabla_pings_poisp_dia}.year\n",
    "            AND h.month={tabla_pings_poisp_dia}.month\n",
    "            AND h.day={tabla_pings_poisp_dia}.day\n",
    "    '''\n",
    "    cursor.execute(query)\n",
    "    #print(f\"Table {tabla_pings_usuarios_fecha}: DONE \")\n",
    "    \n",
    "    print(f\"FECHA {fecha} DONE \")"
   ]
  },
  {
   "cell_type": "markdown",
   "metadata": {},
   "source": [
    "#### Crear tabla agrupada"
   ]
  },
  {
   "cell_type": "code",
   "execution_count": 16,
   "metadata": {},
   "outputs": [
    {
     "name": "stdout",
     "output_type": "stream",
     "text": [
      "FECHA 2020-09-01 00:00:00 DONE \n",
      "FECHA 2020-09-02 00:00:00 DONE \n",
      "FECHA 2020-09-03 00:00:00 DONE \n",
      "FECHA 2020-09-04 00:00:00 DONE \n",
      "FECHA 2020-09-05 00:00:00 DONE \n",
      "FECHA 2020-09-06 00:00:00 DONE \n",
      "FECHA 2020-09-07 00:00:00 DONE \n",
      "FECHA 2020-09-08 00:00:00 DONE \n",
      "FECHA 2020-09-09 00:00:00 DONE \n",
      "FECHA 2020-09-10 00:00:00 DONE \n",
      "FECHA 2020-09-11 00:00:00 DONE \n",
      "FECHA 2020-09-12 00:00:00 DONE \n",
      "FECHA 2020-09-13 00:00:00 DONE \n",
      "FECHA 2020-09-14 00:00:00 DONE \n",
      "FECHA 2020-09-15 00:00:00 DONE \n",
      "FECHA 2020-09-16 00:00:00 DONE \n",
      "FECHA 2020-09-17 00:00:00 DONE \n",
      "FECHA 2020-09-18 00:00:00 DONE \n",
      "FECHA 2020-09-19 00:00:00 DONE \n",
      "FECHA 2020-09-20 00:00:00 DONE \n",
      "FECHA 2020-09-21 00:00:00 DONE \n",
      "FECHA 2020-09-22 00:00:00 DONE \n",
      "FECHA 2020-09-23 00:00:00 DONE \n",
      "FECHA 2020-09-24 00:00:00 DONE \n",
      "FECHA 2020-09-25 00:00:00 DONE \n",
      "FECHA 2020-09-26 00:00:00 DONE \n",
      "FECHA 2020-09-27 00:00:00 DONE \n",
      "FECHA 2020-09-28 00:00:00 DONE \n",
      "FECHA 2020-09-29 00:00:00 DONE \n",
      "FECHA 2020-09-30 00:00:00 DONE \n"
     ]
    }
   ],
   "source": [
    "fechas = pd.date_range('09/01/2020','09/30/2020')\n",
    "\n",
    "for i,fecha in enumerate(fechas):\n",
    "    mes = fecha.month\n",
    "    dia = fecha.day\n",
    "    codigo_mes = '0'+str(mes) if mes<10 else str(mes)\n",
    "    codigo_dia = '0'+str(dia) if dia<10 else str(dia)\n",
    "    codigo_fecha = codigo_mes + codigo_dia\n",
    "    tabla_agrupada = f'historico_pois_{cat}_{pais}'\n",
    "    tabla_pings_usuarios_fecha = f'pings_pois_{cat}_usuarios_{pais}_{codigo_fecha}'\n",
    "    if i == 0 and (codigo_dia == '01' and codigo_mes == '02'):\n",
    "        query_agrupar = f'''\n",
    "        CREATE TABLE {tabla_agrupada} AS\n",
    "        SELECT id_poi,\n",
    "          nom_gnc,\n",
    "          banco,\n",
    "          cd_geocmi,\n",
    "          month,\n",
    "          day,\n",
    "          hour_of_day,\n",
    "          SUM(n_pings) AS n_pings,\n",
    "          SUM(n_users) AS n_users,\n",
    "          SUM(n_visitantes_poi) AS n_visitantes_poi,\n",
    "          SUM(n_usuarios_hora) AS n_usuarios_hora,\n",
    "          AVG(prom_dist) AS prom_dist,\n",
    "          SUM(n_mas_de_1km) AS n_mas_de_1km,\n",
    "          SUM(n_menos_de_1km) AS n_menos_de_1km,\n",
    "          SUM(n_1a5_km) AS n_1a5_km,\n",
    "          SUM(n_5a10_km) AS n_5a10_km,\n",
    "          SUM(n_mas_de_10km) AS n_mas_de_10km,\n",
    "          SUM(n_usuarios_android) AS n_usuarios_android,\n",
    "          SUM(n_usuarios_ios) AS n_usuarios_ios\n",
    "        FROM (\n",
    "          SELECT id_poip as id_poi,\n",
    "          nom_gncp as nom_gnc,\n",
    "          bancop as banco,\n",
    "          cd_geocmip as cd_geocmi,\n",
    "          month,\n",
    "          day,\n",
    "          hour_of_day,\n",
    "          COUNT(*) AS n_pings,\n",
    "          COUNT(DISTINCT caid) AS n_users,\n",
    "          COUNT(DISTINCT (caid, hour_of_day)) AS n_usuarios_hora,\n",
    "          MAX(CASE WHEN id_poih<>id_poip then 1 ELSE 0 END) AS n_visitantes_poi,\n",
    "          AVG(distancia_recorrida) AS prom_dist,\n",
    "          MAX(CASE WHEN distancia_recorrida >= 1 then 1 ELSE 0 END) AS n_mas_de_1km,\n",
    "          MAX(CASE WHEN distancia_recorrida < 1 then 1 ELSE 0 END) AS n_menos_de_1km,\n",
    "          MAX(CASE WHEN (distancia_recorrida >= 1 AND distancia_recorrida <5) then 1 ELSE 0 END) AS n_1a5_km,\n",
    "          MAX(CASE WHEN (distancia_recorrida >= 5 AND distancia_recorrida <10) then 1 ELSE 0 END) AS n_5a10_km,\n",
    "          MAX(CASE WHEN distancia_recorrida >= 10 then 1 ELSE 0 END) AS n_mas_de_10km,\n",
    "          MAX(CASE WHEN id_type='ANDROID' then 1 ELSE 0 END) AS n_usuarios_android,\n",
    "          MAX(CASE WHEN id_type='IOS' then 1 ELSE 0 END) AS n_usuarios_ios\n",
    "          FROM {tabla_pings_usuarios_fecha}\n",
    "          GROUP BY id_poip,\n",
    "          nom_gncp,\n",
    "          bancop,\n",
    "          cd_geocmip,\n",
    "          month, \n",
    "          day,\n",
    "          hour_of_day,\n",
    "          caid\n",
    "        )\n",
    "        GROUP BY id_poi,\n",
    "          nom_gnc,\n",
    "          banco,\n",
    "          cd_geocmi,\n",
    "          month, \n",
    "          day,\n",
    "          hour_of_day\n",
    "        '''\n",
    "\n",
    "        cursor.execute(query_agrupar)\n",
    "    else:\n",
    "        query_agrupar = f'''\n",
    "        INSERT INTO {tabla_agrupada} \n",
    "        SELECT id_poi,\n",
    "          nom_gnc,\n",
    "          banco,\n",
    "          cd_geocmi,\n",
    "          month,\n",
    "          day,\n",
    "          hour_of_day,\n",
    "          SUM(n_pings) AS n_pings,\n",
    "          SUM(n_users) AS n_users,\n",
    "          SUM(n_visitantes_poi) AS n_visitantes_poi,\n",
    "          SUM(n_usuarios_hora) AS n_usuarios_hora,\n",
    "          AVG(prom_dist) AS prom_dist,\n",
    "          SUM(n_mas_de_1km) AS n_mas_de_1km,\n",
    "          SUM(n_menos_de_1km) AS n_menos_de_1km,\n",
    "          SUM(n_1a5_km) AS n_1a5_km,\n",
    "          SUM(n_5a10_km) AS n_5a10_km,\n",
    "          SUM(n_mas_de_10km) AS n_mas_de_10km,\n",
    "          SUM(n_usuarios_android) AS n_usuarios_android,\n",
    "          SUM(n_usuarios_ios) AS n_usuarios_ios\n",
    "        FROM (\n",
    "          SELECT id_poip as id_poi,\n",
    "          nom_gncp as nom_gnc,\n",
    "          bancop as banco,\n",
    "          cd_geocmip as cd_geocmi,\n",
    "          month,\n",
    "          day,\n",
    "          hour_of_day,\n",
    "          COUNT(*) AS n_pings,\n",
    "          COUNT(DISTINCT caid) AS n_users,\n",
    "          COUNT(DISTINCT (caid, hour_of_day)) AS n_usuarios_hora,\n",
    "          MAX(CASE WHEN id_poih<>id_poip then 1 ELSE 0 END) AS n_visitantes_poi,\n",
    "          AVG(distancia_recorrida) AS prom_dist,\n",
    "          MAX(CASE WHEN distancia_recorrida >= 1 then 1 ELSE 0 END) AS n_mas_de_1km,\n",
    "          MAX(CASE WHEN distancia_recorrida < 1 then 1 ELSE 0 END) AS n_menos_de_1km,\n",
    "          MAX(CASE WHEN (distancia_recorrida >= 1 AND distancia_recorrida <5) then 1 ELSE 0 END) AS n_1a5_km,\n",
    "          MAX(CASE WHEN (distancia_recorrida >= 5 AND distancia_recorrida <10) then 1 ELSE 0 END) AS n_5a10_km,\n",
    "          MAX(CASE WHEN distancia_recorrida >= 10 then 1 ELSE 0 END) AS n_mas_de_10km,\n",
    "          MAX(CASE WHEN id_type='ANDROID' then 1 ELSE 0 END) AS n_usuarios_android,\n",
    "          MAX(CASE WHEN id_type='IOS' then 1 ELSE 0 END) AS n_usuarios_ios\n",
    "          FROM {tabla_pings_usuarios_fecha}\n",
    "          GROUP BY id_poip,\n",
    "          nom_gncp,\n",
    "          bancop,\n",
    "          cd_geocmip,\n",
    "          month, \n",
    "          day,\n",
    "          hour_of_day,\n",
    "          caid\n",
    "        )\n",
    "        GROUP BY id_poi,\n",
    "          nom_gnc,\n",
    "          banco,\n",
    "          cd_geocmi,\n",
    "          month, \n",
    "          day,\n",
    "          hour_of_day\n",
    "        '''\n",
    "\n",
    "        cursor.execute(query_agrupar)  \n",
    "        time.sleep(20)\n",
    "        \n",
    "    print(f\"FECHA {fecha} DONE \")"
   ]
  }
 ],
 "metadata": {
  "kernelspec": {
   "display_name": "conda_python3",
   "language": "python",
   "name": "conda_python3"
  },
  "language_info": {
   "codemirror_mode": {
    "name": "ipython",
    "version": 3
   },
   "file_extension": ".py",
   "mimetype": "text/x-python",
   "name": "python",
   "nbconvert_exporter": "python",
   "pygments_lexer": "ipython3",
   "version": "3.6.13"
  }
 },
 "nbformat": 4,
 "nbformat_minor": 4
}
