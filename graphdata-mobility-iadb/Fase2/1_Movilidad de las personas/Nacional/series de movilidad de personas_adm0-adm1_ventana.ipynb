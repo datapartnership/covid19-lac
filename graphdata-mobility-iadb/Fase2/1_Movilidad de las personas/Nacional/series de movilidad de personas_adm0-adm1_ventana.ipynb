{
 "cells": [
  {
   "cell_type": "markdown",
   "metadata": {},
   "source": [
    "### Preparar ambiente"
   ]
  },
  {
   "cell_type": "code",
   "execution_count": 1,
   "metadata": {},
   "outputs": [
    {
     "name": "stdout",
     "output_type": "stream",
     "text": [
      "Requirement already satisfied: PyAthena in /home/ec2-user/anaconda3/envs/python3/lib/python3.6/site-packages (2.3.0)\n",
      "Requirement already satisfied: botocore>=1.5.52 in /home/ec2-user/anaconda3/envs/python3/lib/python3.6/site-packages (from PyAthena) (1.20.83)\n",
      "Requirement already satisfied: tenacity>=4.1.0 in /home/ec2-user/anaconda3/envs/python3/lib/python3.6/site-packages (from PyAthena) (7.0.0)\n",
      "Requirement already satisfied: boto3>=1.4.4 in /home/ec2-user/anaconda3/envs/python3/lib/python3.6/site-packages (from PyAthena) (1.17.83)\n",
      "Requirement already satisfied: s3transfer<0.5.0,>=0.4.0 in /home/ec2-user/anaconda3/envs/python3/lib/python3.6/site-packages (from boto3>=1.4.4->PyAthena) (0.4.2)\n",
      "Requirement already satisfied: jmespath<1.0.0,>=0.7.1 in /home/ec2-user/anaconda3/envs/python3/lib/python3.6/site-packages (from boto3>=1.4.4->PyAthena) (0.10.0)\n",
      "Requirement already satisfied: python-dateutil<3.0.0,>=2.1 in /home/ec2-user/anaconda3/envs/python3/lib/python3.6/site-packages (from botocore>=1.5.52->PyAthena) (2.8.1)\n",
      "Requirement already satisfied: urllib3<1.27,>=1.25.4 in /home/ec2-user/anaconda3/envs/python3/lib/python3.6/site-packages (from botocore>=1.5.52->PyAthena) (1.26.5)\n",
      "Requirement already satisfied: six>=1.5 in /home/ec2-user/anaconda3/envs/python3/lib/python3.6/site-packages (from python-dateutil<3.0.0,>=2.1->botocore>=1.5.52->PyAthena) (1.15.0)\n"
     ]
    }
   ],
   "source": [
    "import sys\n",
    "!{sys.executable} -m pip install PyAthena"
   ]
  },
  {
   "cell_type": "markdown",
   "metadata": {},
   "source": [
    "### Conectar con pyathena"
   ]
  },
  {
   "cell_type": "code",
   "execution_count": 2,
   "metadata": {},
   "outputs": [],
   "source": [
    "from pyathena.pandas.cursor import PandasCursor\n",
    "from pyathena import connect\n",
    "import pandas as pd\n",
    "import time\n",
    "from datetime import datetime\n",
    "# agregar directorio en el cual se almacenan las tablas que se van a consultar\n",
    "directorio = 's3://iadbprod-csd-hub-analyticaldata/graphdata-mobility-temporal/athena-results/'\n",
    "# base de datos\n",
    "bd = 'graphdata' # Database in Glue\n",
    "cursor = connect(s3_staging_dir = directorio, region_name = 'us-east-1', schema_name = bd, cursor_class = PandasCursor).cursor()"
   ]
  },
  {
   "cell_type": "code",
   "execution_count": 3,
   "metadata": {},
   "outputs": [],
   "source": [
    "import pandas as pd\n",
    "import numpy as np\n",
    "import calendar\n",
    "import boto3\n",
    "s3 = boto3.resource('s3')\n",
    "bucket='results-and-tables-graphdata'"
   ]
  },
  {
   "cell_type": "code",
   "execution_count": 4,
   "metadata": {},
   "outputs": [],
   "source": [
    "import os\n",
    "import pandas as pd\n",
    "import zipfile\n",
    "import shutil\n",
    "from io import StringIO\n",
    "import io"
   ]
  },
  {
   "cell_type": "markdown",
   "metadata": {},
   "source": [
    "### Declaración funciones para Impo-Expo s3"
   ]
  },
  {
   "cell_type": "code",
   "execution_count": 5,
   "metadata": {},
   "outputs": [],
   "source": [
    "def write_dataframe_to_csv_on_s3(dataframe, bucket, filename):\n",
    "    \"\"\" Write a dataframe to a CSV on S3 \"\"\"\n",
    "    # Create buffer\n",
    "    csv_buffer = StringIO()\n",
    "    # Write dataframe to buffer\n",
    "    dataframe.to_csv(csv_buffer, sep=\";\" , line_terminator='\\n')\n",
    "    # Create S3 object\n",
    "    s3_resource = boto3.resource(\"s3\")\n",
    "    # Write buffer to S3 object\n",
    "    s3_resource.Object(bucket, filename).put(Body=csv_buffer.getvalue())\n",
    "    print(\"Writing {} records to {}\".format(len(dataframe), filename))\n",
    "    print(\"S3\")\n",
    "    print(dataframe.shape)\n",
    "    "
   ]
  },
  {
   "cell_type": "code",
   "execution_count": 6,
   "metadata": {},
   "outputs": [],
   "source": [
    "def write_dataframe_to_excel_on_s3(dataframe, bucket, filename):\n",
    "    \"\"\" Write a dataframe to a excel on S3 \"\"\"\n",
    "    with io.BytesIO() as output:\n",
    "        with pd.ExcelWriter(output, engine='xlsxwriter') as writer:\n",
    "            dataframe.to_excel(writer,index=False)\n",
    "        data = output.getvalue()\n",
    "\n",
    "    s3 = boto3.resource('s3')\n",
    "    s3.Bucket(bucket).put_object(Key=filename, Body=data)\n",
    "    "
   ]
  },
  {
   "cell_type": "code",
   "execution_count": 7,
   "metadata": {},
   "outputs": [],
   "source": [
    "def import_dataframe_csv_from_s3(bucket, filename):\n",
    "    client = boto3.client('s3')\n",
    "    bucket_name = bucket\n",
    "    object_key = filename\n",
    "    csv_obj = client.get_object(Bucket=bucket_name, Key=object_key)\n",
    "    body = csv_obj['Body']\n",
    "    csv_string = body.read().decode('utf-8')\n",
    "    df = pd.read_csv(StringIO(csv_string),sep=\";\")\n",
    "    return df"
   ]
  },
  {
   "cell_type": "code",
   "execution_count": 8,
   "metadata": {},
   "outputs": [],
   "source": [
    "def import_dataframe_excel_from_s3(bucket, filename):\n",
    "    client = boto3.client('s3')\n",
    "    bucket_name = bucket\n",
    "    object_key = filename\n",
    "    obj = client.get_object(Bucket=bucket_name, Key=object_key)\n",
    "    data = obj['Body'].read()\n",
    "    df = pd.read_excel(io.BytesIO(data), encoding='utf-8')\n",
    "    return df"
   ]
  },
  {
   "cell_type": "code",
   "execution_count": 9,
   "metadata": {},
   "outputs": [],
   "source": [
    "def write_file_to_s3(bucket,file_local,file_s3):\n",
    "    s3.Bucket(bucket).upload_file(file_local,file_s3)"
   ]
  },
  {
   "cell_type": "markdown",
   "metadata": {},
   "source": [
    "### Importar tabla de Athena"
   ]
  },
  {
   "cell_type": "code",
   "execution_count": 10,
   "metadata": {},
   "outputs": [],
   "source": [
    "#toda la base\n",
    "min_distancia = 1 #km\n",
    "min_pings_dia = 10\n",
    "dfs_indicadores = []\n",
    "\n",
    "tabla_usuarios_distancia =  f'historico_usuarios'    \n",
    "query_filtro = (f\"SELECT t.year, \"\n",
    "                    \"t.month, \"\n",
    "                    \"t.day, \"\n",
    "                    \"t.iso_country_code, \"\n",
    "                    \"COUNT(*) as n_users, \"\n",
    "                    f\"SUM(CASE WHEN t.distancia_recorrida >= {min_distancia} then 1 ELSE 0 END) as n_users_mas1km \"\n",
    "                    f\"FROM (\"\n",
    "                        \"SELECT * \"\n",
    "                        f\"FROM {tabla_usuarios_distancia} \"\n",
    "                        f\"WHERE ({tabla_usuarios_distancia}.n_obs >= {min_pings_dia})) AS t \"\n",
    "                    \"GROUP BY t.year, t.month, t.day, t.iso_country_code\")\n",
    "\n",
    "df = cursor.execute(query_filtro).as_pandas()\n",
    "df['%MasDe1km'] = df['n_users_mas1km'] / df['n_users']*100\n",
    "dfs_indicadores.append(df)\n",
    "df_by_day2athena = pd.concat(dfs_indicadores)  "
   ]
  },
  {
   "cell_type": "code",
   "execution_count": 11,
   "metadata": {},
   "outputs": [],
   "source": [
    "df_by_day2at=df_by_day2athena\n",
    "df_by_day2at=pd.DataFrame(df_by_day2at)"
   ]
  },
  {
   "cell_type": "code",
   "execution_count": 12,
   "metadata": {},
   "outputs": [],
   "source": [
    "df_by_day2at['month']=df_by_day2at['month'].astype('int')\n",
    "df_by_day2at['day']=df_by_day2at['day'].astype('int')\n",
    "df_by_day2at[\"day\"]=df_by_day2at[\"day\"].map(\"{:02}\".format)\n",
    "df_by_day2at[\"key4\"]=df_by_day2at['month'].astype(str)+ df_by_day2at[\"day\"].astype(str)\n",
    "df_by_day2at['key4']=df_by_day2at['key4'].astype('int')\n",
    "df_by_day2at=df_by_day2at.rename(columns={'month':'Mes','day':'Dia','%MasDe1km':'%MasDe1km_new','n_users_mas1km':'MasDe1km'})\n",
    "df_by_day2at=df_by_day2at.loc[:,['Mes','Dia','key4','MasDe1km','n_users','%MasDe1km_new','iso_country_code']]\n",
    "df_by_day2at['Dia']=df_by_day2at['Dia'].astype('int')"
   ]
  },
  {
   "cell_type": "code",
   "execution_count": 13,
   "metadata": {},
   "outputs": [],
   "source": [
    "df_by_day2at=df_by_day2at.sort_values(by=['iso_country_code','Mes','Dia'])"
   ]
  },
  {
   "cell_type": "code",
   "execution_count": 14,
   "metadata": {},
   "outputs": [],
   "source": [
    "df_by_day2at.to_csv(\"serie_bruta_nacional.csv\",sep=\";\")"
   ]
  },
  {
   "cell_type": "markdown",
   "metadata": {},
   "source": [
    "### Indices Nacionales"
   ]
  },
  {
   "cell_type": "code",
   "execution_count": 15,
   "metadata": {},
   "outputs": [
    {
     "name": "stdout",
     "output_type": "stream",
     "text": [
      "Pais: DO\n"
     ]
    },
    {
     "name": "stderr",
     "output_type": "stream",
     "text": [
      "/home/ec2-user/anaconda3/envs/python3/lib/python3.6/site-packages/ipykernel/__main__.py:17: SettingWithCopyWarning: \n",
      "A value is trying to be set on a copy of a slice from a DataFrame\n",
      "\n",
      "See the caveats in the documentation: https://pandas.pydata.org/pandas-docs/stable/user_guide/indexing.html#returning-a-view-versus-a-copy\n",
      "/home/ec2-user/anaconda3/envs/python3/lib/python3.6/site-packages/ipykernel/__main__.py:18: SettingWithCopyWarning: \n",
      "A value is trying to be set on a copy of a slice from a DataFrame\n",
      "\n",
      "See the caveats in the documentation: https://pandas.pydata.org/pandas-docs/stable/user_guide/indexing.html#returning-a-view-versus-a-copy\n",
      "/home/ec2-user/anaconda3/envs/python3/lib/python3.6/site-packages/ipykernel/__main__.py:19: SettingWithCopyWarning: \n",
      "A value is trying to be set on a copy of a slice from a DataFrame\n",
      "\n",
      "See the caveats in the documentation: https://pandas.pydata.org/pandas-docs/stable/user_guide/indexing.html#returning-a-view-versus-a-copy\n"
     ]
    },
    {
     "name": "stdout",
     "output_type": "stream",
     "text": [
      "Writing 120 records to graphdata-mobility-public/indicador_por_pais_dashboard/DO_nacion_analisis.csv\n",
      "S3\n",
      "(120, 8)\n",
      "Writing 1 records to graphdata-mobility-public/indicador_por_pais_dashboard/DO_nacion.csv\n",
      "S3\n",
      "(1, 118)\n",
      "Pais: SV\n"
     ]
    },
    {
     "name": "stderr",
     "output_type": "stream",
     "text": [
      "/home/ec2-user/anaconda3/envs/python3/lib/python3.6/site-packages/ipykernel/__main__.py:17: SettingWithCopyWarning: \n",
      "A value is trying to be set on a copy of a slice from a DataFrame\n",
      "\n",
      "See the caveats in the documentation: https://pandas.pydata.org/pandas-docs/stable/user_guide/indexing.html#returning-a-view-versus-a-copy\n",
      "/home/ec2-user/anaconda3/envs/python3/lib/python3.6/site-packages/ipykernel/__main__.py:18: SettingWithCopyWarning: \n",
      "A value is trying to be set on a copy of a slice from a DataFrame\n",
      "\n",
      "See the caveats in the documentation: https://pandas.pydata.org/pandas-docs/stable/user_guide/indexing.html#returning-a-view-versus-a-copy\n",
      "/home/ec2-user/anaconda3/envs/python3/lib/python3.6/site-packages/ipykernel/__main__.py:19: SettingWithCopyWarning: \n",
      "A value is trying to be set on a copy of a slice from a DataFrame\n",
      "\n",
      "See the caveats in the documentation: https://pandas.pydata.org/pandas-docs/stable/user_guide/indexing.html#returning-a-view-versus-a-copy\n"
     ]
    },
    {
     "name": "stdout",
     "output_type": "stream",
     "text": [
      "Writing 120 records to graphdata-mobility-public/indicador_por_pais_dashboard/SV_nacion_analisis.csv\n",
      "S3\n",
      "(120, 8)\n",
      "Writing 1 records to graphdata-mobility-public/indicador_por_pais_dashboard/SV_nacion.csv\n",
      "S3\n",
      "(1, 118)\n",
      "Pais: CR\n"
     ]
    },
    {
     "name": "stderr",
     "output_type": "stream",
     "text": [
      "/home/ec2-user/anaconda3/envs/python3/lib/python3.6/site-packages/ipykernel/__main__.py:17: SettingWithCopyWarning: \n",
      "A value is trying to be set on a copy of a slice from a DataFrame\n",
      "\n",
      "See the caveats in the documentation: https://pandas.pydata.org/pandas-docs/stable/user_guide/indexing.html#returning-a-view-versus-a-copy\n",
      "/home/ec2-user/anaconda3/envs/python3/lib/python3.6/site-packages/ipykernel/__main__.py:18: SettingWithCopyWarning: \n",
      "A value is trying to be set on a copy of a slice from a DataFrame\n",
      "\n",
      "See the caveats in the documentation: https://pandas.pydata.org/pandas-docs/stable/user_guide/indexing.html#returning-a-view-versus-a-copy\n",
      "/home/ec2-user/anaconda3/envs/python3/lib/python3.6/site-packages/ipykernel/__main__.py:19: SettingWithCopyWarning: \n",
      "A value is trying to be set on a copy of a slice from a DataFrame\n",
      "\n",
      "See the caveats in the documentation: https://pandas.pydata.org/pandas-docs/stable/user_guide/indexing.html#returning-a-view-versus-a-copy\n"
     ]
    },
    {
     "name": "stdout",
     "output_type": "stream",
     "text": [
      "Writing 120 records to graphdata-mobility-public/indicador_por_pais_dashboard/CR_nacion_analisis.csv\n",
      "S3\n",
      "(120, 8)\n",
      "Writing 1 records to graphdata-mobility-public/indicador_por_pais_dashboard/CR_nacion.csv\n",
      "S3\n",
      "(1, 118)\n",
      "Pais: BO\n"
     ]
    },
    {
     "name": "stderr",
     "output_type": "stream",
     "text": [
      "/home/ec2-user/anaconda3/envs/python3/lib/python3.6/site-packages/ipykernel/__main__.py:17: SettingWithCopyWarning: \n",
      "A value is trying to be set on a copy of a slice from a DataFrame\n",
      "\n",
      "See the caveats in the documentation: https://pandas.pydata.org/pandas-docs/stable/user_guide/indexing.html#returning-a-view-versus-a-copy\n",
      "/home/ec2-user/anaconda3/envs/python3/lib/python3.6/site-packages/ipykernel/__main__.py:18: SettingWithCopyWarning: \n",
      "A value is trying to be set on a copy of a slice from a DataFrame\n",
      "\n",
      "See the caveats in the documentation: https://pandas.pydata.org/pandas-docs/stable/user_guide/indexing.html#returning-a-view-versus-a-copy\n",
      "/home/ec2-user/anaconda3/envs/python3/lib/python3.6/site-packages/ipykernel/__main__.py:19: SettingWithCopyWarning: \n",
      "A value is trying to be set on a copy of a slice from a DataFrame\n",
      "\n",
      "See the caveats in the documentation: https://pandas.pydata.org/pandas-docs/stable/user_guide/indexing.html#returning-a-view-versus-a-copy\n"
     ]
    },
    {
     "name": "stdout",
     "output_type": "stream",
     "text": [
      "Writing 120 records to graphdata-mobility-public/indicador_por_pais_dashboard/BO_nacion_analisis.csv\n",
      "S3\n",
      "(120, 8)\n",
      "Writing 1 records to graphdata-mobility-public/indicador_por_pais_dashboard/BO_nacion.csv\n",
      "S3\n",
      "(1, 118)\n",
      "Pais: CL\n"
     ]
    },
    {
     "name": "stderr",
     "output_type": "stream",
     "text": [
      "/home/ec2-user/anaconda3/envs/python3/lib/python3.6/site-packages/ipykernel/__main__.py:17: SettingWithCopyWarning: \n",
      "A value is trying to be set on a copy of a slice from a DataFrame\n",
      "\n",
      "See the caveats in the documentation: https://pandas.pydata.org/pandas-docs/stable/user_guide/indexing.html#returning-a-view-versus-a-copy\n",
      "/home/ec2-user/anaconda3/envs/python3/lib/python3.6/site-packages/ipykernel/__main__.py:18: SettingWithCopyWarning: \n",
      "A value is trying to be set on a copy of a slice from a DataFrame\n",
      "\n",
      "See the caveats in the documentation: https://pandas.pydata.org/pandas-docs/stable/user_guide/indexing.html#returning-a-view-versus-a-copy\n",
      "/home/ec2-user/anaconda3/envs/python3/lib/python3.6/site-packages/ipykernel/__main__.py:19: SettingWithCopyWarning: \n",
      "A value is trying to be set on a copy of a slice from a DataFrame\n",
      "\n",
      "See the caveats in the documentation: https://pandas.pydata.org/pandas-docs/stable/user_guide/indexing.html#returning-a-view-versus-a-copy\n"
     ]
    },
    {
     "name": "stdout",
     "output_type": "stream",
     "text": [
      "Writing 120 records to graphdata-mobility-public/indicador_por_pais_dashboard/CL_nacion_analisis.csv\n",
      "S3\n",
      "(120, 8)\n",
      "Writing 1 records to graphdata-mobility-public/indicador_por_pais_dashboard/CL_nacion.csv\n",
      "S3\n",
      "(1, 118)\n",
      "Pais: EC\n"
     ]
    },
    {
     "name": "stderr",
     "output_type": "stream",
     "text": [
      "/home/ec2-user/anaconda3/envs/python3/lib/python3.6/site-packages/ipykernel/__main__.py:17: SettingWithCopyWarning: \n",
      "A value is trying to be set on a copy of a slice from a DataFrame\n",
      "\n",
      "See the caveats in the documentation: https://pandas.pydata.org/pandas-docs/stable/user_guide/indexing.html#returning-a-view-versus-a-copy\n",
      "/home/ec2-user/anaconda3/envs/python3/lib/python3.6/site-packages/ipykernel/__main__.py:18: SettingWithCopyWarning: \n",
      "A value is trying to be set on a copy of a slice from a DataFrame\n",
      "\n",
      "See the caveats in the documentation: https://pandas.pydata.org/pandas-docs/stable/user_guide/indexing.html#returning-a-view-versus-a-copy\n",
      "/home/ec2-user/anaconda3/envs/python3/lib/python3.6/site-packages/ipykernel/__main__.py:19: SettingWithCopyWarning: \n",
      "A value is trying to be set on a copy of a slice from a DataFrame\n",
      "\n",
      "See the caveats in the documentation: https://pandas.pydata.org/pandas-docs/stable/user_guide/indexing.html#returning-a-view-versus-a-copy\n"
     ]
    },
    {
     "name": "stdout",
     "output_type": "stream",
     "text": [
      "Writing 120 records to graphdata-mobility-public/indicador_por_pais_dashboard/EC_nacion_analisis.csv\n",
      "S3\n",
      "(120, 8)\n",
      "Writing 1 records to graphdata-mobility-public/indicador_por_pais_dashboard/EC_nacion.csv\n",
      "S3\n",
      "(1, 118)\n",
      "Pais: AR\n"
     ]
    },
    {
     "name": "stderr",
     "output_type": "stream",
     "text": [
      "/home/ec2-user/anaconda3/envs/python3/lib/python3.6/site-packages/ipykernel/__main__.py:17: SettingWithCopyWarning: \n",
      "A value is trying to be set on a copy of a slice from a DataFrame\n",
      "\n",
      "See the caveats in the documentation: https://pandas.pydata.org/pandas-docs/stable/user_guide/indexing.html#returning-a-view-versus-a-copy\n",
      "/home/ec2-user/anaconda3/envs/python3/lib/python3.6/site-packages/ipykernel/__main__.py:18: SettingWithCopyWarning: \n",
      "A value is trying to be set on a copy of a slice from a DataFrame\n",
      "\n",
      "See the caveats in the documentation: https://pandas.pydata.org/pandas-docs/stable/user_guide/indexing.html#returning-a-view-versus-a-copy\n",
      "/home/ec2-user/anaconda3/envs/python3/lib/python3.6/site-packages/ipykernel/__main__.py:19: SettingWithCopyWarning: \n",
      "A value is trying to be set on a copy of a slice from a DataFrame\n",
      "\n",
      "See the caveats in the documentation: https://pandas.pydata.org/pandas-docs/stable/user_guide/indexing.html#returning-a-view-versus-a-copy\n"
     ]
    },
    {
     "name": "stdout",
     "output_type": "stream",
     "text": [
      "Writing 120 records to graphdata-mobility-public/indicador_por_pais_dashboard/AR_nacion_analisis.csv\n",
      "S3\n",
      "(120, 8)\n",
      "Writing 1 records to graphdata-mobility-public/indicador_por_pais_dashboard/AR_nacion.csv\n",
      "S3\n",
      "(1, 118)\n",
      "Pais: VE\n"
     ]
    },
    {
     "name": "stderr",
     "output_type": "stream",
     "text": [
      "/home/ec2-user/anaconda3/envs/python3/lib/python3.6/site-packages/ipykernel/__main__.py:17: SettingWithCopyWarning: \n",
      "A value is trying to be set on a copy of a slice from a DataFrame\n",
      "\n",
      "See the caveats in the documentation: https://pandas.pydata.org/pandas-docs/stable/user_guide/indexing.html#returning-a-view-versus-a-copy\n",
      "/home/ec2-user/anaconda3/envs/python3/lib/python3.6/site-packages/ipykernel/__main__.py:18: SettingWithCopyWarning: \n",
      "A value is trying to be set on a copy of a slice from a DataFrame\n",
      "\n",
      "See the caveats in the documentation: https://pandas.pydata.org/pandas-docs/stable/user_guide/indexing.html#returning-a-view-versus-a-copy\n",
      "/home/ec2-user/anaconda3/envs/python3/lib/python3.6/site-packages/ipykernel/__main__.py:19: SettingWithCopyWarning: \n",
      "A value is trying to be set on a copy of a slice from a DataFrame\n",
      "\n",
      "See the caveats in the documentation: https://pandas.pydata.org/pandas-docs/stable/user_guide/indexing.html#returning-a-view-versus-a-copy\n"
     ]
    },
    {
     "name": "stdout",
     "output_type": "stream",
     "text": [
      "Writing 120 records to graphdata-mobility-public/indicador_por_pais_dashboard/VE_nacion_analisis.csv\n",
      "S3\n",
      "(120, 8)\n",
      "Writing 1 records to graphdata-mobility-public/indicador_por_pais_dashboard/VE_nacion.csv\n",
      "S3\n",
      "(1, 118)\n",
      "Pais: GT\n"
     ]
    },
    {
     "name": "stderr",
     "output_type": "stream",
     "text": [
      "/home/ec2-user/anaconda3/envs/python3/lib/python3.6/site-packages/ipykernel/__main__.py:17: SettingWithCopyWarning: \n",
      "A value is trying to be set on a copy of a slice from a DataFrame\n",
      "\n",
      "See the caveats in the documentation: https://pandas.pydata.org/pandas-docs/stable/user_guide/indexing.html#returning-a-view-versus-a-copy\n",
      "/home/ec2-user/anaconda3/envs/python3/lib/python3.6/site-packages/ipykernel/__main__.py:18: SettingWithCopyWarning: \n",
      "A value is trying to be set on a copy of a slice from a DataFrame\n",
      "\n",
      "See the caveats in the documentation: https://pandas.pydata.org/pandas-docs/stable/user_guide/indexing.html#returning-a-view-versus-a-copy\n",
      "/home/ec2-user/anaconda3/envs/python3/lib/python3.6/site-packages/ipykernel/__main__.py:19: SettingWithCopyWarning: \n",
      "A value is trying to be set on a copy of a slice from a DataFrame\n",
      "\n",
      "See the caveats in the documentation: https://pandas.pydata.org/pandas-docs/stable/user_guide/indexing.html#returning-a-view-versus-a-copy\n"
     ]
    },
    {
     "name": "stdout",
     "output_type": "stream",
     "text": [
      "Writing 120 records to graphdata-mobility-public/indicador_por_pais_dashboard/GT_nacion_analisis.csv\n",
      "S3\n",
      "(120, 8)\n",
      "Writing 1 records to graphdata-mobility-public/indicador_por_pais_dashboard/GT_nacion.csv\n",
      "S3\n",
      "(1, 118)\n",
      "Pais: HN\n"
     ]
    },
    {
     "name": "stderr",
     "output_type": "stream",
     "text": [
      "/home/ec2-user/anaconda3/envs/python3/lib/python3.6/site-packages/ipykernel/__main__.py:17: SettingWithCopyWarning: \n",
      "A value is trying to be set on a copy of a slice from a DataFrame\n",
      "\n",
      "See the caveats in the documentation: https://pandas.pydata.org/pandas-docs/stable/user_guide/indexing.html#returning-a-view-versus-a-copy\n",
      "/home/ec2-user/anaconda3/envs/python3/lib/python3.6/site-packages/ipykernel/__main__.py:18: SettingWithCopyWarning: \n",
      "A value is trying to be set on a copy of a slice from a DataFrame\n",
      "\n",
      "See the caveats in the documentation: https://pandas.pydata.org/pandas-docs/stable/user_guide/indexing.html#returning-a-view-versus-a-copy\n",
      "/home/ec2-user/anaconda3/envs/python3/lib/python3.6/site-packages/ipykernel/__main__.py:19: SettingWithCopyWarning: \n",
      "A value is trying to be set on a copy of a slice from a DataFrame\n",
      "\n",
      "See the caveats in the documentation: https://pandas.pydata.org/pandas-docs/stable/user_guide/indexing.html#returning-a-view-versus-a-copy\n"
     ]
    },
    {
     "name": "stdout",
     "output_type": "stream",
     "text": [
      "Writing 120 records to graphdata-mobility-public/indicador_por_pais_dashboard/HN_nacion_analisis.csv\n",
      "S3\n",
      "(120, 8)\n",
      "Writing 1 records to graphdata-mobility-public/indicador_por_pais_dashboard/HN_nacion.csv\n",
      "S3\n",
      "(1, 118)\n",
      "Pais: NI\n"
     ]
    },
    {
     "name": "stderr",
     "output_type": "stream",
     "text": [
      "/home/ec2-user/anaconda3/envs/python3/lib/python3.6/site-packages/ipykernel/__main__.py:17: SettingWithCopyWarning: \n",
      "A value is trying to be set on a copy of a slice from a DataFrame\n",
      "\n",
      "See the caveats in the documentation: https://pandas.pydata.org/pandas-docs/stable/user_guide/indexing.html#returning-a-view-versus-a-copy\n",
      "/home/ec2-user/anaconda3/envs/python3/lib/python3.6/site-packages/ipykernel/__main__.py:18: SettingWithCopyWarning: \n",
      "A value is trying to be set on a copy of a slice from a DataFrame\n",
      "\n",
      "See the caveats in the documentation: https://pandas.pydata.org/pandas-docs/stable/user_guide/indexing.html#returning-a-view-versus-a-copy\n",
      "/home/ec2-user/anaconda3/envs/python3/lib/python3.6/site-packages/ipykernel/__main__.py:19: SettingWithCopyWarning: \n",
      "A value is trying to be set on a copy of a slice from a DataFrame\n",
      "\n",
      "See the caveats in the documentation: https://pandas.pydata.org/pandas-docs/stable/user_guide/indexing.html#returning-a-view-versus-a-copy\n"
     ]
    },
    {
     "name": "stdout",
     "output_type": "stream",
     "text": [
      "Writing 0 records to graphdata-mobility-public/indicador_por_pais_dashboard/NI_nacion_analisis.csv\n",
      "S3\n",
      "(0, 8)\n",
      "Writing 0 records to graphdata-mobility-public/indicador_por_pais_dashboard/NI_nacion.csv\n",
      "S3\n",
      "(0, 0)\n",
      "Pais: PA\n"
     ]
    },
    {
     "name": "stderr",
     "output_type": "stream",
     "text": [
      "/home/ec2-user/anaconda3/envs/python3/lib/python3.6/site-packages/ipykernel/__main__.py:17: SettingWithCopyWarning: \n",
      "A value is trying to be set on a copy of a slice from a DataFrame\n",
      "\n",
      "See the caveats in the documentation: https://pandas.pydata.org/pandas-docs/stable/user_guide/indexing.html#returning-a-view-versus-a-copy\n",
      "/home/ec2-user/anaconda3/envs/python3/lib/python3.6/site-packages/ipykernel/__main__.py:18: SettingWithCopyWarning: \n",
      "A value is trying to be set on a copy of a slice from a DataFrame\n",
      "\n",
      "See the caveats in the documentation: https://pandas.pydata.org/pandas-docs/stable/user_guide/indexing.html#returning-a-view-versus-a-copy\n",
      "/home/ec2-user/anaconda3/envs/python3/lib/python3.6/site-packages/ipykernel/__main__.py:19: SettingWithCopyWarning: \n",
      "A value is trying to be set on a copy of a slice from a DataFrame\n",
      "\n",
      "See the caveats in the documentation: https://pandas.pydata.org/pandas-docs/stable/user_guide/indexing.html#returning-a-view-versus-a-copy\n"
     ]
    },
    {
     "name": "stdout",
     "output_type": "stream",
     "text": [
      "Writing 120 records to graphdata-mobility-public/indicador_por_pais_dashboard/PA_nacion_analisis.csv\n",
      "S3\n",
      "(120, 8)\n",
      "Writing 1 records to graphdata-mobility-public/indicador_por_pais_dashboard/PA_nacion.csv\n",
      "S3\n",
      "(1, 118)\n",
      "Pais: PY\n"
     ]
    },
    {
     "name": "stderr",
     "output_type": "stream",
     "text": [
      "/home/ec2-user/anaconda3/envs/python3/lib/python3.6/site-packages/ipykernel/__main__.py:17: SettingWithCopyWarning: \n",
      "A value is trying to be set on a copy of a slice from a DataFrame\n",
      "\n",
      "See the caveats in the documentation: https://pandas.pydata.org/pandas-docs/stable/user_guide/indexing.html#returning-a-view-versus-a-copy\n",
      "/home/ec2-user/anaconda3/envs/python3/lib/python3.6/site-packages/ipykernel/__main__.py:18: SettingWithCopyWarning: \n",
      "A value is trying to be set on a copy of a slice from a DataFrame\n",
      "\n",
      "See the caveats in the documentation: https://pandas.pydata.org/pandas-docs/stable/user_guide/indexing.html#returning-a-view-versus-a-copy\n",
      "/home/ec2-user/anaconda3/envs/python3/lib/python3.6/site-packages/ipykernel/__main__.py:19: SettingWithCopyWarning: \n",
      "A value is trying to be set on a copy of a slice from a DataFrame\n",
      "\n",
      "See the caveats in the documentation: https://pandas.pydata.org/pandas-docs/stable/user_guide/indexing.html#returning-a-view-versus-a-copy\n"
     ]
    },
    {
     "name": "stdout",
     "output_type": "stream",
     "text": [
      "Writing 120 records to graphdata-mobility-public/indicador_por_pais_dashboard/PY_nacion_analisis.csv\n",
      "S3\n",
      "(120, 8)\n",
      "Writing 1 records to graphdata-mobility-public/indicador_por_pais_dashboard/PY_nacion.csv\n",
      "S3\n",
      "(1, 118)\n",
      "Pais: PE\n"
     ]
    },
    {
     "name": "stderr",
     "output_type": "stream",
     "text": [
      "/home/ec2-user/anaconda3/envs/python3/lib/python3.6/site-packages/ipykernel/__main__.py:17: SettingWithCopyWarning: \n",
      "A value is trying to be set on a copy of a slice from a DataFrame\n",
      "\n",
      "See the caveats in the documentation: https://pandas.pydata.org/pandas-docs/stable/user_guide/indexing.html#returning-a-view-versus-a-copy\n",
      "/home/ec2-user/anaconda3/envs/python3/lib/python3.6/site-packages/ipykernel/__main__.py:18: SettingWithCopyWarning: \n",
      "A value is trying to be set on a copy of a slice from a DataFrame\n",
      "\n",
      "See the caveats in the documentation: https://pandas.pydata.org/pandas-docs/stable/user_guide/indexing.html#returning-a-view-versus-a-copy\n",
      "/home/ec2-user/anaconda3/envs/python3/lib/python3.6/site-packages/ipykernel/__main__.py:19: SettingWithCopyWarning: \n",
      "A value is trying to be set on a copy of a slice from a DataFrame\n",
      "\n",
      "See the caveats in the documentation: https://pandas.pydata.org/pandas-docs/stable/user_guide/indexing.html#returning-a-view-versus-a-copy\n"
     ]
    },
    {
     "name": "stdout",
     "output_type": "stream",
     "text": [
      "Writing 120 records to graphdata-mobility-public/indicador_por_pais_dashboard/PE_nacion_analisis.csv\n",
      "S3\n",
      "(120, 8)\n",
      "Writing 1 records to graphdata-mobility-public/indicador_por_pais_dashboard/PE_nacion.csv\n",
      "S3\n",
      "(1, 118)\n",
      "Pais: UY\n"
     ]
    },
    {
     "name": "stderr",
     "output_type": "stream",
     "text": [
      "/home/ec2-user/anaconda3/envs/python3/lib/python3.6/site-packages/ipykernel/__main__.py:17: SettingWithCopyWarning: \n",
      "A value is trying to be set on a copy of a slice from a DataFrame\n",
      "\n",
      "See the caveats in the documentation: https://pandas.pydata.org/pandas-docs/stable/user_guide/indexing.html#returning-a-view-versus-a-copy\n",
      "/home/ec2-user/anaconda3/envs/python3/lib/python3.6/site-packages/ipykernel/__main__.py:18: SettingWithCopyWarning: \n",
      "A value is trying to be set on a copy of a slice from a DataFrame\n",
      "\n",
      "See the caveats in the documentation: https://pandas.pydata.org/pandas-docs/stable/user_guide/indexing.html#returning-a-view-versus-a-copy\n",
      "/home/ec2-user/anaconda3/envs/python3/lib/python3.6/site-packages/ipykernel/__main__.py:19: SettingWithCopyWarning: \n",
      "A value is trying to be set on a copy of a slice from a DataFrame\n",
      "\n",
      "See the caveats in the documentation: https://pandas.pydata.org/pandas-docs/stable/user_guide/indexing.html#returning-a-view-versus-a-copy\n"
     ]
    },
    {
     "name": "stdout",
     "output_type": "stream",
     "text": [
      "Writing 0 records to graphdata-mobility-public/indicador_por_pais_dashboard/UY_nacion_analisis.csv\n",
      "S3\n",
      "(0, 8)\n",
      "Writing 0 records to graphdata-mobility-public/indicador_por_pais_dashboard/UY_nacion.csv\n",
      "S3\n",
      "(0, 0)\n",
      "Pais: BZ\n"
     ]
    },
    {
     "name": "stderr",
     "output_type": "stream",
     "text": [
      "/home/ec2-user/anaconda3/envs/python3/lib/python3.6/site-packages/ipykernel/__main__.py:17: SettingWithCopyWarning: \n",
      "A value is trying to be set on a copy of a slice from a DataFrame\n",
      "\n",
      "See the caveats in the documentation: https://pandas.pydata.org/pandas-docs/stable/user_guide/indexing.html#returning-a-view-versus-a-copy\n",
      "/home/ec2-user/anaconda3/envs/python3/lib/python3.6/site-packages/ipykernel/__main__.py:18: SettingWithCopyWarning: \n",
      "A value is trying to be set on a copy of a slice from a DataFrame\n",
      "\n",
      "See the caveats in the documentation: https://pandas.pydata.org/pandas-docs/stable/user_guide/indexing.html#returning-a-view-versus-a-copy\n",
      "/home/ec2-user/anaconda3/envs/python3/lib/python3.6/site-packages/ipykernel/__main__.py:19: SettingWithCopyWarning: \n",
      "A value is trying to be set on a copy of a slice from a DataFrame\n",
      "\n",
      "See the caveats in the documentation: https://pandas.pydata.org/pandas-docs/stable/user_guide/indexing.html#returning-a-view-versus-a-copy\n"
     ]
    },
    {
     "name": "stdout",
     "output_type": "stream",
     "text": [
      "Writing 120 records to graphdata-mobility-public/indicador_por_pais_dashboard/BZ_nacion_analisis.csv\n",
      "S3\n",
      "(120, 8)\n",
      "Writing 1 records to graphdata-mobility-public/indicador_por_pais_dashboard/BZ_nacion.csv\n",
      "S3\n",
      "(1, 118)\n",
      "Pais: GY\n"
     ]
    },
    {
     "name": "stderr",
     "output_type": "stream",
     "text": [
      "/home/ec2-user/anaconda3/envs/python3/lib/python3.6/site-packages/ipykernel/__main__.py:17: SettingWithCopyWarning: \n",
      "A value is trying to be set on a copy of a slice from a DataFrame\n",
      "\n",
      "See the caveats in the documentation: https://pandas.pydata.org/pandas-docs/stable/user_guide/indexing.html#returning-a-view-versus-a-copy\n",
      "/home/ec2-user/anaconda3/envs/python3/lib/python3.6/site-packages/ipykernel/__main__.py:18: SettingWithCopyWarning: \n",
      "A value is trying to be set on a copy of a slice from a DataFrame\n",
      "\n",
      "See the caveats in the documentation: https://pandas.pydata.org/pandas-docs/stable/user_guide/indexing.html#returning-a-view-versus-a-copy\n",
      "/home/ec2-user/anaconda3/envs/python3/lib/python3.6/site-packages/ipykernel/__main__.py:19: SettingWithCopyWarning: \n",
      "A value is trying to be set on a copy of a slice from a DataFrame\n",
      "\n",
      "See the caveats in the documentation: https://pandas.pydata.org/pandas-docs/stable/user_guide/indexing.html#returning-a-view-versus-a-copy\n"
     ]
    },
    {
     "name": "stdout",
     "output_type": "stream",
     "text": [
      "Writing 120 records to graphdata-mobility-public/indicador_por_pais_dashboard/GY_nacion_analisis.csv\n",
      "S3\n",
      "(120, 8)\n",
      "Writing 1 records to graphdata-mobility-public/indicador_por_pais_dashboard/GY_nacion.csv\n",
      "S3\n",
      "(1, 118)\n",
      "Pais: JM\n"
     ]
    },
    {
     "name": "stderr",
     "output_type": "stream",
     "text": [
      "/home/ec2-user/anaconda3/envs/python3/lib/python3.6/site-packages/ipykernel/__main__.py:17: SettingWithCopyWarning: \n",
      "A value is trying to be set on a copy of a slice from a DataFrame\n",
      "\n",
      "See the caveats in the documentation: https://pandas.pydata.org/pandas-docs/stable/user_guide/indexing.html#returning-a-view-versus-a-copy\n",
      "/home/ec2-user/anaconda3/envs/python3/lib/python3.6/site-packages/ipykernel/__main__.py:18: SettingWithCopyWarning: \n",
      "A value is trying to be set on a copy of a slice from a DataFrame\n",
      "\n",
      "See the caveats in the documentation: https://pandas.pydata.org/pandas-docs/stable/user_guide/indexing.html#returning-a-view-versus-a-copy\n",
      "/home/ec2-user/anaconda3/envs/python3/lib/python3.6/site-packages/ipykernel/__main__.py:19: SettingWithCopyWarning: \n",
      "A value is trying to be set on a copy of a slice from a DataFrame\n",
      "\n",
      "See the caveats in the documentation: https://pandas.pydata.org/pandas-docs/stable/user_guide/indexing.html#returning-a-view-versus-a-copy\n"
     ]
    },
    {
     "name": "stdout",
     "output_type": "stream",
     "text": [
      "Writing 120 records to graphdata-mobility-public/indicador_por_pais_dashboard/JM_nacion_analisis.csv\n",
      "S3\n",
      "(120, 8)\n",
      "Writing 1 records to graphdata-mobility-public/indicador_por_pais_dashboard/JM_nacion.csv\n",
      "S3\n",
      "(1, 118)\n",
      "Pais: TT\n"
     ]
    },
    {
     "name": "stderr",
     "output_type": "stream",
     "text": [
      "/home/ec2-user/anaconda3/envs/python3/lib/python3.6/site-packages/ipykernel/__main__.py:17: SettingWithCopyWarning: \n",
      "A value is trying to be set on a copy of a slice from a DataFrame\n",
      "\n",
      "See the caveats in the documentation: https://pandas.pydata.org/pandas-docs/stable/user_guide/indexing.html#returning-a-view-versus-a-copy\n",
      "/home/ec2-user/anaconda3/envs/python3/lib/python3.6/site-packages/ipykernel/__main__.py:18: SettingWithCopyWarning: \n",
      "A value is trying to be set on a copy of a slice from a DataFrame\n",
      "\n",
      "See the caveats in the documentation: https://pandas.pydata.org/pandas-docs/stable/user_guide/indexing.html#returning-a-view-versus-a-copy\n",
      "/home/ec2-user/anaconda3/envs/python3/lib/python3.6/site-packages/ipykernel/__main__.py:19: SettingWithCopyWarning: \n",
      "A value is trying to be set on a copy of a slice from a DataFrame\n",
      "\n",
      "See the caveats in the documentation: https://pandas.pydata.org/pandas-docs/stable/user_guide/indexing.html#returning-a-view-versus-a-copy\n"
     ]
    },
    {
     "name": "stdout",
     "output_type": "stream",
     "text": [
      "Writing 120 records to graphdata-mobility-public/indicador_por_pais_dashboard/TT_nacion_analisis.csv\n",
      "S3\n",
      "(120, 8)\n",
      "Writing 1 records to graphdata-mobility-public/indicador_por_pais_dashboard/TT_nacion.csv\n",
      "S3\n",
      "(1, 118)\n",
      "Pais: CO\n"
     ]
    },
    {
     "name": "stderr",
     "output_type": "stream",
     "text": [
      "/home/ec2-user/anaconda3/envs/python3/lib/python3.6/site-packages/ipykernel/__main__.py:17: SettingWithCopyWarning: \n",
      "A value is trying to be set on a copy of a slice from a DataFrame\n",
      "\n",
      "See the caveats in the documentation: https://pandas.pydata.org/pandas-docs/stable/user_guide/indexing.html#returning-a-view-versus-a-copy\n",
      "/home/ec2-user/anaconda3/envs/python3/lib/python3.6/site-packages/ipykernel/__main__.py:18: SettingWithCopyWarning: \n",
      "A value is trying to be set on a copy of a slice from a DataFrame\n",
      "\n",
      "See the caveats in the documentation: https://pandas.pydata.org/pandas-docs/stable/user_guide/indexing.html#returning-a-view-versus-a-copy\n",
      "/home/ec2-user/anaconda3/envs/python3/lib/python3.6/site-packages/ipykernel/__main__.py:19: SettingWithCopyWarning: \n",
      "A value is trying to be set on a copy of a slice from a DataFrame\n",
      "\n",
      "See the caveats in the documentation: https://pandas.pydata.org/pandas-docs/stable/user_guide/indexing.html#returning-a-view-versus-a-copy\n"
     ]
    },
    {
     "name": "stdout",
     "output_type": "stream",
     "text": [
      "Writing 120 records to graphdata-mobility-public/indicador_por_pais_dashboard/CO_nacion_analisis.csv\n",
      "S3\n",
      "(120, 8)\n",
      "Writing 1 records to graphdata-mobility-public/indicador_por_pais_dashboard/CO_nacion.csv\n",
      "S3\n",
      "(1, 118)\n",
      "Pais: BR\n"
     ]
    },
    {
     "name": "stderr",
     "output_type": "stream",
     "text": [
      "/home/ec2-user/anaconda3/envs/python3/lib/python3.6/site-packages/ipykernel/__main__.py:17: SettingWithCopyWarning: \n",
      "A value is trying to be set on a copy of a slice from a DataFrame\n",
      "\n",
      "See the caveats in the documentation: https://pandas.pydata.org/pandas-docs/stable/user_guide/indexing.html#returning-a-view-versus-a-copy\n",
      "/home/ec2-user/anaconda3/envs/python3/lib/python3.6/site-packages/ipykernel/__main__.py:18: SettingWithCopyWarning: \n",
      "A value is trying to be set on a copy of a slice from a DataFrame\n",
      "\n",
      "See the caveats in the documentation: https://pandas.pydata.org/pandas-docs/stable/user_guide/indexing.html#returning-a-view-versus-a-copy\n",
      "/home/ec2-user/anaconda3/envs/python3/lib/python3.6/site-packages/ipykernel/__main__.py:19: SettingWithCopyWarning: \n",
      "A value is trying to be set on a copy of a slice from a DataFrame\n",
      "\n",
      "See the caveats in the documentation: https://pandas.pydata.org/pandas-docs/stable/user_guide/indexing.html#returning-a-view-versus-a-copy\n"
     ]
    },
    {
     "name": "stdout",
     "output_type": "stream",
     "text": [
      "Writing 120 records to graphdata-mobility-public/indicador_por_pais_dashboard/BR_nacion_analisis.csv\n",
      "S3\n",
      "(120, 8)\n",
      "Writing 1 records to graphdata-mobility-public/indicador_por_pais_dashboard/BR_nacion.csv\n",
      "S3\n",
      "(1, 118)\n",
      "Pais: MX\n"
     ]
    },
    {
     "name": "stderr",
     "output_type": "stream",
     "text": [
      "/home/ec2-user/anaconda3/envs/python3/lib/python3.6/site-packages/ipykernel/__main__.py:17: SettingWithCopyWarning: \n",
      "A value is trying to be set on a copy of a slice from a DataFrame\n",
      "\n",
      "See the caveats in the documentation: https://pandas.pydata.org/pandas-docs/stable/user_guide/indexing.html#returning-a-view-versus-a-copy\n",
      "/home/ec2-user/anaconda3/envs/python3/lib/python3.6/site-packages/ipykernel/__main__.py:18: SettingWithCopyWarning: \n",
      "A value is trying to be set on a copy of a slice from a DataFrame\n",
      "\n",
      "See the caveats in the documentation: https://pandas.pydata.org/pandas-docs/stable/user_guide/indexing.html#returning-a-view-versus-a-copy\n",
      "/home/ec2-user/anaconda3/envs/python3/lib/python3.6/site-packages/ipykernel/__main__.py:19: SettingWithCopyWarning: \n",
      "A value is trying to be set on a copy of a slice from a DataFrame\n",
      "\n",
      "See the caveats in the documentation: https://pandas.pydata.org/pandas-docs/stable/user_guide/indexing.html#returning-a-view-versus-a-copy\n"
     ]
    },
    {
     "name": "stdout",
     "output_type": "stream",
     "text": [
      "Writing 120 records to graphdata-mobility-public/indicador_por_pais_dashboard/MX_nacion_analisis.csv\n",
      "S3\n",
      "(120, 8)\n",
      "Writing 1 records to graphdata-mobility-public/indicador_por_pais_dashboard/MX_nacion.csv\n",
      "S3\n",
      "(1, 118)\n"
     ]
    }
   ],
   "source": [
    "paises = ['DO','SV','CR','BO','CL','EC','AR','VE','GT','HN','NI','PA','PY','PE','UY','BZ','GY','JM','TT','CO','BR','MX'] \n",
    "#paises = ['CL']\n",
    "for pais in paises:\n",
    "    print(f\"Pais: {pais}\")\n",
    "    \n",
    "    df_by_day=df_by_day2at[df_by_day2at['iso_country_code']==pais]\n",
    "    df_by_day=df_by_day.rename(columns={'iso_country_code':'country'})\n",
    "    df_by_day=df_by_day.sort_values(by=['Mes','Dia'])\n",
    "    \n",
    "    ##computar indice suavizado\n",
    "    \n",
    "    ##Baseline    \n",
    "    year=\"2020\"\n",
    "    df_by_day[\"fecha\"] = year + \"-\" + df_by_day['Mes'].astype(int).astype(str) + \"-\" + df_by_day[\"Dia\"].astype(int).astype(str)\n",
    "    df_by_day['weekday'] = pd.to_datetime(df_by_day['fecha']).apply(lambda x: x.weekday())\n",
    "    df_by_day[\"weekday2\"]=0 \n",
    "    df_by_day[\"weekday2\"][df_by_day[\"weekday\"]==6]=\"Domingo\"       \n",
    "    df_by_day[\"weekday2\"][df_by_day[\"weekday\"]==5]=\"Sabado\" \n",
    "    df_by_day[\"weekday2\"][(df_by_day[\"weekday\"]!=5) & (df_by_day[\"weekday\"]!=6)]=\"Semana\" \n",
    "    df_by_day[\"key\"]=df_by_day[\"weekday2\"].astype(str)+df_by_day[\"country\"].astype(str)\n",
    "    reg=df_by_day[\"country\"].unique()\n",
    "    dia8=df_by_day[(df_by_day[\"Mes\"]==2) & (df_by_day[\"Dia\"]==8)].groupby([\"country\"])[\"%MasDe1km_new\"].sum()\n",
    "    dia8=pd.DataFrame(dia8)\n",
    "    dia8[\"fecha\"]=\"Domingo\"\n",
    "    \n",
    "    #dia8[\"country\"]=reg\n",
    "    dia8=dia8.reset_index()\n",
    "    dia7=df_by_day[(df_by_day[\"Mes\"]==2) & (df_by_day[\"Dia\"]==7)].groupby([\"country\"])[\"%MasDe1km_new\"].sum()\n",
    "    dia7=pd.DataFrame(dia7)\n",
    "    dia7[\"fecha\"]=\"Sabado\"\n",
    "    \n",
    "    #dia7[\"country\"]=reg\n",
    "    dia7=dia7.reset_index()\n",
    "    diasem=df_by_day[(df_by_day[\"Mes\"]==2) & (df_by_day['Dia'].isin(['5', '6', '9', '10', '11']))].groupby([\"country\"])[\"%MasDe1km_new\"].mean()\n",
    "    diasem=pd.DataFrame(diasem)\n",
    "    diasem[\"fecha\"]=\"Semana\"\n",
    "    \n",
    "    #diasem[\"country\"]=reg\n",
    "    diasem=diasem.reset_index()\n",
    "    match=diasem.append(dia8)\n",
    "    match=match.append(dia7)\n",
    "    match[\"key\"]=match[\"fecha\"].astype(str)+match[\"country\"].astype(str)\n",
    "    match=match.rename(columns={\"%MasDe1km_new\": \"Baseline\"})\n",
    "    match=match.loc[:,[\"key\",\"Baseline\"]]\n",
    "    df_by_day=df_by_day.merge(match,how='left',on=['key'])\n",
    "    \n",
    "    ##Ratio\n",
    "    df_by_day[\"ratio\"]=df_by_day['%MasDe1km_new']/df_by_day['Baseline']\n",
    "    \n",
    "    ##por excepcion del día conflictivo\n",
    "    df_by_day[\"ratio_lag1\"]=df_by_day.groupby([\"country\"])[\"ratio\"].shift(1)\n",
    "    df_by_day[\"ratio_f1\"]=df_by_day.groupby([\"country\"])[\"ratio\"].shift(-1)\n",
    "    \n",
    "    ##Suavizado\n",
    "    df_by_day[\"ratio_sua\"]=(df_by_day[\"ratio\"]+df_by_day[\"ratio_lag1\"]+df_by_day[\"ratio_f1\"])/3\n",
    "    \n",
    "    ##Indice\n",
    "    df_by_day[\"FracMas1km\"]=df_by_day[\"ratio_sua\"]-1\n",
    "    \n",
    "    ##key para tabla pivot\n",
    "    df_by_day[\"Dia\"]=df_by_day[\"Dia\"].astype(int)\n",
    "    df_by_day[\"Dia\"]=df_by_day.Dia.map(\"{:02}\".format)\n",
    "    df_by_day[\"key4\"]=df_by_day['Mes'].astype(int).astype(str)+ df_by_day[\"Dia\"].astype(str)\n",
    "    \n",
    "    ##genero dataframe para exportar\n",
    "    df_by_day2=df_by_day.loc[:,[\"Mes\", \"Dia\",\"key4\", \"country\", \"MasDe1km\", \"n_users\",'%MasDe1km_new',\"FracMas1km\"]]\n",
    "    \n",
    "    ##tabla pivot para publicar\n",
    "    table_piv = pd.pivot_table(df_by_day, values='FracMas1km', index=['country'],\n",
    "                    columns=['key4'], aggfunc=np.sum)\n",
    "    table_piv=table_piv[table_piv.columns[1:-1]]\n",
    "    table_piv = table_piv*100\n",
    "    table_piv = table_piv.round(2)\n",
    "    table_piv.index.name=\"cod\"\n",
    "    \n",
    "    ruta=f'graphdata-mobility-public/indicador_por_pais_dashboard/{pais}_nacion_analisis.csv'\n",
    "    write_dataframe_to_csv_on_s3(df_by_day2, 'iadbprod-csd-hub-analyticaldata', ruta)\n",
    "    \n",
    "    ruta2=f'graphdata-mobility-public/indicador_por_pais_dashboard/{pais}_nacion.csv'\n",
    "    write_dataframe_to_csv_on_s3(table_piv, 'iadbprod-csd-hub-analyticaldata', ruta2)  "
   ]
  }
 ],
 "metadata": {
  "kernelspec": {
   "display_name": "conda_python3",
   "language": "python",
   "name": "conda_python3"
  },
  "language_info": {
   "codemirror_mode": {
    "name": "ipython",
    "version": 3
   },
   "file_extension": ".py",
   "mimetype": "text/x-python",
   "name": "python",
   "nbconvert_exporter": "python",
   "pygments_lexer": "ipython3",
   "version": "3.6.13"
  }
 },
 "nbformat": 4,
 "nbformat_minor": 4
}
