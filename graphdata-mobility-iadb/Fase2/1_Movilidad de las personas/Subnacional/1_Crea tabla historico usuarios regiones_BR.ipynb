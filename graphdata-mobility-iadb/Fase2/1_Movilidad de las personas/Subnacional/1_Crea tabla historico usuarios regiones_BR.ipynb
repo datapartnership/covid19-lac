{
 "cells": [
  {
   "cell_type": "markdown",
   "metadata": {},
   "source": [
    "### Preparar ambiente"
   ]
  },
  {
   "cell_type": "code",
   "execution_count": 1,
   "metadata": {},
   "outputs": [
    {
     "name": "stdout",
     "output_type": "stream",
     "text": [
      "/home/ec2-user/anaconda3/envs/python3/lib/python3.6/enum.py\n"
     ]
    }
   ],
   "source": [
    "import enum\n",
    "print(enum.__file__)  \n",
    "# standard library location should be something like \n",
    "# /usr/local/lib/python3.6/enum.py"
   ]
  },
  {
   "cell_type": "code",
   "execution_count": 2,
   "metadata": {},
   "outputs": [
    {
     "name": "stdout",
     "output_type": "stream",
     "text": [
      "\u001b[33mWARNING: Skipping enum34 as it is not installed.\u001b[0m\r\n"
     ]
    }
   ],
   "source": [
    "import sys\n",
    "!{sys.executable} -m pip uninstall -y enum34"
   ]
  },
  {
   "cell_type": "code",
   "execution_count": 3,
   "metadata": {
    "scrolled": true
   },
   "outputs": [
    {
     "name": "stdout",
     "output_type": "stream",
     "text": [
      "Requirement already satisfied: awswrangler in /home/ec2-user/anaconda3/envs/python3/lib/python3.6/site-packages (2.8.0)\n",
      "Requirement already satisfied: openpyxl~=3.0.0 in /home/ec2-user/anaconda3/envs/python3/lib/python3.6/site-packages (from awswrangler) (3.0.6)\n",
      "Requirement already satisfied: pg8000<1.20.0,>=1.16.0 in /home/ec2-user/anaconda3/envs/python3/lib/python3.6/site-packages (from awswrangler) (1.19.5)\n",
      "Requirement already satisfied: numpy<1.21.0,>=1.18.0 in /home/ec2-user/anaconda3/envs/python3/lib/python3.6/site-packages (from awswrangler) (1.19.5)\n",
      "Requirement already satisfied: redshift-connector~=2.0.0 in /home/ec2-user/anaconda3/envs/python3/lib/python3.6/site-packages (from awswrangler) (2.0.881)\n",
      "Requirement already satisfied: pandas<1.3.0,>=1.1.0 in /home/ec2-user/anaconda3/envs/python3/lib/python3.6/site-packages (from awswrangler) (1.1.5)\n",
      "Requirement already satisfied: boto3<2.0.0,>=1.12.49 in /home/ec2-user/anaconda3/envs/python3/lib/python3.6/site-packages (from awswrangler) (1.17.83)\n",
      "Requirement already satisfied: botocore<2.0.0,>=1.15.49 in /home/ec2-user/anaconda3/envs/python3/lib/python3.6/site-packages (from awswrangler) (1.20.83)\n",
      "Requirement already satisfied: pyarrow<4.1.0,>=2.0.0 in /home/ec2-user/anaconda3/envs/python3/lib/python3.6/site-packages (from awswrangler) (4.0.0)\n",
      "Requirement already satisfied: pymysql<1.1.0,>=0.9.0 in /home/ec2-user/anaconda3/envs/python3/lib/python3.6/site-packages (from awswrangler) (1.0.2)\n",
      "Requirement already satisfied: s3transfer<0.5.0,>=0.4.0 in /home/ec2-user/anaconda3/envs/python3/lib/python3.6/site-packages (from boto3<2.0.0,>=1.12.49->awswrangler) (0.4.2)\n",
      "Requirement already satisfied: jmespath<1.0.0,>=0.7.1 in /home/ec2-user/anaconda3/envs/python3/lib/python3.6/site-packages (from boto3<2.0.0,>=1.12.49->awswrangler) (0.10.0)\n",
      "Requirement already satisfied: python-dateutil<3.0.0,>=2.1 in /home/ec2-user/anaconda3/envs/python3/lib/python3.6/site-packages (from botocore<2.0.0,>=1.15.49->awswrangler) (2.8.1)\n",
      "Requirement already satisfied: urllib3<1.27,>=1.25.4 in /home/ec2-user/anaconda3/envs/python3/lib/python3.6/site-packages (from botocore<2.0.0,>=1.15.49->awswrangler) (1.26.5)\n",
      "Requirement already satisfied: jdcal in /home/ec2-user/anaconda3/envs/python3/lib/python3.6/site-packages (from openpyxl~=3.0.0->awswrangler) (1.4.1)\n",
      "Requirement already satisfied: et-xmlfile in /home/ec2-user/anaconda3/envs/python3/lib/python3.6/site-packages (from openpyxl~=3.0.0->awswrangler) (1.0.1)\n",
      "Requirement already satisfied: pytz>=2017.2 in /home/ec2-user/anaconda3/envs/python3/lib/python3.6/site-packages (from pandas<1.3.0,>=1.1.0->awswrangler) (2021.1)\n",
      "Requirement already satisfied: scramp==1.4.0 in /home/ec2-user/anaconda3/envs/python3/lib/python3.6/site-packages (from pg8000<1.20.0,>=1.16.0->awswrangler) (1.4.0)\n",
      "Requirement already satisfied: asn1crypto==1.4.0 in /home/ec2-user/anaconda3/envs/python3/lib/python3.6/site-packages (from scramp==1.4.0->pg8000<1.20.0,>=1.16.0->awswrangler) (1.4.0)\n",
      "Requirement already satisfied: six>=1.5 in /home/ec2-user/anaconda3/envs/python3/lib/python3.6/site-packages (from python-dateutil<3.0.0,>=2.1->botocore<2.0.0,>=1.15.49->awswrangler) (1.15.0)\n",
      "Requirement already satisfied: beautifulsoup4<5.0.0,>=4.7.0 in /home/ec2-user/anaconda3/envs/python3/lib/python3.6/site-packages (from redshift-connector~=2.0.0->awswrangler) (4.9.3)\n",
      "Requirement already satisfied: requests<2.25.2,>=2.23.0 in /home/ec2-user/anaconda3/envs/python3/lib/python3.6/site-packages (from redshift-connector~=2.0.0->awswrangler) (2.25.1)\n",
      "Requirement already satisfied: lxml>=4.6.2 in /home/ec2-user/anaconda3/envs/python3/lib/python3.6/site-packages (from redshift-connector~=2.0.0->awswrangler) (4.6.3)\n",
      "Requirement already satisfied: soupsieve>1.2 in /home/ec2-user/anaconda3/envs/python3/lib/python3.6/site-packages (from beautifulsoup4<5.0.0,>=4.7.0->redshift-connector~=2.0.0->awswrangler) (2.0.1)\n",
      "Requirement already satisfied: certifi>=2017.4.17 in /home/ec2-user/anaconda3/envs/python3/lib/python3.6/site-packages (from requests<2.25.2,>=2.23.0->redshift-connector~=2.0.0->awswrangler) (2020.12.5)\n",
      "Requirement already satisfied: idna<3,>=2.5 in /home/ec2-user/anaconda3/envs/python3/lib/python3.6/site-packages (from requests<2.25.2,>=2.23.0->redshift-connector~=2.0.0->awswrangler) (2.10)\n",
      "Requirement already satisfied: chardet<5,>=3.0.2 in /home/ec2-user/anaconda3/envs/python3/lib/python3.6/site-packages (from requests<2.25.2,>=2.23.0->redshift-connector~=2.0.0->awswrangler) (3.0.4)\n"
     ]
    }
   ],
   "source": [
    "!{sys.executable} -m pip install awswrangler"
   ]
  },
  {
   "cell_type": "code",
   "execution_count": 4,
   "metadata": {},
   "outputs": [
    {
     "name": "stdout",
     "output_type": "stream",
     "text": [
      "Requirement already satisfied: geopandas in /home/ec2-user/anaconda3/envs/python3/lib/python3.6/site-packages (0.9.0)\n",
      "Requirement already satisfied: shapely>=1.6 in /home/ec2-user/anaconda3/envs/python3/lib/python3.6/site-packages (from geopandas) (1.7.1)\n",
      "Requirement already satisfied: pandas>=0.24.0 in /home/ec2-user/anaconda3/envs/python3/lib/python3.6/site-packages (from geopandas) (1.1.5)\n",
      "Requirement already satisfied: fiona>=1.8 in /home/ec2-user/anaconda3/envs/python3/lib/python3.6/site-packages (from geopandas) (1.8.20)\n",
      "Requirement already satisfied: pyproj>=2.2.0 in /home/ec2-user/anaconda3/envs/python3/lib/python3.6/site-packages (from geopandas) (3.0.1)\n",
      "Requirement already satisfied: attrs>=17 in /home/ec2-user/anaconda3/envs/python3/lib/python3.6/site-packages (from fiona>=1.8->geopandas) (20.3.0)\n",
      "Requirement already satisfied: six>=1.7 in /home/ec2-user/anaconda3/envs/python3/lib/python3.6/site-packages (from fiona>=1.8->geopandas) (1.15.0)\n",
      "Requirement already satisfied: cligj>=0.5 in /home/ec2-user/anaconda3/envs/python3/lib/python3.6/site-packages (from fiona>=1.8->geopandas) (0.7.2)\n",
      "Requirement already satisfied: certifi in /home/ec2-user/anaconda3/envs/python3/lib/python3.6/site-packages (from fiona>=1.8->geopandas) (2020.12.5)\n",
      "Requirement already satisfied: click>=4.0 in /home/ec2-user/anaconda3/envs/python3/lib/python3.6/site-packages (from fiona>=1.8->geopandas) (7.1.2)\n",
      "Requirement already satisfied: munch in /home/ec2-user/anaconda3/envs/python3/lib/python3.6/site-packages (from fiona>=1.8->geopandas) (2.5.0)\n",
      "Requirement already satisfied: setuptools in /home/ec2-user/anaconda3/envs/python3/lib/python3.6/site-packages (from fiona>=1.8->geopandas) (49.6.0.post20210108)\n",
      "Requirement already satisfied: click-plugins>=1.0 in /home/ec2-user/anaconda3/envs/python3/lib/python3.6/site-packages (from fiona>=1.8->geopandas) (1.1.1)\n",
      "Requirement already satisfied: python-dateutil>=2.7.3 in /home/ec2-user/anaconda3/envs/python3/lib/python3.6/site-packages (from pandas>=0.24.0->geopandas) (2.8.1)\n",
      "Requirement already satisfied: pytz>=2017.2 in /home/ec2-user/anaconda3/envs/python3/lib/python3.6/site-packages (from pandas>=0.24.0->geopandas) (2021.1)\n",
      "Requirement already satisfied: numpy>=1.15.4 in /home/ec2-user/anaconda3/envs/python3/lib/python3.6/site-packages (from pandas>=0.24.0->geopandas) (1.19.5)\n"
     ]
    }
   ],
   "source": [
    "!{sys.executable} -m pip install geopandas"
   ]
  },
  {
   "cell_type": "code",
   "execution_count": 5,
   "metadata": {
    "scrolled": false
   },
   "outputs": [
    {
     "name": "stdout",
     "output_type": "stream",
     "text": [
      "Requirement already satisfied: PyAthena in /home/ec2-user/anaconda3/envs/python3/lib/python3.6/site-packages (2.3.0)\n",
      "Requirement already satisfied: tenacity>=4.1.0 in /home/ec2-user/anaconda3/envs/python3/lib/python3.6/site-packages (from PyAthena) (7.0.0)\n",
      "Requirement already satisfied: boto3>=1.4.4 in /home/ec2-user/anaconda3/envs/python3/lib/python3.6/site-packages (from PyAthena) (1.17.83)\n",
      "Requirement already satisfied: botocore>=1.5.52 in /home/ec2-user/anaconda3/envs/python3/lib/python3.6/site-packages (from PyAthena) (1.20.83)\n",
      "Requirement already satisfied: jmespath<1.0.0,>=0.7.1 in /home/ec2-user/anaconda3/envs/python3/lib/python3.6/site-packages (from boto3>=1.4.4->PyAthena) (0.10.0)\n",
      "Requirement already satisfied: s3transfer<0.5.0,>=0.4.0 in /home/ec2-user/anaconda3/envs/python3/lib/python3.6/site-packages (from boto3>=1.4.4->PyAthena) (0.4.2)\n",
      "Requirement already satisfied: python-dateutil<3.0.0,>=2.1 in /home/ec2-user/anaconda3/envs/python3/lib/python3.6/site-packages (from botocore>=1.5.52->PyAthena) (2.8.1)\n",
      "Requirement already satisfied: urllib3<1.27,>=1.25.4 in /home/ec2-user/anaconda3/envs/python3/lib/python3.6/site-packages (from botocore>=1.5.52->PyAthena) (1.26.5)\n",
      "Requirement already satisfied: six>=1.5 in /home/ec2-user/anaconda3/envs/python3/lib/python3.6/site-packages (from python-dateutil<3.0.0,>=2.1->botocore>=1.5.52->PyAthena) (1.15.0)\n"
     ]
    }
   ],
   "source": [
    "!{sys.executable} -m pip install PyAthena"
   ]
  },
  {
   "cell_type": "markdown",
   "metadata": {},
   "source": [
    "### Conectar con pyathena"
   ]
  },
  {
   "cell_type": "code",
   "execution_count": 6,
   "metadata": {},
   "outputs": [],
   "source": [
    "from pyathena.pandas.cursor import PandasCursor\n",
    "from pyathena import connect\n",
    "import pandas as pd\n",
    "import time\n",
    "# agregar directorio en el cual se almacenan las tablas que se van a consultar\n",
    "directorio = 's3://iadbprod-csd-hub-analyticaldata/graphdata-mobility-temporal/athena-results/'\n",
    "# base de datos\n",
    "bd = 'graphdata' # Database in Glue\n",
    "cursor = connect(s3_staging_dir = directorio, region_name = 'us-east-1', schema_name = bd, cursor_class = PandasCursor).cursor()"
   ]
  },
  {
   "cell_type": "code",
   "execution_count": 7,
   "metadata": {},
   "outputs": [],
   "source": [
    "import pandas as pd\n",
    "import awswrangler as wr\n",
    "import numpy as np\n",
    "import calendar\n",
    "import boto3\n",
    "s3 = boto3.resource('s3')"
   ]
  },
  {
   "cell_type": "code",
   "execution_count": 8,
   "metadata": {},
   "outputs": [],
   "source": [
    "import geopandas as gpd\n",
    "import glob\n",
    "import os"
   ]
  },
  {
   "cell_type": "markdown",
   "metadata": {},
   "source": [
    "### Verificar que están localmente los archivos Shapefile. Si no están, descargarlos"
   ]
  },
  {
   "cell_type": "code",
   "execution_count": 9,
   "metadata": {},
   "outputs": [],
   "source": [
    "if not os.path.exists('Shapefiles_mun'):\n",
    "    bucket_shapefiles = 'iadbprod-csd-hub-analyticaldata'\n",
    "    folder_local = 'Shapefiles_mun'\n",
    "    os.mkdir(folder_local)\n",
    "    for key in s3.Bucket(bucket_shapefiles).objects.all().filter(Prefix=folder_local):\n",
    "        data_key = key.key\n",
    "        directorios = data_key.split('/')\n",
    "        if len(directorios) == 3 and not 'Municipios' in data_key: # carpeta originen, pais y archivo (shp, cpg, csv, dbf, prj, shx)\n",
    "            folder_pais = os.path.join(folder_local, directorios[1])\n",
    "            if not os.path.exists(folder_pais):\n",
    "                os.mkdir(folder_pais)\n",
    "            new_data_key = os.path.join(folder_pais,directorios[2])\n",
    "            s3.Bucket(bucket_shapefiles).download_file(data_key, new_data_key)"
   ]
  },
  {
   "cell_type": "raw",
   "metadata": {},
   "source": [
    "paises = ['BO','EC','CL','VE','AR','CR','DO','SV','GT','HN','NI','PA','PY','PE','UY','BZ','GY','JM','TT','CO','MX','BR']\n",
    "len(paises)"
   ]
  },
  {
   "cell_type": "markdown",
   "metadata": {},
   "source": [
    "### Asignar nueva region a usuarios"
   ]
  },
  {
   "cell_type": "code",
   "execution_count": 10,
   "metadata": {},
   "outputs": [],
   "source": [
    "pais = 'BR'"
   ]
  },
  {
   "cell_type": "code",
   "execution_count": 11,
   "metadata": {},
   "outputs": [
    {
     "name": "stdout",
     "output_type": "stream",
     "text": [
      "Tamaño tabla: 5542991\n"
     ]
    }
   ],
   "source": [
    "query = f'''SELECT iso_country_code,\n",
    "                   id_provincia,\n",
    "                   lat_final, \n",
    "                   long_final\n",
    "            FROM historico_usuarios                             \n",
    "            WHERE iso_country_code='{pais}'\n",
    "            GROUP BY iso_country_code,\n",
    "                     id_provincia,\n",
    "                     lat_final, \n",
    "                    long_final'''\n",
    "df = cursor.execute(query).as_pandas()    \n",
    "print(f\"Tamaño tabla: {df.shape[0]}\")\n",
    "assert df[df.duplicated(['long_final','lat_final','iso_country_code', 'id_provincia'])].shape[0] == 0\n",
    "gdf_homes = gpd.GeoDataFrame(df,geometry = gpd.points_from_xy(df.long_final, df.lat_final), crs = 'epsg:4326')\n",
    "gdf_homes = gdf_homes.dropna(subset = [\"long_final\",'lat_final'])"
   ]
  },
  {
   "cell_type": "code",
   "execution_count": 12,
   "metadata": {},
   "outputs": [
    {
     "data": {
      "text/plain": [
       "(5542990, 5)"
      ]
     },
     "execution_count": 12,
     "metadata": {},
     "output_type": "execute_result"
    }
   ],
   "source": [
    "gdf_homes.shape"
   ]
  },
  {
   "cell_type": "code",
   "execution_count": 13,
   "metadata": {},
   "outputs": [],
   "source": [
    "# adm4 - Municipios\n",
    "# id_adm = 'cd_geocmu'\n",
    "loc_adm =f\"Shapefiles_mun/{pais}/*.shp\"\n",
    "path = glob.glob(f'{loc_adm}')\n",
    "mapa = gpd.read_file(path[0], encoding = 'utf-8')\n",
    "mapa['geometry'] = mapa['geometry'].to_crs(epsg = 4326)\n",
    "mapa.columns = [c.lower() for c in mapa.columns]\n",
    "gdf_homes.crs = mapa.crs\n",
    "time.sleep(10)\n",
    "mapa = mapa.loc[:,['codmunic','nommunic','cd_geocmi', 'geometry']]\n",
    "gdf_homes_joined = gpd.sjoin(gdf_homes, mapa, op = 'within') \n",
    "gdf_homes_joined = gdf_homes_joined[['iso_country_code', 'lat_final', 'long_final', 'codmunic','nommunic','cd_geocmi']]\n",
    "gdf_homes_joined['lat_final'] = round(gdf_homes_joined['lat_final'], 3)\n",
    "gdf_homes_joined['long_final'] = round(gdf_homes_joined['long_final'], 3)\n",
    "gdf_homes = gdf_homes_joined"
   ]
  },
  {
   "cell_type": "code",
   "execution_count": 14,
   "metadata": {
    "scrolled": true
   },
   "outputs": [
    {
     "data": {
      "text/plain": [
       "(5520829, 6)"
      ]
     },
     "execution_count": 14,
     "metadata": {},
     "output_type": "execute_result"
    }
   ],
   "source": [
    "gdf_homes.shape"
   ]
  },
  {
   "cell_type": "code",
   "execution_count": 15,
   "metadata": {},
   "outputs": [
    {
     "data": {
      "text/plain": [
       "{'paths': ['s3://iadbprod-csd-hub-analyticaldata/graphdata-mobility-usuarios/Historico_LatLong/BR/historico_latlong_BR/01c2a9a940974a3ab847b2bcef28e46c.snappy.parquet'],\n",
       " 'partitions_values': {}}"
      ]
     },
     "execution_count": 15,
     "metadata": {},
     "output_type": "execute_result"
    }
   ],
   "source": [
    "table_uc = f'historico_latlong_{pais}'\n",
    "wr.s3.to_parquet(  # Storing the data and metadata to Data Lake\n",
    "    df = gdf_homes,\n",
    "    dataset = True,\n",
    "    table = table_uc,\n",
    "    database = \"graphdata\",\n",
    "    path = f\"s3://iadbprod-csd-hub-analyticaldata/graphdata-mobility-usuarios/Historico_LatLong/{pais}/{table_uc}\"\n",
    ")"
   ]
  },
  {
   "cell_type": "raw",
   "metadata": {},
   "source": [
    "tabla_datos_pais = f\"Historico_LatLong_{pais}\"\n",
    "query = f\"DROP TABLE {tabla_datos_pais}\"\n",
    "cursor.execute(query)\n",
    "\n",
    "print('Tablas eliminadas')"
   ]
  }
 ],
 "metadata": {
  "kernelspec": {
   "display_name": "conda_python3",
   "language": "python",
   "name": "conda_python3"
  },
  "language_info": {
   "codemirror_mode": {
    "name": "ipython",
    "version": 3
   },
   "file_extension": ".py",
   "mimetype": "text/x-python",
   "name": "python",
   "nbconvert_exporter": "python",
   "pygments_lexer": "ipython3",
   "version": "3.6.13"
  }
 },
 "nbformat": 4,
 "nbformat_minor": 4
}
