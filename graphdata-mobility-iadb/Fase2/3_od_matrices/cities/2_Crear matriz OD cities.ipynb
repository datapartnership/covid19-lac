{
 "cells": [
  {
   "cell_type": "markdown",
   "metadata": {},
   "source": [
    "#### Preparar Ambiente"
   ]
  },
  {
   "cell_type": "code",
   "execution_count": 1,
   "metadata": {},
   "outputs": [],
   "source": [
    "import sys"
   ]
  },
  {
   "cell_type": "code",
   "execution_count": 2,
   "metadata": {},
   "outputs": [
    {
     "name": "stdout",
     "output_type": "stream",
     "text": [
      "Requirement already satisfied: PyAthena in /home/ec2-user/anaconda3/envs/python3/lib/python3.6/site-packages (2.3.0)\n",
      "Requirement already satisfied: boto3>=1.4.4 in /home/ec2-user/anaconda3/envs/python3/lib/python3.6/site-packages (from PyAthena) (1.17.99)\n",
      "Requirement already satisfied: tenacity>=4.1.0 in /home/ec2-user/anaconda3/envs/python3/lib/python3.6/site-packages (from PyAthena) (8.0.1)\n",
      "Requirement already satisfied: botocore>=1.5.52 in /home/ec2-user/anaconda3/envs/python3/lib/python3.6/site-packages (from PyAthena) (1.20.99)\n",
      "Requirement already satisfied: jmespath<1.0.0,>=0.7.1 in /home/ec2-user/anaconda3/envs/python3/lib/python3.6/site-packages (from boto3>=1.4.4->PyAthena) (0.10.0)\n",
      "Requirement already satisfied: s3transfer<0.5.0,>=0.4.0 in /home/ec2-user/anaconda3/envs/python3/lib/python3.6/site-packages (from boto3>=1.4.4->PyAthena) (0.4.2)\n",
      "Requirement already satisfied: python-dateutil<3.0.0,>=2.1 in /home/ec2-user/anaconda3/envs/python3/lib/python3.6/site-packages (from botocore>=1.5.52->PyAthena) (2.8.1)\n",
      "Requirement already satisfied: urllib3<1.27,>=1.25.4 in /home/ec2-user/anaconda3/envs/python3/lib/python3.6/site-packages (from botocore>=1.5.52->PyAthena) (1.26.5)\n",
      "Requirement already satisfied: six>=1.5 in /home/ec2-user/anaconda3/envs/python3/lib/python3.6/site-packages (from python-dateutil<3.0.0,>=2.1->botocore>=1.5.52->PyAthena) (1.15.0)\n",
      "\u001b[33mWARNING: You are using pip version 21.1.2; however, version 21.2.2 is available.\n",
      "You should consider upgrading via the '/home/ec2-user/anaconda3/envs/python3/bin/python -m pip install --upgrade pip' command.\u001b[0m\n"
     ]
    }
   ],
   "source": [
    "!{sys.executable} -m pip install PyAthena"
   ]
  },
  {
   "cell_type": "code",
   "execution_count": 3,
   "metadata": {},
   "outputs": [
    {
     "name": "stdout",
     "output_type": "stream",
     "text": [
      "Requirement already satisfied: pytz in /home/ec2-user/anaconda3/envs/python3/lib/python3.6/site-packages (2021.1)\n",
      "\u001b[33mWARNING: You are using pip version 21.1.2; however, version 21.2.2 is available.\n",
      "You should consider upgrading via the '/home/ec2-user/anaconda3/envs/python3/bin/python -m pip install --upgrade pip' command.\u001b[0m\n"
     ]
    }
   ],
   "source": [
    "!{sys.executable} -m pip install pytz"
   ]
  },
  {
   "cell_type": "code",
   "execution_count": 4,
   "metadata": {},
   "outputs": [
    {
     "name": "stdout",
     "output_type": "stream",
     "text": [
      "Requirement already satisfied: tqdm in /home/ec2-user/anaconda3/envs/python3/lib/python3.6/site-packages (4.62.0)\n",
      "\u001b[33mWARNING: You are using pip version 21.1.2; however, version 21.2.2 is available.\n",
      "You should consider upgrading via the '/home/ec2-user/anaconda3/envs/python3/bin/python -m pip install --upgrade pip' command.\u001b[0m\n"
     ]
    }
   ],
   "source": [
    "!{sys.executable} -m pip install tqdm"
   ]
  },
  {
   "cell_type": "markdown",
   "metadata": {},
   "source": [
    "#### Conectar con pyathena"
   ]
  },
  {
   "cell_type": "code",
   "execution_count": 5,
   "metadata": {},
   "outputs": [],
   "source": [
    "from pyathena.pandas.cursor import PandasCursor\n",
    "from pyathena import connect\n",
    "import pandas as pd\n",
    "import time\n",
    "# agregar directorio en el cual se almacenan las tablas que se van a consultar\n",
    "directorio = 's3://iadbprod-csd-hub-analyticaldata/graphdata-mobility-temporal/athena-results/'\n",
    "# base de datos\n",
    "bd = 'graphdata' # Database in Glue\n",
    "cursor = connect(s3_staging_dir = directorio, region_name = 'us-east-1', schema_name = bd, cursor_class = PandasCursor).cursor()"
   ]
  },
  {
   "cell_type": "code",
   "execution_count": 6,
   "metadata": {},
   "outputs": [],
   "source": [
    "from datetime import datetime, timedelta\n",
    "import numpy as np"
   ]
  },
  {
   "cell_type": "code",
   "execution_count": 7,
   "metadata": {},
   "outputs": [],
   "source": [
    "from tqdm.notebook import tqdm\n",
    "from time import sleep"
   ]
  },
  {
   "cell_type": "markdown",
   "metadata": {},
   "source": [
    "#### Crear tablas por pais"
   ]
  },
  {
   "cell_type": "code",
   "execution_count": 8,
   "metadata": {},
   "outputs": [
    {
     "data": {
      "text/plain": [
       "22"
      ]
     },
     "execution_count": 8,
     "metadata": {},
     "output_type": "execute_result"
    }
   ],
   "source": [
    "paises = ['BO','EC','CL','VE','AR','CR','DO','SV','GT','HN','NI','PA','PY','PE','UY','BZ','GY','JM','TT','CO','MX','BR']\n",
    "len(paises)"
   ]
  },
  {
   "cell_type": "code",
   "execution_count": 9,
   "metadata": {},
   "outputs": [],
   "source": [
    "pais = 'LATAM'"
   ]
  },
  {
   "cell_type": "code",
   "execution_count": 10,
   "metadata": {},
   "outputs": [],
   "source": [
    "# Detalles de la tabla de ciudades\n",
    "id_city = 'idn'"
   ]
  },
  {
   "cell_type": "markdown",
   "metadata": {},
   "source": [
    "#### Eligiendo periodo de interes"
   ]
  },
  {
   "cell_type": "code",
   "execution_count": 11,
   "metadata": {},
   "outputs": [],
   "source": [
    "# Selecionando fecha de interes\n",
    "fechas = pd.date_range('09/01/2020','09/30/2020')"
   ]
  },
  {
   "cell_type": "markdown",
   "metadata": {},
   "source": [
    "#### Generar tablas hogares y usuarios con adms"
   ]
  },
  {
   "cell_type": "code",
   "execution_count": null,
   "metadata": {
    "scrolled": true
   },
   "outputs": [
    {
     "name": "stdout",
     "output_type": "stream",
     "text": [
      "FECHA 2020-09-01 00:00:00 DONE \n",
      "FECHA 2020-09-02 00:00:00 DONE \n",
      "FECHA 2020-09-03 00:00:00 DONE \n",
      "FECHA 2020-09-04 00:00:00 DONE \n",
      "FECHA 2020-09-05 00:00:00 DONE \n",
      "FECHA 2020-09-06 00:00:00 DONE \n",
      "FECHA 2020-09-07 00:00:00 DONE \n",
      "FECHA 2020-09-08 00:00:00 DONE \n",
      "FECHA 2020-09-09 00:00:00 DONE \n",
      "FECHA 2020-09-10 00:00:00 DONE \n",
      "FECHA 2020-09-11 00:00:00 DONE \n",
      "FECHA 2020-09-12 00:00:00 DONE \n",
      "FECHA 2020-09-13 00:00:00 DONE \n",
      "FECHA 2020-09-14 00:00:00 DONE \n",
      "FECHA 2020-09-15 00:00:00 DONE \n",
      "FECHA 2020-09-16 00:00:00 DONE \n",
      "FECHA 2020-09-17 00:00:00 DONE \n",
      "FECHA 2020-09-18 00:00:00 DONE \n",
      "FECHA 2020-09-19 00:00:00 DONE \n",
      "FECHA 2020-09-20 00:00:00 DONE \n",
      "FECHA 2020-09-21 00:00:00 DONE \n",
      "FECHA 2020-09-23 00:00:00 DONE \n",
      "FECHA 2020-09-24 00:00:00 DONE \n",
      "FECHA 2020-09-25 00:00:00 DONE \n",
      "FECHA 2020-09-26 00:00:00 DONE \n",
      "FECHA 2020-09-27 00:00:00 DONE \n",
      "FECHA 2020-09-28 00:00:00 DONE \n",
      "FECHA 2020-09-29 00:00:00 DONE \n",
      "FECHA 2020-09-30 00:00:00 DONE \n",
      "66.09640263319015\n"
     ]
    }
   ],
   "source": [
    "# Selecionando fecha de interes\n",
    "#fechas = pd.date_range('03/09/2020','04/30/2020')\n",
    "\n",
    "# Generando tablas hogares y usuarios con ciudades\n",
    "start_time = time.time()\n",
    "for fecha in fechas:\n",
    "    year = fecha.year\n",
    "    mes = fecha.month\n",
    "    dia = fecha.day\n",
    "    codigo_year = str(year)\n",
    "    codigo_mes = '0'+str(mes) if mes<10 else str(mes)\n",
    "    codigo_dia = '0'+str(dia) if dia<10 else str(dia)\n",
    "    codigo_fecha = codigo_year + codigo_mes + codigo_dia\n",
    "    \n",
    "    \n",
    "    # Tabla hogares por dia\n",
    "    #===========================================\n",
    "    tabla_historica = f'historico_usuarios'\n",
    "    tabla_hogares_dia = f'hogares_{pais}_{codigo_fecha}'\n",
    "    query = f'''\n",
    "            CREATE TABLE IF NOT EXISTS {tabla_hogares_dia} AS\n",
    "            SELECT iso_country_code,\n",
    "                   caid, \n",
    "                   lat_final,\n",
    "                   long_final\n",
    "            FROM {tabla_historica}                            \n",
    "            WHERE month={mes} AND day={dia} AND lat_final IS NOT NULL\n",
    "            GROUP BY iso_country_code,\n",
    "                     caid, \n",
    "                     lat_final,\n",
    "                     long_final\n",
    "    '''\n",
    "    cursor.execute(query)\n",
    "    time.sleep(20)\n",
    "    #\n",
    "    cursor.close()\n",
    "    #print(f\"Table {tabla_hogares_dia}: DONE \")\n",
    "    \n",
    "    \n",
    "    # Asignando ciudades a tabla hogares por dia\n",
    "    #===========================================\n",
    "    table_hogares_cities_dia = f'hogares_cities_{pais}_{codigo_fecha}'\n",
    "    query = f'''\n",
    "                    CREATE TABLE {table_hogares_cities_dia} AS\n",
    "                    SELECT iso_country_code,\n",
    "                            caid,\n",
    "                            lat_final,\n",
    "                            long_final,\n",
    "                            {id_city} as id_city\n",
    "                    FROM {tabla_hogares_dia}\n",
    "                    CROSS JOIN {pais}_cities\n",
    "                    WHERE ST_CONTAINS (ST_GeomFromLegacyBinary({pais}_cities.boundary), ST_POINT({tabla_hogares_dia}.long_final, {tabla_hogares_dia}.lat_final))\n",
    "    '''\n",
    "    cursor.execute(query)\n",
    "    time.sleep(20)\n",
    "    #\n",
    "    cursor.close()\n",
    "    #print(f\"Table {table_hogares_cities_dia}: DONE \")\n",
    "    \n",
    "    \n",
    "    # Tabla usuarios por dia\n",
    "    #===========================================\n",
    "    table_usuarios_cities_dia = f'usuarios_cities_{pais}_{codigo_fecha}'\n",
    "    query = f'''\n",
    "        CREATE TABLE {table_usuarios_cities_dia} AS\n",
    "        SELECT  g.id_city,\n",
    "                h.caid,\n",
    "                h.distancia_recorrida,\n",
    "                h.lat_final,\n",
    "                h.long_final,\n",
    "                h.n_obs,\n",
    "                h.n_obs_noche,\n",
    "                h.n_obs_madrugada,\n",
    "                h.day,\n",
    "                h.month,\n",
    "                h.year,\n",
    "                h.iso_country_code\n",
    "        FROM (SELECT caid,\n",
    "                     id_city\n",
    "              FROM {table_hogares_cities_dia}) as g INNER JOIN (\n",
    "                SELECT *\n",
    "                FROM historico_usuarios\n",
    "                WHERE month={mes} AND day={dia}) as h\n",
    "            ON h.caid=g.caid\n",
    "    '''\n",
    "    cursor.execute(query)\n",
    "    time.sleep(20)\n",
    "    #\n",
    "    cursor.close()\n",
    "    #print(f\"Table {table_usuarios_cities_dia}: DONE \")\n",
    "\n",
    "    \n",
    "    # Tabla pings con ciudades de hogar por dia\n",
    "    #===========================================\n",
    "    tabla_pings_citiesh_dia = f'pings_citiesh_{pais}_{codigo_fecha}'\n",
    "    query = f'''\n",
    "        CREATE TABLE {tabla_pings_citiesh_dia} AS\n",
    "        SELECT  g.id_city,\n",
    "                h.utc_timestamp,\n",
    "                h.latitude,\n",
    "                h.longitude,\n",
    "                h.caid,\n",
    "                h.id_type,\n",
    "                h.hour_of_day,\n",
    "                h.day,\n",
    "                h.month,\n",
    "                h.year,\n",
    "                h.iso_country_code\n",
    "        FROM (SELECT caid,\n",
    "                     id_city\n",
    "              FROM {table_hogares_cities_dia}) as g INNER JOIN (\n",
    "                SELECT *\n",
    "                FROM historico_pings\n",
    "                WHERE month={mes} AND day={dia}) as h\n",
    "            ON h.caid=g.caid\n",
    "    '''\n",
    "    cursor.execute(query)\n",
    "    #print(f\"Table {tabla_pings_citiesh_dia}: DONE \")\n",
    "    \n",
    "    \n",
    "    print(f\"FECHA {fecha} DONE \")\n",
    "\n",
    "print((time.time()-start_time)/60)    "
   ]
  },
  {
   "cell_type": "markdown",
   "metadata": {},
   "source": [
    "#### Generar tablas pings con adms"
   ]
  },
  {
   "cell_type": "code",
   "execution_count": null,
   "metadata": {},
   "outputs": [
    {
     "name": "stdout",
     "output_type": "stream",
     "text": [
      "FECHA 2020-09-01 00:00:00 DONE \n",
      "FECHA 2020-09-02 00:00:00 DONE \n",
      "FECHA 2020-09-03 00:00:00 DONE \n",
      "FECHA 2020-09-04 00:00:00 DONE \n",
      "FECHA 2020-09-05 00:00:00 DONE \n",
      "FECHA 2020-09-06 00:00:00 DONE \n",
      "FECHA 2020-09-07 00:00:00 DONE \n",
      "FECHA 2020-09-08 00:00:00 DONE \n",
      "FECHA 2020-09-09 00:00:00 DONE \n",
      "FECHA 2020-09-10 00:00:00 DONE \n",
      "FECHA 2020-09-11 00:00:00 DONE \n",
      "FECHA 2020-09-12 00:00:00 DONE \n",
      "FECHA 2020-09-13 00:00:00 DONE \n",
      "FECHA 2020-09-14 00:00:00 DONE \n",
      "FECHA 2020-09-15 00:00:00 DONE \n",
      "FECHA 2020-09-16 00:00:00 DONE \n",
      "FECHA 2020-09-17 00:00:00 DONE \n",
      "FECHA 2020-09-18 00:00:00 DONE \n",
      "FECHA 2020-09-19 00:00:00 DONE \n",
      "FECHA 2020-09-20 00:00:00 DONE \n",
      "FECHA 2020-09-21 00:00:00 DONE \n",
      "FECHA 2020-09-22 00:00:00 DONE \n",
      "FECHA 2020-09-23 00:00:00 DONE \n",
      "FECHA 2020-09-24 00:00:00 DONE \n",
      "FECHA 2020-09-25 00:00:00 DONE \n",
      "FECHA 2020-09-26 00:00:00 DONE \n",
      "FECHA 2020-09-27 00:00:00 DONE \n",
      "FECHA 2020-09-28 00:00:00 DONE \n",
      "FECHA 2020-09-29 00:00:00 DONE \n",
      "FECHA 2020-09-30 00:00:00 DONE \n",
      "15.217806343237559\n"
     ]
    }
   ],
   "source": [
    "# Selecionando fecha de interes\n",
    "#fechas = pd.date_range('02/04/2020','04/30/2020')\n",
    "\n",
    "# Generando tabla pings con ciudades\n",
    "start_time = time.time()\n",
    "for fecha in fechas:\n",
    "    year = fecha.year\n",
    "    mes = fecha.month\n",
    "    dia = fecha.day\n",
    "    codigo_year = str(year)\n",
    "    codigo_mes = '0'+str(mes) if mes<10 else str(mes)\n",
    "    codigo_dia = '0'+str(dia) if dia<10 else str(dia)\n",
    "    codigo_fecha = codigo_year + codigo_mes + codigo_dia\n",
    "\n",
    "    # Asignando ciudades a tabla pings por dia\n",
    "    #===========================================\n",
    "    tabla_pings_citiesh_dia = f'pings_citiesh_{pais}_{codigo_fecha}'\n",
    "    tabla_pings_citiesp_dia = f'pings_citiesp_{pais}_{codigo_fecha}'\n",
    "    query = f'''\n",
    "                CREATE TABLE {tabla_pings_citiesp_dia} AS\n",
    "                SELECT utc_timestamp,\n",
    "                    caid,\n",
    "                    id_type,\n",
    "                    hour_of_day,\n",
    "                    day,\n",
    "                    month,\n",
    "                    year,\n",
    "                    iso_country_code,\n",
    "                    {id_city} as id_cityp\n",
    "                FROM {tabla_pings_citiesh_dia}\n",
    "                CROSS JOIN {pais}_cities\n",
    "                WHERE ST_CONTAINS (ST_GeomFromLegacyBinary({pais}_cities.boundary), ST_POINT({tabla_pings_citiesh_dia}.longitude, {tabla_pings_citiesh_dia}.latitude))\n",
    "    '''\n",
    "    cursor.execute(query)\n",
    "    \n",
    "    print(f\"FECHA {fecha} DONE \")\n",
    "\n",
    "print((time.time()-start_time)/60)         "
   ]
  },
  {
   "cell_type": "markdown",
   "metadata": {},
   "source": [
    "#### Generar tablas matriz origen-destino"
   ]
  },
  {
   "cell_type": "code",
   "execution_count": null,
   "metadata": {},
   "outputs": [
    {
     "name": "stdout",
     "output_type": "stream",
     "text": [
      "FECHA 2020-09-01 00:00:00 DONE \n",
      "FECHA 2020-09-02 00:00:00 DONE \n",
      "FECHA 2020-09-03 00:00:00 DONE \n",
      "FECHA 2020-09-04 00:00:00 DONE \n",
      "FECHA 2020-09-05 00:00:00 DONE \n",
      "FECHA 2020-09-06 00:00:00 DONE \n",
      "FECHA 2020-09-07 00:00:00 DONE \n",
      "FECHA 2020-09-08 00:00:00 DONE \n",
      "FECHA 2020-09-09 00:00:00 DONE \n",
      "FECHA 2020-09-10 00:00:00 DONE \n",
      "FECHA 2020-09-11 00:00:00 DONE \n",
      "FECHA 2020-09-12 00:00:00 DONE \n",
      "FECHA 2020-09-13 00:00:00 DONE \n",
      "FECHA 2020-09-14 00:00:00 DONE \n",
      "FECHA 2020-09-15 00:00:00 DONE \n",
      "FECHA 2020-09-16 00:00:00 DONE \n",
      "FECHA 2020-09-17 00:00:00 DONE \n",
      "FECHA 2020-09-18 00:00:00 DONE \n",
      "FECHA 2020-09-19 00:00:00 DONE \n",
      "FECHA 2020-09-20 00:00:00 DONE \n",
      "FECHA 2020-09-21 00:00:00 DONE \n",
      "FECHA 2020-09-22 00:00:00 DONE \n",
      "FECHA 2020-09-23 00:00:00 DONE \n",
      "FECHA 2020-09-24 00:00:00 DONE \n",
      "FECHA 2020-09-25 00:00:00 DONE \n",
      "FECHA 2020-09-26 00:00:00 DONE \n",
      "FECHA 2020-09-27 00:00:00 DONE \n",
      "FECHA 2020-09-28 00:00:00 DONE \n",
      "FECHA 2020-09-29 00:00:00 DONE \n",
      "FECHA 2020-09-30 00:00:00 DONE \n",
      "4.227080512046814\n"
     ]
    }
   ],
   "source": [
    "# Selecionando fecha de interes\n",
    "#fechas = pd.date_range('02/01/2020','04/30/2020')\n",
    "\n",
    "# Generando matriz origen-destino por dia\n",
    "start_time = time.time()\n",
    "for fecha in fechas:\n",
    "    year = fecha.year\n",
    "    mes = fecha.month\n",
    "    dia = fecha.day\n",
    "    codigo_year = str(year)\n",
    "    codigo_mes = '0'+str(mes) if mes<10 else str(mes)\n",
    "    codigo_dia = '0'+str(dia) if dia<10 else str(dia)\n",
    "    codigo_fecha = codigo_year + codigo_mes + codigo_dia\n",
    "    \n",
    "    \n",
    "    # Generando matriz origen-destino por dia\n",
    "    #===========================================\n",
    "    tabla_usuarios_cities_dia = f'usuarios_cities_{pais}_{codigo_fecha}'\n",
    "    tabla_pings_citiesp_dia = f'pings_citiesp_{pais}_{codigo_fecha}'\n",
    "    \n",
    "    tabla_matrizOD_cities_dia = f'matriz_od_cities_{pais}_{codigo_fecha}'\n",
    "    query_matriz_OD = f'''CREATE TABLE {tabla_matrizOD_cities_dia} AS\n",
    "                          SELECT year, \n",
    "                                month, \n",
    "                                day, \n",
    "                                id_city, \n",
    "                                id_cityh, \n",
    "                                COUNT(*) AS n\n",
    "                            FROM (SELECT year, \n",
    "                                        month, \n",
    "                                        day, \n",
    "                                        LHS.caid AS caid, \n",
    "                                        id_city, \n",
    "                                        id_cityh, \n",
    "                                        n\n",
    "                                    FROM (SELECT year, \n",
    "                                                month, \n",
    "                                                day, \n",
    "                                                caid, \n",
    "                                                id_city, \n",
    "                                                n\n",
    "                                            FROM (SELECT year, \n",
    "                                                        month, \n",
    "                                                        day, \n",
    "                                                        caid, \n",
    "                                                        id_city, \n",
    "                                                        n, \n",
    "                                                        MAX(n) \n",
    "                                                        OVER (PARTITION BY year, \n",
    "                                                                        month, \n",
    "                                                                        day, \n",
    "                                                                        caid) AS q01\n",
    "                                                FROM (SELECT year, \n",
    "                                                            month, \n",
    "                                                            day, \n",
    "                                                            caid, \n",
    "                                                            id_cityp as id_city, \n",
    "                                                            COUNT(*) AS n\n",
    "                                                        FROM {tabla_pings_citiesp_dia}\n",
    "                                                        GROUP BY year, \n",
    "                                                                month, \n",
    "                                                                day, \n",
    "                                                                caid, \n",
    "                                                                id_cityp)\n",
    "                                                  )\n",
    "                                            WHERE (n = q01)) AS LHS\n",
    "                                            LEFT JOIN (SELECT caid, \n",
    "                                                            id_city as id_cityh \n",
    "                                                        FROM {tabla_usuarios_cities_dia}) AS RHS\n",
    "                                            ON (LHS.caid = RHS.caid)\n",
    "                                  )\n",
    "                        GROUP BY year, \n",
    "                                month, \n",
    "                                day, \n",
    "                                id_city, \n",
    "                                id_cityh \n",
    "                        ORDER BY year ASC, \n",
    "                                month ASC, \n",
    "                                day ASC, \n",
    "                                n DESC\n",
    "    '''   \n",
    "    cursor.execute(query_matriz_OD)\n",
    "\n",
    "    print(f\"FECHA {fecha} DONE \")\n",
    "\n",
    "print((time.time()-start_time)/60) "
   ]
  },
  {
   "cell_type": "markdown",
   "metadata": {},
   "source": [
    "#### Eliminando tablas temporales"
   ]
  },
  {
   "cell_type": "code",
   "execution_count": null,
   "metadata": {},
   "outputs": [
    {
     "name": "stdout",
     "output_type": "stream",
     "text": [
      "3.8977738777796427\n"
     ]
    }
   ],
   "source": [
    "#fechas = pd.date_range('02/01/2020','04/30/2020')\n",
    "#pais = 'BR'\n",
    "\n",
    "# Eliminando tablas temporales\n",
    "start_time = time.time()\n",
    "try:\n",
    "    for fecha in fechas:\n",
    "        year = fecha.year\n",
    "        mes = fecha.month\n",
    "        dia = fecha.day\n",
    "        codigo_year = str(year)\n",
    "        codigo_mes = '0'+str(mes) if mes<10 else str(mes)\n",
    "        codigo_dia = '0'+str(dia) if dia<10 else str(dia)\n",
    "        codigo_fecha = codigo_year + codigo_mes + codigo_dia\n",
    "    \n",
    "        tabla_datos_pais = f'hogares_{pais}_{codigo_fecha}'\n",
    "        query = f\"DROP TABLE {tabla_datos_pais}\"\n",
    "        cursor.execute(query)\n",
    "\n",
    "        tabla_datos_pais = f'hogares_cities_{pais}_{codigo_fecha}'\n",
    "        query = f\"DROP TABLE {tabla_datos_pais}\"\n",
    "        cursor.execute(query)\n",
    "\n",
    "        tabla_datos_pais = f'usuarios_cities_{pais}_{codigo_fecha}'\n",
    "        query = f\"DROP TABLE {tabla_datos_pais}\"\n",
    "        cursor.execute(query)\n",
    "\n",
    "        tabla_datos_pais = f'pings_citiesh_{pais}_{codigo_fecha}'\n",
    "        query = f\"DROP TABLE {tabla_datos_pais}\"\n",
    "        cursor.execute(query)\n",
    "\n",
    "        tabla_datos_pais = f'pings_citiesp_{pais}_{codigo_fecha}'\n",
    "        query = f\"DROP TABLE {tabla_datos_pais}\"\n",
    "        cursor.execute(query)\n",
    "\n",
    "                \n",
    "except:\n",
    "\n",
    "    print(f\" Eliminado \")\n",
    "    \n",
    "print((time.time()-start_time)/60)     "
   ]
  },
  {
   "cell_type": "markdown",
   "metadata": {},
   "source": [
    "#fechas = pd.date_range('09/01/2020','09/30/2020')\n",
    "#pais = 'BR'\n",
    "start_time = time.time()\n",
    "try:\n",
    "    for fecha in fechas:\n",
    "        year = fecha.year\n",
    "        mes = fecha.month\n",
    "        dia = fecha.day\n",
    "        codigo_year = str(year)\n",
    "        codigo_mes = '0'+str(mes) if mes<10 else str(mes)\n",
    "        codigo_dia = '0'+str(dia) if dia<10 else str(dia)\n",
    "        codigo_fecha = codigo_year + codigo_mes + codigo_dia\n",
    "    \n",
    "        tabla_datos_pais = f'matriz_od_cities_{pais}_{codigo_fecha}'\n",
    "        query = f\"DROP TABLE {tabla_datos_pais}\"\n",
    "        cursor.execute(query)\n",
    "                \n",
    "except:\n",
    "\n",
    "    print(f\" Eliminado \")\n",
    "    \n",
    "print((time.time()-start_time)/60)     "
   ]
  }
 ],
 "metadata": {
  "kernelspec": {
   "display_name": "conda_python3",
   "language": "python",
   "name": "conda_python3"
  },
  "language_info": {
   "codemirror_mode": {
    "name": "ipython",
    "version": 3
   },
   "file_extension": ".py",
   "mimetype": "text/x-python",
   "name": "python",
   "nbconvert_exporter": "python",
   "pygments_lexer": "ipython3",
   "version": "3.6.13"
  }
 },
 "nbformat": 4,
 "nbformat_minor": 4
}
