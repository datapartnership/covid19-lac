{
 "cells": [
  {
   "cell_type": "markdown",
   "metadata": {},
   "source": [
    "### Preparar ambiente"
   ]
  },
  {
   "cell_type": "markdown",
   "metadata": {},
   "source": [
    "Primero descomentar las siguientes lineas e instalar PyAthena. Solo se hace la primera vez que se abre la instancia"
   ]
  },
  {
   "cell_type": "code",
   "execution_count": 1,
   "metadata": {},
   "outputs": [
    {
     "name": "stdout",
     "output_type": "stream",
     "text": [
      "Requirement already satisfied: PyAthena in /home/ec2-user/anaconda3/envs/python3/lib/python3.6/site-packages (2.3.0)\n",
      "Requirement already satisfied: tenacity>=4.1.0 in /home/ec2-user/anaconda3/envs/python3/lib/python3.6/site-packages (from PyAthena) (8.0.1)\n",
      "Requirement already satisfied: botocore>=1.5.52 in /home/ec2-user/anaconda3/envs/python3/lib/python3.6/site-packages (from PyAthena) (1.20.99)\n",
      "Requirement already satisfied: boto3>=1.4.4 in /home/ec2-user/anaconda3/envs/python3/lib/python3.6/site-packages (from PyAthena) (1.17.99)\n",
      "Requirement already satisfied: jmespath<1.0.0,>=0.7.1 in /home/ec2-user/anaconda3/envs/python3/lib/python3.6/site-packages (from boto3>=1.4.4->PyAthena) (0.10.0)\n",
      "Requirement already satisfied: s3transfer<0.5.0,>=0.4.0 in /home/ec2-user/anaconda3/envs/python3/lib/python3.6/site-packages (from boto3>=1.4.4->PyAthena) (0.4.2)\n",
      "Requirement already satisfied: python-dateutil<3.0.0,>=2.1 in /home/ec2-user/anaconda3/envs/python3/lib/python3.6/site-packages (from botocore>=1.5.52->PyAthena) (2.8.1)\n",
      "Requirement already satisfied: urllib3<1.27,>=1.25.4 in /home/ec2-user/anaconda3/envs/python3/lib/python3.6/site-packages (from botocore>=1.5.52->PyAthena) (1.26.5)\n",
      "Requirement already satisfied: six>=1.5 in /home/ec2-user/anaconda3/envs/python3/lib/python3.6/site-packages (from python-dateutil<3.0.0,>=2.1->botocore>=1.5.52->PyAthena) (1.15.0)\n",
      "\u001b[33mWARNING: You are using pip version 21.1.2; however, version 21.2.2 is available.\n",
      "You should consider upgrading via the '/home/ec2-user/anaconda3/envs/python3/bin/python -m pip install --upgrade pip' command.\u001b[0m\n"
     ]
    }
   ],
   "source": [
    "import sys\n",
    "!{sys.executable} -m pip install PyAthena"
   ]
  },
  {
   "cell_type": "code",
   "execution_count": 2,
   "metadata": {},
   "outputs": [
    {
     "name": "stdout",
     "output_type": "stream",
     "text": [
      "Requirement already satisfied: pytz in /home/ec2-user/anaconda3/envs/python3/lib/python3.6/site-packages (2021.1)\n",
      "\u001b[33mWARNING: You are using pip version 21.1.2; however, version 21.2.2 is available.\n",
      "You should consider upgrading via the '/home/ec2-user/anaconda3/envs/python3/bin/python -m pip install --upgrade pip' command.\u001b[0m\n"
     ]
    }
   ],
   "source": [
    "import sys\n",
    "!{sys.executable} -m pip install pytz"
   ]
  },
  {
   "cell_type": "markdown",
   "metadata": {},
   "source": [
    "#### Conectar con pyathena"
   ]
  },
  {
   "cell_type": "code",
   "execution_count": 3,
   "metadata": {},
   "outputs": [],
   "source": [
    "from pyathena.pandas.cursor import PandasCursor\n",
    "from pyathena import connect\n",
    "import pandas as pd\n",
    "import time\n",
    "# agregar directorio en el cual se almacenan las tablas que se van a consultar\n",
    "directorio = 's3://iadbprod-csd-hub-analyticaldata/graphdata-mobility-temporal/athena-results/'\n",
    "# base de datos\n",
    "bd = 'graphdata'\n",
    "cursor = connect(s3_staging_dir = directorio, region_name = 'us-east-1', schema_name = bd, cursor_class = PandasCursor).cursor()"
   ]
  },
  {
   "cell_type": "markdown",
   "metadata": {},
   "source": [
    "#### Crear tablas por pais"
   ]
  },
  {
   "cell_type": "code",
   "execution_count": 4,
   "metadata": {},
   "outputs": [
    {
     "data": {
      "text/plain": [
       "22"
      ]
     },
     "execution_count": 4,
     "metadata": {},
     "output_type": "execute_result"
    }
   ],
   "source": [
    "paises = ['BO','EC','CL','VE','AR','CR','DO','SV','GT','HN','NI','PA','PY','PE','UY','BZ','GY','JM','TT','CO','MX','BR']\n",
    "len(paises)"
   ]
  },
  {
   "cell_type": "code",
   "execution_count": 5,
   "metadata": {},
   "outputs": [],
   "source": [
    "pais = 'BR'"
   ]
  },
  {
   "cell_type": "code",
   "execution_count": 6,
   "metadata": {},
   "outputs": [],
   "source": [
    "niv_adm = '4'"
   ]
  },
  {
   "cell_type": "markdown",
   "metadata": {},
   "source": [
    "# Union de tablas usuarios"
   ]
  },
  {
   "cell_type": "code",
   "execution_count": 7,
   "metadata": {},
   "outputs": [],
   "source": [
    "# Selecionando fecha de interes\n",
    "fechas = pd.date_range('09/01/2020','09/30/2020')"
   ]
  },
  {
   "cell_type": "code",
   "execution_count": 8,
   "metadata": {},
   "outputs": [
    {
     "name": "stdout",
     "output_type": "stream",
     "text": [
      "20200901 insertada, 0 minutos\n",
      "20200902 insertada, 0 minutos\n",
      "20200903 insertada, 0 minutos\n",
      "20200904 insertada, 0 minutos\n",
      "20200905 insertada, 0 minutos\n",
      "20200906 insertada, 0 minutos\n",
      "20200907 insertada, 0 minutos\n",
      "20200908 insertada, 0 minutos\n",
      "20200909 insertada, 0 minutos\n",
      "20200910 insertada, 0 minutos\n",
      "20200911 insertada, 0 minutos\n",
      "20200912 insertada, 0 minutos\n",
      "20200913 insertada, 0 minutos\n",
      "20200914 insertada, 0 minutos\n",
      "20200915 insertada, 0 minutos\n",
      "20200916 insertada, 0 minutos\n",
      "20200917 insertada, 0 minutos\n",
      "20200918 insertada, 0 minutos\n",
      "20200919 insertada, 0 minutos\n",
      "20200920 insertada, 0 minutos\n",
      "20200921 insertada, 0 minutos\n",
      "20200922 insertada, 0 minutos\n",
      "20200923 insertada, 0 minutos\n",
      "20200924 insertada, 0 minutos\n",
      "20200925 insertada, 0 minutos\n",
      "20200926 insertada, 0 minutos\n",
      "20200927 insertada, 0 minutos\n",
      "20200928 insertada, 0 minutos\n",
      "20200929 insertada, 0 minutos\n",
      "20200930 insertada, 0 minutos\n",
      "1.670025392373403\n"
     ]
    }
   ],
   "source": [
    "# Generando matriz origen-destino historica\n",
    "tabla_matrizOD_adms_historica = f'historico_mod_adm{niv_adm}_{pais}'\n",
    "start_time = time.time()\n",
    "for i,fecha in enumerate(fechas):\n",
    "    time_fecha = time.time()\n",
    "    year = fecha.year\n",
    "    mes = fecha.month\n",
    "    dia = fecha.day\n",
    "    codigo_year = str(year)\n",
    "    codigo_mes = '0'+str(mes) if mes<10 else str(mes)\n",
    "    codigo_dia = '0'+str(dia) if dia<10 else str(dia)\n",
    "    codigo_fecha = codigo_year + codigo_mes + codigo_dia\n",
    "    \n",
    "    # Generando matriz origen-destino historica\n",
    "    #===========================================\n",
    "    tabla_matrizOD_adms_dia = f'matriz_od_adm{niv_adm}_{pais}_{codigo_fecha}'\n",
    "    if i == 0 and (codigo_dia == '01' and codigo_mes == '02'):\n",
    "        query = f'''\n",
    "                    CREATE TABLE {tabla_matrizOD_adms_historica} AS\n",
    "                    SELECT *\n",
    "                    FROM {tabla_matrizOD_adms_dia}\n",
    "                '''\n",
    "    else:\n",
    "        query = f'''\n",
    "                    INSERT INTO {tabla_matrizOD_adms_historica} \n",
    "                    SELECT * \n",
    "                    FROM {tabla_matrizOD_adms_dia} \n",
    "                '''\n",
    "    cursor.execute(query)\n",
    "    tiempo = (time.time()-time_fecha)/60\n",
    "    print(f\"{codigo_fecha} insertada, {int(tiempo)} minutos\")\n",
    "print((time.time()-start_time)/60)    "
   ]
  },
  {
   "cell_type": "code",
   "execution_count": 9,
   "metadata": {},
   "outputs": [
    {
     "data": {
      "text/plain": [
       "<pyathena.pandas.cursor.PandasCursor at 0x7f98e9e645c0>"
      ]
     },
     "execution_count": 9,
     "metadata": {},
     "output_type": "execute_result"
    }
   ],
   "source": [
    "query = f'''MSCK REPAIR TABLE {tabla_matrizOD_adms_historica}'''\n",
    "cursor.execute(query)"
   ]
  }
 ],
 "metadata": {
  "kernelspec": {
   "display_name": "conda_python3",
   "language": "python",
   "name": "conda_python3"
  },
  "language_info": {
   "codemirror_mode": {
    "name": "ipython",
    "version": 3
   },
   "file_extension": ".py",
   "mimetype": "text/x-python",
   "name": "python",
   "nbconvert_exporter": "python",
   "pygments_lexer": "ipython3",
   "version": "3.6.13"
  }
 },
 "nbformat": 4,
 "nbformat_minor": 4
}
