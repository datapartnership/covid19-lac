{
 "cells": [
  {
   "cell_type": "markdown",
   "metadata": {},
   "source": [
    "### Preparar ambiente"
   ]
  },
  {
   "cell_type": "code",
   "execution_count": 1,
   "metadata": {},
   "outputs": [
    {
     "name": "stdout",
     "output_type": "stream",
     "text": [
      "/home/ec2-user/anaconda3/envs/python3/lib/python3.6/enum.py\n"
     ]
    }
   ],
   "source": [
    "import enum\n",
    "print(enum.__file__)  \n",
    "# standard library location should be something like \n",
    "# /usr/local/lib/python3.6/enum.py"
   ]
  },
  {
   "cell_type": "code",
   "execution_count": 2,
   "metadata": {},
   "outputs": [
    {
     "name": "stdout",
     "output_type": "stream",
     "text": [
      "\u001b[33mWARNING: Skipping enum34 as it is not installed.\u001b[0m\r\n"
     ]
    }
   ],
   "source": [
    "import sys\n",
    "!{sys.executable} -m pip uninstall -y enum34"
   ]
  },
  {
   "cell_type": "code",
   "execution_count": 3,
   "metadata": {},
   "outputs": [
    {
     "name": "stdout",
     "output_type": "stream",
     "text": [
      "Requirement already satisfied: awswrangler in /home/ec2-user/anaconda3/envs/python3/lib/python3.6/site-packages (2.10.0)\n",
      "Requirement already satisfied: openpyxl~=3.0.0 in /home/ec2-user/anaconda3/envs/python3/lib/python3.6/site-packages (from awswrangler) (3.0.6)\n",
      "Requirement already satisfied: redshift-connector~=2.0.882 in /home/ec2-user/anaconda3/envs/python3/lib/python3.6/site-packages (from awswrangler) (2.0.883)\n",
      "Requirement already satisfied: pymysql<1.1.0,>=0.9.0 in /home/ec2-user/anaconda3/envs/python3/lib/python3.6/site-packages (from awswrangler) (1.0.2)\n",
      "Requirement already satisfied: numpy<2.1.0,>=1.18.0 in /home/ec2-user/anaconda3/envs/python3/lib/python3.6/site-packages (from awswrangler) (1.19.5)\n",
      "Requirement already satisfied: pandas<2.1.0,>=1.1.0 in /home/ec2-user/anaconda3/envs/python3/lib/python3.6/site-packages (from awswrangler) (1.1.5)\n",
      "Requirement already satisfied: pg8000<1.21.0,>=1.16.0 in /home/ec2-user/anaconda3/envs/python3/lib/python3.6/site-packages (from awswrangler) (1.20.0)\n",
      "Requirement already satisfied: pyarrow<4.1.0,>=2.0.0 in /home/ec2-user/anaconda3/envs/python3/lib/python3.6/site-packages (from awswrangler) (4.0.1)\n",
      "Requirement already satisfied: botocore<2.1.0,>=1.19.8 in /home/ec2-user/anaconda3/envs/python3/lib/python3.6/site-packages (from awswrangler) (1.20.99)\n",
      "Requirement already satisfied: boto3<2.1.0,>=1.16.8 in /home/ec2-user/anaconda3/envs/python3/lib/python3.6/site-packages (from awswrangler) (1.17.99)\n",
      "Requirement already satisfied: s3transfer<0.5.0,>=0.4.0 in /home/ec2-user/anaconda3/envs/python3/lib/python3.6/site-packages (from boto3<2.1.0,>=1.16.8->awswrangler) (0.4.2)\n",
      "Requirement already satisfied: jmespath<1.0.0,>=0.7.1 in /home/ec2-user/anaconda3/envs/python3/lib/python3.6/site-packages (from boto3<2.1.0,>=1.16.8->awswrangler) (0.10.0)\n",
      "Requirement already satisfied: urllib3<1.27,>=1.25.4 in /home/ec2-user/anaconda3/envs/python3/lib/python3.6/site-packages (from botocore<2.1.0,>=1.19.8->awswrangler) (1.26.5)\n",
      "Requirement already satisfied: python-dateutil<3.0.0,>=2.1 in /home/ec2-user/anaconda3/envs/python3/lib/python3.6/site-packages (from botocore<2.1.0,>=1.19.8->awswrangler) (2.8.1)\n",
      "Requirement already satisfied: jdcal in /home/ec2-user/anaconda3/envs/python3/lib/python3.6/site-packages (from openpyxl~=3.0.0->awswrangler) (1.4.1)\n",
      "Requirement already satisfied: et-xmlfile in /home/ec2-user/anaconda3/envs/python3/lib/python3.6/site-packages (from openpyxl~=3.0.0->awswrangler) (1.0.1)\n",
      "Requirement already satisfied: pytz>=2017.2 in /home/ec2-user/anaconda3/envs/python3/lib/python3.6/site-packages (from pandas<2.1.0,>=1.1.0->awswrangler) (2021.1)\n",
      "Requirement already satisfied: scramp>=1.4.0 in /home/ec2-user/anaconda3/envs/python3/lib/python3.6/site-packages (from pg8000<1.21.0,>=1.16.0->awswrangler) (1.4.0)\n",
      "Requirement already satisfied: six>=1.5 in /home/ec2-user/anaconda3/envs/python3/lib/python3.6/site-packages (from python-dateutil<3.0.0,>=2.1->botocore<2.1.0,>=1.19.8->awswrangler) (1.15.0)\n",
      "Requirement already satisfied: requests<2.25.2,>=2.23.0 in /home/ec2-user/anaconda3/envs/python3/lib/python3.6/site-packages (from redshift-connector~=2.0.882->awswrangler) (2.25.1)\n",
      "Requirement already satisfied: beautifulsoup4<5.0.0,>=4.7.0 in /home/ec2-user/anaconda3/envs/python3/lib/python3.6/site-packages (from redshift-connector~=2.0.882->awswrangler) (4.9.3)\n",
      "Requirement already satisfied: lxml>=4.6.2 in /home/ec2-user/anaconda3/envs/python3/lib/python3.6/site-packages (from redshift-connector~=2.0.882->awswrangler) (4.6.3)\n",
      "Requirement already satisfied: soupsieve>1.2 in /home/ec2-user/anaconda3/envs/python3/lib/python3.6/site-packages (from beautifulsoup4<5.0.0,>=4.7.0->redshift-connector~=2.0.882->awswrangler) (2.0.1)\n",
      "Requirement already satisfied: chardet<5,>=3.0.2 in /home/ec2-user/anaconda3/envs/python3/lib/python3.6/site-packages (from requests<2.25.2,>=2.23.0->redshift-connector~=2.0.882->awswrangler) (3.0.4)\n",
      "Requirement already satisfied: certifi>=2017.4.17 in /home/ec2-user/anaconda3/envs/python3/lib/python3.6/site-packages (from requests<2.25.2,>=2.23.0->redshift-connector~=2.0.882->awswrangler) (2021.5.30)\n",
      "Requirement already satisfied: idna<3,>=2.5 in /home/ec2-user/anaconda3/envs/python3/lib/python3.6/site-packages (from requests<2.25.2,>=2.23.0->redshift-connector~=2.0.882->awswrangler) (2.10)\n",
      "Requirement already satisfied: asn1crypto==1.4.0 in /home/ec2-user/anaconda3/envs/python3/lib/python3.6/site-packages (from scramp>=1.4.0->pg8000<1.21.0,>=1.16.0->awswrangler) (1.4.0)\n",
      "\u001b[33mWARNING: You are using pip version 21.1.2; however, version 21.1.3 is available.\n",
      "You should consider upgrading via the '/home/ec2-user/anaconda3/envs/python3/bin/python -m pip install --upgrade pip' command.\u001b[0m\n"
     ]
    }
   ],
   "source": [
    "!{sys.executable} -m pip install awswrangler"
   ]
  },
  {
   "cell_type": "code",
   "execution_count": 4,
   "metadata": {
    "scrolled": true
   },
   "outputs": [
    {
     "name": "stdout",
     "output_type": "stream",
     "text": [
      "Requirement already satisfied: PyAthena in /home/ec2-user/anaconda3/envs/python3/lib/python3.6/site-packages (2.3.0)\n",
      "Requirement already satisfied: tenacity>=4.1.0 in /home/ec2-user/anaconda3/envs/python3/lib/python3.6/site-packages (from PyAthena) (8.0.1)\n",
      "Requirement already satisfied: botocore>=1.5.52 in /home/ec2-user/anaconda3/envs/python3/lib/python3.6/site-packages (from PyAthena) (1.20.99)\n",
      "Requirement already satisfied: boto3>=1.4.4 in /home/ec2-user/anaconda3/envs/python3/lib/python3.6/site-packages (from PyAthena) (1.17.99)\n",
      "Requirement already satisfied: jmespath<1.0.0,>=0.7.1 in /home/ec2-user/anaconda3/envs/python3/lib/python3.6/site-packages (from boto3>=1.4.4->PyAthena) (0.10.0)\n",
      "Requirement already satisfied: s3transfer<0.5.0,>=0.4.0 in /home/ec2-user/anaconda3/envs/python3/lib/python3.6/site-packages (from boto3>=1.4.4->PyAthena) (0.4.2)\n",
      "Requirement already satisfied: python-dateutil<3.0.0,>=2.1 in /home/ec2-user/anaconda3/envs/python3/lib/python3.6/site-packages (from botocore>=1.5.52->PyAthena) (2.8.1)\n",
      "Requirement already satisfied: urllib3<1.27,>=1.25.4 in /home/ec2-user/anaconda3/envs/python3/lib/python3.6/site-packages (from botocore>=1.5.52->PyAthena) (1.26.5)\n",
      "Requirement already satisfied: six>=1.5 in /home/ec2-user/anaconda3/envs/python3/lib/python3.6/site-packages (from python-dateutil<3.0.0,>=2.1->botocore>=1.5.52->PyAthena) (1.15.0)\n",
      "\u001b[33mWARNING: You are using pip version 21.1.2; however, version 21.1.3 is available.\n",
      "You should consider upgrading via the '/home/ec2-user/anaconda3/envs/python3/bin/python -m pip install --upgrade pip' command.\u001b[0m\n"
     ]
    }
   ],
   "source": [
    "!{sys.executable} -m pip install PyAthena"
   ]
  },
  {
   "cell_type": "markdown",
   "metadata": {},
   "source": [
    "### Conectar con pyathena"
   ]
  },
  {
   "cell_type": "code",
   "execution_count": 5,
   "metadata": {},
   "outputs": [],
   "source": [
    "from pyathena.pandas.cursor import PandasCursor\n",
    "from pyathena import connect\n",
    "import pandas as pd\n",
    "import time\n",
    "# agregar directorio en el cual se almacenan las tablas que se van a consultar\n",
    "directorio = 's3://iadbprod-csd-hub-analyticaldata/graphdata-mobility-temporal/athena-results/'\n",
    "# base de datos\n",
    "bd = 'graphdata' # Database in Glue\n",
    "cursor = connect(s3_staging_dir = directorio, region_name = 'us-east-1', schema_name = bd, cursor_class = PandasCursor).cursor()"
   ]
  },
  {
   "cell_type": "code",
   "execution_count": 6,
   "metadata": {},
   "outputs": [],
   "source": [
    "import pandas as pd\n",
    "import awswrangler as wr\n",
    "import numpy as np\n",
    "import calendar\n",
    "import boto3\n",
    "s3 = boto3.resource('s3')"
   ]
  },
  {
   "cell_type": "code",
   "execution_count": 7,
   "metadata": {},
   "outputs": [],
   "source": [
    "import os\n",
    "import pandas as pd\n",
    "import zipfile\n",
    "import shutil\n",
    "from io import StringIO\n",
    "import io"
   ]
  },
  {
   "cell_type": "markdown",
   "metadata": {},
   "source": [
    "### Declaración funciones para Impo-Expo s3"
   ]
  },
  {
   "cell_type": "code",
   "execution_count": 8,
   "metadata": {},
   "outputs": [],
   "source": [
    "def write_dataframe_to_csv_on_s3(dataframe, bucket, filename):\n",
    "    \"\"\" Write a dataframe to a CSV on S3 \"\"\"\n",
    "    # Create buffer\n",
    "    csv_buffer = StringIO()\n",
    "    # Write dataframe to buffer\n",
    "    dataframe.to_csv(csv_buffer, sep=\";\" , line_terminator='\\n')\n",
    "    # Create S3 object\n",
    "    s3_resource = boto3.resource(\"s3\")\n",
    "    # Write buffer to S3 object\n",
    "    s3_resource.Object(bucket, filename).put(Body=csv_buffer.getvalue())\n",
    "    print(\"Writing {} records to {}\".format(len(dataframe), filename))\n",
    "    print(\"S3\")\n",
    "    print(dataframe.shape)\n",
    "    "
   ]
  },
  {
   "cell_type": "code",
   "execution_count": 9,
   "metadata": {},
   "outputs": [],
   "source": [
    "def write_dataframe_to_excel_on_s3(dataframe, bucket, filename):\n",
    "    \"\"\" Write a dataframe to a excel on S3 \"\"\"\n",
    "    with io.BytesIO() as output:\n",
    "        with pd.ExcelWriter(output, engine='xlsxwriter') as writer:\n",
    "            dataframe.to_excel(writer,index=False)\n",
    "        data = output.getvalue()\n",
    "\n",
    "    s3 = boto3.resource('s3')\n",
    "    s3.Bucket(bucket).put_object(Key=filename, Body=data)\n",
    "    "
   ]
  },
  {
   "cell_type": "code",
   "execution_count": 10,
   "metadata": {},
   "outputs": [],
   "source": [
    "def import_dataframe_csv_from_s3(bucket, filename):\n",
    "    client = boto3.client('s3')\n",
    "    bucket_name = bucket\n",
    "    object_key = filename\n",
    "    csv_obj = client.get_object(Bucket=bucket_name, Key=object_key)\n",
    "    body = csv_obj['Body']\n",
    "    csv_string = body.read().decode('utf-8')\n",
    "    df = pd.read_csv(StringIO(csv_string),sep=\";\")\n",
    "    return df"
   ]
  },
  {
   "cell_type": "code",
   "execution_count": 11,
   "metadata": {},
   "outputs": [],
   "source": [
    "def import_dataframe_excel_from_s3(bucket, filename):\n",
    "    client = boto3.client('s3')\n",
    "    bucket_name = bucket\n",
    "    object_key = filename\n",
    "    obj = client.get_object(Bucket=bucket_name, Key=object_key)\n",
    "    data = obj['Body'].read()\n",
    "    df = pd.read_excel(io.BytesIO(data), encoding='utf-8')\n",
    "    return df"
   ]
  },
  {
   "cell_type": "code",
   "execution_count": 12,
   "metadata": {},
   "outputs": [],
   "source": [
    "def write_file_to_s3(bucket,file_local,file_s3):\n",
    "    s3.Bucket(bucket).upload_file(file_local,file_s3)"
   ]
  },
  {
   "cell_type": "markdown",
   "metadata": {},
   "source": [
    "### Crea y guarda tabla final"
   ]
  },
  {
   "cell_type": "code",
   "execution_count": 13,
   "metadata": {},
   "outputs": [],
   "source": [
    "pais = 'LATAM'"
   ]
  },
  {
   "cell_type": "code",
   "execution_count": 14,
   "metadata": {},
   "outputs": [],
   "source": [
    "### Declarando periodo\n",
    "fecha_inicio = '02-01-2020'\n",
    "fecha_final = '04-30-2020'\n",
    "fechas = pd.date_range(fecha_inicio, fecha_final)"
   ]
  },
  {
   "cell_type": "code",
   "execution_count": 15,
   "metadata": {},
   "outputs": [],
   "source": [
    "### Declarando segundo periodo - Caso discontinuo o actualizacion\n",
    "fecha_inicio = '09-01-2020'\n",
    "fecha_final = '09-30-2020'\n",
    "fechas2 = pd.date_range(fecha_inicio, fecha_final)"
   ]
  },
  {
   "cell_type": "markdown",
   "metadata": {},
   "source": [
    "#### Datos con filtro tenue - 10p"
   ]
  },
  {
   "cell_type": "markdown",
   "metadata": {},
   "source": [
    "##### Tabla cities - Periodo de analisis"
   ]
  },
  {
   "cell_type": "code",
   "execution_count": 16,
   "metadata": {},
   "outputs": [
    {
     "name": "stdout",
     "output_type": "stream",
     "text": [
      "2.6938851435979205\n"
     ]
    },
    {
     "data": {
      "text/html": [
       "<div>\n",
       "<style scoped>\n",
       "    .dataframe tbody tr th:only-of-type {\n",
       "        vertical-align: middle;\n",
       "    }\n",
       "\n",
       "    .dataframe tbody tr th {\n",
       "        vertical-align: top;\n",
       "    }\n",
       "\n",
       "    .dataframe thead th {\n",
       "        text-align: right;\n",
       "    }\n",
       "</style>\n",
       "<table border=\"1\" class=\"dataframe\">\n",
       "  <thead>\n",
       "    <tr style=\"text-align: right;\">\n",
       "      <th></th>\n",
       "      <th>Mes</th>\n",
       "      <th>Dia</th>\n",
       "      <th>id_city</th>\n",
       "      <th>name_city</th>\n",
       "      <th>country_city</th>\n",
       "      <th>MasDe1km</th>\n",
       "      <th>n_users</th>\n",
       "      <th>%MasDe1km</th>\n",
       "      <th>Mediana1KM</th>\n",
       "      <th>key4</th>\n",
       "    </tr>\n",
       "  </thead>\n",
       "  <tbody>\n",
       "    <tr>\n",
       "      <th>0</th>\n",
       "      <td>2</td>\n",
       "      <td>1</td>\n",
       "      <td>19</td>\n",
       "      <td>Rosarito</td>\n",
       "      <td>Mexico</td>\n",
       "      <td>803</td>\n",
       "      <td>1119</td>\n",
       "      <td>71.760500</td>\n",
       "      <td>27.928633</td>\n",
       "      <td>201</td>\n",
       "    </tr>\n",
       "    <tr>\n",
       "      <th>1</th>\n",
       "      <td>2</td>\n",
       "      <td>1</td>\n",
       "      <td>20</td>\n",
       "      <td>Ensenada</td>\n",
       "      <td>Mexico</td>\n",
       "      <td>3232</td>\n",
       "      <td>5495</td>\n",
       "      <td>58.817106</td>\n",
       "      <td>22.095301</td>\n",
       "      <td>201</td>\n",
       "    </tr>\n",
       "    <tr>\n",
       "      <th>2</th>\n",
       "      <td>2</td>\n",
       "      <td>1</td>\n",
       "      <td>23</td>\n",
       "      <td>Las Delicias</td>\n",
       "      <td>Mexico</td>\n",
       "      <td>578</td>\n",
       "      <td>1481</td>\n",
       "      <td>39.027684</td>\n",
       "      <td>19.251624</td>\n",
       "      <td>201</td>\n",
       "    </tr>\n",
       "    <tr>\n",
       "      <th>3</th>\n",
       "      <td>2</td>\n",
       "      <td>1</td>\n",
       "      <td>31</td>\n",
       "      <td>Tecate</td>\n",
       "      <td>Mexico</td>\n",
       "      <td>662</td>\n",
       "      <td>1242</td>\n",
       "      <td>53.301127</td>\n",
       "      <td>13.310151</td>\n",
       "      <td>201</td>\n",
       "    </tr>\n",
       "    <tr>\n",
       "      <th>4</th>\n",
       "      <td>2</td>\n",
       "      <td>1</td>\n",
       "      <td>43</td>\n",
       "      <td>Cabo San Lucas</td>\n",
       "      <td>Mexico</td>\n",
       "      <td>1540</td>\n",
       "      <td>2630</td>\n",
       "      <td>58.555133</td>\n",
       "      <td>18.524697</td>\n",
       "      <td>201</td>\n",
       "    </tr>\n",
       "  </tbody>\n",
       "</table>\n",
       "</div>"
      ],
      "text/plain": [
       "   Mes  Dia  id_city       name_city country_city  MasDe1km  n_users  \\\n",
       "0    2    1       19        Rosarito       Mexico       803     1119   \n",
       "1    2    1       20        Ensenada       Mexico      3232     5495   \n",
       "2    2    1       23    Las Delicias       Mexico       578     1481   \n",
       "3    2    1       31          Tecate       Mexico       662     1242   \n",
       "4    2    1       43  Cabo San Lucas       Mexico      1540     2630   \n",
       "\n",
       "   %MasDe1km  Mediana1KM  key4  \n",
       "0  71.760500   27.928633   201  \n",
       "1  58.817106   22.095301   201  \n",
       "2  39.027684   19.251624   201  \n",
       "3  53.301127   13.310151   201  \n",
       "4  58.555133   18.524697   201  "
      ]
     },
     "execution_count": 16,
     "metadata": {},
     "output_type": "execute_result"
    }
   ],
   "source": [
    "### Generando tabla\n",
    "df_final = []\n",
    "start_time = time.time()\n",
    "for i,fecha in enumerate(fechas):\n",
    "    time_fecha = time.time()\n",
    "    day = str(fecha.day)\n",
    "    if len(day) == 1:\n",
    "        day = f'0{day}'\n",
    "    codigo_fecha = str(fecha.month) + day\n",
    "    #print(codigo_fecha)\n",
    "    tabla_usuarios_fecha = f'historico_cities_{pais}_{codigo_fecha}'\n",
    "    query = f'''SELECT * FROM {tabla_usuarios_fecha}'''\n",
    "    #print(f\"{codigo_fecha}\")\n",
    "    df = cursor.execute(query).as_pandas()\n",
    "    if (codigo_fecha=='201'):\n",
    "        df_final=df\n",
    "    else:\n",
    "        df_final=df_final.append(df)\n",
    "df_final=df_final.rename(columns={'mas_de1km':'MasDe1km','_mas_de1km':'%MasDe1km','mediana1_km':'Mediana1KM','mes':'Mes','dia':'Dia'})\n",
    "df_final_4 = df_final\n",
    "tiempo = (time.time()-time_fecha)/60\n",
    "print((time.time()-start_time)/60)\n",
    "\n",
    "\n",
    "###revisar columnas de informacion\n",
    "df_final_4.head()"
   ]
  },
  {
   "cell_type": "code",
   "execution_count": 17,
   "metadata": {},
   "outputs": [
    {
     "data": {
      "text/plain": [
       "(89822, 10)"
      ]
     },
     "execution_count": 17,
     "metadata": {},
     "output_type": "execute_result"
    }
   ],
   "source": [
    "df_final_4.shape"
   ]
  },
  {
   "cell_type": "markdown",
   "metadata": {},
   "source": [
    "##### Tabla cities - Segundo periodo de analisis - Activar si el periodo es discontinuo"
   ]
  },
  {
   "cell_type": "code",
   "execution_count": 18,
   "metadata": {},
   "outputs": [
    {
     "name": "stdout",
     "output_type": "stream",
     "text": [
      "0.8562481681505839\n"
     ]
    },
    {
     "data": {
      "text/html": [
       "<div>\n",
       "<style scoped>\n",
       "    .dataframe tbody tr th:only-of-type {\n",
       "        vertical-align: middle;\n",
       "    }\n",
       "\n",
       "    .dataframe tbody tr th {\n",
       "        vertical-align: top;\n",
       "    }\n",
       "\n",
       "    .dataframe thead th {\n",
       "        text-align: right;\n",
       "    }\n",
       "</style>\n",
       "<table border=\"1\" class=\"dataframe\">\n",
       "  <thead>\n",
       "    <tr style=\"text-align: right;\">\n",
       "      <th></th>\n",
       "      <th>Mes</th>\n",
       "      <th>Dia</th>\n",
       "      <th>id_city</th>\n",
       "      <th>name_city</th>\n",
       "      <th>country_city</th>\n",
       "      <th>MasDe1km</th>\n",
       "      <th>n_users</th>\n",
       "      <th>%MasDe1km</th>\n",
       "      <th>Mediana1KM</th>\n",
       "      <th>key4</th>\n",
       "    </tr>\n",
       "  </thead>\n",
       "  <tbody>\n",
       "    <tr>\n",
       "      <th>0</th>\n",
       "      <td>2</td>\n",
       "      <td>1</td>\n",
       "      <td>19</td>\n",
       "      <td>Rosarito</td>\n",
       "      <td>Mexico</td>\n",
       "      <td>803</td>\n",
       "      <td>1119</td>\n",
       "      <td>71.760500</td>\n",
       "      <td>27.928633</td>\n",
       "      <td>201</td>\n",
       "    </tr>\n",
       "    <tr>\n",
       "      <th>1</th>\n",
       "      <td>2</td>\n",
       "      <td>1</td>\n",
       "      <td>20</td>\n",
       "      <td>Ensenada</td>\n",
       "      <td>Mexico</td>\n",
       "      <td>3232</td>\n",
       "      <td>5495</td>\n",
       "      <td>58.817106</td>\n",
       "      <td>22.095301</td>\n",
       "      <td>201</td>\n",
       "    </tr>\n",
       "    <tr>\n",
       "      <th>2</th>\n",
       "      <td>2</td>\n",
       "      <td>1</td>\n",
       "      <td>23</td>\n",
       "      <td>Las Delicias</td>\n",
       "      <td>Mexico</td>\n",
       "      <td>578</td>\n",
       "      <td>1481</td>\n",
       "      <td>39.027684</td>\n",
       "      <td>19.251624</td>\n",
       "      <td>201</td>\n",
       "    </tr>\n",
       "    <tr>\n",
       "      <th>3</th>\n",
       "      <td>2</td>\n",
       "      <td>1</td>\n",
       "      <td>31</td>\n",
       "      <td>Tecate</td>\n",
       "      <td>Mexico</td>\n",
       "      <td>662</td>\n",
       "      <td>1242</td>\n",
       "      <td>53.301127</td>\n",
       "      <td>13.310151</td>\n",
       "      <td>201</td>\n",
       "    </tr>\n",
       "    <tr>\n",
       "      <th>4</th>\n",
       "      <td>2</td>\n",
       "      <td>1</td>\n",
       "      <td>43</td>\n",
       "      <td>Cabo San Lucas</td>\n",
       "      <td>Mexico</td>\n",
       "      <td>1540</td>\n",
       "      <td>2630</td>\n",
       "      <td>58.555133</td>\n",
       "      <td>18.524697</td>\n",
       "      <td>201</td>\n",
       "    </tr>\n",
       "  </tbody>\n",
       "</table>\n",
       "</div>"
      ],
      "text/plain": [
       "   Mes  Dia  id_city       name_city country_city  MasDe1km  n_users  \\\n",
       "0    2    1       19        Rosarito       Mexico       803     1119   \n",
       "1    2    1       20        Ensenada       Mexico      3232     5495   \n",
       "2    2    1       23    Las Delicias       Mexico       578     1481   \n",
       "3    2    1       31          Tecate       Mexico       662     1242   \n",
       "4    2    1       43  Cabo San Lucas       Mexico      1540     2630   \n",
       "\n",
       "   %MasDe1km  Mediana1KM  key4  \n",
       "0  71.760500   27.928633   201  \n",
       "1  58.817106   22.095301   201  \n",
       "2  39.027684   19.251624   201  \n",
       "3  53.301127   13.310151   201  \n",
       "4  58.555133   18.524697   201  "
      ]
     },
     "execution_count": 18,
     "metadata": {},
     "output_type": "execute_result"
    }
   ],
   "source": [
    "### Generando tabla\n",
    "df_final = []\n",
    "start_time = time.time()\n",
    "for i,fecha in enumerate(fechas2):\n",
    "    time_fecha = time.time()\n",
    "    day = str(fecha.day)\n",
    "    if len(day) == 1:\n",
    "        day = f'0{day}'\n",
    "    codigo_fecha = str(fecha.month) + day\n",
    "    #print(codigo_fecha)\n",
    "    tabla_usuarios_fecha = f'historico_cities_{pais}_{codigo_fecha}'\n",
    "    query = f'''SELECT * FROM {tabla_usuarios_fecha}'''\n",
    "    #print(f\"{codigo_fecha}\")\n",
    "    df = cursor.execute(query).as_pandas()\n",
    "    if (codigo_fecha=='901'):\n",
    "        df_final=df\n",
    "    else:\n",
    "        df_final=df_final.append(df)\n",
    "df_final=df_final.rename(columns={'mas_de1km':'MasDe1km','_mas_de1km':'%MasDe1km','mediana1_km':'Mediana1KM','mes':'Mes','dia':'Dia'})\n",
    "df_empalme_4 = df_final\n",
    "tiempo = (time.time()-time_fecha)/60\n",
    "print((time.time()-start_time)/60)\n",
    "\n",
    "###juntando base de datos\n",
    "df_final_4 = df_final_4.append(df_empalme_4, ignore_index=True)\n",
    "\n",
    "###revisar columnas de informacion\n",
    "df_final_4.head()"
   ]
  },
  {
   "cell_type": "code",
   "execution_count": 19,
   "metadata": {},
   "outputs": [
    {
     "data": {
      "text/plain": [
       "(119739, 10)"
      ]
     },
     "execution_count": 19,
     "metadata": {},
     "output_type": "execute_result"
    }
   ],
   "source": [
    "df_final_4.shape"
   ]
  },
  {
   "cell_type": "markdown",
   "metadata": {},
   "source": [
    "##### Ajustes finales"
   ]
  },
  {
   "cell_type": "code",
   "execution_count": 20,
   "metadata": {},
   "outputs": [
    {
     "data": {
      "text/html": [
       "<div>\n",
       "<style scoped>\n",
       "    .dataframe tbody tr th:only-of-type {\n",
       "        vertical-align: middle;\n",
       "    }\n",
       "\n",
       "    .dataframe tbody tr th {\n",
       "        vertical-align: top;\n",
       "    }\n",
       "\n",
       "    .dataframe thead th {\n",
       "        text-align: right;\n",
       "    }\n",
       "</style>\n",
       "<table border=\"1\" class=\"dataframe\">\n",
       "  <thead>\n",
       "    <tr style=\"text-align: right;\">\n",
       "      <th></th>\n",
       "      <th>Mes</th>\n",
       "      <th>Dia</th>\n",
       "      <th>id_city</th>\n",
       "      <th>name_city</th>\n",
       "      <th>country_city</th>\n",
       "      <th>MasDe1km</th>\n",
       "      <th>n_users</th>\n",
       "      <th>%MasDe1km</th>\n",
       "      <th>Mediana1KM</th>\n",
       "      <th>key4</th>\n",
       "    </tr>\n",
       "  </thead>\n",
       "  <tbody>\n",
       "    <tr>\n",
       "      <th>560</th>\n",
       "      <td>2</td>\n",
       "      <td>1</td>\n",
       "      <td>962</td>\n",
       "      <td>San Juan</td>\n",
       "      <td>Argentina</td>\n",
       "      <td>1164</td>\n",
       "      <td>1659</td>\n",
       "      <td>70.162749</td>\n",
       "      <td>13.953333</td>\n",
       "      <td>201</td>\n",
       "    </tr>\n",
       "    <tr>\n",
       "      <th>1557</th>\n",
       "      <td>2</td>\n",
       "      <td>2</td>\n",
       "      <td>962</td>\n",
       "      <td>San Juan</td>\n",
       "      <td>Argentina</td>\n",
       "      <td>1117</td>\n",
       "      <td>1658</td>\n",
       "      <td>67.370326</td>\n",
       "      <td>11.632643</td>\n",
       "      <td>202</td>\n",
       "    </tr>\n",
       "    <tr>\n",
       "      <th>2557</th>\n",
       "      <td>2</td>\n",
       "      <td>3</td>\n",
       "      <td>962</td>\n",
       "      <td>San Juan</td>\n",
       "      <td>Argentina</td>\n",
       "      <td>1204</td>\n",
       "      <td>1756</td>\n",
       "      <td>68.564920</td>\n",
       "      <td>13.081143</td>\n",
       "      <td>203</td>\n",
       "    </tr>\n",
       "    <tr>\n",
       "      <th>3555</th>\n",
       "      <td>2</td>\n",
       "      <td>4</td>\n",
       "      <td>962</td>\n",
       "      <td>San Juan</td>\n",
       "      <td>Argentina</td>\n",
       "      <td>1257</td>\n",
       "      <td>1792</td>\n",
       "      <td>70.145089</td>\n",
       "      <td>13.599713</td>\n",
       "      <td>204</td>\n",
       "    </tr>\n",
       "    <tr>\n",
       "      <th>4553</th>\n",
       "      <td>2</td>\n",
       "      <td>5</td>\n",
       "      <td>962</td>\n",
       "      <td>San Juan</td>\n",
       "      <td>Argentina</td>\n",
       "      <td>1299</td>\n",
       "      <td>1782</td>\n",
       "      <td>72.895623</td>\n",
       "      <td>13.287493</td>\n",
       "      <td>205</td>\n",
       "    </tr>\n",
       "  </tbody>\n",
       "</table>\n",
       "</div>"
      ],
      "text/plain": [
       "      Mes  Dia  id_city name_city country_city  MasDe1km  n_users  %MasDe1km  \\\n",
       "560     2    1      962  San Juan    Argentina      1164     1659  70.162749   \n",
       "1557    2    2      962  San Juan    Argentina      1117     1658  67.370326   \n",
       "2557    2    3      962  San Juan    Argentina      1204     1756  68.564920   \n",
       "3555    2    4      962  San Juan    Argentina      1257     1792  70.145089   \n",
       "4553    2    5      962  San Juan    Argentina      1299     1782  72.895623   \n",
       "\n",
       "      Mediana1KM  key4  \n",
       "560    13.953333   201  \n",
       "1557   11.632643   202  \n",
       "2557   13.081143   203  \n",
       "3555   13.599713   204  \n",
       "4553   13.287493   205  "
      ]
     },
     "execution_count": 20,
     "metadata": {},
     "output_type": "execute_result"
    }
   ],
   "source": [
    "df_final_4=df_final_4.sort_values(by=['country_city','id_city','Mes','Dia'])\n",
    "df_final_4.head()"
   ]
  },
  {
   "cell_type": "code",
   "execution_count": 21,
   "metadata": {},
   "outputs": [
    {
     "data": {
      "text/plain": [
       "(119739, 10)"
      ]
     },
     "execution_count": 21,
     "metadata": {},
     "output_type": "execute_result"
    }
   ],
   "source": [
    "df_final_4.shape"
   ]
  },
  {
   "cell_type": "markdown",
   "metadata": {},
   "source": [
    "##### Guardar archivos"
   ]
  },
  {
   "cell_type": "code",
   "execution_count": 22,
   "metadata": {},
   "outputs": [
    {
     "name": "stdout",
     "output_type": "stream",
     "text": [
      "Writing 119739 records to graphdata-mobility-public/Results_cities/LATAM/almenos10p/LATAM_cities_10p.csv\n",
      "S3\n",
      "(119739, 10)\n"
     ]
    }
   ],
   "source": [
    "nivel_4 = 'cities'\n",
    "ruta=f'graphdata-mobility-public/Results_cities/{pais}/almenos10p/{pais}_{nivel_4}_10p.csv'\n",
    "write_dataframe_to_csv_on_s3(df_final_4, 'iadbprod-csd-hub-analyticaldata', ruta)"
   ]
  },
  {
   "cell_type": "markdown",
   "metadata": {},
   "source": [
    "#### Datos con filtro severo - Base Usuarios"
   ]
  },
  {
   "cell_type": "markdown",
   "metadata": {},
   "source": [
    "##### Tabla cities - Periodo de analisis"
   ]
  },
  {
   "cell_type": "code",
   "execution_count": 23,
   "metadata": {},
   "outputs": [
    {
     "name": "stdout",
     "output_type": "stream",
     "text": [
      "2.761206372578939\n"
     ]
    },
    {
     "data": {
      "text/html": [
       "<div>\n",
       "<style scoped>\n",
       "    .dataframe tbody tr th:only-of-type {\n",
       "        vertical-align: middle;\n",
       "    }\n",
       "\n",
       "    .dataframe tbody tr th {\n",
       "        vertical-align: top;\n",
       "    }\n",
       "\n",
       "    .dataframe thead th {\n",
       "        text-align: right;\n",
       "    }\n",
       "</style>\n",
       "<table border=\"1\" class=\"dataframe\">\n",
       "  <thead>\n",
       "    <tr style=\"text-align: right;\">\n",
       "      <th></th>\n",
       "      <th>Mes</th>\n",
       "      <th>Dia</th>\n",
       "      <th>id_city</th>\n",
       "      <th>name_city</th>\n",
       "      <th>country_city</th>\n",
       "      <th>MasDe1km</th>\n",
       "      <th>n_users</th>\n",
       "      <th>%MasDe1km</th>\n",
       "      <th>Mediana1KM</th>\n",
       "      <th>key4</th>\n",
       "    </tr>\n",
       "  </thead>\n",
       "  <tbody>\n",
       "    <tr>\n",
       "      <th>0</th>\n",
       "      <td>2</td>\n",
       "      <td>1</td>\n",
       "      <td>19</td>\n",
       "      <td>Rosarito</td>\n",
       "      <td>Mexico</td>\n",
       "      <td>394</td>\n",
       "      <td>496</td>\n",
       "      <td>79.435484</td>\n",
       "      <td>25.973188</td>\n",
       "      <td>201</td>\n",
       "    </tr>\n",
       "    <tr>\n",
       "      <th>1</th>\n",
       "      <td>2</td>\n",
       "      <td>1</td>\n",
       "      <td>20</td>\n",
       "      <td>Ensenada</td>\n",
       "      <td>Mexico</td>\n",
       "      <td>1571</td>\n",
       "      <td>2057</td>\n",
       "      <td>76.373359</td>\n",
       "      <td>20.406825</td>\n",
       "      <td>201</td>\n",
       "    </tr>\n",
       "    <tr>\n",
       "      <th>2</th>\n",
       "      <td>2</td>\n",
       "      <td>1</td>\n",
       "      <td>23</td>\n",
       "      <td>Las Delicias</td>\n",
       "      <td>Mexico</td>\n",
       "      <td>160</td>\n",
       "      <td>283</td>\n",
       "      <td>56.537102</td>\n",
       "      <td>22.607504</td>\n",
       "      <td>201</td>\n",
       "    </tr>\n",
       "    <tr>\n",
       "      <th>3</th>\n",
       "      <td>2</td>\n",
       "      <td>1</td>\n",
       "      <td>31</td>\n",
       "      <td>Tecate</td>\n",
       "      <td>Mexico</td>\n",
       "      <td>321</td>\n",
       "      <td>429</td>\n",
       "      <td>74.825175</td>\n",
       "      <td>11.616490</td>\n",
       "      <td>201</td>\n",
       "    </tr>\n",
       "    <tr>\n",
       "      <th>4</th>\n",
       "      <td>2</td>\n",
       "      <td>1</td>\n",
       "      <td>43</td>\n",
       "      <td>Cabo San Lucas</td>\n",
       "      <td>Mexico</td>\n",
       "      <td>677</td>\n",
       "      <td>939</td>\n",
       "      <td>72.097977</td>\n",
       "      <td>19.786782</td>\n",
       "      <td>201</td>\n",
       "    </tr>\n",
       "  </tbody>\n",
       "</table>\n",
       "</div>"
      ],
      "text/plain": [
       "   Mes  Dia  id_city       name_city country_city  MasDe1km  n_users  \\\n",
       "0    2    1       19        Rosarito       Mexico       394      496   \n",
       "1    2    1       20        Ensenada       Mexico      1571     2057   \n",
       "2    2    1       23    Las Delicias       Mexico       160      283   \n",
       "3    2    1       31          Tecate       Mexico       321      429   \n",
       "4    2    1       43  Cabo San Lucas       Mexico       677      939   \n",
       "\n",
       "   %MasDe1km  Mediana1KM  key4  \n",
       "0  79.435484   25.973188   201  \n",
       "1  76.373359   20.406825   201  \n",
       "2  56.537102   22.607504   201  \n",
       "3  74.825175   11.616490   201  \n",
       "4  72.097977   19.786782   201  "
      ]
     },
     "execution_count": 23,
     "metadata": {},
     "output_type": "execute_result"
    }
   ],
   "source": [
    "### Generando tabla\n",
    "df_final = []\n",
    "start_time = time.time()\n",
    "for i,fecha in enumerate(fechas):\n",
    "    time_fecha = time.time()\n",
    "    day = str(fecha.day)\n",
    "    if len(day) == 1:\n",
    "        day = f'0{day}'\n",
    "    codigo_fecha = str(fecha.month) + day\n",
    "    #print(codigo_fecha)\n",
    "    tabla_usuarios_fecha = f'historico_cities_{pais}_{codigo_fecha}_fs'\n",
    "    query = f'''SELECT * FROM {tabla_usuarios_fecha}'''\n",
    "    #print(f\"{codigo_fecha}\")\n",
    "    df2 = cursor.execute(query).as_pandas()\n",
    "    if (codigo_fecha=='201'):\n",
    "        df_final=df2\n",
    "    else:\n",
    "        df_final=df_final.append(df2)\n",
    "df_final=df_final.rename(columns={'mas_de1km':'MasDe1km','_mas_de1km':'%MasDe1km','mediana1_km':'Mediana1KM','mes':'Mes','dia':'Dia'})\n",
    "df_final_fs4 = df_final\n",
    "tiempo = (time.time()-time_fecha)/60\n",
    "print((time.time()-start_time)/60)\n",
    "\n",
    "###revisar columnas de informacion\n",
    "df_final_fs4.head()"
   ]
  },
  {
   "cell_type": "code",
   "execution_count": 24,
   "metadata": {},
   "outputs": [
    {
     "data": {
      "text/plain": [
       "(89424, 10)"
      ]
     },
     "execution_count": 24,
     "metadata": {},
     "output_type": "execute_result"
    }
   ],
   "source": [
    "df_final_fs4.shape"
   ]
  },
  {
   "cell_type": "markdown",
   "metadata": {},
   "source": [
    "##### Tabla cities - Segundo periodo de analisis - Activar si el periodo es discontinuo"
   ]
  },
  {
   "cell_type": "code",
   "execution_count": 25,
   "metadata": {},
   "outputs": [
    {
     "name": "stdout",
     "output_type": "stream",
     "text": [
      "0.9377510627110799\n"
     ]
    },
    {
     "data": {
      "text/html": [
       "<div>\n",
       "<style scoped>\n",
       "    .dataframe tbody tr th:only-of-type {\n",
       "        vertical-align: middle;\n",
       "    }\n",
       "\n",
       "    .dataframe tbody tr th {\n",
       "        vertical-align: top;\n",
       "    }\n",
       "\n",
       "    .dataframe thead th {\n",
       "        text-align: right;\n",
       "    }\n",
       "</style>\n",
       "<table border=\"1\" class=\"dataframe\">\n",
       "  <thead>\n",
       "    <tr style=\"text-align: right;\">\n",
       "      <th></th>\n",
       "      <th>Mes</th>\n",
       "      <th>Dia</th>\n",
       "      <th>id_city</th>\n",
       "      <th>name_city</th>\n",
       "      <th>country_city</th>\n",
       "      <th>MasDe1km</th>\n",
       "      <th>n_users</th>\n",
       "      <th>%MasDe1km</th>\n",
       "      <th>Mediana1KM</th>\n",
       "      <th>key4</th>\n",
       "    </tr>\n",
       "  </thead>\n",
       "  <tbody>\n",
       "    <tr>\n",
       "      <th>0</th>\n",
       "      <td>2</td>\n",
       "      <td>1</td>\n",
       "      <td>19</td>\n",
       "      <td>Rosarito</td>\n",
       "      <td>Mexico</td>\n",
       "      <td>394</td>\n",
       "      <td>496</td>\n",
       "      <td>79.435484</td>\n",
       "      <td>25.973188</td>\n",
       "      <td>201</td>\n",
       "    </tr>\n",
       "    <tr>\n",
       "      <th>1</th>\n",
       "      <td>2</td>\n",
       "      <td>1</td>\n",
       "      <td>20</td>\n",
       "      <td>Ensenada</td>\n",
       "      <td>Mexico</td>\n",
       "      <td>1571</td>\n",
       "      <td>2057</td>\n",
       "      <td>76.373359</td>\n",
       "      <td>20.406825</td>\n",
       "      <td>201</td>\n",
       "    </tr>\n",
       "    <tr>\n",
       "      <th>2</th>\n",
       "      <td>2</td>\n",
       "      <td>1</td>\n",
       "      <td>23</td>\n",
       "      <td>Las Delicias</td>\n",
       "      <td>Mexico</td>\n",
       "      <td>160</td>\n",
       "      <td>283</td>\n",
       "      <td>56.537102</td>\n",
       "      <td>22.607504</td>\n",
       "      <td>201</td>\n",
       "    </tr>\n",
       "    <tr>\n",
       "      <th>3</th>\n",
       "      <td>2</td>\n",
       "      <td>1</td>\n",
       "      <td>31</td>\n",
       "      <td>Tecate</td>\n",
       "      <td>Mexico</td>\n",
       "      <td>321</td>\n",
       "      <td>429</td>\n",
       "      <td>74.825175</td>\n",
       "      <td>11.616490</td>\n",
       "      <td>201</td>\n",
       "    </tr>\n",
       "    <tr>\n",
       "      <th>4</th>\n",
       "      <td>2</td>\n",
       "      <td>1</td>\n",
       "      <td>43</td>\n",
       "      <td>Cabo San Lucas</td>\n",
       "      <td>Mexico</td>\n",
       "      <td>677</td>\n",
       "      <td>939</td>\n",
       "      <td>72.097977</td>\n",
       "      <td>19.786782</td>\n",
       "      <td>201</td>\n",
       "    </tr>\n",
       "  </tbody>\n",
       "</table>\n",
       "</div>"
      ],
      "text/plain": [
       "   Mes  Dia  id_city       name_city country_city  MasDe1km  n_users  \\\n",
       "0    2    1       19        Rosarito       Mexico       394      496   \n",
       "1    2    1       20        Ensenada       Mexico      1571     2057   \n",
       "2    2    1       23    Las Delicias       Mexico       160      283   \n",
       "3    2    1       31          Tecate       Mexico       321      429   \n",
       "4    2    1       43  Cabo San Lucas       Mexico       677      939   \n",
       "\n",
       "   %MasDe1km  Mediana1KM  key4  \n",
       "0  79.435484   25.973188   201  \n",
       "1  76.373359   20.406825   201  \n",
       "2  56.537102   22.607504   201  \n",
       "3  74.825175   11.616490   201  \n",
       "4  72.097977   19.786782   201  "
      ]
     },
     "execution_count": 25,
     "metadata": {},
     "output_type": "execute_result"
    }
   ],
   "source": [
    "### Generando tabla\n",
    "df_final = []\n",
    "start_time = time.time()\n",
    "for i,fecha in enumerate(fechas2):\n",
    "    time_fecha = time.time()\n",
    "    day = str(fecha.day)\n",
    "    if len(day) == 1:\n",
    "        day = f'0{day}'\n",
    "    codigo_fecha = str(fecha.month) + day\n",
    "    #print(codigo_fecha)\n",
    "    tabla_usuarios_fecha = f'historico_cities_{pais}_{codigo_fecha}_fs'\n",
    "    query = f'''SELECT * FROM {tabla_usuarios_fecha}'''\n",
    "    #print(f\"{codigo_fecha}\")\n",
    "    df2 = cursor.execute(query).as_pandas()\n",
    "    if (codigo_fecha=='901'):\n",
    "        df_final=df2\n",
    "    else:\n",
    "        df_final=df_final.append(df2)\n",
    "df_final=df_final.rename(columns={'mas_de1km':'MasDe1km','_mas_de1km':'%MasDe1km','mediana1_km':'Mediana1KM','mes':'Mes','dia':'Dia'})\n",
    "df_empalme_fs4 = df_final\n",
    "tiempo = (time.time()-time_fecha)/60\n",
    "print((time.time()-start_time)/60)\n",
    "\n",
    "###juntando base de datos\n",
    "df_final_fs4 = df_final_fs4.append(df_empalme_fs4, ignore_index=True)\n",
    "\n",
    "###revisar columnas de informacion\n",
    "df_final_fs4.head()"
   ]
  },
  {
   "cell_type": "code",
   "execution_count": 26,
   "metadata": {},
   "outputs": [
    {
     "data": {
      "text/plain": [
       "(118882, 10)"
      ]
     },
     "execution_count": 26,
     "metadata": {},
     "output_type": "execute_result"
    }
   ],
   "source": [
    "df_final_fs4.shape"
   ]
  },
  {
   "cell_type": "markdown",
   "metadata": {},
   "source": [
    "##### Ajustes finales"
   ]
  },
  {
   "cell_type": "code",
   "execution_count": 27,
   "metadata": {},
   "outputs": [
    {
     "data": {
      "text/html": [
       "<div>\n",
       "<style scoped>\n",
       "    .dataframe tbody tr th:only-of-type {\n",
       "        vertical-align: middle;\n",
       "    }\n",
       "\n",
       "    .dataframe tbody tr th {\n",
       "        vertical-align: top;\n",
       "    }\n",
       "\n",
       "    .dataframe thead th {\n",
       "        text-align: right;\n",
       "    }\n",
       "</style>\n",
       "<table border=\"1\" class=\"dataframe\">\n",
       "  <thead>\n",
       "    <tr style=\"text-align: right;\">\n",
       "      <th></th>\n",
       "      <th>Mes</th>\n",
       "      <th>Dia</th>\n",
       "      <th>id_city</th>\n",
       "      <th>name_city</th>\n",
       "      <th>country_city</th>\n",
       "      <th>MasDe1km</th>\n",
       "      <th>n_users</th>\n",
       "      <th>%MasDe1km</th>\n",
       "      <th>Mediana1KM</th>\n",
       "      <th>key4</th>\n",
       "    </tr>\n",
       "  </thead>\n",
       "  <tbody>\n",
       "    <tr>\n",
       "      <th>554</th>\n",
       "      <td>2</td>\n",
       "      <td>1</td>\n",
       "      <td>962</td>\n",
       "      <td>San Juan</td>\n",
       "      <td>Argentina</td>\n",
       "      <td>648</td>\n",
       "      <td>825</td>\n",
       "      <td>78.545455</td>\n",
       "      <td>16.149753</td>\n",
       "      <td>201</td>\n",
       "    </tr>\n",
       "    <tr>\n",
       "      <th>1547</th>\n",
       "      <td>2</td>\n",
       "      <td>2</td>\n",
       "      <td>962</td>\n",
       "      <td>San Juan</td>\n",
       "      <td>Argentina</td>\n",
       "      <td>606</td>\n",
       "      <td>809</td>\n",
       "      <td>74.907293</td>\n",
       "      <td>14.623176</td>\n",
       "      <td>202</td>\n",
       "    </tr>\n",
       "    <tr>\n",
       "      <th>2540</th>\n",
       "      <td>2</td>\n",
       "      <td>3</td>\n",
       "      <td>962</td>\n",
       "      <td>San Juan</td>\n",
       "      <td>Argentina</td>\n",
       "      <td>660</td>\n",
       "      <td>871</td>\n",
       "      <td>75.774971</td>\n",
       "      <td>15.355668</td>\n",
       "      <td>203</td>\n",
       "    </tr>\n",
       "    <tr>\n",
       "      <th>3535</th>\n",
       "      <td>2</td>\n",
       "      <td>4</td>\n",
       "      <td>962</td>\n",
       "      <td>San Juan</td>\n",
       "      <td>Argentina</td>\n",
       "      <td>694</td>\n",
       "      <td>881</td>\n",
       "      <td>78.774120</td>\n",
       "      <td>16.953672</td>\n",
       "      <td>204</td>\n",
       "    </tr>\n",
       "    <tr>\n",
       "      <th>4529</th>\n",
       "      <td>2</td>\n",
       "      <td>5</td>\n",
       "      <td>962</td>\n",
       "      <td>San Juan</td>\n",
       "      <td>Argentina</td>\n",
       "      <td>718</td>\n",
       "      <td>908</td>\n",
       "      <td>79.074890</td>\n",
       "      <td>15.859436</td>\n",
       "      <td>205</td>\n",
       "    </tr>\n",
       "  </tbody>\n",
       "</table>\n",
       "</div>"
      ],
      "text/plain": [
       "      Mes  Dia  id_city name_city country_city  MasDe1km  n_users  %MasDe1km  \\\n",
       "554     2    1      962  San Juan    Argentina       648      825  78.545455   \n",
       "1547    2    2      962  San Juan    Argentina       606      809  74.907293   \n",
       "2540    2    3      962  San Juan    Argentina       660      871  75.774971   \n",
       "3535    2    4      962  San Juan    Argentina       694      881  78.774120   \n",
       "4529    2    5      962  San Juan    Argentina       718      908  79.074890   \n",
       "\n",
       "      Mediana1KM  key4  \n",
       "554    16.149753   201  \n",
       "1547   14.623176   202  \n",
       "2540   15.355668   203  \n",
       "3535   16.953672   204  \n",
       "4529   15.859436   205  "
      ]
     },
     "execution_count": 27,
     "metadata": {},
     "output_type": "execute_result"
    }
   ],
   "source": [
    "df_final_fs4=df_final_fs4.sort_values(by=['country_city','id_city','Mes','Dia'])\n",
    "df_final_fs4.head()"
   ]
  },
  {
   "cell_type": "code",
   "execution_count": 28,
   "metadata": {},
   "outputs": [
    {
     "data": {
      "text/plain": [
       "(118882, 10)"
      ]
     },
     "execution_count": 28,
     "metadata": {},
     "output_type": "execute_result"
    }
   ],
   "source": [
    "df_final_fs4.shape"
   ]
  },
  {
   "cell_type": "markdown",
   "metadata": {},
   "source": [
    "##### Guardar archivos"
   ]
  },
  {
   "cell_type": "code",
   "execution_count": 29,
   "metadata": {},
   "outputs": [
    {
     "name": "stdout",
     "output_type": "stream",
     "text": [
      "Writing 118882 records to graphdata-mobility-public/Results_cities/LATAM/base_usuario/LATAM_cities_baseuser.csv\n",
      "S3\n",
      "(118882, 10)\n"
     ]
    }
   ],
   "source": [
    "nivel_4 = 'cities'\n",
    "ruta=f'graphdata-mobility-public/Results_cities/{pais}/base_usuario/{pais}_{nivel_4}_baseuser.csv'\n",
    "write_dataframe_to_csv_on_s3(df_final_fs4, 'iadbprod-csd-hub-analyticaldata', ruta)"
   ]
  }
 ],
 "metadata": {
  "kernelspec": {
   "display_name": "conda_python3",
   "language": "python",
   "name": "conda_python3"
  },
  "language_info": {
   "codemirror_mode": {
    "name": "ipython",
    "version": 3
   },
   "file_extension": ".py",
   "mimetype": "text/x-python",
   "name": "python",
   "nbconvert_exporter": "python",
   "pygments_lexer": "ipython3",
   "version": "3.6.13"
  }
 },
 "nbformat": 4,
 "nbformat_minor": 4
}
