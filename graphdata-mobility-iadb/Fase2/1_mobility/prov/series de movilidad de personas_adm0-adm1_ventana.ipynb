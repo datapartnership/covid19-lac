{
 "cells": [
  {
   "cell_type": "markdown",
   "metadata": {},
   "source": [
    "### Preparar ambiente"
   ]
  },
  {
   "cell_type": "code",
   "execution_count": 1,
   "metadata": {},
   "outputs": [
    {
     "name": "stdout",
     "output_type": "stream",
     "text": [
      "Requirement already satisfied: PyAthena in /home/ec2-user/anaconda3/envs/python3/lib/python3.6/site-packages (2.3.0)\r\n",
      "Requirement already satisfied: boto3>=1.4.4 in /home/ec2-user/anaconda3/envs/python3/lib/python3.6/site-packages (from PyAthena) (1.17.87)\r\n",
      "Requirement already satisfied: tenacity>=4.1.0 in /home/ec2-user/anaconda3/envs/python3/lib/python3.6/site-packages (from PyAthena) (7.0.0)\r\n",
      "Requirement already satisfied: botocore>=1.5.52 in /home/ec2-user/anaconda3/envs/python3/lib/python3.6/site-packages (from PyAthena) (1.20.87)\r\n",
      "Requirement already satisfied: jmespath<1.0.0,>=0.7.1 in /home/ec2-user/anaconda3/envs/python3/lib/python3.6/site-packages (from boto3>=1.4.4->PyAthena) (0.10.0)\r\n",
      "Requirement already satisfied: s3transfer<0.5.0,>=0.4.0 in /home/ec2-user/anaconda3/envs/python3/lib/python3.6/site-packages (from boto3>=1.4.4->PyAthena) (0.4.2)\r\n",
      "Requirement already satisfied: urllib3<1.27,>=1.25.4 in /home/ec2-user/anaconda3/envs/python3/lib/python3.6/site-packages (from botocore>=1.5.52->PyAthena) (1.26.5)\r\n",
      "Requirement already satisfied: python-dateutil<3.0.0,>=2.1 in /home/ec2-user/anaconda3/envs/python3/lib/python3.6/site-packages (from botocore>=1.5.52->PyAthena) (2.8.1)\r\n",
      "Requirement already satisfied: six>=1.5 in /home/ec2-user/anaconda3/envs/python3/lib/python3.6/site-packages (from python-dateutil<3.0.0,>=2.1->botocore>=1.5.52->PyAthena) (1.15.0)\r\n"
     ]
    }
   ],
   "source": [
    "import sys\n",
    "!{sys.executable} -m pip install PyAthena"
   ]
  },
  {
   "cell_type": "markdown",
   "metadata": {},
   "source": [
    "### Conectar con pyathena"
   ]
  },
  {
   "cell_type": "code",
   "execution_count": 2,
   "metadata": {},
   "outputs": [],
   "source": [
    "from pyathena.pandas.cursor import PandasCursor\n",
    "from pyathena import connect\n",
    "import pandas as pd\n",
    "import time\n",
    "from datetime import datetime\n",
    "# agregar directorio en el cual se almacenan las tablas que se van a consultar\n",
    "directorio = 's3://iadbprod-csd-hub-analyticaldata/graphdata-mobility-temporal/athena-results/'\n",
    "# base de datos\n",
    "bd = 'graphdata' # Database in Glue\n",
    "cursor = connect(s3_staging_dir = directorio, region_name = 'us-east-1', schema_name = bd, cursor_class = PandasCursor).cursor()"
   ]
  },
  {
   "cell_type": "code",
   "execution_count": 3,
   "metadata": {},
   "outputs": [],
   "source": [
    "import pandas as pd\n",
    "import numpy as np\n",
    "import calendar\n",
    "import boto3\n",
    "s3 = boto3.resource('s3')\n",
    "bucket='results-and-tables-graphdata'"
   ]
  },
  {
   "cell_type": "code",
   "execution_count": 4,
   "metadata": {},
   "outputs": [],
   "source": [
    "import os\n",
    "import pandas as pd\n",
    "import zipfile\n",
    "import shutil\n",
    "from io import StringIO\n",
    "import io"
   ]
  },
  {
   "cell_type": "markdown",
   "metadata": {},
   "source": [
    "### Declaración funciones para Impo-Expo s3"
   ]
  },
  {
   "cell_type": "code",
   "execution_count": 5,
   "metadata": {},
   "outputs": [],
   "source": [
    "def write_dataframe_to_csv_on_s3(dataframe, bucket, filename):\n",
    "    \"\"\" Write a dataframe to a CSV on S3 \"\"\"\n",
    "    # Create buffer\n",
    "    csv_buffer = StringIO()\n",
    "    # Write dataframe to buffer\n",
    "    dataframe.to_csv(csv_buffer, sep=\";\" , line_terminator='\\n')\n",
    "    # Create S3 object\n",
    "    s3_resource = boto3.resource(\"s3\")\n",
    "    # Write buffer to S3 object\n",
    "    s3_resource.Object(bucket, filename).put(Body=csv_buffer.getvalue())\n",
    "    print(\"Writing {} records to {}\".format(len(dataframe), filename))\n",
    "    print(\"S3\")\n",
    "    print(dataframe.shape)\n",
    "    "
   ]
  },
  {
   "cell_type": "code",
   "execution_count": 6,
   "metadata": {},
   "outputs": [],
   "source": [
    "def write_dataframe_to_excel_on_s3(dataframe, bucket, filename):\n",
    "    \"\"\" Write a dataframe to a excel on S3 \"\"\"\n",
    "    with io.BytesIO() as output:\n",
    "        with pd.ExcelWriter(output, engine='xlsxwriter') as writer:\n",
    "            dataframe.to_excel(writer,index=False)\n",
    "        data = output.getvalue()\n",
    "\n",
    "    s3 = boto3.resource('s3')\n",
    "    s3.Bucket(bucket).put_object(Key=filename, Body=data)\n",
    "    "
   ]
  },
  {
   "cell_type": "code",
   "execution_count": 7,
   "metadata": {},
   "outputs": [],
   "source": [
    "def import_dataframe_csv_from_s3(bucket, filename):\n",
    "    client = boto3.client('s3')\n",
    "    bucket_name = bucket\n",
    "    object_key = filename\n",
    "    csv_obj = client.get_object(Bucket=bucket_name, Key=object_key)\n",
    "    body = csv_obj['Body']\n",
    "    csv_string = body.read().decode('utf-8')\n",
    "    df = pd.read_csv(StringIO(csv_string),sep=\";\")\n",
    "    return df"
   ]
  },
  {
   "cell_type": "code",
   "execution_count": 8,
   "metadata": {},
   "outputs": [],
   "source": [
    "def import_dataframe_excel_from_s3(bucket, filename):\n",
    "    client = boto3.client('s3')\n",
    "    bucket_name = bucket\n",
    "    object_key = filename\n",
    "    obj = client.get_object(Bucket=bucket_name, Key=object_key)\n",
    "    data = obj['Body'].read()\n",
    "    df = pd.read_excel(io.BytesIO(data), encoding='utf-8')\n",
    "    return df"
   ]
  },
  {
   "cell_type": "code",
   "execution_count": 9,
   "metadata": {},
   "outputs": [],
   "source": [
    "def write_file_to_s3(bucket,file_local,file_s3):\n",
    "    s3.Bucket(bucket).upload_file(file_local,file_s3)"
   ]
  },
  {
   "cell_type": "markdown",
   "metadata": {},
   "source": [
    "### Importar tabla de Athena"
   ]
  },
  {
   "cell_type": "markdown",
   "metadata": {},
   "source": [
    "#### Realizando prueba"
   ]
  },
  {
   "cell_type": "code",
   "execution_count": 10,
   "metadata": {
    "scrolled": true
   },
   "outputs": [
    {
     "data": {
      "text/html": [
       "<div>\n",
       "<style scoped>\n",
       "    .dataframe tbody tr th:only-of-type {\n",
       "        vertical-align: middle;\n",
       "    }\n",
       "\n",
       "    .dataframe tbody tr th {\n",
       "        vertical-align: top;\n",
       "    }\n",
       "\n",
       "    .dataframe thead th {\n",
       "        text-align: right;\n",
       "    }\n",
       "</style>\n",
       "<table border=\"1\" class=\"dataframe\">\n",
       "  <thead>\n",
       "    <tr style=\"text-align: right;\">\n",
       "      <th></th>\n",
       "      <th>year</th>\n",
       "      <th>month</th>\n",
       "      <th>day</th>\n",
       "      <th>iso_country_code</th>\n",
       "      <th>n_users</th>\n",
       "      <th>n_users_mas1km</th>\n",
       "      <th>%MasDe1km</th>\n",
       "    </tr>\n",
       "  </thead>\n",
       "  <tbody>\n",
       "    <tr>\n",
       "      <th>0</th>\n",
       "      <td>2020</td>\n",
       "      <td>2</td>\n",
       "      <td>1</td>\n",
       "      <td>VE</td>\n",
       "      <td>42445</td>\n",
       "      <td>26735</td>\n",
       "      <td>62.987395</td>\n",
       "    </tr>\n",
       "    <tr>\n",
       "      <th>1</th>\n",
       "      <td>2020</td>\n",
       "      <td>2</td>\n",
       "      <td>14</td>\n",
       "      <td>GY</td>\n",
       "      <td>3827</td>\n",
       "      <td>2535</td>\n",
       "      <td>66.239875</td>\n",
       "    </tr>\n",
       "    <tr>\n",
       "      <th>2</th>\n",
       "      <td>2020</td>\n",
       "      <td>2</td>\n",
       "      <td>19</td>\n",
       "      <td>SV</td>\n",
       "      <td>15307</td>\n",
       "      <td>10232</td>\n",
       "      <td>66.845234</td>\n",
       "    </tr>\n",
       "    <tr>\n",
       "      <th>3</th>\n",
       "      <td>2020</td>\n",
       "      <td>2</td>\n",
       "      <td>26</td>\n",
       "      <td>PY</td>\n",
       "      <td>15346</td>\n",
       "      <td>10948</td>\n",
       "      <td>71.341066</td>\n",
       "    </tr>\n",
       "    <tr>\n",
       "      <th>4</th>\n",
       "      <td>2020</td>\n",
       "      <td>2</td>\n",
       "      <td>24</td>\n",
       "      <td>HN</td>\n",
       "      <td>21707</td>\n",
       "      <td>14129</td>\n",
       "      <td>65.089602</td>\n",
       "    </tr>\n",
       "  </tbody>\n",
       "</table>\n",
       "</div>"
      ],
      "text/plain": [
       "   year  month  day iso_country_code  n_users  n_users_mas1km  %MasDe1km\n",
       "0  2020      2    1               VE    42445           26735  62.987395\n",
       "1  2020      2   14               GY     3827            2535  66.239875\n",
       "2  2020      2   19               SV    15307           10232  66.845234\n",
       "3  2020      2   26               PY    15346           10948  71.341066\n",
       "4  2020      2   24               HN    21707           14129  65.089602"
      ]
     },
     "execution_count": 10,
     "metadata": {},
     "output_type": "execute_result"
    }
   ],
   "source": [
    "#toda la base\n",
    "min_distancia = 1 #km\n",
    "min_pings_dia = 10\n",
    "dfs_indicadores = []\n",
    "\n",
    "tabla_usuarios_distancia =  f'historico_usuarios'    \n",
    "query_filtro = (f\"SELECT t.year, \"\n",
    "                    \"t.month, \"\n",
    "                    \"t.day, \"\n",
    "                    \"t.iso_country_code, \"\n",
    "                    \"COUNT(*) as n_users, \"\n",
    "                    f\"SUM(CASE WHEN t.distancia_recorrida >= {min_distancia} then 1 ELSE 0 END) as n_users_mas1km \"\n",
    "                    f\"FROM (\"\n",
    "                        \"SELECT * \"\n",
    "                        f\"FROM {tabla_usuarios_distancia} \"\n",
    "                        f\"WHERE ({tabla_usuarios_distancia}.n_obs >= {min_pings_dia})) AS t \"\n",
    "                    \"GROUP BY t.year, t.month, t.day, t.iso_country_code\")\n",
    "\n",
    "df = cursor.execute(query_filtro).as_pandas()\n",
    "df['%MasDe1km'] = df['n_users_mas1km'] / df['n_users']*100\n",
    "dfs_indicadores.append(df)\n",
    "df_by_day2athena = pd.concat(dfs_indicadores)\n",
    "df_by_day2athena.head()"
   ]
  },
  {
   "cell_type": "markdown",
   "metadata": {},
   "source": [
    "#### Periodo de analisis"
   ]
  },
  {
   "cell_type": "code",
   "execution_count": 11,
   "metadata": {
    "scrolled": false
   },
   "outputs": [
    {
     "data": {
      "text/html": [
       "<div>\n",
       "<style scoped>\n",
       "    .dataframe tbody tr th:only-of-type {\n",
       "        vertical-align: middle;\n",
       "    }\n",
       "\n",
       "    .dataframe tbody tr th {\n",
       "        vertical-align: top;\n",
       "    }\n",
       "\n",
       "    .dataframe thead th {\n",
       "        text-align: right;\n",
       "    }\n",
       "</style>\n",
       "<table border=\"1\" class=\"dataframe\">\n",
       "  <thead>\n",
       "    <tr style=\"text-align: right;\">\n",
       "      <th></th>\n",
       "      <th>Mes</th>\n",
       "      <th>Dia</th>\n",
       "      <th>key4</th>\n",
       "      <th>id_provincia</th>\n",
       "      <th>MasDe1km</th>\n",
       "      <th>n_users</th>\n",
       "      <th>%MasDe1km_new</th>\n",
       "      <th>iso_country_code</th>\n",
       "    </tr>\n",
       "  </thead>\n",
       "  <tbody>\n",
       "    <tr>\n",
       "      <th>0</th>\n",
       "      <td>2</td>\n",
       "      <td>21</td>\n",
       "      <td>221</td>\n",
       "      <td>32</td>\n",
       "      <td>540</td>\n",
       "      <td>836</td>\n",
       "      <td>64.593301</td>\n",
       "      <td>DO</td>\n",
       "    </tr>\n",
       "    <tr>\n",
       "      <th>1</th>\n",
       "      <td>2</td>\n",
       "      <td>21</td>\n",
       "      <td>221</td>\n",
       "      <td>29</td>\n",
       "      <td>168</td>\n",
       "      <td>236</td>\n",
       "      <td>71.186441</td>\n",
       "      <td>DO</td>\n",
       "    </tr>\n",
       "    <tr>\n",
       "      <th>2</th>\n",
       "      <td>2</td>\n",
       "      <td>20</td>\n",
       "      <td>220</td>\n",
       "      <td>2</td>\n",
       "      <td>100</td>\n",
       "      <td>149</td>\n",
       "      <td>67.114094</td>\n",
       "      <td>DO</td>\n",
       "    </tr>\n",
       "    <tr>\n",
       "      <th>3</th>\n",
       "      <td>2</td>\n",
       "      <td>17</td>\n",
       "      <td>217</td>\n",
       "      <td>3</td>\n",
       "      <td>300</td>\n",
       "      <td>496</td>\n",
       "      <td>60.483871</td>\n",
       "      <td>DO</td>\n",
       "    </tr>\n",
       "    <tr>\n",
       "      <th>4</th>\n",
       "      <td>2</td>\n",
       "      <td>13</td>\n",
       "      <td>213</td>\n",
       "      <td>16</td>\n",
       "      <td>559</td>\n",
       "      <td>878</td>\n",
       "      <td>63.667426</td>\n",
       "      <td>DO</td>\n",
       "    </tr>\n",
       "  </tbody>\n",
       "</table>\n",
       "</div>"
      ],
      "text/plain": [
       "   Mes  Dia  key4  id_provincia  MasDe1km  n_users  %MasDe1km_new  \\\n",
       "0    2   21   221            32       540      836      64.593301   \n",
       "1    2   21   221            29       168      236      71.186441   \n",
       "2    2   20   220             2       100      149      67.114094   \n",
       "3    2   17   217             3       300      496      60.483871   \n",
       "4    2   13   213            16       559      878      63.667426   \n",
       "\n",
       "  iso_country_code  \n",
       "0               DO  \n",
       "1               DO  \n",
       "2               DO  \n",
       "3               DO  \n",
       "4               DO  "
      ]
     },
     "execution_count": 11,
     "metadata": {},
     "output_type": "execute_result"
    }
   ],
   "source": [
    "### Declarando condiciones\n",
    "\n",
    "# periodo particular\n",
    "mes_inicio=2\n",
    "dia_inicio=1\n",
    "\n",
    "mes_final=4\n",
    "dia_final= 30\n",
    "\n",
    "# condiciones de filtro\n",
    "min_distancia = 1 #km\n",
    "min_pings_dia = 10\n",
    "\n",
    "# matriz vacia para rellenar informacion\n",
    "dfs_indicadores = []\n",
    "\n",
    "### Generando tabla\n",
    "if mes_inicio==mes_final:\n",
    "    tabla_usuarios_distancia =  f'historico_usuarios'    \n",
    "    query_filtro = (f\"SELECT t.year, \"\n",
    "                        \"t.month, \"\n",
    "                        \"t.day, \"\n",
    "                        \"t.iso_country_code, \"\n",
    "                        \"t.id_provincia, \"\n",
    "                        \"COUNT(*) as n_users, \"\n",
    "                        f\"SUM(CASE WHEN t.distancia_recorrida >= {min_distancia} then 1 ELSE 0 END) as n_users_mas1km \"\n",
    "                        f\"FROM (\"\n",
    "                            \"SELECT * \"\n",
    "                            f\"FROM {tabla_usuarios_distancia} \"\n",
    "                            f\"WHERE ({tabla_usuarios_distancia}.n_obs >= {min_pings_dia} AND ({tabla_usuarios_distancia}.day >= {dia_inicio} \"\n",
    "                   f\"AND {tabla_usuarios_distancia}.month = {mes_inicio}) AND ({tabla_usuarios_distancia}.day <= {dia_final} \"\n",
    "                   f\"AND {tabla_usuarios_distancia}.month = {mes_final}))) AS t \"\n",
    "                        \"GROUP BY t.year, t.month, t.day, t.iso_country_code, t.id_provincia\")\n",
    "else:\n",
    "    tabla_usuarios_distancia =  f'historico_usuarios'    \n",
    "    query_filtro = (f\"SELECT t.year, \"\n",
    "                        \"t.month, \"\n",
    "                        \"t.day, \"\n",
    "                        \"t.iso_country_code, \"\n",
    "                        \"t.id_provincia, \"\n",
    "                        \"COUNT(*) as n_users, \"\n",
    "                        f\"SUM(CASE WHEN t.distancia_recorrida >= {min_distancia} then 1 ELSE 0 END) as n_users_mas1km \"\n",
    "                        f\"FROM (\"\n",
    "                            \"SELECT * \"\n",
    "                            f\"FROM {tabla_usuarios_distancia} \"\n",
    "                            f\"WHERE ({tabla_usuarios_distancia}.n_obs >= {min_pings_dia} AND (({tabla_usuarios_distancia}.day >= {dia_inicio} \"\n",
    "                   f\"AND {tabla_usuarios_distancia}.month = {mes_inicio}) OR ({tabla_usuarios_distancia}.day <= {dia_final} \"\n",
    "                   f\"AND {tabla_usuarios_distancia}.month = {mes_final})))) AS t \"\n",
    "                        \"GROUP BY t.year, t.month, t.day, t.iso_country_code, t.id_provincia\")\n",
    "    \n",
    "df = cursor.execute(query_filtro).as_pandas()\n",
    "df['%MasDe1km'] = df['n_users_mas1km'] / df['n_users']*100\n",
    "dfs_indicadores.append(df)\n",
    "\n",
    "###operaciones\n",
    "df_by_day2athena = pd.concat(dfs_indicadores)\n",
    "df_by_day2at=df_by_day2athena\n",
    "df_by_day2at=pd.DataFrame(df_by_day2at)\n",
    "df_by_day2at=df_by_day2at.dropna(subset=[\"id_provincia\"])\n",
    "df_by_day2at['id_provincia']=df_by_day2at['id_provincia'].astype('int')\n",
    "df_by_day2at['month']=df_by_day2at['month'].astype('int')\n",
    "df_by_day2at['day']=df_by_day2at['day'].astype('int')\n",
    "df_by_day2at[\"day\"]=df_by_day2at[\"day\"].map(\"{:02}\".format)\n",
    "df_by_day2at[\"key4\"]=df_by_day2at['month'].astype(str)+ df_by_day2at[\"day\"].astype(str)\n",
    "df_by_day2at['key4']=df_by_day2at['key4'].astype('int')\n",
    "df_by_day2at=df_by_day2at.rename(columns={'month':'Mes','day':'Dia','%MasDe1km':'%MasDe1km_new','n_users_mas1km':'MasDe1km'})\n",
    "df_by_day2at=df_by_day2at.loc[:,['Mes','Dia','key4','id_provincia','MasDe1km','n_users','%MasDe1km_new','iso_country_code']]\n",
    "df_by_day2at['Dia']=df_by_day2at['Dia'].astype('int')\n",
    "\n",
    "###revisar columnas de informacion\n",
    "df_by_day2at.head()"
   ]
  },
  {
   "cell_type": "code",
   "execution_count": 12,
   "metadata": {},
   "outputs": [
    {
     "data": {
      "text/plain": [
       "(22682, 8)"
      ]
     },
     "execution_count": 12,
     "metadata": {},
     "output_type": "execute_result"
    }
   ],
   "source": [
    "df_by_day2at.shape"
   ]
  },
  {
   "cell_type": "markdown",
   "metadata": {},
   "source": [
    "#### Segundo periodo de analisis - Activar si el periodo es discontinuo o se actualiza constantemente"
   ]
  },
  {
   "cell_type": "code",
   "execution_count": 13,
   "metadata": {
    "scrolled": true
   },
   "outputs": [
    {
     "data": {
      "text/html": [
       "<div>\n",
       "<style scoped>\n",
       "    .dataframe tbody tr th:only-of-type {\n",
       "        vertical-align: middle;\n",
       "    }\n",
       "\n",
       "    .dataframe tbody tr th {\n",
       "        vertical-align: top;\n",
       "    }\n",
       "\n",
       "    .dataframe thead th {\n",
       "        text-align: right;\n",
       "    }\n",
       "</style>\n",
       "<table border=\"1\" class=\"dataframe\">\n",
       "  <thead>\n",
       "    <tr style=\"text-align: right;\">\n",
       "      <th></th>\n",
       "      <th>Mes</th>\n",
       "      <th>Dia</th>\n",
       "      <th>key4</th>\n",
       "      <th>id_provincia</th>\n",
       "      <th>MasDe1km</th>\n",
       "      <th>n_users</th>\n",
       "      <th>%MasDe1km_new</th>\n",
       "      <th>iso_country_code</th>\n",
       "    </tr>\n",
       "  </thead>\n",
       "  <tbody>\n",
       "    <tr>\n",
       "      <th>0</th>\n",
       "      <td>2</td>\n",
       "      <td>21</td>\n",
       "      <td>221</td>\n",
       "      <td>32</td>\n",
       "      <td>540</td>\n",
       "      <td>836</td>\n",
       "      <td>64.593301</td>\n",
       "      <td>DO</td>\n",
       "    </tr>\n",
       "    <tr>\n",
       "      <th>1</th>\n",
       "      <td>2</td>\n",
       "      <td>21</td>\n",
       "      <td>221</td>\n",
       "      <td>29</td>\n",
       "      <td>168</td>\n",
       "      <td>236</td>\n",
       "      <td>71.186441</td>\n",
       "      <td>DO</td>\n",
       "    </tr>\n",
       "    <tr>\n",
       "      <th>2</th>\n",
       "      <td>2</td>\n",
       "      <td>20</td>\n",
       "      <td>220</td>\n",
       "      <td>2</td>\n",
       "      <td>100</td>\n",
       "      <td>149</td>\n",
       "      <td>67.114094</td>\n",
       "      <td>DO</td>\n",
       "    </tr>\n",
       "    <tr>\n",
       "      <th>3</th>\n",
       "      <td>2</td>\n",
       "      <td>17</td>\n",
       "      <td>217</td>\n",
       "      <td>3</td>\n",
       "      <td>300</td>\n",
       "      <td>496</td>\n",
       "      <td>60.483871</td>\n",
       "      <td>DO</td>\n",
       "    </tr>\n",
       "    <tr>\n",
       "      <th>4</th>\n",
       "      <td>2</td>\n",
       "      <td>13</td>\n",
       "      <td>213</td>\n",
       "      <td>16</td>\n",
       "      <td>559</td>\n",
       "      <td>878</td>\n",
       "      <td>63.667426</td>\n",
       "      <td>DO</td>\n",
       "    </tr>\n",
       "  </tbody>\n",
       "</table>\n",
       "</div>"
      ],
      "text/plain": [
       "   Mes  Dia  key4  id_provincia  MasDe1km  n_users  %MasDe1km_new  \\\n",
       "0    2   21   221            32       540      836      64.593301   \n",
       "1    2   21   221            29       168      236      71.186441   \n",
       "2    2   20   220             2       100      149      67.114094   \n",
       "3    2   17   217             3       300      496      60.483871   \n",
       "4    2   13   213            16       559      878      63.667426   \n",
       "\n",
       "  iso_country_code  \n",
       "0               DO  \n",
       "1               DO  \n",
       "2               DO  \n",
       "3               DO  \n",
       "4               DO  "
      ]
     },
     "execution_count": 13,
     "metadata": {},
     "output_type": "execute_result"
    }
   ],
   "source": [
    "### condiciones para empalmar\n",
    "\n",
    "## periodo particular\n",
    "mes_inicio=9\n",
    "dia_inicio=1\n",
    "\n",
    "mes_final=9\n",
    "dia_final= 30\n",
    "\n",
    "## condiciones de filtro\n",
    "min_distancia = 1 #km\n",
    "min_pings_dia = 10\n",
    "\n",
    "## matriz vacia para rellenar informacion\n",
    "dfs_indicadores = []\n",
    "\n",
    "\n",
    "### Generando tabla\n",
    "if mes_inicio==mes_final:\n",
    "    tabla_usuarios_distancia =  f'historico_usuarios'    \n",
    "    query_filtro = (f\"SELECT t.year, \"\n",
    "                        \"t.month, \"\n",
    "                        \"t.day, \"\n",
    "                        \"t.iso_country_code, \"\n",
    "                        \"t.id_provincia, \"\n",
    "                        \"COUNT(*) as n_users, \"\n",
    "                        f\"SUM(CASE WHEN t.distancia_recorrida >= {min_distancia} then 1 ELSE 0 END) as n_users_mas1km \"\n",
    "                        f\"FROM (\"\n",
    "                            \"SELECT * \"\n",
    "                            f\"FROM {tabla_usuarios_distancia} \"\n",
    "                            f\"WHERE ({tabla_usuarios_distancia}.n_obs >= {min_pings_dia} AND ({tabla_usuarios_distancia}.day >= {dia_inicio} \"\n",
    "                   f\"AND {tabla_usuarios_distancia}.month = {mes_inicio}) AND ({tabla_usuarios_distancia}.day <= {dia_final} \"\n",
    "                   f\"AND {tabla_usuarios_distancia}.month = {mes_final}))) AS t \"\n",
    "                        \"GROUP BY t.year, t.month, t.day, t.iso_country_code, t.id_provincia\")\n",
    "else:\n",
    "    tabla_usuarios_distancia =  f'historico_usuarios'    \n",
    "    query_filtro = (f\"SELECT t.year, \"\n",
    "                        \"t.month, \"\n",
    "                        \"t.day, \"\n",
    "                        \"t.iso_country_code, \"\n",
    "                        \"t.id_provincia, \"\n",
    "                        \"COUNT(*) as n_users, \"\n",
    "                        f\"SUM(CASE WHEN t.distancia_recorrida >= {min_distancia} then 1 ELSE 0 END) as n_users_mas1km \"\n",
    "                        f\"FROM (\"\n",
    "                            \"SELECT * \"\n",
    "                            f\"FROM {tabla_usuarios_distancia} \"\n",
    "                            f\"WHERE ({tabla_usuarios_distancia}.n_obs >= {min_pings_dia} AND (({tabla_usuarios_distancia}.day >= {dia_inicio} \"\n",
    "                   f\"AND {tabla_usuarios_distancia}.month = {mes_inicio}) OR ({tabla_usuarios_distancia}.day <= {dia_final} \"\n",
    "                   f\"AND {tabla_usuarios_distancia}.month = {mes_final})))) AS t \"\n",
    "                        \"GROUP BY t.year, t.month, t.day, t.iso_country_code, t.id_provincia\")\n",
    "    \n",
    "df = cursor.execute(query_filtro).as_pandas()\n",
    "df['%MasDe1km'] = df['n_users_mas1km'] / df['n_users']*100\n",
    "dfs_indicadores.append(df)\n",
    "\n",
    "\n",
    "###operaciones\n",
    "df_by_dayempalme = pd.concat(dfs_indicadores)\n",
    "df_by_day_empalme=df_by_dayempalme\n",
    "df_by_day_empalme=pd.DataFrame(df_by_day_empalme)\n",
    "df_by_day_empalme=df_by_day_empalme.dropna(subset=[\"id_provincia\"])\n",
    "df_by_day_empalme['id_provincia']=df_by_day_empalme['id_provincia'].astype('int')\n",
    "df_by_day_empalme['month']=df_by_day_empalme['month'].astype('int')\n",
    "df_by_day_empalme['day']=df_by_day_empalme['day'].astype('int')\n",
    "df_by_day_empalme[\"day\"]=df_by_day_empalme[\"day\"].map(\"{:02}\".format)\n",
    "df_by_day_empalme[\"key4\"]=df_by_day_empalme['month'].astype(str)+ df_by_day_empalme[\"day\"].astype(str)\n",
    "df_by_day_empalme['key4']=df_by_day_empalme['key4'].astype('int')\n",
    "df_by_day_empalme=df_by_day_empalme.rename(columns={'month':'Mes','day':'Dia','%MasDe1km':'%MasDe1km_new','n_users_mas1km':'MasDe1km'})\n",
    "df_by_day_empalme=df_by_day_empalme.loc[:,['Mes','Dia','key4','id_provincia','MasDe1km','n_users','%MasDe1km_new','iso_country_code']]\n",
    "df_by_day_empalme['Dia']=df_by_day_empalme['Dia'].astype('int')\n",
    "\n",
    "\n",
    "###juntando base de datos\n",
    "df_by_day2at = df_by_day2at.append(df_by_day_empalme, ignore_index=True)\n",
    "\n",
    "###revisar columnas de informacion\n",
    "df_by_day2at.head()\n"
   ]
  },
  {
   "cell_type": "markdown",
   "metadata": {},
   "source": [
    "#### Ajustes finales"
   ]
  },
  {
   "cell_type": "code",
   "execution_count": 14,
   "metadata": {},
   "outputs": [
    {
     "data": {
      "text/html": [
       "<div>\n",
       "<style scoped>\n",
       "    .dataframe tbody tr th:only-of-type {\n",
       "        vertical-align: middle;\n",
       "    }\n",
       "\n",
       "    .dataframe tbody tr th {\n",
       "        vertical-align: top;\n",
       "    }\n",
       "\n",
       "    .dataframe thead th {\n",
       "        text-align: right;\n",
       "    }\n",
       "</style>\n",
       "<table border=\"1\" class=\"dataframe\">\n",
       "  <thead>\n",
       "    <tr style=\"text-align: right;\">\n",
       "      <th></th>\n",
       "      <th>Mes</th>\n",
       "      <th>Dia</th>\n",
       "      <th>key4</th>\n",
       "      <th>id_provincia</th>\n",
       "      <th>MasDe1km</th>\n",
       "      <th>n_users</th>\n",
       "      <th>%MasDe1km_new</th>\n",
       "      <th>iso_country_code</th>\n",
       "    </tr>\n",
       "  </thead>\n",
       "  <tbody>\n",
       "    <tr>\n",
       "      <th>2272</th>\n",
       "      <td>2</td>\n",
       "      <td>1</td>\n",
       "      <td>201</td>\n",
       "      <td>1</td>\n",
       "      <td>94936</td>\n",
       "      <td>136632</td>\n",
       "      <td>69.482991</td>\n",
       "      <td>AR</td>\n",
       "    </tr>\n",
       "    <tr>\n",
       "      <th>771</th>\n",
       "      <td>2</td>\n",
       "      <td>1</td>\n",
       "      <td>201</td>\n",
       "      <td>2</td>\n",
       "      <td>17828</td>\n",
       "      <td>27366</td>\n",
       "      <td>65.146532</td>\n",
       "      <td>AR</td>\n",
       "    </tr>\n",
       "    <tr>\n",
       "      <th>16693</th>\n",
       "      <td>2</td>\n",
       "      <td>1</td>\n",
       "      <td>201</td>\n",
       "      <td>3</td>\n",
       "      <td>875</td>\n",
       "      <td>1370</td>\n",
       "      <td>63.868613</td>\n",
       "      <td>AR</td>\n",
       "    </tr>\n",
       "    <tr>\n",
       "      <th>13223</th>\n",
       "      <td>2</td>\n",
       "      <td>1</td>\n",
       "      <td>201</td>\n",
       "      <td>4</td>\n",
       "      <td>2595</td>\n",
       "      <td>3890</td>\n",
       "      <td>66.709512</td>\n",
       "      <td>AR</td>\n",
       "    </tr>\n",
       "    <tr>\n",
       "      <th>10518</th>\n",
       "      <td>2</td>\n",
       "      <td>1</td>\n",
       "      <td>201</td>\n",
       "      <td>5</td>\n",
       "      <td>2610</td>\n",
       "      <td>3774</td>\n",
       "      <td>69.157393</td>\n",
       "      <td>AR</td>\n",
       "    </tr>\n",
       "  </tbody>\n",
       "</table>\n",
       "</div>"
      ],
      "text/plain": [
       "       Mes  Dia  key4  id_provincia  MasDe1km  n_users  %MasDe1km_new  \\\n",
       "2272     2    1   201             1     94936   136632      69.482991   \n",
       "771      2    1   201             2     17828    27366      65.146532   \n",
       "16693    2    1   201             3       875     1370      63.868613   \n",
       "13223    2    1   201             4      2595     3890      66.709512   \n",
       "10518    2    1   201             5      2610     3774      69.157393   \n",
       "\n",
       "      iso_country_code  \n",
       "2272                AR  \n",
       "771                 AR  \n",
       "16693               AR  \n",
       "13223               AR  \n",
       "10518               AR  "
      ]
     },
     "execution_count": 14,
     "metadata": {},
     "output_type": "execute_result"
    }
   ],
   "source": [
    "df_by_day2at=df_by_day2at.sort_values(by=['Mes','Dia','iso_country_code','id_provincia'])\n",
    "df_by_day2at.head()"
   ]
  },
  {
   "cell_type": "code",
   "execution_count": 15,
   "metadata": {},
   "outputs": [
    {
     "data": {
      "text/plain": [
       "(34193, 8)"
      ]
     },
     "execution_count": 15,
     "metadata": {},
     "output_type": "execute_result"
    }
   ],
   "source": [
    "df_by_day2at.shape"
   ]
  },
  {
   "cell_type": "markdown",
   "metadata": {},
   "source": [
    "### Indices Nacionales"
   ]
  },
  {
   "cell_type": "code",
   "execution_count": 16,
   "metadata": {},
   "outputs": [
    {
     "name": "stdout",
     "output_type": "stream",
     "text": [
      "Pais: DO\n"
     ]
    },
    {
     "name": "stderr",
     "output_type": "stream",
     "text": [
      "/home/ec2-user/anaconda3/envs/python3/lib/python3.6/site-packages/ipykernel/__main__.py:17: SettingWithCopyWarning: \n",
      "A value is trying to be set on a copy of a slice from a DataFrame\n",
      "\n",
      "See the caveats in the documentation: https://pandas.pydata.org/pandas-docs/stable/user_guide/indexing.html#returning-a-view-versus-a-copy\n",
      "/home/ec2-user/anaconda3/envs/python3/lib/python3.6/site-packages/ipykernel/__main__.py:18: SettingWithCopyWarning: \n",
      "A value is trying to be set on a copy of a slice from a DataFrame\n",
      "\n",
      "See the caveats in the documentation: https://pandas.pydata.org/pandas-docs/stable/user_guide/indexing.html#returning-a-view-versus-a-copy\n",
      "/home/ec2-user/anaconda3/envs/python3/lib/python3.6/site-packages/ipykernel/__main__.py:19: SettingWithCopyWarning: \n",
      "A value is trying to be set on a copy of a slice from a DataFrame\n",
      "\n",
      "See the caveats in the documentation: https://pandas.pydata.org/pandas-docs/stable/user_guide/indexing.html#returning-a-view-versus-a-copy\n"
     ]
    },
    {
     "name": "stdout",
     "output_type": "stream",
     "text": [
      "Writing 2848 records to graphdata-mobility-public/indicador_por_pais_nacional/DO_nacion_analisis.csv\n",
      "S3\n",
      "(2848, 8)\n",
      "Writing 1 records to graphdata-mobility-public/indicador_por_pais_nacional/DO_nacion.csv\n",
      "S3\n",
      "(1, 87)\n",
      "Pais: SV\n"
     ]
    },
    {
     "name": "stderr",
     "output_type": "stream",
     "text": [
      "/home/ec2-user/anaconda3/envs/python3/lib/python3.6/site-packages/ipykernel/__main__.py:17: SettingWithCopyWarning: \n",
      "A value is trying to be set on a copy of a slice from a DataFrame\n",
      "\n",
      "See the caveats in the documentation: https://pandas.pydata.org/pandas-docs/stable/user_guide/indexing.html#returning-a-view-versus-a-copy\n",
      "/home/ec2-user/anaconda3/envs/python3/lib/python3.6/site-packages/ipykernel/__main__.py:18: SettingWithCopyWarning: \n",
      "A value is trying to be set on a copy of a slice from a DataFrame\n",
      "\n",
      "See the caveats in the documentation: https://pandas.pydata.org/pandas-docs/stable/user_guide/indexing.html#returning-a-view-versus-a-copy\n",
      "/home/ec2-user/anaconda3/envs/python3/lib/python3.6/site-packages/ipykernel/__main__.py:19: SettingWithCopyWarning: \n",
      "A value is trying to be set on a copy of a slice from a DataFrame\n",
      "\n",
      "See the caveats in the documentation: https://pandas.pydata.org/pandas-docs/stable/user_guide/indexing.html#returning-a-view-versus-a-copy\n"
     ]
    },
    {
     "name": "stdout",
     "output_type": "stream",
     "text": [
      "Writing 1246 records to graphdata-mobility-public/indicador_por_pais_nacional/SV_nacion_analisis.csv\n",
      "S3\n",
      "(1246, 8)\n",
      "Writing 1 records to graphdata-mobility-public/indicador_por_pais_nacional/SV_nacion.csv\n",
      "S3\n",
      "(1, 87)\n",
      "Pais: CR\n"
     ]
    },
    {
     "name": "stderr",
     "output_type": "stream",
     "text": [
      "/home/ec2-user/anaconda3/envs/python3/lib/python3.6/site-packages/ipykernel/__main__.py:17: SettingWithCopyWarning: \n",
      "A value is trying to be set on a copy of a slice from a DataFrame\n",
      "\n",
      "See the caveats in the documentation: https://pandas.pydata.org/pandas-docs/stable/user_guide/indexing.html#returning-a-view-versus-a-copy\n",
      "/home/ec2-user/anaconda3/envs/python3/lib/python3.6/site-packages/ipykernel/__main__.py:18: SettingWithCopyWarning: \n",
      "A value is trying to be set on a copy of a slice from a DataFrame\n",
      "\n",
      "See the caveats in the documentation: https://pandas.pydata.org/pandas-docs/stable/user_guide/indexing.html#returning-a-view-versus-a-copy\n",
      "/home/ec2-user/anaconda3/envs/python3/lib/python3.6/site-packages/ipykernel/__main__.py:19: SettingWithCopyWarning: \n",
      "A value is trying to be set on a copy of a slice from a DataFrame\n",
      "\n",
      "See the caveats in the documentation: https://pandas.pydata.org/pandas-docs/stable/user_guide/indexing.html#returning-a-view-versus-a-copy\n"
     ]
    },
    {
     "name": "stdout",
     "output_type": "stream",
     "text": [
      "Writing 623 records to graphdata-mobility-public/indicador_por_pais_nacional/CR_nacion_analisis.csv\n",
      "S3\n",
      "(623, 8)\n",
      "Writing 1 records to graphdata-mobility-public/indicador_por_pais_nacional/CR_nacion.csv\n",
      "S3\n",
      "(1, 87)\n",
      "Pais: BO\n"
     ]
    },
    {
     "name": "stderr",
     "output_type": "stream",
     "text": [
      "/home/ec2-user/anaconda3/envs/python3/lib/python3.6/site-packages/ipykernel/__main__.py:17: SettingWithCopyWarning: \n",
      "A value is trying to be set on a copy of a slice from a DataFrame\n",
      "\n",
      "See the caveats in the documentation: https://pandas.pydata.org/pandas-docs/stable/user_guide/indexing.html#returning-a-view-versus-a-copy\n",
      "/home/ec2-user/anaconda3/envs/python3/lib/python3.6/site-packages/ipykernel/__main__.py:18: SettingWithCopyWarning: \n",
      "A value is trying to be set on a copy of a slice from a DataFrame\n",
      "\n",
      "See the caveats in the documentation: https://pandas.pydata.org/pandas-docs/stable/user_guide/indexing.html#returning-a-view-versus-a-copy\n",
      "/home/ec2-user/anaconda3/envs/python3/lib/python3.6/site-packages/ipykernel/__main__.py:19: SettingWithCopyWarning: \n",
      "A value is trying to be set on a copy of a slice from a DataFrame\n",
      "\n",
      "See the caveats in the documentation: https://pandas.pydata.org/pandas-docs/stable/user_guide/indexing.html#returning-a-view-versus-a-copy\n"
     ]
    },
    {
     "name": "stdout",
     "output_type": "stream",
     "text": [
      "Writing 801 records to graphdata-mobility-public/indicador_por_pais_nacional/BO_nacion_analisis.csv\n",
      "S3\n",
      "(801, 8)\n",
      "Writing 1 records to graphdata-mobility-public/indicador_por_pais_nacional/BO_nacion.csv\n",
      "S3\n",
      "(1, 87)\n",
      "Pais: CL\n"
     ]
    },
    {
     "name": "stderr",
     "output_type": "stream",
     "text": [
      "/home/ec2-user/anaconda3/envs/python3/lib/python3.6/site-packages/ipykernel/__main__.py:17: SettingWithCopyWarning: \n",
      "A value is trying to be set on a copy of a slice from a DataFrame\n",
      "\n",
      "See the caveats in the documentation: https://pandas.pydata.org/pandas-docs/stable/user_guide/indexing.html#returning-a-view-versus-a-copy\n",
      "/home/ec2-user/anaconda3/envs/python3/lib/python3.6/site-packages/ipykernel/__main__.py:18: SettingWithCopyWarning: \n",
      "A value is trying to be set on a copy of a slice from a DataFrame\n",
      "\n",
      "See the caveats in the documentation: https://pandas.pydata.org/pandas-docs/stable/user_guide/indexing.html#returning-a-view-versus-a-copy\n",
      "/home/ec2-user/anaconda3/envs/python3/lib/python3.6/site-packages/ipykernel/__main__.py:19: SettingWithCopyWarning: \n",
      "A value is trying to be set on a copy of a slice from a DataFrame\n",
      "\n",
      "See the caveats in the documentation: https://pandas.pydata.org/pandas-docs/stable/user_guide/indexing.html#returning-a-view-versus-a-copy\n"
     ]
    },
    {
     "name": "stdout",
     "output_type": "stream",
     "text": [
      "Writing 1424 records to graphdata-mobility-public/indicador_por_pais_nacional/CL_nacion_analisis.csv\n",
      "S3\n",
      "(1424, 8)\n",
      "Writing 1 records to graphdata-mobility-public/indicador_por_pais_nacional/CL_nacion.csv\n",
      "S3\n",
      "(1, 87)\n",
      "Pais: EC\n"
     ]
    },
    {
     "name": "stderr",
     "output_type": "stream",
     "text": [
      "/home/ec2-user/anaconda3/envs/python3/lib/python3.6/site-packages/ipykernel/__main__.py:17: SettingWithCopyWarning: \n",
      "A value is trying to be set on a copy of a slice from a DataFrame\n",
      "\n",
      "See the caveats in the documentation: https://pandas.pydata.org/pandas-docs/stable/user_guide/indexing.html#returning-a-view-versus-a-copy\n",
      "/home/ec2-user/anaconda3/envs/python3/lib/python3.6/site-packages/ipykernel/__main__.py:18: SettingWithCopyWarning: \n",
      "A value is trying to be set on a copy of a slice from a DataFrame\n",
      "\n",
      "See the caveats in the documentation: https://pandas.pydata.org/pandas-docs/stable/user_guide/indexing.html#returning-a-view-versus-a-copy\n",
      "/home/ec2-user/anaconda3/envs/python3/lib/python3.6/site-packages/ipykernel/__main__.py:19: SettingWithCopyWarning: \n",
      "A value is trying to be set on a copy of a slice from a DataFrame\n",
      "\n",
      "See the caveats in the documentation: https://pandas.pydata.org/pandas-docs/stable/user_guide/indexing.html#returning-a-view-versus-a-copy\n"
     ]
    },
    {
     "name": "stdout",
     "output_type": "stream",
     "text": [
      "Writing 2225 records to graphdata-mobility-public/indicador_por_pais_nacional/EC_nacion_analisis.csv\n",
      "S3\n",
      "(2225, 8)\n",
      "Writing 1 records to graphdata-mobility-public/indicador_por_pais_nacional/EC_nacion.csv\n",
      "S3\n",
      "(1, 87)\n",
      "Pais: AR\n"
     ]
    },
    {
     "name": "stderr",
     "output_type": "stream",
     "text": [
      "/home/ec2-user/anaconda3/envs/python3/lib/python3.6/site-packages/ipykernel/__main__.py:17: SettingWithCopyWarning: \n",
      "A value is trying to be set on a copy of a slice from a DataFrame\n",
      "\n",
      "See the caveats in the documentation: https://pandas.pydata.org/pandas-docs/stable/user_guide/indexing.html#returning-a-view-versus-a-copy\n",
      "/home/ec2-user/anaconda3/envs/python3/lib/python3.6/site-packages/ipykernel/__main__.py:18: SettingWithCopyWarning: \n",
      "A value is trying to be set on a copy of a slice from a DataFrame\n",
      "\n",
      "See the caveats in the documentation: https://pandas.pydata.org/pandas-docs/stable/user_guide/indexing.html#returning-a-view-versus-a-copy\n",
      "/home/ec2-user/anaconda3/envs/python3/lib/python3.6/site-packages/ipykernel/__main__.py:19: SettingWithCopyWarning: \n",
      "A value is trying to be set on a copy of a slice from a DataFrame\n",
      "\n",
      "See the caveats in the documentation: https://pandas.pydata.org/pandas-docs/stable/user_guide/indexing.html#returning-a-view-versus-a-copy\n"
     ]
    },
    {
     "name": "stdout",
     "output_type": "stream",
     "text": [
      "Writing 2136 records to graphdata-mobility-public/indicador_por_pais_nacional/AR_nacion_analisis.csv\n",
      "S3\n",
      "(2136, 8)\n",
      "Writing 1 records to graphdata-mobility-public/indicador_por_pais_nacional/AR_nacion.csv\n",
      "S3\n",
      "(1, 87)\n",
      "Pais: VE\n"
     ]
    },
    {
     "name": "stderr",
     "output_type": "stream",
     "text": [
      "/home/ec2-user/anaconda3/envs/python3/lib/python3.6/site-packages/ipykernel/__main__.py:17: SettingWithCopyWarning: \n",
      "A value is trying to be set on a copy of a slice from a DataFrame\n",
      "\n",
      "See the caveats in the documentation: https://pandas.pydata.org/pandas-docs/stable/user_guide/indexing.html#returning-a-view-versus-a-copy\n",
      "/home/ec2-user/anaconda3/envs/python3/lib/python3.6/site-packages/ipykernel/__main__.py:18: SettingWithCopyWarning: \n",
      "A value is trying to be set on a copy of a slice from a DataFrame\n",
      "\n",
      "See the caveats in the documentation: https://pandas.pydata.org/pandas-docs/stable/user_guide/indexing.html#returning-a-view-versus-a-copy\n",
      "/home/ec2-user/anaconda3/envs/python3/lib/python3.6/site-packages/ipykernel/__main__.py:19: SettingWithCopyWarning: \n",
      "A value is trying to be set on a copy of a slice from a DataFrame\n",
      "\n",
      "See the caveats in the documentation: https://pandas.pydata.org/pandas-docs/stable/user_guide/indexing.html#returning-a-view-versus-a-copy\n"
     ]
    },
    {
     "name": "stdout",
     "output_type": "stream",
     "text": [
      "Writing 2225 records to graphdata-mobility-public/indicador_por_pais_nacional/VE_nacion_analisis.csv\n",
      "S3\n",
      "(2225, 8)\n",
      "Writing 1 records to graphdata-mobility-public/indicador_por_pais_nacional/VE_nacion.csv\n",
      "S3\n",
      "(1, 87)\n",
      "Pais: GT\n"
     ]
    },
    {
     "name": "stderr",
     "output_type": "stream",
     "text": [
      "/home/ec2-user/anaconda3/envs/python3/lib/python3.6/site-packages/ipykernel/__main__.py:17: SettingWithCopyWarning: \n",
      "A value is trying to be set on a copy of a slice from a DataFrame\n",
      "\n",
      "See the caveats in the documentation: https://pandas.pydata.org/pandas-docs/stable/user_guide/indexing.html#returning-a-view-versus-a-copy\n",
      "/home/ec2-user/anaconda3/envs/python3/lib/python3.6/site-packages/ipykernel/__main__.py:18: SettingWithCopyWarning: \n",
      "A value is trying to be set on a copy of a slice from a DataFrame\n",
      "\n",
      "See the caveats in the documentation: https://pandas.pydata.org/pandas-docs/stable/user_guide/indexing.html#returning-a-view-versus-a-copy\n",
      "/home/ec2-user/anaconda3/envs/python3/lib/python3.6/site-packages/ipykernel/__main__.py:19: SettingWithCopyWarning: \n",
      "A value is trying to be set on a copy of a slice from a DataFrame\n",
      "\n",
      "See the caveats in the documentation: https://pandas.pydata.org/pandas-docs/stable/user_guide/indexing.html#returning-a-view-versus-a-copy\n"
     ]
    },
    {
     "name": "stdout",
     "output_type": "stream",
     "text": [
      "Writing 1958 records to graphdata-mobility-public/indicador_por_pais_nacional/GT_nacion_analisis.csv\n",
      "S3\n",
      "(1958, 8)\n",
      "Writing 1 records to graphdata-mobility-public/indicador_por_pais_nacional/GT_nacion.csv\n",
      "S3\n",
      "(1, 87)\n",
      "Pais: HN\n"
     ]
    },
    {
     "name": "stderr",
     "output_type": "stream",
     "text": [
      "/home/ec2-user/anaconda3/envs/python3/lib/python3.6/site-packages/ipykernel/__main__.py:17: SettingWithCopyWarning: \n",
      "A value is trying to be set on a copy of a slice from a DataFrame\n",
      "\n",
      "See the caveats in the documentation: https://pandas.pydata.org/pandas-docs/stable/user_guide/indexing.html#returning-a-view-versus-a-copy\n",
      "/home/ec2-user/anaconda3/envs/python3/lib/python3.6/site-packages/ipykernel/__main__.py:18: SettingWithCopyWarning: \n",
      "A value is trying to be set on a copy of a slice from a DataFrame\n",
      "\n",
      "See the caveats in the documentation: https://pandas.pydata.org/pandas-docs/stable/user_guide/indexing.html#returning-a-view-versus-a-copy\n",
      "/home/ec2-user/anaconda3/envs/python3/lib/python3.6/site-packages/ipykernel/__main__.py:19: SettingWithCopyWarning: \n",
      "A value is trying to be set on a copy of a slice from a DataFrame\n",
      "\n",
      "See the caveats in the documentation: https://pandas.pydata.org/pandas-docs/stable/user_guide/indexing.html#returning-a-view-versus-a-copy\n"
     ]
    },
    {
     "name": "stdout",
     "output_type": "stream",
     "text": [
      "Writing 1602 records to graphdata-mobility-public/indicador_por_pais_nacional/HN_nacion_analisis.csv\n",
      "S3\n",
      "(1602, 8)\n",
      "Writing 1 records to graphdata-mobility-public/indicador_por_pais_nacional/HN_nacion.csv\n",
      "S3\n",
      "(1, 87)\n",
      "Pais: NI\n"
     ]
    },
    {
     "name": "stderr",
     "output_type": "stream",
     "text": [
      "/home/ec2-user/anaconda3/envs/python3/lib/python3.6/site-packages/ipykernel/__main__.py:17: SettingWithCopyWarning: \n",
      "A value is trying to be set on a copy of a slice from a DataFrame\n",
      "\n",
      "See the caveats in the documentation: https://pandas.pydata.org/pandas-docs/stable/user_guide/indexing.html#returning-a-view-versus-a-copy\n",
      "/home/ec2-user/anaconda3/envs/python3/lib/python3.6/site-packages/ipykernel/__main__.py:18: SettingWithCopyWarning: \n",
      "A value is trying to be set on a copy of a slice from a DataFrame\n",
      "\n",
      "See the caveats in the documentation: https://pandas.pydata.org/pandas-docs/stable/user_guide/indexing.html#returning-a-view-versus-a-copy\n",
      "/home/ec2-user/anaconda3/envs/python3/lib/python3.6/site-packages/ipykernel/__main__.py:19: SettingWithCopyWarning: \n",
      "A value is trying to be set on a copy of a slice from a DataFrame\n",
      "\n",
      "See the caveats in the documentation: https://pandas.pydata.org/pandas-docs/stable/user_guide/indexing.html#returning-a-view-versus-a-copy\n"
     ]
    },
    {
     "name": "stdout",
     "output_type": "stream",
     "text": [
      "Writing 0 records to graphdata-mobility-public/indicador_por_pais_nacional/NI_nacion_analisis.csv\n",
      "S3\n",
      "(0, 8)\n",
      "Writing 0 records to graphdata-mobility-public/indicador_por_pais_nacional/NI_nacion.csv\n",
      "S3\n",
      "(0, 0)\n",
      "Pais: PA\n"
     ]
    },
    {
     "name": "stderr",
     "output_type": "stream",
     "text": [
      "/home/ec2-user/anaconda3/envs/python3/lib/python3.6/site-packages/ipykernel/__main__.py:17: SettingWithCopyWarning: \n",
      "A value is trying to be set on a copy of a slice from a DataFrame\n",
      "\n",
      "See the caveats in the documentation: https://pandas.pydata.org/pandas-docs/stable/user_guide/indexing.html#returning-a-view-versus-a-copy\n",
      "/home/ec2-user/anaconda3/envs/python3/lib/python3.6/site-packages/ipykernel/__main__.py:18: SettingWithCopyWarning: \n",
      "A value is trying to be set on a copy of a slice from a DataFrame\n",
      "\n",
      "See the caveats in the documentation: https://pandas.pydata.org/pandas-docs/stable/user_guide/indexing.html#returning-a-view-versus-a-copy\n",
      "/home/ec2-user/anaconda3/envs/python3/lib/python3.6/site-packages/ipykernel/__main__.py:19: SettingWithCopyWarning: \n",
      "A value is trying to be set on a copy of a slice from a DataFrame\n",
      "\n",
      "See the caveats in the documentation: https://pandas.pydata.org/pandas-docs/stable/user_guide/indexing.html#returning-a-view-versus-a-copy\n"
     ]
    },
    {
     "name": "stdout",
     "output_type": "stream",
     "text": [
      "Writing 1098 records to graphdata-mobility-public/indicador_por_pais_nacional/PA_nacion_analisis.csv\n",
      "S3\n",
      "(1098, 8)\n",
      "Writing 1 records to graphdata-mobility-public/indicador_por_pais_nacional/PA_nacion.csv\n",
      "S3\n",
      "(1, 87)\n",
      "Pais: PY\n"
     ]
    },
    {
     "name": "stderr",
     "output_type": "stream",
     "text": [
      "/home/ec2-user/anaconda3/envs/python3/lib/python3.6/site-packages/ipykernel/__main__.py:17: SettingWithCopyWarning: \n",
      "A value is trying to be set on a copy of a slice from a DataFrame\n",
      "\n",
      "See the caveats in the documentation: https://pandas.pydata.org/pandas-docs/stable/user_guide/indexing.html#returning-a-view-versus-a-copy\n",
      "/home/ec2-user/anaconda3/envs/python3/lib/python3.6/site-packages/ipykernel/__main__.py:18: SettingWithCopyWarning: \n",
      "A value is trying to be set on a copy of a slice from a DataFrame\n",
      "\n",
      "See the caveats in the documentation: https://pandas.pydata.org/pandas-docs/stable/user_guide/indexing.html#returning-a-view-versus-a-copy\n",
      "/home/ec2-user/anaconda3/envs/python3/lib/python3.6/site-packages/ipykernel/__main__.py:19: SettingWithCopyWarning: \n",
      "A value is trying to be set on a copy of a slice from a DataFrame\n",
      "\n",
      "See the caveats in the documentation: https://pandas.pydata.org/pandas-docs/stable/user_guide/indexing.html#returning-a-view-versus-a-copy\n"
     ]
    },
    {
     "name": "stdout",
     "output_type": "stream",
     "text": [
      "Writing 1602 records to graphdata-mobility-public/indicador_por_pais_nacional/PY_nacion_analisis.csv\n",
      "S3\n",
      "(1602, 8)\n",
      "Writing 1 records to graphdata-mobility-public/indicador_por_pais_nacional/PY_nacion.csv\n",
      "S3\n",
      "(1, 87)\n",
      "Pais: PE\n"
     ]
    },
    {
     "name": "stderr",
     "output_type": "stream",
     "text": [
      "/home/ec2-user/anaconda3/envs/python3/lib/python3.6/site-packages/ipykernel/__main__.py:17: SettingWithCopyWarning: \n",
      "A value is trying to be set on a copy of a slice from a DataFrame\n",
      "\n",
      "See the caveats in the documentation: https://pandas.pydata.org/pandas-docs/stable/user_guide/indexing.html#returning-a-view-versus-a-copy\n",
      "/home/ec2-user/anaconda3/envs/python3/lib/python3.6/site-packages/ipykernel/__main__.py:18: SettingWithCopyWarning: \n",
      "A value is trying to be set on a copy of a slice from a DataFrame\n",
      "\n",
      "See the caveats in the documentation: https://pandas.pydata.org/pandas-docs/stable/user_guide/indexing.html#returning-a-view-versus-a-copy\n",
      "/home/ec2-user/anaconda3/envs/python3/lib/python3.6/site-packages/ipykernel/__main__.py:19: SettingWithCopyWarning: \n",
      "A value is trying to be set on a copy of a slice from a DataFrame\n",
      "\n",
      "See the caveats in the documentation: https://pandas.pydata.org/pandas-docs/stable/user_guide/indexing.html#returning-a-view-versus-a-copy\n"
     ]
    },
    {
     "name": "stdout",
     "output_type": "stream",
     "text": [
      "Writing 2314 records to graphdata-mobility-public/indicador_por_pais_nacional/PE_nacion_analisis.csv\n",
      "S3\n",
      "(2314, 8)\n",
      "Writing 1 records to graphdata-mobility-public/indicador_por_pais_nacional/PE_nacion.csv\n",
      "S3\n",
      "(1, 87)\n",
      "Pais: UY\n"
     ]
    },
    {
     "name": "stderr",
     "output_type": "stream",
     "text": [
      "/home/ec2-user/anaconda3/envs/python3/lib/python3.6/site-packages/ipykernel/__main__.py:17: SettingWithCopyWarning: \n",
      "A value is trying to be set on a copy of a slice from a DataFrame\n",
      "\n",
      "See the caveats in the documentation: https://pandas.pydata.org/pandas-docs/stable/user_guide/indexing.html#returning-a-view-versus-a-copy\n",
      "/home/ec2-user/anaconda3/envs/python3/lib/python3.6/site-packages/ipykernel/__main__.py:18: SettingWithCopyWarning: \n",
      "A value is trying to be set on a copy of a slice from a DataFrame\n",
      "\n",
      "See the caveats in the documentation: https://pandas.pydata.org/pandas-docs/stable/user_guide/indexing.html#returning-a-view-versus-a-copy\n",
      "/home/ec2-user/anaconda3/envs/python3/lib/python3.6/site-packages/ipykernel/__main__.py:19: SettingWithCopyWarning: \n",
      "A value is trying to be set on a copy of a slice from a DataFrame\n",
      "\n",
      "See the caveats in the documentation: https://pandas.pydata.org/pandas-docs/stable/user_guide/indexing.html#returning-a-view-versus-a-copy\n"
     ]
    },
    {
     "name": "stdout",
     "output_type": "stream",
     "text": [
      "Writing 0 records to graphdata-mobility-public/indicador_por_pais_nacional/UY_nacion_analisis.csv\n",
      "S3\n",
      "(0, 8)\n",
      "Writing 0 records to graphdata-mobility-public/indicador_por_pais_nacional/UY_nacion.csv\n",
      "S3\n",
      "(0, 0)\n",
      "Pais: BZ\n"
     ]
    },
    {
     "name": "stderr",
     "output_type": "stream",
     "text": [
      "/home/ec2-user/anaconda3/envs/python3/lib/python3.6/site-packages/ipykernel/__main__.py:17: SettingWithCopyWarning: \n",
      "A value is trying to be set on a copy of a slice from a DataFrame\n",
      "\n",
      "See the caveats in the documentation: https://pandas.pydata.org/pandas-docs/stable/user_guide/indexing.html#returning-a-view-versus-a-copy\n",
      "/home/ec2-user/anaconda3/envs/python3/lib/python3.6/site-packages/ipykernel/__main__.py:18: SettingWithCopyWarning: \n",
      "A value is trying to be set on a copy of a slice from a DataFrame\n",
      "\n",
      "See the caveats in the documentation: https://pandas.pydata.org/pandas-docs/stable/user_guide/indexing.html#returning-a-view-versus-a-copy\n",
      "/home/ec2-user/anaconda3/envs/python3/lib/python3.6/site-packages/ipykernel/__main__.py:19: SettingWithCopyWarning: \n",
      "A value is trying to be set on a copy of a slice from a DataFrame\n",
      "\n",
      "See the caveats in the documentation: https://pandas.pydata.org/pandas-docs/stable/user_guide/indexing.html#returning-a-view-versus-a-copy\n"
     ]
    },
    {
     "name": "stdout",
     "output_type": "stream",
     "text": [
      "Writing 524 records to graphdata-mobility-public/indicador_por_pais_nacional/BZ_nacion_analisis.csv\n",
      "S3\n",
      "(524, 8)\n",
      "Writing 1 records to graphdata-mobility-public/indicador_por_pais_nacional/BZ_nacion.csv\n",
      "S3\n",
      "(1, 87)\n",
      "Pais: GY\n"
     ]
    },
    {
     "name": "stderr",
     "output_type": "stream",
     "text": [
      "/home/ec2-user/anaconda3/envs/python3/lib/python3.6/site-packages/ipykernel/__main__.py:17: SettingWithCopyWarning: \n",
      "A value is trying to be set on a copy of a slice from a DataFrame\n",
      "\n",
      "See the caveats in the documentation: https://pandas.pydata.org/pandas-docs/stable/user_guide/indexing.html#returning-a-view-versus-a-copy\n",
      "/home/ec2-user/anaconda3/envs/python3/lib/python3.6/site-packages/ipykernel/__main__.py:18: SettingWithCopyWarning: \n",
      "A value is trying to be set on a copy of a slice from a DataFrame\n",
      "\n",
      "See the caveats in the documentation: https://pandas.pydata.org/pandas-docs/stable/user_guide/indexing.html#returning-a-view-versus-a-copy\n",
      "/home/ec2-user/anaconda3/envs/python3/lib/python3.6/site-packages/ipykernel/__main__.py:19: SettingWithCopyWarning: \n",
      "A value is trying to be set on a copy of a slice from a DataFrame\n",
      "\n",
      "See the caveats in the documentation: https://pandas.pydata.org/pandas-docs/stable/user_guide/indexing.html#returning-a-view-versus-a-copy\n"
     ]
    },
    {
     "name": "stdout",
     "output_type": "stream",
     "text": [
      "Writing 888 records to graphdata-mobility-public/indicador_por_pais_nacional/GY_nacion_analisis.csv\n",
      "S3\n",
      "(888, 8)\n",
      "Writing 1 records to graphdata-mobility-public/indicador_por_pais_nacional/GY_nacion.csv\n",
      "S3\n",
      "(1, 87)\n",
      "Pais: JM\n"
     ]
    },
    {
     "name": "stderr",
     "output_type": "stream",
     "text": [
      "/home/ec2-user/anaconda3/envs/python3/lib/python3.6/site-packages/ipykernel/__main__.py:17: SettingWithCopyWarning: \n",
      "A value is trying to be set on a copy of a slice from a DataFrame\n",
      "\n",
      "See the caveats in the documentation: https://pandas.pydata.org/pandas-docs/stable/user_guide/indexing.html#returning-a-view-versus-a-copy\n",
      "/home/ec2-user/anaconda3/envs/python3/lib/python3.6/site-packages/ipykernel/__main__.py:18: SettingWithCopyWarning: \n",
      "A value is trying to be set on a copy of a slice from a DataFrame\n",
      "\n",
      "See the caveats in the documentation: https://pandas.pydata.org/pandas-docs/stable/user_guide/indexing.html#returning-a-view-versus-a-copy\n",
      "/home/ec2-user/anaconda3/envs/python3/lib/python3.6/site-packages/ipykernel/__main__.py:19: SettingWithCopyWarning: \n",
      "A value is trying to be set on a copy of a slice from a DataFrame\n",
      "\n",
      "See the caveats in the documentation: https://pandas.pydata.org/pandas-docs/stable/user_guide/indexing.html#returning-a-view-versus-a-copy\n"
     ]
    },
    {
     "name": "stdout",
     "output_type": "stream",
     "text": [
      "Writing 1246 records to graphdata-mobility-public/indicador_por_pais_nacional/JM_nacion_analisis.csv\n",
      "S3\n",
      "(1246, 8)\n",
      "Writing 1 records to graphdata-mobility-public/indicador_por_pais_nacional/JM_nacion.csv\n",
      "S3\n",
      "(1, 87)\n",
      "Pais: TT\n"
     ]
    },
    {
     "name": "stderr",
     "output_type": "stream",
     "text": [
      "/home/ec2-user/anaconda3/envs/python3/lib/python3.6/site-packages/ipykernel/__main__.py:17: SettingWithCopyWarning: \n",
      "A value is trying to be set on a copy of a slice from a DataFrame\n",
      "\n",
      "See the caveats in the documentation: https://pandas.pydata.org/pandas-docs/stable/user_guide/indexing.html#returning-a-view-versus-a-copy\n",
      "/home/ec2-user/anaconda3/envs/python3/lib/python3.6/site-packages/ipykernel/__main__.py:18: SettingWithCopyWarning: \n",
      "A value is trying to be set on a copy of a slice from a DataFrame\n",
      "\n",
      "See the caveats in the documentation: https://pandas.pydata.org/pandas-docs/stable/user_guide/indexing.html#returning-a-view-versus-a-copy\n",
      "/home/ec2-user/anaconda3/envs/python3/lib/python3.6/site-packages/ipykernel/__main__.py:19: SettingWithCopyWarning: \n",
      "A value is trying to be set on a copy of a slice from a DataFrame\n",
      "\n",
      "See the caveats in the documentation: https://pandas.pydata.org/pandas-docs/stable/user_guide/indexing.html#returning-a-view-versus-a-copy\n"
     ]
    },
    {
     "name": "stdout",
     "output_type": "stream",
     "text": [
      "Writing 1335 records to graphdata-mobility-public/indicador_por_pais_nacional/TT_nacion_analisis.csv\n",
      "S3\n",
      "(1335, 8)\n",
      "Writing 1 records to graphdata-mobility-public/indicador_por_pais_nacional/TT_nacion.csv\n",
      "S3\n",
      "(1, 87)\n",
      "Pais: CO\n"
     ]
    },
    {
     "name": "stderr",
     "output_type": "stream",
     "text": [
      "/home/ec2-user/anaconda3/envs/python3/lib/python3.6/site-packages/ipykernel/__main__.py:17: SettingWithCopyWarning: \n",
      "A value is trying to be set on a copy of a slice from a DataFrame\n",
      "\n",
      "See the caveats in the documentation: https://pandas.pydata.org/pandas-docs/stable/user_guide/indexing.html#returning-a-view-versus-a-copy\n",
      "/home/ec2-user/anaconda3/envs/python3/lib/python3.6/site-packages/ipykernel/__main__.py:18: SettingWithCopyWarning: \n",
      "A value is trying to be set on a copy of a slice from a DataFrame\n",
      "\n",
      "See the caveats in the documentation: https://pandas.pydata.org/pandas-docs/stable/user_guide/indexing.html#returning-a-view-versus-a-copy\n",
      "/home/ec2-user/anaconda3/envs/python3/lib/python3.6/site-packages/ipykernel/__main__.py:19: SettingWithCopyWarning: \n",
      "A value is trying to be set on a copy of a slice from a DataFrame\n",
      "\n",
      "See the caveats in the documentation: https://pandas.pydata.org/pandas-docs/stable/user_guide/indexing.html#returning-a-view-versus-a-copy\n"
     ]
    },
    {
     "name": "stdout",
     "output_type": "stream",
     "text": [
      "Writing 2847 records to graphdata-mobility-public/indicador_por_pais_nacional/CO_nacion_analisis.csv\n",
      "S3\n",
      "(2847, 8)\n",
      "Writing 1 records to graphdata-mobility-public/indicador_por_pais_nacional/CO_nacion.csv\n",
      "S3\n",
      "(1, 87)\n",
      "Pais: BR\n"
     ]
    },
    {
     "name": "stderr",
     "output_type": "stream",
     "text": [
      "/home/ec2-user/anaconda3/envs/python3/lib/python3.6/site-packages/ipykernel/__main__.py:17: SettingWithCopyWarning: \n",
      "A value is trying to be set on a copy of a slice from a DataFrame\n",
      "\n",
      "See the caveats in the documentation: https://pandas.pydata.org/pandas-docs/stable/user_guide/indexing.html#returning-a-view-versus-a-copy\n",
      "/home/ec2-user/anaconda3/envs/python3/lib/python3.6/site-packages/ipykernel/__main__.py:18: SettingWithCopyWarning: \n",
      "A value is trying to be set on a copy of a slice from a DataFrame\n",
      "\n",
      "See the caveats in the documentation: https://pandas.pydata.org/pandas-docs/stable/user_guide/indexing.html#returning-a-view-versus-a-copy\n",
      "/home/ec2-user/anaconda3/envs/python3/lib/python3.6/site-packages/ipykernel/__main__.py:19: SettingWithCopyWarning: \n",
      "A value is trying to be set on a copy of a slice from a DataFrame\n",
      "\n",
      "See the caveats in the documentation: https://pandas.pydata.org/pandas-docs/stable/user_guide/indexing.html#returning-a-view-versus-a-copy\n"
     ]
    },
    {
     "name": "stdout",
     "output_type": "stream",
     "text": [
      "Writing 2403 records to graphdata-mobility-public/indicador_por_pais_nacional/BR_nacion_analisis.csv\n",
      "S3\n",
      "(2403, 8)\n",
      "Writing 1 records to graphdata-mobility-public/indicador_por_pais_nacional/BR_nacion.csv\n",
      "S3\n",
      "(1, 87)\n",
      "Pais: MX\n"
     ]
    },
    {
     "name": "stderr",
     "output_type": "stream",
     "text": [
      "/home/ec2-user/anaconda3/envs/python3/lib/python3.6/site-packages/ipykernel/__main__.py:17: SettingWithCopyWarning: \n",
      "A value is trying to be set on a copy of a slice from a DataFrame\n",
      "\n",
      "See the caveats in the documentation: https://pandas.pydata.org/pandas-docs/stable/user_guide/indexing.html#returning-a-view-versus-a-copy\n",
      "/home/ec2-user/anaconda3/envs/python3/lib/python3.6/site-packages/ipykernel/__main__.py:18: SettingWithCopyWarning: \n",
      "A value is trying to be set on a copy of a slice from a DataFrame\n",
      "\n",
      "See the caveats in the documentation: https://pandas.pydata.org/pandas-docs/stable/user_guide/indexing.html#returning-a-view-versus-a-copy\n",
      "/home/ec2-user/anaconda3/envs/python3/lib/python3.6/site-packages/ipykernel/__main__.py:19: SettingWithCopyWarning: \n",
      "A value is trying to be set on a copy of a slice from a DataFrame\n",
      "\n",
      "See the caveats in the documentation: https://pandas.pydata.org/pandas-docs/stable/user_guide/indexing.html#returning-a-view-versus-a-copy\n"
     ]
    },
    {
     "name": "stdout",
     "output_type": "stream",
     "text": [
      "Writing 2848 records to graphdata-mobility-public/indicador_por_pais_nacional/MX_nacion_analisis.csv\n",
      "S3\n",
      "(2848, 8)\n",
      "Writing 1 records to graphdata-mobility-public/indicador_por_pais_nacional/MX_nacion.csv\n",
      "S3\n",
      "(1, 87)\n"
     ]
    }
   ],
   "source": [
    "paises = ['DO','SV','CR','BO','CL','EC','AR','VE','GT','HN','NI','PA','PY','PE','UY','BZ','GY','JM','TT','CO','BR','MX'] \n",
    "#paises = ['CL']\n",
    "for pais in paises:\n",
    "    print(f\"Pais: {pais}\")\n",
    "    \n",
    "    df_by_day=df_by_day2at[df_by_day2at['iso_country_code']==pais]\n",
    "    df_by_day=df_by_day.rename(columns={'iso_country_code':'country'})\n",
    "    df_by_day=df_by_day.sort_values(by=['Mes','Dia'])\n",
    "    \n",
    "    ##computar indice suavizado\n",
    "    \n",
    "    ##Baseline    \n",
    "    year=\"2020\"\n",
    "    df_by_day[\"fecha\"] = year + \"-\" + df_by_day['Mes'].astype(int).astype(str) + \"-\" + df_by_day[\"Dia\"].astype(int).astype(str)\n",
    "    df_by_day['weekday'] = pd.to_datetime(df_by_day['fecha']).apply(lambda x: x.weekday())\n",
    "    df_by_day[\"weekday2\"]=0 \n",
    "    df_by_day[\"weekday2\"][df_by_day[\"weekday\"]==6]=\"Domingo\"       \n",
    "    df_by_day[\"weekday2\"][df_by_day[\"weekday\"]==5]=\"Sabado\" \n",
    "    df_by_day[\"weekday2\"][(df_by_day[\"weekday\"]!=5) & (df_by_day[\"weekday\"]!=6)]=\"Semana\" \n",
    "    df_by_day[\"key\"]=df_by_day[\"weekday2\"].astype(str)+df_by_day[\"country\"].astype(str)\n",
    "    reg=df_by_day[\"country\"].unique()\n",
    "    dia8=df_by_day[(df_by_day[\"Mes\"]==2) & (df_by_day[\"Dia\"]==8)].groupby([\"country\"])[\"%MasDe1km_new\"].sum()\n",
    "    dia8=pd.DataFrame(dia8)\n",
    "    dia8[\"fecha\"]=\"Domingo\"\n",
    "    \n",
    "    #dia8[\"country\"]=reg\n",
    "    dia8=dia8.reset_index()\n",
    "    dia7=df_by_day[(df_by_day[\"Mes\"]==2) & (df_by_day[\"Dia\"]==7)].groupby([\"country\"])[\"%MasDe1km_new\"].sum()\n",
    "    dia7=pd.DataFrame(dia7)\n",
    "    dia7[\"fecha\"]=\"Sabado\"\n",
    "    \n",
    "    #dia7[\"country\"]=reg\n",
    "    dia7=dia7.reset_index()\n",
    "    diasem=df_by_day[(df_by_day[\"Mes\"]==2) & (df_by_day['Dia'].isin(['5', '6', '9', '10', '11']))].groupby([\"country\"])[\"%MasDe1km_new\"].mean()\n",
    "    diasem=pd.DataFrame(diasem)\n",
    "    diasem[\"fecha\"]=\"Semana\"\n",
    "    \n",
    "    #diasem[\"country\"]=reg\n",
    "    diasem=diasem.reset_index()\n",
    "    match=diasem.append(dia8)\n",
    "    match=match.append(dia7)\n",
    "    match[\"key\"]=match[\"fecha\"].astype(str)+match[\"country\"].astype(str)\n",
    "    match=match.rename(columns={\"%MasDe1km_new\": \"Baseline\"})\n",
    "    match=match.loc[:,[\"key\",\"Baseline\"]]\n",
    "    df_by_day=df_by_day.merge(match,how='left',on=['key'])\n",
    "    \n",
    "    ##Ratio\n",
    "    df_by_day[\"ratio\"]=df_by_day['%MasDe1km_new']/df_by_day['Baseline']\n",
    "    \n",
    "    ##por excepcion del día conflictivo\n",
    "    df_by_day[\"ratio_lag1\"]=df_by_day.groupby([\"country\"])[\"ratio\"].shift(1)\n",
    "    df_by_day[\"ratio_f1\"]=df_by_day.groupby([\"country\"])[\"ratio\"].shift(-1)\n",
    "    \n",
    "    ##Suavizado\n",
    "    df_by_day[\"ratio_sua\"]=(df_by_day[\"ratio\"]+df_by_day[\"ratio_lag1\"]+df_by_day[\"ratio_f1\"])/3\n",
    "    \n",
    "    ##Indice\n",
    "    df_by_day[\"FracMas1km\"]=df_by_day[\"ratio_sua\"]-1\n",
    "    \n",
    "    ##key para tabla pivot\n",
    "    df_by_day[\"Dia\"]=df_by_day[\"Dia\"].astype(int)\n",
    "    df_by_day[\"Dia\"]=df_by_day.Dia.map(\"{:02}\".format)\n",
    "    df_by_day[\"key4\"]=df_by_day['Mes'].astype(int).astype(str)+ df_by_day[\"Dia\"].astype(str)\n",
    "    \n",
    "    ##genero dataframe para exportar\n",
    "    df_by_day2=df_by_day.loc[:,[\"Mes\", \"Dia\",\"key4\", \"country\", \"MasDe1km\", \"n_users\",'%MasDe1km_new',\"FracMas1km\"]]\n",
    "    \n",
    "    ##tabla pivot para publicar\n",
    "    table_piv = pd.pivot_table(df_by_day, values='FracMas1km', index=['country'],\n",
    "                    columns=['key4'], aggfunc=np.sum)\n",
    "    table_piv=table_piv[table_piv.columns[1:-1]]\n",
    "    table_piv = table_piv*100\n",
    "    table_piv = table_piv.round(2)\n",
    "    table_piv.index.name=\"cod\"\n",
    "    \n",
    "    ruta=f'graphdata-mobility-public/indicador_por_pais_nacional/{pais}_nacion_analisis.csv'\n",
    "    write_dataframe_to_csv_on_s3(df_by_day2, 'iadbprod-csd-hub-analyticaldata', ruta)\n",
    "    \n",
    "    ruta2=f'graphdata-mobility-public/indicador_por_pais_nacional/{pais}_nacion.csv'\n",
    "    write_dataframe_to_csv_on_s3(table_piv, 'iadbprod-csd-hub-analyticaldata', ruta2)  "
   ]
  },
  {
   "cell_type": "markdown",
   "metadata": {},
   "source": [
    "### Indices a nivel regional"
   ]
  },
  {
   "cell_type": "code",
   "execution_count": 17,
   "metadata": {},
   "outputs": [],
   "source": [
    "### Elimar folder \"results\" en instancia con terminal\n",
    "#cd SageMaker/\n",
    "#cd Fase2/1_Series\\ de\\ movilidad/\n",
    "#rm -rf \"results\""
   ]
  },
  {
   "cell_type": "code",
   "execution_count": 18,
   "metadata": {},
   "outputs": [
    {
     "name": "stdout",
     "output_type": "stream",
     "text": [
      "Pais: AR\n"
     ]
    },
    {
     "name": "stderr",
     "output_type": "stream",
     "text": [
      "/home/ec2-user/anaconda3/envs/python3/lib/python3.6/site-packages/ipykernel/__main__.py:16: SettingWithCopyWarning: \n",
      "A value is trying to be set on a copy of a slice from a DataFrame\n",
      "\n",
      "See the caveats in the documentation: https://pandas.pydata.org/pandas-docs/stable/user_guide/indexing.html#returning-a-view-versus-a-copy\n",
      "/home/ec2-user/anaconda3/envs/python3/lib/python3.6/site-packages/ipykernel/__main__.py:17: SettingWithCopyWarning: \n",
      "A value is trying to be set on a copy of a slice from a DataFrame\n",
      "\n",
      "See the caveats in the documentation: https://pandas.pydata.org/pandas-docs/stable/user_guide/indexing.html#returning-a-view-versus-a-copy\n",
      "/home/ec2-user/anaconda3/envs/python3/lib/python3.6/site-packages/ipykernel/__main__.py:18: SettingWithCopyWarning: \n",
      "A value is trying to be set on a copy of a slice from a DataFrame\n",
      "\n",
      "See the caveats in the documentation: https://pandas.pydata.org/pandas-docs/stable/user_guide/indexing.html#returning-a-view-versus-a-copy\n"
     ]
    },
    {
     "name": "stdout",
     "output_type": "stream",
     "text": [
      "Writing 24 records to graphdata-mobility-public/indicador_por_pais_mapa/AR_mapa.csv\n",
      "S3\n",
      "(24, 87)\n",
      "Pais: CO\n",
      "Writing 32 records to graphdata-mobility-public/indicador_por_pais_mapa/CO_mapa.csv\n",
      "S3\n",
      "(32, 87)\n"
     ]
    },
    {
     "name": "stderr",
     "output_type": "stream",
     "text": [
      "/home/ec2-user/anaconda3/envs/python3/lib/python3.6/site-packages/ipykernel/__main__.py:16: SettingWithCopyWarning: \n",
      "A value is trying to be set on a copy of a slice from a DataFrame\n",
      "\n",
      "See the caveats in the documentation: https://pandas.pydata.org/pandas-docs/stable/user_guide/indexing.html#returning-a-view-versus-a-copy\n",
      "/home/ec2-user/anaconda3/envs/python3/lib/python3.6/site-packages/ipykernel/__main__.py:17: SettingWithCopyWarning: \n",
      "A value is trying to be set on a copy of a slice from a DataFrame\n",
      "\n",
      "See the caveats in the documentation: https://pandas.pydata.org/pandas-docs/stable/user_guide/indexing.html#returning-a-view-versus-a-copy\n",
      "/home/ec2-user/anaconda3/envs/python3/lib/python3.6/site-packages/ipykernel/__main__.py:18: SettingWithCopyWarning: \n",
      "A value is trying to be set on a copy of a slice from a DataFrame\n",
      "\n",
      "See the caveats in the documentation: https://pandas.pydata.org/pandas-docs/stable/user_guide/indexing.html#returning-a-view-versus-a-copy\n"
     ]
    },
    {
     "name": "stdout",
     "output_type": "stream",
     "text": [
      "Pais: PE\n",
      "Writing 26 records to graphdata-mobility-public/indicador_por_pais_mapa/PE_mapa.csv\n",
      "S3\n",
      "(26, 87)\n"
     ]
    },
    {
     "name": "stderr",
     "output_type": "stream",
     "text": [
      "/home/ec2-user/anaconda3/envs/python3/lib/python3.6/site-packages/ipykernel/__main__.py:16: SettingWithCopyWarning: \n",
      "A value is trying to be set on a copy of a slice from a DataFrame\n",
      "\n",
      "See the caveats in the documentation: https://pandas.pydata.org/pandas-docs/stable/user_guide/indexing.html#returning-a-view-versus-a-copy\n",
      "/home/ec2-user/anaconda3/envs/python3/lib/python3.6/site-packages/ipykernel/__main__.py:17: SettingWithCopyWarning: \n",
      "A value is trying to be set on a copy of a slice from a DataFrame\n",
      "\n",
      "See the caveats in the documentation: https://pandas.pydata.org/pandas-docs/stable/user_guide/indexing.html#returning-a-view-versus-a-copy\n",
      "/home/ec2-user/anaconda3/envs/python3/lib/python3.6/site-packages/ipykernel/__main__.py:18: SettingWithCopyWarning: \n",
      "A value is trying to be set on a copy of a slice from a DataFrame\n",
      "\n",
      "See the caveats in the documentation: https://pandas.pydata.org/pandas-docs/stable/user_guide/indexing.html#returning-a-view-versus-a-copy\n"
     ]
    },
    {
     "name": "stdout",
     "output_type": "stream",
     "text": [
      "Pais: NI\n",
      "Writing 0 records to graphdata-mobility-public/indicador_por_pais_mapa/NI_mapa.csv\n",
      "S3\n",
      "(0, 0)\n"
     ]
    },
    {
     "name": "stderr",
     "output_type": "stream",
     "text": [
      "/home/ec2-user/anaconda3/envs/python3/lib/python3.6/site-packages/ipykernel/__main__.py:16: SettingWithCopyWarning: \n",
      "A value is trying to be set on a copy of a slice from a DataFrame\n",
      "\n",
      "See the caveats in the documentation: https://pandas.pydata.org/pandas-docs/stable/user_guide/indexing.html#returning-a-view-versus-a-copy\n",
      "/home/ec2-user/anaconda3/envs/python3/lib/python3.6/site-packages/ipykernel/__main__.py:17: SettingWithCopyWarning: \n",
      "A value is trying to be set on a copy of a slice from a DataFrame\n",
      "\n",
      "See the caveats in the documentation: https://pandas.pydata.org/pandas-docs/stable/user_guide/indexing.html#returning-a-view-versus-a-copy\n",
      "/home/ec2-user/anaconda3/envs/python3/lib/python3.6/site-packages/ipykernel/__main__.py:18: SettingWithCopyWarning: \n",
      "A value is trying to be set on a copy of a slice from a DataFrame\n",
      "\n",
      "See the caveats in the documentation: https://pandas.pydata.org/pandas-docs/stable/user_guide/indexing.html#returning-a-view-versus-a-copy\n"
     ]
    },
    {
     "name": "stdout",
     "output_type": "stream",
     "text": [
      "Pais: SV\n",
      "Writing 14 records to graphdata-mobility-public/indicador_por_pais_mapa/SV_mapa.csv\n",
      "S3\n",
      "(14, 87)\n"
     ]
    },
    {
     "name": "stderr",
     "output_type": "stream",
     "text": [
      "/home/ec2-user/anaconda3/envs/python3/lib/python3.6/site-packages/ipykernel/__main__.py:16: SettingWithCopyWarning: \n",
      "A value is trying to be set on a copy of a slice from a DataFrame\n",
      "\n",
      "See the caveats in the documentation: https://pandas.pydata.org/pandas-docs/stable/user_guide/indexing.html#returning-a-view-versus-a-copy\n",
      "/home/ec2-user/anaconda3/envs/python3/lib/python3.6/site-packages/ipykernel/__main__.py:17: SettingWithCopyWarning: \n",
      "A value is trying to be set on a copy of a slice from a DataFrame\n",
      "\n",
      "See the caveats in the documentation: https://pandas.pydata.org/pandas-docs/stable/user_guide/indexing.html#returning-a-view-versus-a-copy\n",
      "/home/ec2-user/anaconda3/envs/python3/lib/python3.6/site-packages/ipykernel/__main__.py:18: SettingWithCopyWarning: \n",
      "A value is trying to be set on a copy of a slice from a DataFrame\n",
      "\n",
      "See the caveats in the documentation: https://pandas.pydata.org/pandas-docs/stable/user_guide/indexing.html#returning-a-view-versus-a-copy\n"
     ]
    },
    {
     "name": "stdout",
     "output_type": "stream",
     "text": [
      "Pais: BO\n",
      "Writing 9 records to graphdata-mobility-public/indicador_por_pais_mapa/BO_mapa.csv\n",
      "S3\n",
      "(9, 87)\n"
     ]
    },
    {
     "name": "stderr",
     "output_type": "stream",
     "text": [
      "/home/ec2-user/anaconda3/envs/python3/lib/python3.6/site-packages/ipykernel/__main__.py:16: SettingWithCopyWarning: \n",
      "A value is trying to be set on a copy of a slice from a DataFrame\n",
      "\n",
      "See the caveats in the documentation: https://pandas.pydata.org/pandas-docs/stable/user_guide/indexing.html#returning-a-view-versus-a-copy\n",
      "/home/ec2-user/anaconda3/envs/python3/lib/python3.6/site-packages/ipykernel/__main__.py:17: SettingWithCopyWarning: \n",
      "A value is trying to be set on a copy of a slice from a DataFrame\n",
      "\n",
      "See the caveats in the documentation: https://pandas.pydata.org/pandas-docs/stable/user_guide/indexing.html#returning-a-view-versus-a-copy\n",
      "/home/ec2-user/anaconda3/envs/python3/lib/python3.6/site-packages/ipykernel/__main__.py:18: SettingWithCopyWarning: \n",
      "A value is trying to be set on a copy of a slice from a DataFrame\n",
      "\n",
      "See the caveats in the documentation: https://pandas.pydata.org/pandas-docs/stable/user_guide/indexing.html#returning-a-view-versus-a-copy\n"
     ]
    },
    {
     "name": "stdout",
     "output_type": "stream",
     "text": [
      "Pais: DO\n"
     ]
    },
    {
     "name": "stderr",
     "output_type": "stream",
     "text": [
      "/home/ec2-user/anaconda3/envs/python3/lib/python3.6/site-packages/ipykernel/__main__.py:16: SettingWithCopyWarning: \n",
      "A value is trying to be set on a copy of a slice from a DataFrame\n",
      "\n",
      "See the caveats in the documentation: https://pandas.pydata.org/pandas-docs/stable/user_guide/indexing.html#returning-a-view-versus-a-copy\n",
      "/home/ec2-user/anaconda3/envs/python3/lib/python3.6/site-packages/ipykernel/__main__.py:17: SettingWithCopyWarning: \n",
      "A value is trying to be set on a copy of a slice from a DataFrame\n",
      "\n",
      "See the caveats in the documentation: https://pandas.pydata.org/pandas-docs/stable/user_guide/indexing.html#returning-a-view-versus-a-copy\n",
      "/home/ec2-user/anaconda3/envs/python3/lib/python3.6/site-packages/ipykernel/__main__.py:18: SettingWithCopyWarning: \n",
      "A value is trying to be set on a copy of a slice from a DataFrame\n",
      "\n",
      "See the caveats in the documentation: https://pandas.pydata.org/pandas-docs/stable/user_guide/indexing.html#returning-a-view-versus-a-copy\n"
     ]
    },
    {
     "name": "stdout",
     "output_type": "stream",
     "text": [
      "Writing 32 records to graphdata-mobility-public/indicador_por_pais_mapa/DO_mapa.csv\n",
      "S3\n",
      "(32, 87)\n",
      "Pais: CL\n",
      "Writing 16 records to graphdata-mobility-public/indicador_por_pais_mapa/CL_mapa.csv\n",
      "S3\n",
      "(16, 87)\n"
     ]
    },
    {
     "name": "stderr",
     "output_type": "stream",
     "text": [
      "/home/ec2-user/anaconda3/envs/python3/lib/python3.6/site-packages/ipykernel/__main__.py:16: SettingWithCopyWarning: \n",
      "A value is trying to be set on a copy of a slice from a DataFrame\n",
      "\n",
      "See the caveats in the documentation: https://pandas.pydata.org/pandas-docs/stable/user_guide/indexing.html#returning-a-view-versus-a-copy\n",
      "/home/ec2-user/anaconda3/envs/python3/lib/python3.6/site-packages/ipykernel/__main__.py:17: SettingWithCopyWarning: \n",
      "A value is trying to be set on a copy of a slice from a DataFrame\n",
      "\n",
      "See the caveats in the documentation: https://pandas.pydata.org/pandas-docs/stable/user_guide/indexing.html#returning-a-view-versus-a-copy\n",
      "/home/ec2-user/anaconda3/envs/python3/lib/python3.6/site-packages/ipykernel/__main__.py:18: SettingWithCopyWarning: \n",
      "A value is trying to be set on a copy of a slice from a DataFrame\n",
      "\n",
      "See the caveats in the documentation: https://pandas.pydata.org/pandas-docs/stable/user_guide/indexing.html#returning-a-view-versus-a-copy\n"
     ]
    },
    {
     "name": "stdout",
     "output_type": "stream",
     "text": [
      "Pais: CR\n"
     ]
    },
    {
     "name": "stderr",
     "output_type": "stream",
     "text": [
      "/home/ec2-user/anaconda3/envs/python3/lib/python3.6/site-packages/ipykernel/__main__.py:16: SettingWithCopyWarning: \n",
      "A value is trying to be set on a copy of a slice from a DataFrame\n",
      "\n",
      "See the caveats in the documentation: https://pandas.pydata.org/pandas-docs/stable/user_guide/indexing.html#returning-a-view-versus-a-copy\n",
      "/home/ec2-user/anaconda3/envs/python3/lib/python3.6/site-packages/ipykernel/__main__.py:17: SettingWithCopyWarning: \n",
      "A value is trying to be set on a copy of a slice from a DataFrame\n",
      "\n",
      "See the caveats in the documentation: https://pandas.pydata.org/pandas-docs/stable/user_guide/indexing.html#returning-a-view-versus-a-copy\n",
      "/home/ec2-user/anaconda3/envs/python3/lib/python3.6/site-packages/ipykernel/__main__.py:18: SettingWithCopyWarning: \n",
      "A value is trying to be set on a copy of a slice from a DataFrame\n",
      "\n",
      "See the caveats in the documentation: https://pandas.pydata.org/pandas-docs/stable/user_guide/indexing.html#returning-a-view-versus-a-copy\n"
     ]
    },
    {
     "name": "stdout",
     "output_type": "stream",
     "text": [
      "Writing 7 records to graphdata-mobility-public/indicador_por_pais_mapa/CR_mapa.csv\n",
      "S3\n",
      "(7, 87)\n",
      "Pais: PY\n",
      "Writing 18 records to graphdata-mobility-public/indicador_por_pais_mapa/PY_mapa.csv\n",
      "S3\n",
      "(18, 87)\n"
     ]
    },
    {
     "name": "stderr",
     "output_type": "stream",
     "text": [
      "/home/ec2-user/anaconda3/envs/python3/lib/python3.6/site-packages/ipykernel/__main__.py:16: SettingWithCopyWarning: \n",
      "A value is trying to be set on a copy of a slice from a DataFrame\n",
      "\n",
      "See the caveats in the documentation: https://pandas.pydata.org/pandas-docs/stable/user_guide/indexing.html#returning-a-view-versus-a-copy\n",
      "/home/ec2-user/anaconda3/envs/python3/lib/python3.6/site-packages/ipykernel/__main__.py:17: SettingWithCopyWarning: \n",
      "A value is trying to be set on a copy of a slice from a DataFrame\n",
      "\n",
      "See the caveats in the documentation: https://pandas.pydata.org/pandas-docs/stable/user_guide/indexing.html#returning-a-view-versus-a-copy\n",
      "/home/ec2-user/anaconda3/envs/python3/lib/python3.6/site-packages/ipykernel/__main__.py:18: SettingWithCopyWarning: \n",
      "A value is trying to be set on a copy of a slice from a DataFrame\n",
      "\n",
      "See the caveats in the documentation: https://pandas.pydata.org/pandas-docs/stable/user_guide/indexing.html#returning-a-view-versus-a-copy\n"
     ]
    },
    {
     "name": "stdout",
     "output_type": "stream",
     "text": [
      "Pais: BZ\n",
      "Writing 6 records to graphdata-mobility-public/indicador_por_pais_mapa/BZ_mapa.csv\n"
     ]
    },
    {
     "name": "stderr",
     "output_type": "stream",
     "text": [
      "/home/ec2-user/anaconda3/envs/python3/lib/python3.6/site-packages/ipykernel/__main__.py:16: SettingWithCopyWarning: \n",
      "A value is trying to be set on a copy of a slice from a DataFrame\n",
      "\n",
      "See the caveats in the documentation: https://pandas.pydata.org/pandas-docs/stable/user_guide/indexing.html#returning-a-view-versus-a-copy\n",
      "/home/ec2-user/anaconda3/envs/python3/lib/python3.6/site-packages/ipykernel/__main__.py:17: SettingWithCopyWarning: \n",
      "A value is trying to be set on a copy of a slice from a DataFrame\n",
      "\n",
      "See the caveats in the documentation: https://pandas.pydata.org/pandas-docs/stable/user_guide/indexing.html#returning-a-view-versus-a-copy\n",
      "/home/ec2-user/anaconda3/envs/python3/lib/python3.6/site-packages/ipykernel/__main__.py:18: SettingWithCopyWarning: \n",
      "A value is trying to be set on a copy of a slice from a DataFrame\n",
      "\n",
      "See the caveats in the documentation: https://pandas.pydata.org/pandas-docs/stable/user_guide/indexing.html#returning-a-view-versus-a-copy\n"
     ]
    },
    {
     "name": "stdout",
     "output_type": "stream",
     "text": [
      "S3\n",
      "(6, 87)\n",
      "Pais: HN\n"
     ]
    },
    {
     "name": "stderr",
     "output_type": "stream",
     "text": [
      "/home/ec2-user/anaconda3/envs/python3/lib/python3.6/site-packages/ipykernel/__main__.py:16: SettingWithCopyWarning: \n",
      "A value is trying to be set on a copy of a slice from a DataFrame\n",
      "\n",
      "See the caveats in the documentation: https://pandas.pydata.org/pandas-docs/stable/user_guide/indexing.html#returning-a-view-versus-a-copy\n",
      "/home/ec2-user/anaconda3/envs/python3/lib/python3.6/site-packages/ipykernel/__main__.py:17: SettingWithCopyWarning: \n",
      "A value is trying to be set on a copy of a slice from a DataFrame\n",
      "\n",
      "See the caveats in the documentation: https://pandas.pydata.org/pandas-docs/stable/user_guide/indexing.html#returning-a-view-versus-a-copy\n",
      "/home/ec2-user/anaconda3/envs/python3/lib/python3.6/site-packages/ipykernel/__main__.py:18: SettingWithCopyWarning: \n",
      "A value is trying to be set on a copy of a slice from a DataFrame\n",
      "\n",
      "See the caveats in the documentation: https://pandas.pydata.org/pandas-docs/stable/user_guide/indexing.html#returning-a-view-versus-a-copy\n"
     ]
    },
    {
     "name": "stdout",
     "output_type": "stream",
     "text": [
      "Writing 18 records to graphdata-mobility-public/indicador_por_pais_mapa/HN_mapa.csv\n",
      "S3\n",
      "(18, 87)\n",
      "Pais: JM\n"
     ]
    },
    {
     "name": "stderr",
     "output_type": "stream",
     "text": [
      "/home/ec2-user/anaconda3/envs/python3/lib/python3.6/site-packages/ipykernel/__main__.py:16: SettingWithCopyWarning: \n",
      "A value is trying to be set on a copy of a slice from a DataFrame\n",
      "\n",
      "See the caveats in the documentation: https://pandas.pydata.org/pandas-docs/stable/user_guide/indexing.html#returning-a-view-versus-a-copy\n",
      "/home/ec2-user/anaconda3/envs/python3/lib/python3.6/site-packages/ipykernel/__main__.py:17: SettingWithCopyWarning: \n",
      "A value is trying to be set on a copy of a slice from a DataFrame\n",
      "\n",
      "See the caveats in the documentation: https://pandas.pydata.org/pandas-docs/stable/user_guide/indexing.html#returning-a-view-versus-a-copy\n",
      "/home/ec2-user/anaconda3/envs/python3/lib/python3.6/site-packages/ipykernel/__main__.py:18: SettingWithCopyWarning: \n",
      "A value is trying to be set on a copy of a slice from a DataFrame\n",
      "\n",
      "See the caveats in the documentation: https://pandas.pydata.org/pandas-docs/stable/user_guide/indexing.html#returning-a-view-versus-a-copy\n"
     ]
    },
    {
     "name": "stdout",
     "output_type": "stream",
     "text": [
      "Writing 14 records to graphdata-mobility-public/indicador_por_pais_mapa/JM_mapa.csv\n",
      "S3\n",
      "(14, 87)\n",
      "Pais: TT\n"
     ]
    },
    {
     "name": "stderr",
     "output_type": "stream",
     "text": [
      "/home/ec2-user/anaconda3/envs/python3/lib/python3.6/site-packages/ipykernel/__main__.py:16: SettingWithCopyWarning: \n",
      "A value is trying to be set on a copy of a slice from a DataFrame\n",
      "\n",
      "See the caveats in the documentation: https://pandas.pydata.org/pandas-docs/stable/user_guide/indexing.html#returning-a-view-versus-a-copy\n",
      "/home/ec2-user/anaconda3/envs/python3/lib/python3.6/site-packages/ipykernel/__main__.py:17: SettingWithCopyWarning: \n",
      "A value is trying to be set on a copy of a slice from a DataFrame\n",
      "\n",
      "See the caveats in the documentation: https://pandas.pydata.org/pandas-docs/stable/user_guide/indexing.html#returning-a-view-versus-a-copy\n",
      "/home/ec2-user/anaconda3/envs/python3/lib/python3.6/site-packages/ipykernel/__main__.py:18: SettingWithCopyWarning: \n",
      "A value is trying to be set on a copy of a slice from a DataFrame\n",
      "\n",
      "See the caveats in the documentation: https://pandas.pydata.org/pandas-docs/stable/user_guide/indexing.html#returning-a-view-versus-a-copy\n"
     ]
    },
    {
     "name": "stdout",
     "output_type": "stream",
     "text": [
      "Writing 15 records to graphdata-mobility-public/indicador_por_pais_mapa/TT_mapa.csv\n",
      "S3\n",
      "(15, 87)\n",
      "Pais: UY\n",
      "Writing 0 records to graphdata-mobility-public/indicador_por_pais_mapa/UY_mapa.csv\n",
      "S3\n",
      "(0, 0)\n"
     ]
    },
    {
     "name": "stderr",
     "output_type": "stream",
     "text": [
      "/home/ec2-user/anaconda3/envs/python3/lib/python3.6/site-packages/ipykernel/__main__.py:16: SettingWithCopyWarning: \n",
      "A value is trying to be set on a copy of a slice from a DataFrame\n",
      "\n",
      "See the caveats in the documentation: https://pandas.pydata.org/pandas-docs/stable/user_guide/indexing.html#returning-a-view-versus-a-copy\n",
      "/home/ec2-user/anaconda3/envs/python3/lib/python3.6/site-packages/ipykernel/__main__.py:17: SettingWithCopyWarning: \n",
      "A value is trying to be set on a copy of a slice from a DataFrame\n",
      "\n",
      "See the caveats in the documentation: https://pandas.pydata.org/pandas-docs/stable/user_guide/indexing.html#returning-a-view-versus-a-copy\n",
      "/home/ec2-user/anaconda3/envs/python3/lib/python3.6/site-packages/ipykernel/__main__.py:18: SettingWithCopyWarning: \n",
      "A value is trying to be set on a copy of a slice from a DataFrame\n",
      "\n",
      "See the caveats in the documentation: https://pandas.pydata.org/pandas-docs/stable/user_guide/indexing.html#returning-a-view-versus-a-copy\n"
     ]
    },
    {
     "name": "stdout",
     "output_type": "stream",
     "text": [
      "Pais: GY\n",
      "Writing 10 records to graphdata-mobility-public/indicador_por_pais_mapa/GY_mapa.csv\n",
      "S3\n",
      "(10, 87)\n"
     ]
    },
    {
     "name": "stderr",
     "output_type": "stream",
     "text": [
      "/home/ec2-user/anaconda3/envs/python3/lib/python3.6/site-packages/ipykernel/__main__.py:16: SettingWithCopyWarning: \n",
      "A value is trying to be set on a copy of a slice from a DataFrame\n",
      "\n",
      "See the caveats in the documentation: https://pandas.pydata.org/pandas-docs/stable/user_guide/indexing.html#returning-a-view-versus-a-copy\n",
      "/home/ec2-user/anaconda3/envs/python3/lib/python3.6/site-packages/ipykernel/__main__.py:17: SettingWithCopyWarning: \n",
      "A value is trying to be set on a copy of a slice from a DataFrame\n",
      "\n",
      "See the caveats in the documentation: https://pandas.pydata.org/pandas-docs/stable/user_guide/indexing.html#returning-a-view-versus-a-copy\n",
      "/home/ec2-user/anaconda3/envs/python3/lib/python3.6/site-packages/ipykernel/__main__.py:18: SettingWithCopyWarning: \n",
      "A value is trying to be set on a copy of a slice from a DataFrame\n",
      "\n",
      "See the caveats in the documentation: https://pandas.pydata.org/pandas-docs/stable/user_guide/indexing.html#returning-a-view-versus-a-copy\n"
     ]
    },
    {
     "name": "stdout",
     "output_type": "stream",
     "text": [
      "Pais: EC\n",
      "Writing 25 records to graphdata-mobility-public/indicador_por_pais_mapa/EC_mapa.csv\n",
      "S3\n",
      "(25, 87)\n"
     ]
    },
    {
     "name": "stderr",
     "output_type": "stream",
     "text": [
      "/home/ec2-user/anaconda3/envs/python3/lib/python3.6/site-packages/ipykernel/__main__.py:16: SettingWithCopyWarning: \n",
      "A value is trying to be set on a copy of a slice from a DataFrame\n",
      "\n",
      "See the caveats in the documentation: https://pandas.pydata.org/pandas-docs/stable/user_guide/indexing.html#returning-a-view-versus-a-copy\n",
      "/home/ec2-user/anaconda3/envs/python3/lib/python3.6/site-packages/ipykernel/__main__.py:17: SettingWithCopyWarning: \n",
      "A value is trying to be set on a copy of a slice from a DataFrame\n",
      "\n",
      "See the caveats in the documentation: https://pandas.pydata.org/pandas-docs/stable/user_guide/indexing.html#returning-a-view-versus-a-copy\n",
      "/home/ec2-user/anaconda3/envs/python3/lib/python3.6/site-packages/ipykernel/__main__.py:18: SettingWithCopyWarning: \n",
      "A value is trying to be set on a copy of a slice from a DataFrame\n",
      "\n",
      "See the caveats in the documentation: https://pandas.pydata.org/pandas-docs/stable/user_guide/indexing.html#returning-a-view-versus-a-copy\n"
     ]
    },
    {
     "name": "stdout",
     "output_type": "stream",
     "text": [
      "Pais: GT\n",
      "Writing 22 records to graphdata-mobility-public/indicador_por_pais_mapa/GT_mapa.csv\n",
      "S3\n",
      "(22, 87)\n"
     ]
    },
    {
     "name": "stderr",
     "output_type": "stream",
     "text": [
      "/home/ec2-user/anaconda3/envs/python3/lib/python3.6/site-packages/ipykernel/__main__.py:16: SettingWithCopyWarning: \n",
      "A value is trying to be set on a copy of a slice from a DataFrame\n",
      "\n",
      "See the caveats in the documentation: https://pandas.pydata.org/pandas-docs/stable/user_guide/indexing.html#returning-a-view-versus-a-copy\n",
      "/home/ec2-user/anaconda3/envs/python3/lib/python3.6/site-packages/ipykernel/__main__.py:17: SettingWithCopyWarning: \n",
      "A value is trying to be set on a copy of a slice from a DataFrame\n",
      "\n",
      "See the caveats in the documentation: https://pandas.pydata.org/pandas-docs/stable/user_guide/indexing.html#returning-a-view-versus-a-copy\n",
      "/home/ec2-user/anaconda3/envs/python3/lib/python3.6/site-packages/ipykernel/__main__.py:18: SettingWithCopyWarning: \n",
      "A value is trying to be set on a copy of a slice from a DataFrame\n",
      "\n",
      "See the caveats in the documentation: https://pandas.pydata.org/pandas-docs/stable/user_guide/indexing.html#returning-a-view-versus-a-copy\n"
     ]
    },
    {
     "name": "stdout",
     "output_type": "stream",
     "text": [
      "Pais: PA\n"
     ]
    },
    {
     "name": "stderr",
     "output_type": "stream",
     "text": [
      "/home/ec2-user/anaconda3/envs/python3/lib/python3.6/site-packages/ipykernel/__main__.py:16: SettingWithCopyWarning: \n",
      "A value is trying to be set on a copy of a slice from a DataFrame\n",
      "\n",
      "See the caveats in the documentation: https://pandas.pydata.org/pandas-docs/stable/user_guide/indexing.html#returning-a-view-versus-a-copy\n",
      "/home/ec2-user/anaconda3/envs/python3/lib/python3.6/site-packages/ipykernel/__main__.py:17: SettingWithCopyWarning: \n",
      "A value is trying to be set on a copy of a slice from a DataFrame\n",
      "\n",
      "See the caveats in the documentation: https://pandas.pydata.org/pandas-docs/stable/user_guide/indexing.html#returning-a-view-versus-a-copy\n",
      "/home/ec2-user/anaconda3/envs/python3/lib/python3.6/site-packages/ipykernel/__main__.py:18: SettingWithCopyWarning: \n",
      "A value is trying to be set on a copy of a slice from a DataFrame\n",
      "\n",
      "See the caveats in the documentation: https://pandas.pydata.org/pandas-docs/stable/user_guide/indexing.html#returning-a-view-versus-a-copy\n"
     ]
    },
    {
     "name": "stdout",
     "output_type": "stream",
     "text": [
      "Writing 13 records to graphdata-mobility-public/indicador_por_pais_mapa/PA_mapa.csv\n",
      "S3\n",
      "(13, 87)\n",
      "Pais: VE\n"
     ]
    },
    {
     "name": "stderr",
     "output_type": "stream",
     "text": [
      "/home/ec2-user/anaconda3/envs/python3/lib/python3.6/site-packages/ipykernel/__main__.py:16: SettingWithCopyWarning: \n",
      "A value is trying to be set on a copy of a slice from a DataFrame\n",
      "\n",
      "See the caveats in the documentation: https://pandas.pydata.org/pandas-docs/stable/user_guide/indexing.html#returning-a-view-versus-a-copy\n",
      "/home/ec2-user/anaconda3/envs/python3/lib/python3.6/site-packages/ipykernel/__main__.py:17: SettingWithCopyWarning: \n",
      "A value is trying to be set on a copy of a slice from a DataFrame\n",
      "\n",
      "See the caveats in the documentation: https://pandas.pydata.org/pandas-docs/stable/user_guide/indexing.html#returning-a-view-versus-a-copy\n",
      "/home/ec2-user/anaconda3/envs/python3/lib/python3.6/site-packages/ipykernel/__main__.py:18: SettingWithCopyWarning: \n",
      "A value is trying to be set on a copy of a slice from a DataFrame\n",
      "\n",
      "See the caveats in the documentation: https://pandas.pydata.org/pandas-docs/stable/user_guide/indexing.html#returning-a-view-versus-a-copy\n"
     ]
    },
    {
     "name": "stdout",
     "output_type": "stream",
     "text": [
      "Writing 25 records to graphdata-mobility-public/indicador_por_pais_mapa/VE_mapa.csv\n",
      "S3\n",
      "(25, 87)\n",
      "Pais: MX\n"
     ]
    },
    {
     "name": "stderr",
     "output_type": "stream",
     "text": [
      "/home/ec2-user/anaconda3/envs/python3/lib/python3.6/site-packages/ipykernel/__main__.py:16: SettingWithCopyWarning: \n",
      "A value is trying to be set on a copy of a slice from a DataFrame\n",
      "\n",
      "See the caveats in the documentation: https://pandas.pydata.org/pandas-docs/stable/user_guide/indexing.html#returning-a-view-versus-a-copy\n",
      "/home/ec2-user/anaconda3/envs/python3/lib/python3.6/site-packages/ipykernel/__main__.py:17: SettingWithCopyWarning: \n",
      "A value is trying to be set on a copy of a slice from a DataFrame\n",
      "\n",
      "See the caveats in the documentation: https://pandas.pydata.org/pandas-docs/stable/user_guide/indexing.html#returning-a-view-versus-a-copy\n",
      "/home/ec2-user/anaconda3/envs/python3/lib/python3.6/site-packages/ipykernel/__main__.py:18: SettingWithCopyWarning: \n",
      "A value is trying to be set on a copy of a slice from a DataFrame\n",
      "\n",
      "See the caveats in the documentation: https://pandas.pydata.org/pandas-docs/stable/user_guide/indexing.html#returning-a-view-versus-a-copy\n"
     ]
    },
    {
     "name": "stdout",
     "output_type": "stream",
     "text": [
      "Writing 32 records to graphdata-mobility-public/indicador_por_pais_mapa/MX_mapa.csv\n",
      "S3\n",
      "(32, 87)\n",
      "Pais: BR\n"
     ]
    },
    {
     "name": "stderr",
     "output_type": "stream",
     "text": [
      "/home/ec2-user/anaconda3/envs/python3/lib/python3.6/site-packages/ipykernel/__main__.py:16: SettingWithCopyWarning: \n",
      "A value is trying to be set on a copy of a slice from a DataFrame\n",
      "\n",
      "See the caveats in the documentation: https://pandas.pydata.org/pandas-docs/stable/user_guide/indexing.html#returning-a-view-versus-a-copy\n",
      "/home/ec2-user/anaconda3/envs/python3/lib/python3.6/site-packages/ipykernel/__main__.py:17: SettingWithCopyWarning: \n",
      "A value is trying to be set on a copy of a slice from a DataFrame\n",
      "\n",
      "See the caveats in the documentation: https://pandas.pydata.org/pandas-docs/stable/user_guide/indexing.html#returning-a-view-versus-a-copy\n",
      "/home/ec2-user/anaconda3/envs/python3/lib/python3.6/site-packages/ipykernel/__main__.py:18: SettingWithCopyWarning: \n",
      "A value is trying to be set on a copy of a slice from a DataFrame\n",
      "\n",
      "See the caveats in the documentation: https://pandas.pydata.org/pandas-docs/stable/user_guide/indexing.html#returning-a-view-versus-a-copy\n"
     ]
    },
    {
     "name": "stdout",
     "output_type": "stream",
     "text": [
      "Writing 27 records to graphdata-mobility-public/indicador_por_pais_mapa/BR_mapa.csv\n",
      "S3\n",
      "(27, 87)\n"
     ]
    }
   ],
   "source": [
    "paises = ['AR','CO','PE','NI','SV','BO','DO','CL','CR','PY','BZ','HN','JM','TT','UY','GY','EC','GT','PA','VE','MX','BR']\n",
    "#paises = ['CL']\n",
    "for pais in paises:\n",
    "    print(f\"Pais: {pais}\")\n",
    "    \n",
    "    df_by_day=df_by_day2at[df_by_day2at['iso_country_code']==pais]\n",
    "    df_by_day=df_by_day[list(df_by_day.columns[:-1])]\n",
    "    df_by_day=df_by_day.sort_values(by=['Mes','Dia','id_provincia'])\n",
    "    \n",
    "    ##computar indice suavizado\n",
    "    ##Baseline    \n",
    "    year=\"2020\"\n",
    "    df_by_day[\"fecha\"] = year + \"-\" + df_by_day['Mes'].astype(int).astype(str) + \"-\" + df_by_day[\"Dia\"].astype(int).astype(str)\n",
    "    df_by_day['weekday'] = pd.to_datetime(df_by_day['fecha']).apply(lambda x: x.weekday())\n",
    "    df_by_day[\"weekday2\"]=0 \n",
    "    df_by_day[\"weekday2\"][df_by_day[\"weekday\"]==6]=\"Domingo\"       \n",
    "    df_by_day[\"weekday2\"][df_by_day[\"weekday\"]==5]=\"Sabado\" \n",
    "    df_by_day[\"weekday2\"][(df_by_day[\"weekday\"]!=5) & (df_by_day[\"weekday\"]!=6)]=\"Semana\" \n",
    "    df_by_day[\"key\"]=df_by_day[\"weekday2\"].astype(str)+df_by_day[\"id_provincia\"].astype(str)\n",
    "    reg=df_by_day[\"id_provincia\"].unique()\n",
    "    dia8=df_by_day[(df_by_day[\"Mes\"]==2) & (df_by_day[\"Dia\"]==8)].groupby([\"id_provincia\"])[\"%MasDe1km_new\"].sum()\n",
    "    dia8=pd.DataFrame(dia8)\n",
    "    dia8[\"fecha\"]=\"Domingo\"\n",
    "    \n",
    "    #dia8[\"id_provincia\"]=reg\n",
    "    dia8=dia8.reset_index()\n",
    "    dia7=df_by_day[(df_by_day[\"Mes\"]==2) & (df_by_day[\"Dia\"]==7)].groupby([\"id_provincia\"])[\"%MasDe1km_new\"].sum()\n",
    "    dia7=pd.DataFrame(dia7)\n",
    "    dia7[\"fecha\"]=\"Sabado\"\n",
    "    \n",
    "    #dia7[\"id_provincia\"]=reg\n",
    "    dia7=dia7.reset_index()\n",
    "    diasem=df_by_day[(df_by_day[\"Mes\"]==2) & (df_by_day['Dia'].isin(['5', '6', '9', '10', '11']))].groupby([\"id_provincia\"])[\"%MasDe1km_new\"].mean()\n",
    "    diasem=pd.DataFrame(diasem)\n",
    "    diasem[\"fecha\"]=\"Semana\"\n",
    "    \n",
    "    #diasem[\"id_provincia\"]=reg\n",
    "    diasem=diasem.reset_index()\n",
    "    match=diasem.append(dia8)\n",
    "    match=match.append(dia7)\n",
    "    match[\"key\"]=match[\"fecha\"].astype(str)+match[\"id_provincia\"].astype(str)\n",
    "    match=match.rename(columns={\"%MasDe1km_new\": \"Baseline\"})\n",
    "    match=match.loc[:,[\"key\",\"Baseline\"]]\n",
    "    df_by_day=df_by_day.merge(match,how='left',on=['key'])\n",
    "    \n",
    "    ##Ratio\n",
    "    df_by_day[\"ratio\"]=df_by_day['%MasDe1km_new']/df_by_day['Baseline']\n",
    "    \n",
    "    ##por excepcion del día conflictivo\n",
    "    df_by_day[\"ratio_lag1\"]=df_by_day.groupby([\"id_provincia\"])[\"ratio\"].shift(1)\n",
    "    df_by_day[\"ratio_f1\"]=df_by_day.groupby([\"id_provincia\"])[\"ratio\"].shift(-1)\n",
    "    \n",
    "    ##Suavizado\n",
    "    df_by_day[\"ratio_sua\"]=(df_by_day[\"ratio\"]+df_by_day[\"ratio_lag1\"]+df_by_day[\"ratio_f1\"])/3    \n",
    "    \n",
    "    ##Indice\n",
    "    df_by_day[\"FracMas1km\"]=df_by_day[\"ratio_sua\"]-1\n",
    "    \n",
    "    ##key para tabla pivot\n",
    "    df_by_day[\"Dia\"]=df_by_day[\"Dia\"].astype(int)\n",
    "    df_by_day[\"Dia\"]=df_by_day.Dia.map(\"{:02}\".format)\n",
    "    df_by_day[\"key4\"]=df_by_day['Mes'].astype(int).astype(str)+ df_by_day[\"Dia\"].astype(str)\n",
    "    \n",
    "    ##genero dataframe para exportar\n",
    "    df_by_day2=df_by_day.loc[:,[\"Mes\", \"Dia\",\"key4\", \"id_provincia\", \"MasDe1km\", \"n_users\",'%MasDe1km_new',\"FracMas1km\"]]\n",
    "\n",
    "    ##tabla pivot para publicar\n",
    "    table_piv = pd.pivot_table(df_by_day, values='FracMas1km', index=['id_provincia'],\n",
    "                    columns=['key4'], aggfunc=np.sum)\n",
    "    table_piv=table_piv[table_piv.columns[1:-1]]\n",
    "    table_piv = table_piv*100\n",
    "    table_piv = table_piv.round(2)\n",
    "    table_piv.index.name=\"cod\"\n",
    "    names_cols = []\n",
    "    for jj in range(2,table_piv.shape[1]+2):\n",
    "        names_cols.append(jj)\n",
    "    table_piv.columns=names_cols\n",
    "    \n",
    "    ##exportando datos a S3\n",
    "    ruta=f'graphdata-mobility-public/indicador_por_pais_mapa/{pais}_mapa.csv'\n",
    "    write_dataframe_to_csv_on_s3(table_piv, 'iadbprod-csd-hub-analyticaldata', ruta)\n",
    "    \n",
    "    ruta2=f'graphdata-mobility-public/indicador_por_pais_analisis/{pais}_analsis.xlsx'\n",
    "    write_dataframe_to_excel_on_s3(df_by_day2, 'iadbprod-csd-hub-analyticaldata', ruta2)\n",
    "    \n",
    "    ## guardando datos en la instancia - mapa\n",
    "    if not os.path.exists(f'results'):  \n",
    "        os.mkdir(f'results')\n",
    "    if not os.path.exists(f'results/indicador_por_pais_mapa'):  \n",
    "        os.mkdir(f'results/indicador_por_pais_mapa')\n",
    "    if not os.path.exists(f'results_map/indicador_por_pais_mapa/{pais}'):  \n",
    "        os.mkdir(f'results/indicador_por_pais_mapa/{pais}')        \n",
    "    table_piv.to_csv(f'results/indicador_por_pais_mapa/{pais}/movilidad.csv',sep = ';')\n",
    "    \n",
    "    ## guardando datos en la instancia - analisis\n",
    "    if not os.path.exists(f'results'):  \n",
    "        os.mkdir(f'results')\n",
    "    if not os.path.exists(f'results/indicador_por_pais_analisis'):  \n",
    "        os.mkdir(f'results/indicador_por_pais_analisis')\n",
    "    if not os.path.exists(f'results/indicador_por_pais_analisis/{pais}'):  \n",
    "        os.mkdir(f'results/indicador_por_pais_analisis/{pais}')        \n",
    "    df_by_day2.to_csv(f'results/indicador_por_pais_analisis/{pais}/analisis.csv',sep = ';')"
   ]
  },
  {
   "cell_type": "code",
   "execution_count": 19,
   "metadata": {},
   "outputs": [],
   "source": [
    "def zipdir(path, ziph):\n",
    "    # ziph is zipfile handle\n",
    "    for folder in os.listdir('results/indicador_por_pais_mapa'):\n",
    "        for file in os.listdir(os.path.join('results/indicador_por_pais_mapa',folder)):\n",
    "            ziph.write(os.path.join('results/indicador_por_pais_mapa', folder, file))\n",
    "\n",
    "if __name__ == '__main__':\n",
    "    zipf = zipfile.ZipFile(f'Indicador_mapa.zip', 'w', zipfile.ZIP_DEFLATED)\n",
    "    zipdir('results', zipf)\n",
    "    zipf.close()\n",
    "    \n",
    "write_file_to_s3('iadbprod-csd-hub-analyticaldata',f'Indicador_mapa.zip',f'graphdata-mobility-public/indicador_por_pais_final/Indicador_mapa.zip')"
   ]
  },
  {
   "cell_type": "code",
   "execution_count": 20,
   "metadata": {},
   "outputs": [],
   "source": [
    "def zipdir(path, ziph):\n",
    "    # ziph is zipfile handle\n",
    "    for folder in os.listdir('results/indicador_por_pais_analisis'):\n",
    "        for file in os.listdir(os.path.join('results/indicador_por_pais_analisis',folder)):\n",
    "            ziph.write(os.path.join('results/indicador_por_pais_analisis', folder, file))\n",
    "\n",
    "if __name__ == '__main__':\n",
    "    zipf = zipfile.ZipFile(f'Indicador_analisis.zip', 'w', zipfile.ZIP_DEFLATED)\n",
    "    zipdir('results', zipf)\n",
    "    zipf.close()\n",
    "    \n",
    "write_file_to_s3('iadbprod-csd-hub-analyticaldata',f'Indicador_analisis.zip',f'graphdata-mobility-public/indicador_por_pais_final/Indicador_analisis.zip')"
   ]
  }
 ],
 "metadata": {
  "kernelspec": {
   "display_name": "conda_python3",
   "language": "python",
   "name": "conda_python3"
  },
  "language_info": {
   "codemirror_mode": {
    "name": "ipython",
    "version": 3
   },
   "file_extension": ".py",
   "mimetype": "text/x-python",
   "name": "python",
   "nbconvert_exporter": "python",
   "pygments_lexer": "ipython3",
   "version": "3.6.13"
  }
 },
 "nbformat": 4,
 "nbformat_minor": 4
}
