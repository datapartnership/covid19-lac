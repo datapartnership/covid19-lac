{
 "cells": [
  {
   "cell_type": "markdown",
   "metadata": {},
   "source": [
    "# Configurando GlueContext"
   ]
  },
  {
   "cell_type": "code",
   "execution_count": 1,
   "metadata": {
    "scrolled": true
   },
   "outputs": [
    {
     "name": "stdout",
     "output_type": "stream",
     "text": [
      "Starting Spark application\n"
     ]
    },
    {
     "data": {
      "text/html": [
       "<table>\n",
       "<tr><th>ID</th><th>YARN Application ID</th><th>Kind</th><th>State</th><th>Spark UI</th><th>Driver log</th><th>User</th><th>Current session?</th></tr><tr><td>35</td><td>application_1620749420494_0036</td><td>pyspark</td><td>idle</td><td><a target=\"_blank\" href=\"http://ip-172-32-128-243.ec2.internal:20888/proxy/application_1620749420494_0036/\">Link</a></td><td><a target=\"_blank\" href=\"http://ip-172-32-147-113.ec2.internal:8042/node/containerlogs/container_1620749420494_0036_01_000001/livy\">Link</a></td><td>None</td><td>✔</td></tr></table>"
      ],
      "text/plain": [
       "<IPython.core.display.HTML object>"
      ]
     },
     "metadata": {},
     "output_type": "display_data"
    },
    {
     "data": {
      "application/vnd.jupyter.widget-view+json": {
       "model_id": "",
       "version_major": 2,
       "version_minor": 0
      },
      "text/plain": [
       "FloatProgress(value=0.0, bar_style='info', description='Progress:', layout=Layout(height='25px', width='50%'),…"
      ]
     },
     "metadata": {},
     "output_type": "display_data"
    },
    {
     "name": "stdout",
     "output_type": "stream",
     "text": [
      "SparkSession available as 'spark'.\n"
     ]
    },
    {
     "data": {
      "application/vnd.jupyter.widget-view+json": {
       "model_id": "",
       "version_major": 2,
       "version_minor": 0
      },
      "text/plain": [
       "FloatProgress(value=0.0, bar_style='info', description='Progress:', layout=Layout(height='25px', width='50%'),…"
      ]
     },
     "metadata": {},
     "output_type": "display_data"
    }
   ],
   "source": [
    "import sys\n",
    "from awsglue.transforms import *\n",
    "from awsglue.utils import getResolvedOptions\n",
    "from pyspark.context import SparkContext\n",
    "from awsglue.context import GlueContext\n",
    "from awsglue.job import Job\n",
    "\n",
    "glueContext = GlueContext(SparkContext.getOrCreate())"
   ]
  },
  {
   "cell_type": "markdown",
   "metadata": {},
   "source": [
    "# Obtener distancia recorrida usuarios sudamerica "
   ]
  },
  {
   "cell_type": "markdown",
   "metadata": {},
   "source": [
    "Revisando sesion de spark"
   ]
  },
  {
   "cell_type": "code",
   "execution_count": 2,
   "metadata": {},
   "outputs": [
    {
     "data": {
      "application/vnd.jupyter.widget-view+json": {
       "model_id": "",
       "version_major": 2,
       "version_minor": 0
      },
      "text/plain": [
       "FloatProgress(value=0.0, bar_style='info', description='Progress:', layout=Layout(height='25px', width='50%'),…"
      ]
     },
     "metadata": {},
     "output_type": "display_data"
    }
   ],
   "source": [
    "import pyspark # only run after findspark.init()\n",
    "from pyspark.sql import SparkSession"
   ]
  },
  {
   "cell_type": "code",
   "execution_count": 3,
   "metadata": {
    "scrolled": false
   },
   "outputs": [
    {
     "data": {
      "application/vnd.jupyter.widget-view+json": {
       "model_id": "",
       "version_major": 2,
       "version_minor": 0
      },
      "text/plain": [
       "FloatProgress(value=0.0, bar_style='info', description='Progress:', layout=Layout(height='25px', width='50%'),…"
      ]
     },
     "metadata": {},
     "output_type": "display_data"
    },
    {
     "name": "stdout",
     "output_type": "stream",
     "text": [
      "+-----+\n",
      "|hello|\n",
      "+-----+\n",
      "|spark|\n",
      "+-----+"
     ]
    }
   ],
   "source": [
    "df = spark.sql('''select 'spark' as hello ''')\n",
    "df.show()"
   ]
  },
  {
   "cell_type": "code",
   "execution_count": 4,
   "metadata": {},
   "outputs": [
    {
     "data": {
      "application/vnd.jupyter.widget-view+json": {
       "model_id": "",
       "version_major": 2,
       "version_minor": 0
      },
      "text/plain": [
       "FloatProgress(value=0.0, bar_style='info', description='Progress:', layout=Layout(height='25px', width='50%'),…"
      ]
     },
     "metadata": {},
     "output_type": "display_data"
    },
    {
     "name": "stdout",
     "output_type": "stream",
     "text": [
      "'10g'"
     ]
    }
   ],
   "source": [
    "spark.sparkContext.getConf().get('spark.driver.memory')"
   ]
  },
  {
   "cell_type": "code",
   "execution_count": 5,
   "metadata": {},
   "outputs": [
    {
     "data": {
      "application/vnd.jupyter.widget-view+json": {
       "model_id": "",
       "version_major": 2,
       "version_minor": 0
      },
      "text/plain": [
       "FloatProgress(value=0.0, bar_style='info', description='Progress:', layout=Layout(height='25px', width='50%'),…"
      ]
     },
     "metadata": {},
     "output_type": "display_data"
    },
    {
     "name": "stdout",
     "output_type": "stream",
     "text": [
      "'10g'"
     ]
    }
   ],
   "source": [
    "spark.sparkContext.getConf().get('spark.executor.memory')"
   ]
  },
  {
   "cell_type": "code",
   "execution_count": 6,
   "metadata": {},
   "outputs": [
    {
     "data": {
      "application/vnd.jupyter.widget-view+json": {
       "model_id": "",
       "version_major": 2,
       "version_minor": 0
      },
      "text/plain": [
       "FloatProgress(value=0.0, bar_style='info', description='Progress:', layout=Layout(height='25px', width='50%'),…"
      ]
     },
     "metadata": {},
     "output_type": "display_data"
    },
    {
     "name": "stdout",
     "output_type": "stream",
     "text": [
      "'8'"
     ]
    }
   ],
   "source": [
    "spark.sparkContext.getConf().get('spark.executor.cores')"
   ]
  },
  {
   "cell_type": "markdown",
   "metadata": {},
   "source": [
    "### Preparar ambiente"
   ]
  },
  {
   "cell_type": "markdown",
   "metadata": {},
   "source": [
    "Configurar conexion al bucket para guardar archivos"
   ]
  },
  {
   "cell_type": "code",
   "execution_count": 7,
   "metadata": {},
   "outputs": [
    {
     "data": {
      "application/vnd.jupyter.widget-view+json": {
       "model_id": "",
       "version_major": 2,
       "version_minor": 0
      },
      "text/plain": [
       "FloatProgress(value=0.0, bar_style='info', description='Progress:', layout=Layout(height='25px', width='50%'),…"
      ]
     },
     "metadata": {},
     "output_type": "display_data"
    }
   ],
   "source": [
    "import os\n",
    "\n",
    "bucket = 'iadbprod-csd-hub-analyticaldata' # already created on S3"
   ]
  },
  {
   "cell_type": "markdown",
   "metadata": {},
   "source": [
    "### Calcular la distancia de los usuarios"
   ]
  },
  {
   "cell_type": "markdown",
   "metadata": {},
   "source": [
    "Importar librerías, función auxiliar de distancia"
   ]
  },
  {
   "cell_type": "code",
   "execution_count": 8,
   "metadata": {},
   "outputs": [
    {
     "data": {
      "application/vnd.jupyter.widget-view+json": {
       "model_id": "",
       "version_major": 2,
       "version_minor": 0
      },
      "text/plain": [
       "FloatProgress(value=0.0, bar_style='info', description='Progress:', layout=Layout(height='25px', width='50%'),…"
      ]
     },
     "metadata": {},
     "output_type": "display_data"
    }
   ],
   "source": [
    "import time\n",
    "from pyspark.sql.functions import acos, cos, sin, lit, toRadians\n",
    "from pyspark.sql.window import Window\n",
    "from pyspark.sql.functions import lag\n",
    "\n",
    "def dist(long_x, lat_x, long_y, lat_y):\n",
    "    return acos(\n",
    "        sin(toRadians(lat_x)) * sin(toRadians(lat_y)) + \n",
    "        cos(toRadians(lat_x)) * cos(toRadians(lat_y)) * \n",
    "            cos(toRadians(long_x) - toRadians(long_y))\n",
    "    ) * lit(6371.0)\n",
    "\n",
    "def print_log(partition_2, start_time, end_time, message):\n",
    "    minutes = (time.time() - start_time)/60\n",
    "    print(f\"--- {minutes} {partition_2} {message}---\" )"
   ]
  },
  {
   "cell_type": "code",
   "execution_count": 9,
   "metadata": {},
   "outputs": [
    {
     "data": {
      "application/vnd.jupyter.widget-view+json": {
       "model_id": "",
       "version_major": 2,
       "version_minor": 0
      },
      "text/plain": [
       "FloatProgress(value=0.0, bar_style='info', description='Progress:', layout=Layout(height='25px', width='50%'),…"
      ]
     },
     "metadata": {},
     "output_type": "display_data"
    }
   ],
   "source": [
    "from pyspark.sql.functions import col"
   ]
  },
  {
   "cell_type": "markdown",
   "metadata": {},
   "source": [
    "#### Funcion que calcula la distancia"
   ]
  },
  {
   "cell_type": "code",
   "execution_count": 10,
   "metadata": {},
   "outputs": [
    {
     "data": {
      "application/vnd.jupyter.widget-view+json": {
       "model_id": "",
       "version_major": 2,
       "version_minor": 0
      },
      "text/plain": [
       "FloatProgress(value=0.0, bar_style='info', description='Progress:', layout=Layout(height='25px', width='50%'),…"
      ]
     },
     "metadata": {},
     "output_type": "display_data"
    }
   ],
   "source": [
    "from pyspark.sql.functions import col\n",
    "\n",
    "def indicadores(df):\n",
    "    inicio = time.time()\n",
    "    df_dia = df\n",
    "    w = Window().partitionBy(\"caid\").orderBy(\"utc_timestamp\")\n",
    "\n",
    "    distance = df_dia.withColumn(\"dist\", dist(\"longitude\",\n",
    "                                              \"latitude\",\n",
    "                                              lag(\"longitude\", 1).over(w), \n",
    "                                              lag(\"latitude\", 1).over(w)).alias(\"dist\"))\n",
    "    \n",
    "    distance = distance.fillna(0, subset=['dist'])\n",
    "    \n",
    "    user_indicators = distance.groupBy(['iso_country_code','caid']).agg({'dist':'sum',\n",
    "                                                    'utc_timestamp':'count',\n",
    "                                                    'year':'max',\n",
    "                                                    'month':'max',\n",
    "                                                    'day':'max'})\n",
    "    user_indicators = user_indicators.select('caid',\n",
    "                                             'iso_country_code',\n",
    "                                             col(\"sum(dist)\").alias(\"dist\"), \n",
    "                                             col(\"max(year)\").alias(\"year\"),\n",
    "                                             col(\"max(month)\").alias(\"month\"), \n",
    "                                             col(\"max(day)\").alias(\"day\"),\n",
    "                                             col(\"count(utc_timestamp)\").alias(\"n_obs_dist\"))    \n",
    "    print(time.time()-inicio)\n",
    "    return user_indicators"
   ]
  },
  {
   "cell_type": "markdown",
   "metadata": {},
   "source": [
    "#### Revisando base de datos"
   ]
  },
  {
   "cell_type": "raw",
   "metadata": {
    "scrolled": true
   },
   "source": [
    "# Name of Databases - Glue Athena (default)\n",
    "spark.sql(\"use graphdata\")\n",
    "spark.sql(\"show tables\").show(truncate = False)"
   ]
  },
  {
   "cell_type": "raw",
   "metadata": {},
   "source": [
    "table_prueba = glueContext.create_dynamic_frame.from_catalog(database=\"graphdata\", table_name=\"todos_pings_delta_201\")\n",
    "table_prueba.toDF().createOrReplaceTempView(\"table_prueba\")\n",
    "spark.sql(\"select * from table_prueba limit 10\").show()"
   ]
  },
  {
   "cell_type": "markdown",
   "metadata": {},
   "source": [
    "#### Calcular distancias para tablas con todos los paises separadas por dia"
   ]
  },
  {
   "cell_type": "code",
   "execution_count": 11,
   "metadata": {},
   "outputs": [
    {
     "data": {
      "application/vnd.jupyter.widget-view+json": {
       "model_id": "",
       "version_major": 2,
       "version_minor": 0
      },
      "text/plain": [
       "FloatProgress(value=0.0, bar_style='info', description='Progress:', layout=Layout(height='25px', width='50%'),…"
      ]
     },
     "metadata": {},
     "output_type": "display_data"
    }
   ],
   "source": [
    "import pandas as pd\n",
    "fecha_inicio = '09/21/2020'\n",
    "fecha_final = '09/30/2020'\n",
    "fechas = pd.date_range(fecha_inicio,fecha_final)"
   ]
  },
  {
   "cell_type": "code",
   "execution_count": 12,
   "metadata": {},
   "outputs": [
    {
     "data": {
      "application/vnd.jupyter.widget-view+json": {
       "model_id": "",
       "version_major": 2,
       "version_minor": 0
      },
      "text/plain": [
       "FloatProgress(value=0.0, bar_style='info', description='Progress:', layout=Layout(height='25px', width='50%'),…"
      ]
     },
     "metadata": {},
     "output_type": "display_data"
    },
    {
     "name": "stdout",
     "output_type": "stream",
     "text": [
      "DatetimeIndex(['2020-09-21', '2020-09-22', '2020-09-23', '2020-09-24',\n",
      "               '2020-09-25', '2020-09-26', '2020-09-27', '2020-09-28',\n",
      "               '2020-09-29', '2020-09-30'],\n",
      "              dtype='datetime64[ns]', freq='D')"
     ]
    }
   ],
   "source": [
    "fechas"
   ]
  },
  {
   "cell_type": "markdown",
   "metadata": {},
   "source": [
    "#### Cargar query pais"
   ]
  },
  {
   "cell_type": "code",
   "execution_count": 13,
   "metadata": {},
   "outputs": [
    {
     "data": {
      "application/vnd.jupyter.widget-view+json": {
       "model_id": "",
       "version_major": 2,
       "version_minor": 0
      },
      "text/plain": [
       "FloatProgress(value=0.0, bar_style='info', description='Progress:', layout=Layout(height='25px', width='50%'),…"
      ]
     },
     "metadata": {},
     "output_type": "display_data"
    },
    {
     "name": "stdout",
     "output_type": "stream",
     "text": [
      "Calculando distancia tabla 921\n",
      "236540054\n",
      "root\n",
      " |-- caid: string (nullable = true)\n",
      " |-- iso_country_code: string (nullable = true)\n",
      " |-- latitude: double (nullable = true)\n",
      " |-- longitude: double (nullable = true)\n",
      " |-- utc_timestamp: long (nullable = true)\n",
      " |-- year: long (nullable = true)\n",
      " |-- month: long (nullable = true)\n",
      " |-- day: long (nullable = true)\n",
      "\n",
      "None\n",
      "+--------------------+----------------+---------+----------+-------------+----+-----+---+\n",
      "|                caid|iso_country_code| latitude| longitude|utc_timestamp|year|month|day|\n",
      "+--------------------+----------------+---------+----------+-------------+----+-----+---+\n",
      "|31e443161f850f2d6...|              MX| 25.52869|-103.42437|   1600730634|2020|    9| 21|\n",
      "|2b9d29312f9567315...|              MX|19.368687|-99.072021|   1600721302|2020|    9| 21|\n",
      "|b9f48b369218e2022...|              MX| 21.16934|-101.75607|   1600671197|2020|    9| 21|\n",
      "|a14fdcd1387aeb655...|              MX| 19.77241| -99.02102|   1600705166|2020|    9| 21|\n",
      "|802fd82acc901b62c...|              MX| 20.69918|-103.46512|   1600725492|2020|    9| 21|\n",
      "|8045dec65c2727106...|              MX| 19.28813| -98.43479|   1600721805|2020|    9| 21|\n",
      "|3fd4882e60c06dcf8...|              MX| 19.60368| -99.00091|   1600710822|2020|    9| 21|\n",
      "|a1901715cb3edaed9...|              MX|  25.7663|-100.32515|   1600687316|2020|    9| 21|\n",
      "|923c0e408e87ad33b...|              MX| 20.74389|-103.42349|   1600705986|2020|    9| 21|\n",
      "|6027f53cbeb746390...|              MX| 25.43171| -101.0014|   1600718631|2020|    9| 21|\n",
      "|ae537d045b18efa36...|              MX| 18.90687| -99.05776|   1600682682|2020|    9| 21|\n",
      "|d7fbc406700901a0a...|              MX| 25.80316|-100.23771|   1600718780|2020|    9| 21|\n",
      "|806cb79d5bd9aa206...|              MX| 20.69748|-103.31946|   1600726096|2020|    9| 21|\n",
      "|89b3bab8139959abb...|              MX|  19.3808| -99.15327|   1600679427|2020|    9| 21|\n",
      "|ebc94f048830324bf...|              MX|  19.3892| -99.15325|   1600720978|2020|    9| 21|\n",
      "|4cd5396d964fd04bd...|              MX|  19.2888|-103.75524|   1600728227|2020|    9| 21|\n",
      "|38a6773608c31ddbe...|              MX| 19.09925| -98.12683|   1600678628|2020|    9| 21|\n",
      "|6d3e4b51963635769...|              MX| 19.34221| -99.20259|   1600719657|2020|    9| 21|\n",
      "|6d3e4b51963635769...|              MX| 19.34565| -99.19151|   1600726680|2020|    9| 21|\n",
      "|9c87882ff1df6e437...|              MX| 22.76985|-102.58025|   1600723174|2020|    9| 21|\n",
      "+--------------------+----------------+---------+----------+-------------+----+-----+---+\n",
      "only showing top 20 rows\n",
      "\n",
      "None\n",
      "6496115\n",
      "0.4794158935546875\n",
      "223.73202061653137\n",
      "Calculando distancia tabla 922\n",
      "364829831\n",
      "root\n",
      " |-- caid: string (nullable = true)\n",
      " |-- iso_country_code: string (nullable = true)\n",
      " |-- latitude: double (nullable = true)\n",
      " |-- longitude: double (nullable = true)\n",
      " |-- utc_timestamp: long (nullable = true)\n",
      " |-- year: long (nullable = true)\n",
      " |-- month: long (nullable = true)\n",
      " |-- day: long (nullable = true)\n",
      "\n",
      "None\n",
      "+--------------------+----------------+---------+-----------+-------------+----+-----+---+\n",
      "|                caid|iso_country_code| latitude|  longitude|utc_timestamp|year|month|day|\n",
      "+--------------------+----------------+---------+-----------+-------------+----+-----+---+\n",
      "|979f0d40e55cfb63f...|              MX|25.668478|-100.443184|   1600802332|2020|    9| 22|\n",
      "|14832333a0d5c49a4...|              MX|19.740033|-101.170786|   1600774364|2020|    9| 22|\n",
      "|195a7e36805fd2471...|              MX|18.818382| -97.162151|   1600802952|2020|    9| 22|\n",
      "|96b64faeec000e345...|              MX|18.930202| -98.425035|   1600791607|2020|    9| 22|\n",
      "|64bcf18cc273c7207...|              MX|19.328969| -99.680559|   1600808572|2020|    9| 22|\n",
      "|ef7ee3621946efbf1...|              MX|20.277141| -100.99889|   1600767216|2020|    9| 22|\n",
      "|979f0d40e55cfb63f...|              MX|25.668994|-100.443545|   1600807467|2020|    9| 22|\n",
      "|e211f1ee9abee8206...|              MX|19.423183| -99.237529|   1600789411|2020|    9| 22|\n",
      "|a74467db4acf848b8...|              MX| 25.50583| -103.34474|   1600758122|2020|    9| 22|\n",
      "|cc8eeb6057e7265a8...|              MX| 19.30224| -103.73714|   1600775245|2020|    9| 22|\n",
      "|a30eb2c1a212da193...|              MX|20.338064| -102.77229|   1600818141|2020|    9| 22|\n",
      "|49f33761e05c38724...|              MX|21.162151|-100.936513|   1600800184|2020|    9| 22|\n",
      "|0e476b96f03103622...|              MX|19.262032| -99.532953|   1600800855|2020|    9| 22|\n",
      "|60e88e9046e1586ec...|              MX|19.065365| -98.216566|   1600798281|2020|    9| 22|\n",
      "|0c003596ccdc8ef3e...|              MX| 21.12625|-101.729072|   1600770679|2020|    9| 22|\n",
      "|73b5d0e08bec5c0b0...|              MX| 20.63736|-103.379006|   1600756829|2020|    9| 22|\n",
      "|14bad9410ff133db4...|              MX|15.315336| -92.660126|   1600773869|2020|    9| 22|\n",
      "|c4c11ca21f6b4d1f8...|              MX|20.963503|  -101.2736|   1600814785|2020|    9| 22|\n",
      "|831a82dbaddf2b367...|              MX|20.974886| -89.628685|   1600802009|2020|    9| 22|\n",
      "|9c7e5c5afd18b10ff...|              MX| 24.82685| -107.41969|   1600759533|2020|    9| 22|\n",
      "+--------------------+----------------+---------+-----------+-------------+----+-----+---+\n",
      "only showing top 20 rows\n",
      "\n",
      "None\n",
      "7845488\n",
      "0.24477648735046387\n",
      "291.71808195114136\n",
      "Calculando distancia tabla 923\n",
      "363604044\n",
      "root\n",
      " |-- caid: string (nullable = true)\n",
      " |-- iso_country_code: string (nullable = true)\n",
      " |-- latitude: double (nullable = true)\n",
      " |-- longitude: double (nullable = true)\n",
      " |-- utc_timestamp: long (nullable = true)\n",
      " |-- year: long (nullable = true)\n",
      " |-- month: long (nullable = true)\n",
      " |-- day: long (nullable = true)\n",
      "\n",
      "None\n",
      "+--------------------+----------------+----------+----------+-------------+----+-----+---+\n",
      "|                caid|iso_country_code|  latitude| longitude|utc_timestamp|year|month|day|\n",
      "+--------------------+----------------+----------+----------+-------------+----+-----+---+\n",
      "|78f73cf8397c6304c...|              AR|-34.669698|-58.410174|   1600877755|2020|    9| 23|\n",
      "|cd779cf8bc9932034...|              AR|-30.864779|-64.988998|   1600862841|2020|    9| 23|\n",
      "|cd779cf8bc9932034...|              AR|-30.864779|-64.988998|   1600884101|2020|    9| 23|\n",
      "|cd779cf8bc9932034...|              AR|-30.864779|-64.988998|   1600889038|2020|    9| 23|\n",
      "|cd779cf8bc9932034...|              AR|-30.864779|-64.988998|   1600901290|2020|    9| 23|\n",
      "|32c65257e9b23be46...|              AR|-31.732372|-60.802807|   1600902213|2020|    9| 23|\n",
      "|9d41550ba960e2984...|              AR|-34.767372|-58.247318|   1600895667|2020|    9| 23|\n",
      "|cc155bf0ccb4f4a7b...|              AR|-34.540905|-58.498161|   1600900246|2020|    9| 23|\n",
      "|b0d772f6c8ec46cb4...|              AR|-34.826973|-58.250633|   1600891191|2020|    9| 23|\n",
      "|04907d9926134dd0f...|              AR|-33.050655|-60.616909|   1600888795|2020|    9| 23|\n",
      "|ef3f81afb1e896a4c...|              AR| -34.85939|-57.882183|   1600887113|2020|    9| 23|\n",
      "|6b04829ff7b86f78b...|              AR|-31.491854|-64.206993|   1600894200|2020|    9| 23|\n",
      "|30dd4855c5d45f4ac...|              AR|-50.334724|-72.290977|   1600879556|2020|    9| 23|\n",
      "|df88b160abff60468...|              AR|-34.570755|-58.700787|   1600891056|2020|    9| 23|\n",
      "|df88b160abff60468...|              AR|-34.570755|-58.700787|   1600892093|2020|    9| 23|\n",
      "|b99c775c6eb09a306...|              AR|-34.372406|-64.491257|   1600885417|2020|    9| 23|\n",
      "|96b2bce0b23950e33...|              AR|-31.250181|-61.478901|   1600893816|2020|    9| 23|\n",
      "|2d542944f61fce54d...|              AR|-34.725872|-58.725929|   1600884412|2020|    9| 23|\n",
      "|2d542944f61fce54d...|              AR|-34.725872|-58.725929|   1600888912|2020|    9| 23|\n",
      "|b5899007706267ddb...|              AR|-34.569206| -58.52515|   1600888016|2020|    9| 23|\n",
      "+--------------------+----------------+----------+----------+-------------+----+-----+---+\n",
      "only showing top 20 rows\n",
      "\n",
      "None\n",
      "7810681\n",
      "0.20996880531311035\n",
      "285.08664655685425\n",
      "Calculando distancia tabla 924\n",
      "329042520\n",
      "root\n",
      " |-- caid: string (nullable = true)\n",
      " |-- iso_country_code: string (nullable = true)\n",
      " |-- latitude: double (nullable = true)\n",
      " |-- longitude: double (nullable = true)\n",
      " |-- utc_timestamp: long (nullable = true)\n",
      " |-- year: long (nullable = true)\n",
      " |-- month: long (nullable = true)\n",
      " |-- day: long (nullable = true)\n",
      "\n",
      "None\n",
      "+--------------------+----------------+----------+----------+-------------+----+-----+---+\n",
      "|                caid|iso_country_code|  latitude| longitude|utc_timestamp|year|month|day|\n",
      "+--------------------+----------------+----------+----------+-------------+----+-----+---+\n",
      "|4d64ed51af9f4aa30...|              AR|-27.427088|-59.039135|   1600956644|2020|    9| 24|\n",
      "|478f148d859aeb1dd...|              AR|-24.818716|-65.414917|   1600986709|2020|    9| 24|\n",
      "|478f148d859aeb1dd...|              AR|-24.818716|-65.414917|   1600987879|2020|    9| 24|\n",
      "|42562884a14278df8...|              AR|-27.419378|-59.000908|   1600975277|2020|    9| 24|\n",
      "|0cd03736ba9b68706...|              AR|-36.365925|-56.724686|   1600962213|2020|    9| 24|\n",
      "|3f32555eb285dcb75...|              AR|-31.452792|-64.174999|   1600985152|2020|    9| 24|\n",
      "|fcce30c5b62b4e31f...|              AR|-31.534855|-68.613342|   1600957366|2020|    9| 24|\n",
      "|37f62d84ad0e1450c...|              AR|-27.739191|-64.249008|   1600970307|2020|    9| 24|\n",
      "|9893dbbba05771429...|              AR|-34.606285|-58.418789|   1600982144|2020|    9| 24|\n",
      "|ff64e8b2cb436e4c6...|              AR|-32.901207|-60.757103|   1600958504|2020|    9| 24|\n",
      "|0ef64ebf2011ea9c2...|              AR|-32.204243|-58.221077|   1600966328|2020|    9| 24|\n",
      "|2ba499a5d9cd166cd...|              AR|-22.522913|-63.804989|   1600971276|2020|    9| 24|\n",
      "|65025c32edf540fb2...|              AR| -34.61446|-58.568165|   1600965078|2020|    9| 24|\n",
      "|e6f26c5665f567851...|              AR|-34.437065| -58.97797|   1600980150|2020|    9| 24|\n",
      "|1ea2dc161ac400cc1...|              AR|-40.763226|-71.655457|   1600962317|2020|    9| 24|\n",
      "|570cf3e8e8415bb78...|              AR| -39.23291|-70.918999|   1600985053|2020|    9| 24|\n",
      "|74ed0d436226d173c...|              AR|-34.774006|-58.201096|   1600990008|2020|    9| 24|\n",
      "|c46da1fab93e01da2...|              AR|-34.648884|-58.379467|   1600959479|2020|    9| 24|\n",
      "|55b859a1922801230...|              AR|   -34.541|  -58.7118|   1600979131|2020|    9| 24|\n",
      "|44d14b1b98b89b24f...|              AR|-34.337513|-58.843269|   1600962296|2020|    9| 24|\n",
      "+--------------------+----------------+----------+----------+-------------+----+-----+---+\n",
      "only showing top 20 rows\n",
      "\n",
      "None\n",
      "7903977\n",
      "0.213059663772583\n",
      "256.26390862464905\n",
      "Calculando distancia tabla 925\n",
      "350068813\n",
      "root\n",
      " |-- caid: string (nullable = true)\n",
      " |-- iso_country_code: string (nullable = true)\n",
      " |-- latitude: double (nullable = true)\n",
      " |-- longitude: double (nullable = true)\n",
      " |-- utc_timestamp: long (nullable = true)\n",
      " |-- year: long (nullable = true)\n",
      " |-- month: long (nullable = true)\n",
      " |-- day: long (nullable = true)\n",
      "\n",
      "None\n",
      "+--------------------+----------------+---------+-----------+-------------+----+-----+---+\n",
      "|                caid|iso_country_code| latitude|  longitude|utc_timestamp|year|month|day|\n",
      "+--------------------+----------------+---------+-----------+-------------+----+-----+---+\n",
      "|58fa799d9254a32d1...|              MX| 25.44674| -100.90518|   1601045892|2020|    9| 25|\n",
      "|0552dd4c413c70bf7...|              MX| 25.70787| -100.38014|   1601058070|2020|    9| 25|\n",
      "|703b631290d1951d6...|              MX|  19.2621| -103.75173|   1601033580|2020|    9| 25|\n",
      "|1ade3c92a6a60e46b...|              MX| 19.21518|   -96.1818|   1601042716|2020|    9| 25|\n",
      "|ad951700b62ae2769...|              MX| 19.26927|  -99.22797|   1601072705|2020|    9| 25|\n",
      "|6deb95798ad15bb2d...|              MX| 17.97944|  -92.93466|   1601074760|2020|    9| 25|\n",
      "|21ba1fe0a4c9e86cf...|              MX| 19.67903| -101.21966|   1601071975|2020|    9| 25|\n",
      "|21ba1fe0a4c9e86cf...|              MX| 19.69137| -101.24722|   1601074385|2020|    9| 25|\n",
      "|11017bb2a41dbac52...|              MX| 19.57689|  -99.25036|   1601064592|2020|    9| 25|\n",
      "|c4f05f85f98513743...|              MX| 20.54467| -100.83919|   1601039897|2020|    9| 25|\n",
      "|c18aaea822a31c48e...|              MX| 20.44286|  -97.09554|   1601016176|2020|    9| 25|\n",
      "|cbf35958a128e10b9...|              MX| 19.41112|  -99.25073|   1601066032|2020|    9| 25|\n",
      "|13d97a6a86a8717d3...|              MX|19.375364| -99.190521|   1601074511|2020|    9| 25|\n",
      "|de84cf06b950f0dad...|              MX| 19.32943|  -98.17883|   1601063520|2020|    9| 25|\n",
      "|123749a5f1dfa0bea...|              MX| 19.24919|  -99.17146|   1601055255|2020|    9| 25|\n",
      "|ccabe4340b69be0f5...|              MX| 25.70439|  -100.2317|   1601043416|2020|    9| 25|\n",
      "|ccabe4340b69be0f5...|              MX| 25.70284| -100.23931|   1601067511|2020|    9| 25|\n",
      "|43b8fdb7d10ebdf6f...|              MX|  25.4289| -101.00177|   1601071430|2020|    9| 25|\n",
      "|43b8fdb7d10ebdf6f...|              MX| 25.48373| -100.97162|   1601077100|2020|    9| 25|\n",
      "|d530bdfd3adffe49d...|              MX|  32.5252|-117.045311|   1601071725|2020|    9| 25|\n",
      "+--------------------+----------------+---------+-----------+-------------+----+-----+---+\n",
      "only showing top 20 rows\n",
      "\n",
      "None\n",
      "7857184\n",
      "0.23189616203308105\n",
      "546.5740022659302\n",
      "Calculando distancia tabla 926\n",
      "367887437\n",
      "root\n",
      " |-- caid: string (nullable = true)\n",
      " |-- iso_country_code: string (nullable = true)\n",
      " |-- latitude: double (nullable = true)\n",
      " |-- longitude: double (nullable = true)\n",
      " |-- utc_timestamp: long (nullable = true)\n",
      " |-- year: long (nullable = true)\n",
      " |-- month: long (nullable = true)\n",
      " |-- day: long (nullable = true)\n",
      "\n",
      "None\n",
      "+--------------------+----------------+----------+----------+-------------+----+-----+---+\n",
      "|                caid|iso_country_code|  latitude| longitude|utc_timestamp|year|month|day|\n",
      "+--------------------+----------------+----------+----------+-------------+----+-----+---+\n",
      "|d672ef77d1d80d5bb...|              AR|-32.666852|-58.327363|   1601123304|2020|    9| 26|\n",
      "|88fb94fdb7ec99f2b...|              AR|-34.520244|-58.547973|   1601110385|2020|    9| 26|\n",
      "|320d5dd7fe284787d...|              AR|-45.921356|-67.570918|   1601146967|2020|    9| 26|\n",
      "|320d5dd7fe284787d...|              AR|-45.935602|-67.577469|   1601151155|2020|    9| 26|\n",
      "|d35f0a245ca754b45...|              AR| -34.92092|-57.917168|   1601143552|2020|    9| 26|\n",
      "|3375c3c36bd6f7b54...|              AR|-33.748195|-61.966755|   1601140545|2020|    9| 26|\n",
      "|dca5fed3f6394161f...|              AR|-34.603477|-58.515183|   1601108130|2020|    9| 26|\n",
      "|badd6170532a1464d...|              AR|-34.613186|-58.363175|   1601136268|2020|    9| 26|\n",
      "|cf2c99b0bcdbf196a...|              AR|-34.545162|-58.459184|   1601158691|2020|    9| 26|\n",
      "|cf2c99b0bcdbf196a...|              AR|-34.457857|-58.718792|   1601159927|2020|    9| 26|\n",
      "|181388efd06b899ef...|              AR|-34.687292| -58.34176|   1601091968|2020|    9| 26|\n",
      "|b02aa378f984f2453...|              AR| -33.28811|-62.181259|   1601107542|2020|    9| 26|\n",
      "|cf3ac13ae8f09d4db...|              AR|-34.653593|-58.641378|   1601139850|2020|    9| 26|\n",
      "|74fede0c56e68a76e...|              AR|-26.069455|-65.983622|   1601096322|2020|    9| 26|\n",
      "|3194fb6c5e0d78e97...|              AR|-34.636576|-58.374252|   1601145859|2020|    9| 26|\n",
      "|63a9ab467b00c2868...|              AR|-34.608754|-58.557683|   1601109107|2020|    9| 26|\n",
      "|63a9ab467b00c2868...|              AR|-34.608702|-58.557826|   1601152754|2020|    9| 26|\n",
      "|2b4eeb034d802a29c...|              AR|-34.860533|-58.502612|   1601136653|2020|    9| 26|\n",
      "|d5a1dcb76dd2226ab...|              AR|-31.421502|-64.178205|   1601124097|2020|    9| 26|\n",
      "|384b56f32066aa96f...|              AR|-31.477477|-68.535803|   1601160618|2020|    9| 26|\n",
      "+--------------------+----------------+----------+----------+-------------+----+-----+---+\n",
      "only showing top 20 rows\n",
      "\n",
      "None\n",
      "7885949\n",
      "0.21110939979553223\n",
      "302.41107058525085\n",
      "Calculando distancia tabla 927\n",
      "328348855\n",
      "root\n",
      " |-- caid: string (nullable = true)\n",
      " |-- iso_country_code: string (nullable = true)\n",
      " |-- latitude: double (nullable = true)\n",
      " |-- longitude: double (nullable = true)\n",
      " |-- utc_timestamp: long (nullable = true)\n",
      " |-- year: long (nullable = true)\n",
      " |-- month: long (nullable = true)\n",
      " |-- day: long (nullable = true)\n",
      "\n",
      "None\n",
      "+--------------------+----------------+--------+----------+-------------+----+-----+---+\n",
      "|                caid|iso_country_code|latitude| longitude|utc_timestamp|year|month|day|\n",
      "+--------------------+----------------+--------+----------+-------------+----+-----+---+\n",
      "|c06d5e6a3eab61446...|              MX|31.74577|-106.42602|   1601267391|2020|    9| 27|\n",
      "|987f8315789a37119...|              MX|21.85399|-102.24918|   1601266779|2020|    9| 27|\n",
      "|4155b7560b6c41531...|              MX|23.20939|-106.42154|   1601251218|2020|    9| 27|\n",
      "|e638b30b606140314...|              MX|20.47715|-100.81976|   1601251799|2020|    9| 27|\n",
      "|aa693f3d9940ff196...|              MX| 20.9897| -89.57822|   1601262665|2020|    9| 27|\n",
      "|2b016d634b37b9691...|              MX|19.98119| -102.2901|   1601252068|2020|    9| 27|\n",
      "|f4d48cf96cb01baf2...|              MX|20.73429|-101.95552|   1601262230|2020|    9| 27|\n",
      "|14225d848de977f7c...|              MX|26.05395| -98.31057|   1601266632|2020|    9| 27|\n",
      "|14225d848de977f7c...|              MX|26.05395| -98.31054|   1601271682|2020|    9| 27|\n",
      "|12e26418c5f62e36f...|              MX|29.31245|-100.95765|   1601252073|2020|    9| 27|\n",
      "|467e9f3c069a9ab75...|              MX|19.00715| -98.32335|   1601267761|2020|    9| 27|\n",
      "|b013f51b85006b5dc...|              MX|25.75775|-100.41622|   1601268935|2020|    9| 27|\n",
      "|a58e1218fd75f05f5...|              MX|19.33897| -98.95958|   1601262036|2020|    9| 27|\n",
      "|14225d848de977f7c...|              MX|26.05398| -98.31057|   1601270443|2020|    9| 27|\n",
      "|1c08208ba3ae72d7a...|              MX| 18.4904| -97.38828|   1601262422|2020|    9| 27|\n",
      "|810c17500c245e06f...|              MX|19.35275| -99.33277|   1601267348|2020|    9| 27|\n",
      "|4155b7560b6c41531...|              MX|23.20942|-106.42155|   1601260152|2020|    9| 27|\n",
      "|8c2fdc6685aecd360...|              MX|21.47131|-104.85933|   1601270182|2020|    9| 27|\n",
      "|02a846f73dfd1ab24...|              MX|19.32957| -99.01488|   1601263841|2020|    9| 27|\n",
      "|6a80ab84d8f88164a...|              MX|23.27109|-106.37857|   1601263597|2020|    9| 27|\n",
      "+--------------------+----------------+--------+----------+-------------+----+-----+---+\n",
      "only showing top 20 rows\n",
      "\n",
      "None\n",
      "7569249\n",
      "0.21395063400268555\n",
      "262.9773941040039\n",
      "Calculando distancia tabla 928\n",
      "357878599\n",
      "root\n",
      " |-- caid: string (nullable = true)\n",
      " |-- iso_country_code: string (nullable = true)\n",
      " |-- latitude: double (nullable = true)\n",
      " |-- longitude: double (nullable = true)\n",
      " |-- utc_timestamp: long (nullable = true)\n",
      " |-- year: long (nullable = true)\n",
      " |-- month: long (nullable = true)\n",
      " |-- day: long (nullable = true)\n",
      "\n",
      "None\n",
      "+--------------------+----------------+---------+-----------+-------------+----+-----+---+\n",
      "|                caid|iso_country_code| latitude|  longitude|utc_timestamp|year|month|day|\n",
      "+--------------------+----------------+---------+-----------+-------------+----+-----+---+\n",
      "|3c33ca427e5bc3cf1...|              MX| 32.46691| -116.82835|   1601278451|2020|    9| 28|\n",
      "|a4265e632061fcb83...|              MX| 19.33392|  -99.20514|   1601326806|2020|    9| 28|\n",
      "|74332073bc7c65426...|              MX| 20.10969|  -98.77536|   1601277699|2020|    9| 28|\n",
      "|8eb99c26b3c21d366...|              MX|29.089125|-110.986351|   1601327290|2020|    9| 28|\n",
      "|c9adf2f6489344d83...|              MX| 25.70703| -100.14365|   1601300922|2020|    9| 28|\n",
      "|0f2603c1992d8860f...|              MX| 19.26227|  -98.84303|   1601328001|2020|    9| 28|\n",
      "|0f2603c1992d8860f...|              MX| 19.26225|  -98.84305|   1601329795|2020|    9| 28|\n",
      "|bc937c09921f05f37...|              MX| 19.63048|  -98.94247|   1601311741|2020|    9| 28|\n",
      "|442d5f8538f4c19bf...|              MX|  19.0368|  -98.21373|   1601332228|2020|    9| 28|\n",
      "|8ac482475f50e3c5d...|              MX|19.501326| -102.41028|   1601340285|2020|    9| 28|\n",
      "|76cb36807fc098f29...|              MX|19.663852| -99.205372|   1601338175|2020|    9| 28|\n",
      "|8a89ee66a11861a46...|              MX|16.484716| -95.038881|   1601351658|2020|    9| 28|\n",
      "|8a4468206bf04367d...|              MX|16.256022|  -92.13972|   1601358767|2020|    9| 28|\n",
      "|8a4468206bf04367d...|              MX|16.255556| -92.139893|   1601358915|2020|    9| 28|\n",
      "|5641d1a1942b43d78...|              MX|22.275305| -97.827334|   1601358621|2020|    9| 28|\n",
      "|44dbd0aee2de116eb...|              MX| 19.42364|  -98.95145|   1601356821|2020|    9| 28|\n",
      "|119fc7a5cb705e8e3...|              MX| 19.44428|  -98.93931|   1601354250|2020|    9| 28|\n",
      "|43b5df112a65fdf67...|              MX| 19.25026| -103.73853|   1601357390|2020|    9| 28|\n",
      "|805211e3b098c54d9...|              MX|  20.3831| -89.466986|   1601353727|2020|    9| 28|\n",
      "|d24fd890843aaa877...|              MX|19.439821| -99.136098|   1601352300|2020|    9| 28|\n",
      "+--------------------+----------------+---------+-----------+-------------+----+-----+---+\n",
      "only showing top 20 rows\n",
      "\n",
      "None\n",
      "7771715\n",
      "0.18310761451721191\n",
      "282.19336128234863\n",
      "Calculando distancia tabla 929\n",
      "296868772\n",
      "root\n",
      " |-- caid: string (nullable = true)\n",
      " |-- iso_country_code: string (nullable = true)\n",
      " |-- latitude: double (nullable = true)\n",
      " |-- longitude: double (nullable = true)\n",
      " |-- utc_timestamp: long (nullable = true)\n",
      " |-- year: long (nullable = true)\n",
      " |-- month: long (nullable = true)\n",
      " |-- day: long (nullable = true)\n",
      "\n",
      "None\n",
      "+--------------------+----------------+---------+----------+-------------+----+-----+---+\n",
      "|                caid|iso_country_code| latitude| longitude|utc_timestamp|year|month|day|\n",
      "+--------------------+----------------+---------+----------+-------------+----+-----+---+\n",
      "|7fb8e162dafe52140...|              CO|  9.72119|-75.130453|   1601388692|2020|    9| 29|\n",
      "|5dde688d0f0fefe70...|              CO| 2.455447|-76.632961|   1601407743|2020|    9| 29|\n",
      "|3832af83c412d9f39...|              CO| 9.015621|-73.966064|   1601395690|2020|    9| 29|\n",
      "|ee9ed80c027db7e7e...|              CO| 4.860908|-74.061748|   1601406874|2020|    9| 29|\n",
      "|e9e5b5f48375efb59...|              CO| 10.95829|-74.781359|   1601399708|2020|    9| 29|\n",
      "|24d0f773213b64d50...|              CO| 1.859225|-76.041886|   1601388190|2020|    9| 29|\n",
      "|24d0f773213b64d50...|              CO| 1.859227|-76.041871|   1601414851|2020|    9| 29|\n",
      "|839fbe8ae6230cfc5...|              CO|11.209147|-74.165015|   1601410332|2020|    9| 29|\n",
      "|cf50082f86798697f...|              CO| 5.066892|-75.486567|   1601390351|2020|    9| 29|\n",
      "|3824f27c77defd8b4...|              CO| 4.572504|-74.170953|   1601400239|2020|    9| 29|\n",
      "|9471bb354ae6205d2...|              CO|10.398193|-75.559157|   1601393877|2020|    9| 29|\n",
      "|7dddc8a560922e5d2...|              CO| 3.453697|-76.480988|   1601394305|2020|    9| 29|\n",
      "|609d78f1dbedb4a3a...|              CO| 4.125517|-73.632394|   1601415713|2020|    9| 29|\n",
      "|e003ddc247fb24391...|              CO| 6.171439|-75.593428|   1601416814|2020|    9| 29|\n",
      "|ea96fc58612cd664a...|              CO| 6.281873|-75.553367|   1601386717|2020|    9| 29|\n",
      "|f928d47c908e1578d...|              CO| 7.579323|-75.403356|   1601423235|2020|    9| 29|\n",
      "|ce90538572cd25318...|              CO| 4.699434|-74.080174|   1601420199|2020|    9| 29|\n",
      "|9662938dc3846bae1...|              CO| 4.560882| -74.11246|   1601376428|2020|    9| 29|\n",
      "|9662938dc3846bae1...|              CO| 4.560894|-74.112467|   1601376658|2020|    9| 29|\n",
      "|72306b51076fa1420...|              CO|  4.65919|-74.113662|   1601394446|2020|    9| 29|\n",
      "+--------------------+----------------+---------+----------+-------------+----+-----+---+\n",
      "only showing top 20 rows\n",
      "\n",
      "None\n",
      "7647763\n",
      "0.18517851829528809\n",
      "238.75475478172302\n",
      "Calculando distancia tabla 930\n",
      "302271321\n",
      "root\n",
      " |-- caid: string (nullable = true)\n",
      " |-- iso_country_code: string (nullable = true)\n",
      " |-- latitude: double (nullable = true)\n",
      " |-- longitude: double (nullable = true)\n",
      " |-- utc_timestamp: long (nullable = true)\n",
      " |-- year: long (nullable = true)\n",
      " |-- month: long (nullable = true)\n",
      " |-- day: long (nullable = true)\n",
      "\n",
      "None\n",
      "+--------------------+----------------+----------+----------+-------------+----+-----+---+\n",
      "|                caid|iso_country_code|  latitude| longitude|utc_timestamp|year|month|day|\n",
      "+--------------------+----------------+----------+----------+-------------+----+-----+---+\n",
      "|e60a9c2e4cbf36453...|              BR|-23.675953|-46.634285|   1601447789|2020|    9| 30|\n",
      "|a94bd65ef1089e8c4...|              BR|-24.792087| -53.30823|   1601431300|2020|    9| 30|\n",
      "|3a240732b13105e87...|              BR| -29.96243|  -51.1957|   1601501756|2020|    9| 30|\n",
      "|edddef0e41129e774...|              BR|-23.496028|-46.866932|   1601479034|2020|    9| 30|\n",
      "|0df71658a9028169d...|              BR|-26.929301|-49.067311|   1601504706|2020|    9| 30|\n",
      "|ccdaa043e89e2b725...|              BR|-20.422808|-54.573539|   1601493768|2020|    9| 30|\n",
      "|66b3fd66322ccc8a1...|              BR|  -20.3489|-40.337268|   1601464098|2020|    9| 30|\n",
      "|7d56d47a560992d63...|              BR|-20.898988|-40.784589|   1601498705|2020|    9| 30|\n",
      "|3e433b972b725d356...|              BR|-23.548524|-46.796218|   1601445586|2020|    9| 30|\n",
      "|29d60318d6e238d46...|              BR|-29.169362| -54.85044|   1601484422|2020|    9| 30|\n",
      "|5a807864644a8d5bc...|              BR| -7.931141|-34.864639|   1601503358|2020|    9| 30|\n",
      "|bffe9789c3bf8fe57...|              BR|-26.621482|-53.670552|   1601499962|2020|    9| 30|\n",
      "|4774bfbe6150c0106...|              BR|-26.900756|-49.149218|   1601465602|2020|    9| 30|\n",
      "|56b708a2ed6dd4be3...|              BR| -8.113804|-35.287343|   1601466111|2020|    9| 30|\n",
      "|6483bd0655fd98916...|              BR| -20.45838|-54.583338|   1601502647|2020|    9| 30|\n",
      "|c527ca86fa36b91e8...|              BR|  -6.51574|-38.406991|   1601504722|2020|    9| 30|\n",
      "|6539f01e6b39c7bbf...|              BR|-10.045479|-36.652244|   1601442502|2020|    9| 30|\n",
      "|17ae5cb891e9f64db...|              BR|-29.188556|-51.167678|   1601440131|2020|    9| 30|\n",
      "|9b1620d89ac90107d...|              BR| -29.91385|-51.077369|   1601497559|2020|    9| 30|\n",
      "|79f603f642d2a0669...|              BR|-23.656812|-46.756182|   1601475407|2020|    9| 30|\n",
      "+--------------------+----------------+----------+----------+-------------+----+-----+---+\n",
      "only showing top 20 rows\n",
      "\n",
      "None\n",
      "6510991\n",
      "0.19673943519592285\n",
      "243.62447953224182"
     ]
    }
   ],
   "source": [
    "for fecha in fechas:\n",
    "    start = time.time()\n",
    "    mes = str(fecha.month)\n",
    "    dia = str(fecha.day)\n",
    "    if len(dia) == 1:\n",
    "        dia = f'0{dia}'\n",
    "    codigo_tabla = f'{mes}{dia}'\n",
    "    \n",
    "    print(f'Calculando distancia tabla {codigo_tabla}')\n",
    "    \n",
    "    path_tabla = f\"s3://iadbprod-csd-hub-analyticaldata/graphdata-mobility-temporal/Tablas_pings/Todos_pings_delta_{codigo_tabla}\"\n",
    "    df = spark.read.parquet(path_tabla).select('caid',\n",
    "                                               'iso_country_code',\n",
    "                                               'latitude',\n",
    "                                               'longitude',\n",
    "                                               'utc_timestamp',\n",
    "                                               'year',\n",
    "                                               'month',\n",
    "                                               'day')\n",
    "    \n",
    "    print(df.count())\n",
    "    print(df.printSchema())\n",
    "    print(df.show())\n",
    "    print(df.select('caid').distinct().count())\n",
    "    \n",
    "    df_dia = indicadores(df)\n",
    "    file_path = os.path.join(f's3://{bucket}/graphdata-mobility-temporal/mobility/distancia_recorrida_usuarios_{codigo_tabla}')\n",
    "    df_dia.repartition(1).write.save(file_path, format='csv', header=True,mode='overwrite')\n",
    "    print(time.time()-start)"
   ]
  }
 ],
 "metadata": {
  "kernelspec": {
   "display_name": "Sparkmagic (PySpark)",
   "language": "python",
   "name": "pysparkkernel"
  },
  "language_info": {
   "codemirror_mode": {
    "name": "python",
    "version": 3
   },
   "file_extension": ".py",
   "mimetype": "text/x-python",
   "name": "pyspark",
   "pygments_lexer": "python3"
  }
 },
 "nbformat": 4,
 "nbformat_minor": 4
}
