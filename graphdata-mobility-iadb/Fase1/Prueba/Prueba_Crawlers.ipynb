{
 "cells": [
  {
   "cell_type": "markdown",
   "metadata": {},
   "source": [
    "## Librerias"
   ]
  },
  {
   "cell_type": "code",
   "execution_count": 1,
   "metadata": {},
   "outputs": [],
   "source": [
    "import boto3"
   ]
  },
  {
   "cell_type": "markdown",
   "metadata": {},
   "source": [
    "## Lista de Crawlers"
   ]
  },
  {
   "cell_type": "code",
   "execution_count": 2,
   "metadata": {
    "scrolled": false
   },
   "outputs": [
    {
     "data": {
      "text/plain": [
       "{'CrawlerNames': ['c-p-mobility2-csd-hub',\n",
       "  'c-p-veraset-csd-hub',\n",
       "  'c-p-veraset1-csd-hub',\n",
       "  'p-c-edw-res-res-verasat',\n",
       "  'p-waze-waze-orc-crawler',\n",
       "  'p-waze-waze-schema-json-crawler'],\n",
       " 'ResponseMetadata': {'RequestId': '8d4d016a-ab84-49cf-aeaa-3bf343d00d4f',\n",
       "  'HTTPStatusCode': 200,\n",
       "  'HTTPHeaders': {'date': 'Tue, 02 Feb 2021 22:45:03 GMT',\n",
       "   'content-type': 'application/x-amz-json-1.1',\n",
       "   'content-length': '173',\n",
       "   'connection': 'keep-alive',\n",
       "   'x-amzn-requestid': '8d4d016a-ab84-49cf-aeaa-3bf343d00d4f'},\n",
       "  'RetryAttempts': 0}}"
      ]
     },
     "execution_count": 2,
     "metadata": {},
     "output_type": "execute_result"
    }
   ],
   "source": [
    "client = boto3.client('glue')\n",
    "list_crawlers = client.list_crawlers()\n",
    "list_crawlers"
   ]
  },
  {
   "cell_type": "markdown",
   "metadata": {},
   "source": [
    "## Detalles de Crawlers "
   ]
  },
  {
   "cell_type": "code",
   "execution_count": 3,
   "metadata": {
    "scrolled": true
   },
   "outputs": [
    {
     "data": {
      "text/plain": [
       "{'Crawler': {'Name': 'c-p-veraset-csd-hub',\n",
       "  'Role': 'cf-p-csd-hub-urbanplanning-GlueRole-WKADRENNJT7Y',\n",
       "  'Targets': {'S3Targets': [{'Path': 's3://iadbprod-ite-ito-edw/datapartner/worldbank/veraset_02030409_2020/',\n",
       "     'Exclusions': []}],\n",
       "   'JdbcTargets': [],\n",
       "   'MongoDBTargets': [],\n",
       "   'DynamoDBTargets': [],\n",
       "   'CatalogTargets': []},\n",
       "  'DatabaseName': 'graphdata',\n",
       "  'Description': 'Crawler - Veraset database',\n",
       "  'Classifiers': [],\n",
       "  'RecrawlPolicy': {'RecrawlBehavior': 'CRAWL_EVERYTHING'},\n",
       "  'SchemaChangePolicy': {'UpdateBehavior': 'UPDATE_IN_DATABASE',\n",
       "   'DeleteBehavior': 'DEPRECATE_IN_DATABASE'},\n",
       "  'LineageConfiguration': {'CrawlerLineageSettings': 'DISABLE'},\n",
       "  'State': 'READY',\n",
       "  'CrawlElapsedTime': 0,\n",
       "  'CreationTime': datetime.datetime(2021, 1, 27, 21, 36, 39, tzinfo=tzlocal()),\n",
       "  'LastUpdated': datetime.datetime(2021, 1, 27, 21, 36, 39, tzinfo=tzlocal()),\n",
       "  'LastCrawl': {'Status': 'SUCCEEDED',\n",
       "   'LogGroup': '/aws-glue/crawlers',\n",
       "   'LogStream': 'c-p-veraset-csd-hub',\n",
       "   'MessagePrefix': '8d729829-a897-4a60-9b2b-b01ef291b1cc',\n",
       "   'StartTime': datetime.datetime(2021, 2, 1, 16, 28, 57, tzinfo=tzlocal())},\n",
       "  'Version': 1,\n",
       "  'Configuration': '{\"Version\":1.0,\"CrawlerOutput\":{\"Partitions\":{\"AddOrUpdateBehavior\":\"InheritFromTable\"}}}'},\n",
       " 'ResponseMetadata': {'RequestId': '8bbbc2c7-1f81-4672-8dda-272ca815e692',\n",
       "  'HTTPStatusCode': 200,\n",
       "  'HTTPHeaders': {'date': 'Tue, 02 Feb 2021 22:45:03 GMT',\n",
       "   'content-type': 'application/x-amz-json-1.1',\n",
       "   'content-length': '1012',\n",
       "   'connection': 'keep-alive',\n",
       "   'x-amzn-requestid': '8bbbc2c7-1f81-4672-8dda-272ca815e692'},\n",
       "  'RetryAttempts': 0}}"
      ]
     },
     "execution_count": 3,
     "metadata": {},
     "output_type": "execute_result"
    }
   ],
   "source": [
    "response = client.get_crawler(\n",
    "    Name='c-p-veraset-csd-hub'\n",
    ")\n",
    "response"
   ]
  },
  {
   "cell_type": "code",
   "execution_count": 4,
   "metadata": {
    "scrolled": true
   },
   "outputs": [
    {
     "data": {
      "text/plain": [
       "{'Crawler': {'Name': 'c-p-veraset1-csd-hub',\n",
       "  'Role': 'cf-p-csd-hub-urbanplanning-GlueRole-WKADRENNJT7Y',\n",
       "  'Targets': {'S3Targets': [{'Path': 's3://iadbprod-ite-ito-edw/datapartner/worldbank/unacast_02030409_2020/',\n",
       "     'Exclusions': []}],\n",
       "   'JdbcTargets': [],\n",
       "   'MongoDBTargets': [],\n",
       "   'DynamoDBTargets': [],\n",
       "   'CatalogTargets': []},\n",
       "  'DatabaseName': 'graphdata',\n",
       "  'Description': 'Crawler - Unacast database',\n",
       "  'Classifiers': [],\n",
       "  'RecrawlPolicy': {'RecrawlBehavior': 'CRAWL_EVERYTHING'},\n",
       "  'SchemaChangePolicy': {'UpdateBehavior': 'UPDATE_IN_DATABASE',\n",
       "   'DeleteBehavior': 'DEPRECATE_IN_DATABASE'},\n",
       "  'LineageConfiguration': {'CrawlerLineageSettings': 'DISABLE'},\n",
       "  'State': 'READY',\n",
       "  'CrawlElapsedTime': 0,\n",
       "  'CreationTime': datetime.datetime(2021, 1, 27, 21, 36, 39, tzinfo=tzlocal()),\n",
       "  'LastUpdated': datetime.datetime(2021, 1, 27, 21, 36, 39, tzinfo=tzlocal()),\n",
       "  'LastCrawl': {'Status': 'SUCCEEDED',\n",
       "   'LogGroup': '/aws-glue/crawlers',\n",
       "   'LogStream': 'c-p-veraset1-csd-hub',\n",
       "   'MessagePrefix': '33341b7c-17f3-4fd1-9c50-e4e26186172c',\n",
       "   'StartTime': datetime.datetime(2021, 1, 27, 21, 39, 3, tzinfo=tzlocal())},\n",
       "  'Version': 1,\n",
       "  'Configuration': '{\"Version\":1.0,\"CrawlerOutput\":{\"Partitions\":{\"AddOrUpdateBehavior\":\"InheritFromTable\"}}}'},\n",
       " 'ResponseMetadata': {'RequestId': '393f5759-d0f9-4b80-94ac-cebe2d8d5c29',\n",
       "  'HTTPStatusCode': 200,\n",
       "  'HTTPHeaders': {'date': 'Tue, 02 Feb 2021 22:45:03 GMT',\n",
       "   'content-type': 'application/x-amz-json-1.1',\n",
       "   'content-length': '1014',\n",
       "   'connection': 'keep-alive',\n",
       "   'x-amzn-requestid': '393f5759-d0f9-4b80-94ac-cebe2d8d5c29'},\n",
       "  'RetryAttempts': 0}}"
      ]
     },
     "execution_count": 4,
     "metadata": {},
     "output_type": "execute_result"
    }
   ],
   "source": [
    "response = client.get_crawler(\n",
    "    Name='c-p-veraset1-csd-hub'\n",
    ")\n",
    "response"
   ]
  },
  {
   "cell_type": "code",
   "execution_count": 5,
   "metadata": {},
   "outputs": [
    {
     "data": {
      "text/plain": [
       "{'Crawler': {'Name': 'c-p-mobility2-csd-hub',\n",
       "  'Role': 'cf-p-csd-hub-urbanplanning-GlueRole-WKADRENNJT7Y',\n",
       "  'Targets': {'S3Targets': [{'Path': 's3://iadbprod-csd-hub-analyticaldata/graphdata-mobility-temporal/mobility/',\n",
       "     'Exclusions': []}],\n",
       "   'JdbcTargets': [],\n",
       "   'MongoDBTargets': [],\n",
       "   'DynamoDBTargets': [],\n",
       "   'CatalogTargets': []},\n",
       "  'DatabaseName': 'graphdata',\n",
       "  'Description': 'Crawler - distance traveled database',\n",
       "  'Classifiers': [],\n",
       "  'RecrawlPolicy': {'RecrawlBehavior': 'CRAWL_EVERYTHING'},\n",
       "  'SchemaChangePolicy': {'UpdateBehavior': 'UPDATE_IN_DATABASE',\n",
       "   'DeleteBehavior': 'DEPRECATE_IN_DATABASE'},\n",
       "  'LineageConfiguration': {'CrawlerLineageSettings': 'DISABLE'},\n",
       "  'State': 'READY',\n",
       "  'CrawlElapsedTime': 0,\n",
       "  'CreationTime': datetime.datetime(2021, 1, 27, 21, 36, 40, tzinfo=tzlocal()),\n",
       "  'LastUpdated': datetime.datetime(2021, 1, 27, 21, 36, 40, tzinfo=tzlocal()),\n",
       "  'LastCrawl': {'Status': 'SUCCEEDED',\n",
       "   'LogGroup': '/aws-glue/crawlers',\n",
       "   'LogStream': 'c-p-mobility2-csd-hub',\n",
       "   'MessagePrefix': '538eeb08-c155-4e98-8641-f7a5f3c09b24',\n",
       "   'StartTime': datetime.datetime(2021, 2, 1, 16, 48, 42, tzinfo=tzlocal())},\n",
       "  'Version': 1,\n",
       "  'Configuration': '{\"Version\":1.0,\"CrawlerOutput\":{\"Partitions\":{\"AddOrUpdateBehavior\":\"InheritFromTable\"}}}'},\n",
       " 'ResponseMetadata': {'RequestId': 'b6e9ee0f-76bb-4981-85d7-b3a52985e15d',\n",
       "  'HTTPStatusCode': 200,\n",
       "  'HTTPHeaders': {'date': 'Tue, 02 Feb 2021 22:45:03 GMT',\n",
       "   'content-type': 'application/x-amz-json-1.1',\n",
       "   'content-length': '1026',\n",
       "   'connection': 'keep-alive',\n",
       "   'x-amzn-requestid': 'b6e9ee0f-76bb-4981-85d7-b3a52985e15d'},\n",
       "  'RetryAttempts': 0}}"
      ]
     },
     "execution_count": 5,
     "metadata": {},
     "output_type": "execute_result"
    }
   ],
   "source": [
    "response = client.get_crawler(\n",
    "    Name='c-p-mobility2-csd-hub'\n",
    ")\n",
    "response"
   ]
  },
  {
   "cell_type": "markdown",
   "metadata": {},
   "source": [
    "## Ejecución de Crawlers "
   ]
  },
  {
   "cell_type": "markdown",
   "metadata": {},
   "source": [
    "#### Crawler 1 - Veraset"
   ]
  },
  {
   "cell_type": "markdown",
   "metadata": {},
   "source": [
    "response = client.start_crawler(\n",
    "    Name = 'c-p-veraset-csd-hub'\n",
    ")"
   ]
  },
  {
   "cell_type": "markdown",
   "metadata": {},
   "source": [
    "#### Crawler 2 - Unacast"
   ]
  },
  {
   "cell_type": "markdown",
   "metadata": {},
   "source": [
    "response = client.start_crawler(\n",
    "    Name = 'c-p-veraset1-csd-hub'\n",
    ")"
   ]
  },
  {
   "cell_type": "markdown",
   "metadata": {},
   "source": [
    "#### Crawler 3 - Mobility"
   ]
  },
  {
   "cell_type": "code",
   "execution_count": 8,
   "metadata": {},
   "outputs": [],
   "source": [
    "response = client.start_crawler(\n",
    "    Name = 'c-p-mobility2-csd-hub'\n",
    ")"
   ]
  }
 ],
 "metadata": {
  "kernelspec": {
   "display_name": "conda_python3",
   "language": "python",
   "name": "conda_python3"
  },
  "language_info": {
   "codemirror_mode": {
    "name": "ipython",
    "version": 3
   },
   "file_extension": ".py",
   "mimetype": "text/x-python",
   "name": "python",
   "nbconvert_exporter": "python",
   "pygments_lexer": "ipython3",
   "version": "3.6.10"
  }
 },
 "nbformat": 4,
 "nbformat_minor": 4
}
