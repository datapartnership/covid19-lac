{
 "cells": [
  {
   "cell_type": "markdown",
   "metadata": {},
   "source": [
    "### Preparar ambiente"
   ]
  },
  {
   "cell_type": "markdown",
   "metadata": {},
   "source": [
    "Primero descomentar las siguientes lineas e instalar PyAthena. Solo se hace la primera vez que se abre la instancia"
   ]
  },
  {
   "cell_type": "code",
   "execution_count": 1,
   "metadata": {},
   "outputs": [
    {
     "name": "stdout",
     "output_type": "stream",
     "text": [
      "Requirement already satisfied: PyAthena in /home/ec2-user/anaconda3/envs/python3/lib/python3.6/site-packages (2.3.0)\n",
      "Requirement already satisfied: botocore>=1.5.52 in /home/ec2-user/anaconda3/envs/python3/lib/python3.6/site-packages (from PyAthena) (1.20.79)\n",
      "Requirement already satisfied: boto3>=1.4.4 in /home/ec2-user/anaconda3/envs/python3/lib/python3.6/site-packages (from PyAthena) (1.17.79)\n",
      "Requirement already satisfied: tenacity>=4.1.0 in /home/ec2-user/anaconda3/envs/python3/lib/python3.6/site-packages (from PyAthena) (7.0.0)\n",
      "Requirement already satisfied: s3transfer<0.5.0,>=0.4.0 in /home/ec2-user/anaconda3/envs/python3/lib/python3.6/site-packages (from boto3>=1.4.4->PyAthena) (0.4.2)\n",
      "Requirement already satisfied: jmespath<1.0.0,>=0.7.1 in /home/ec2-user/anaconda3/envs/python3/lib/python3.6/site-packages (from boto3>=1.4.4->PyAthena) (0.10.0)\n",
      "Requirement already satisfied: urllib3<1.27,>=1.25.4 in /home/ec2-user/anaconda3/envs/python3/lib/python3.6/site-packages (from botocore>=1.5.52->PyAthena) (1.26.4)\n",
      "Requirement already satisfied: python-dateutil<3.0.0,>=2.1 in /home/ec2-user/anaconda3/envs/python3/lib/python3.6/site-packages (from botocore>=1.5.52->PyAthena) (2.8.1)\n",
      "Requirement already satisfied: six>=1.5 in /home/ec2-user/anaconda3/envs/python3/lib/python3.6/site-packages (from python-dateutil<3.0.0,>=2.1->botocore>=1.5.52->PyAthena) (1.15.0)\n"
     ]
    }
   ],
   "source": [
    "import sys\n",
    "!{sys.executable} -m pip install PyAthena"
   ]
  },
  {
   "cell_type": "code",
   "execution_count": 2,
   "metadata": {},
   "outputs": [
    {
     "name": "stdout",
     "output_type": "stream",
     "text": [
      "Requirement already satisfied: pytz in /home/ec2-user/anaconda3/envs/python3/lib/python3.6/site-packages (2021.1)\r\n"
     ]
    }
   ],
   "source": [
    "import sys\n",
    "!{sys.executable} -m pip install pytz"
   ]
  },
  {
   "cell_type": "markdown",
   "metadata": {},
   "source": [
    "### Conectar con pyathena"
   ]
  },
  {
   "cell_type": "code",
   "execution_count": 3,
   "metadata": {},
   "outputs": [],
   "source": [
    "from pyathena.pandas.cursor import PandasCursor\n",
    "from pyathena import connect\n",
    "import pandas as pd\n",
    "import time\n",
    "# agregar directorio en el cual se almacenan las tablas que se van a consultar\n",
    "directorio = 's3://iadbprod-csd-hub-analyticaldata/graphdata-mobility-temporal/athena-results/'\n",
    "# base de datos\n",
    "bd = 'graphdata'\n",
    "cursor = connect(s3_staging_dir = directorio, region_name = 'us-east-1', schema_name = bd, cursor_class = PandasCursor).cursor()"
   ]
  },
  {
   "cell_type": "markdown",
   "metadata": {},
   "source": [
    "### Crea primera tabla historica preliminar a nivel de usuarios"
   ]
  },
  {
   "cell_type": "code",
   "execution_count": 4,
   "metadata": {},
   "outputs": [
    {
     "data": {
      "text/plain": [
       "DatetimeIndex(['2020-02-01', '2020-02-02', '2020-02-03', '2020-02-04',\n",
       "               '2020-02-05', '2020-02-06', '2020-02-07', '2020-02-08',\n",
       "               '2020-02-09', '2020-02-10', '2020-02-11', '2020-02-12',\n",
       "               '2020-02-13', '2020-02-14', '2020-02-15', '2020-02-16',\n",
       "               '2020-02-17', '2020-02-18', '2020-02-19', '2020-02-20',\n",
       "               '2020-02-21', '2020-02-22', '2020-02-23', '2020-02-24',\n",
       "               '2020-02-25', '2020-02-26', '2020-02-27', '2020-02-28',\n",
       "               '2020-02-29', '2020-03-01', '2020-03-02', '2020-03-03',\n",
       "               '2020-03-04', '2020-03-05', '2020-03-06', '2020-03-07',\n",
       "               '2020-03-08', '2020-03-09', '2020-03-10', '2020-03-11',\n",
       "               '2020-03-12', '2020-03-13', '2020-03-14', '2020-03-15',\n",
       "               '2020-03-16', '2020-03-17', '2020-03-18', '2020-03-19',\n",
       "               '2020-03-20', '2020-03-21', '2020-03-22', '2020-03-23',\n",
       "               '2020-03-24', '2020-03-25', '2020-03-26', '2020-03-27',\n",
       "               '2020-03-28', '2020-03-29', '2020-03-30', '2020-03-31'],\n",
       "              dtype='datetime64[ns]', freq='D')"
      ]
     },
     "execution_count": 4,
     "metadata": {},
     "output_type": "execute_result"
    }
   ],
   "source": [
    "# Tabla historica preliminar para capturar latitud y longitud frecuente\n",
    "fecha_inicio = '02-01-2020'\n",
    "fecha_final = '03-31-2020'\n",
    "fechas = pd.date_range(fecha_inicio, fecha_final)\n",
    "fechas"
   ]
  },
  {
   "cell_type": "code",
   "execution_count": 5,
   "metadata": {},
   "outputs": [
    {
     "name": "stdout",
     "output_type": "stream",
     "text": [
      "201\n",
      "201 insertada, 0 minutos\n",
      "202\n",
      "202 insertada, 0 minutos\n",
      "203\n",
      "203 insertada, 0 minutos\n",
      "204\n",
      "204 insertada, 0 minutos\n",
      "205\n",
      "205 insertada, 0 minutos\n",
      "206\n",
      "206 insertada, 0 minutos\n",
      "207\n",
      "207 insertada, 0 minutos\n",
      "208\n",
      "208 insertada, 0 minutos\n",
      "209\n",
      "209 insertada, 0 minutos\n",
      "210\n",
      "210 insertada, 0 minutos\n",
      "211\n",
      "211 insertada, 0 minutos\n",
      "212\n",
      "212 insertada, 0 minutos\n",
      "213\n",
      "213 insertada, 0 minutos\n",
      "214\n",
      "214 insertada, 0 minutos\n",
      "215\n",
      "215 insertada, 0 minutos\n",
      "216\n",
      "216 insertada, 0 minutos\n",
      "217\n",
      "217 insertada, 0 minutos\n",
      "218\n",
      "218 insertada, 0 minutos\n",
      "219\n",
      "219 insertada, 0 minutos\n",
      "220\n",
      "220 insertada, 0 minutos\n",
      "221\n",
      "221 insertada, 0 minutos\n",
      "222\n",
      "222 insertada, 0 minutos\n",
      "223\n",
      "223 insertada, 0 minutos\n",
      "224\n",
      "224 insertada, 0 minutos\n",
      "225\n",
      "225 insertada, 0 minutos\n",
      "226\n",
      "226 insertada, 0 minutos\n",
      "227\n",
      "227 insertada, 0 minutos\n",
      "228\n",
      "228 insertada, 0 minutos\n",
      "229\n",
      "229 insertada, 0 minutos\n",
      "301\n",
      "301 insertada, 0 minutos\n",
      "302\n",
      "302 insertada, 0 minutos\n",
      "303\n",
      "303 insertada, 0 minutos\n",
      "304\n",
      "304 insertada, 0 minutos\n",
      "305\n",
      "305 insertada, 0 minutos\n",
      "306\n",
      "306 insertada, 0 minutos\n",
      "307\n",
      "307 insertada, 0 minutos\n",
      "308\n",
      "308 insertada, 0 minutos\n",
      "309\n",
      "309 insertada, 0 minutos\n",
      "310\n",
      "310 insertada, 0 minutos\n",
      "311\n",
      "311 insertada, 0 minutos\n",
      "312\n",
      "312 insertada, 0 minutos\n",
      "313\n",
      "313 insertada, 0 minutos\n",
      "314\n",
      "314 insertada, 0 minutos\n",
      "315\n",
      "315 insertada, 0 minutos\n",
      "316\n",
      "316 insertada, 0 minutos\n",
      "317\n",
      "317 insertada, 0 minutos\n",
      "318\n",
      "318 insertada, 0 minutos\n",
      "319\n",
      "319 insertada, 0 minutos\n",
      "320\n",
      "320 insertada, 0 minutos\n",
      "321\n",
      "321 insertada, 0 minutos\n",
      "322\n",
      "322 insertada, 0 minutos\n",
      "323\n",
      "323 insertada, 0 minutos\n",
      "324\n",
      "324 insertada, 0 minutos\n",
      "325\n",
      "325 insertada, 0 minutos\n",
      "326\n",
      "326 insertada, 0 minutos\n",
      "327\n",
      "327 insertada, 0 minutos\n",
      "328\n",
      "328 insertada, 0 minutos\n",
      "329\n",
      "329 insertada, 0 minutos\n",
      "330\n",
      "330 insertada, 0 minutos\n",
      "331\n",
      "331 insertada, 0 minutos\n",
      "18.91970363855362\n"
     ]
    }
   ],
   "source": [
    "historico_usuarios_deltas = f'historico_usuarios_preliminar'\n",
    "start_time = time.time()\n",
    "for i,fecha in enumerate(fechas):\n",
    "    time_fecha = time.time()\n",
    "    day = str(fecha.day)\n",
    "    if len(day) == 1:\n",
    "        day = f'0{day}'\n",
    "    codigo_fecha = str(fecha.month) + day\n",
    "    print(codigo_fecha)\n",
    "    tabla_usuarios_fecha = f'todos_usuarios_delta_{codigo_fecha}'\n",
    "    if i == 0 and (day == '01' and fecha.month == 2):\n",
    "        query = f'''\n",
    "                    CREATE TABLE {historico_usuarios_deltas}\n",
    "                    WITH ( external_location = 's3://iadbprod-csd-hub-analyticaldata/graphdata-mobility-usuarios/{historico_usuarios_deltas}', \n",
    "                        format = 'PARQUET', \n",
    "                        parquet_compression = 'SNAPPY',\n",
    "                        partitioned_by = ARRAY['iso_country_code']) AS\n",
    "                    SELECT *\n",
    "                    FROM {tabla_usuarios_fecha}\n",
    "                    WHERE lat_hogar IS NOT NULL\n",
    "                '''\n",
    "    else:\n",
    "        query = f'''\n",
    "                    INSERT INTO {historico_usuarios_deltas} SELECT * FROM {tabla_usuarios_fecha} WHERE lat_hogar IS NOT NULL \n",
    "                '''\n",
    "    cursor.execute(query)\n",
    "    tiempo = (time.time()-time_fecha)/60\n",
    "    print(f\"{codigo_fecha} insertada, {int(tiempo)} minutos\")\n",
    "print((time.time()-start_time)/60)"
   ]
  },
  {
   "cell_type": "code",
   "execution_count": 6,
   "metadata": {},
   "outputs": [
    {
     "data": {
      "text/plain": [
       "<pyathena.pandas.cursor.PandasCursor at 0x7f492f056390>"
      ]
     },
     "execution_count": 6,
     "metadata": {},
     "output_type": "execute_result"
    }
   ],
   "source": [
    "query = f'''MSCK REPAIR TABLE {historico_usuarios_deltas}'''\n",
    "cursor.execute(query)"
   ]
  }
 ],
 "metadata": {
  "kernelspec": {
   "display_name": "conda_python3",
   "language": "python",
   "name": "conda_python3"
  },
  "language_info": {
   "codemirror_mode": {
    "name": "ipython",
    "version": 3
   },
   "file_extension": ".py",
   "mimetype": "text/x-python",
   "name": "python",
   "nbconvert_exporter": "python",
   "pygments_lexer": "ipython3",
   "version": "3.6.13"
  }
 },
 "nbformat": 4,
 "nbformat_minor": 4
}
