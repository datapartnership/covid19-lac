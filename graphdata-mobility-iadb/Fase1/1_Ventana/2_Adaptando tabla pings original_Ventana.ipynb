{
 "cells": [
  {
   "cell_type": "markdown",
   "metadata": {},
   "source": [
    "### Preparar ambiente"
   ]
  },
  {
   "cell_type": "markdown",
   "metadata": {},
   "source": [
    "Primero descomentar las siguientes lineas e instalar PyAthena. Solo se hace la primera vez que se abre la instancia"
   ]
  },
  {
   "cell_type": "code",
   "execution_count": 1,
   "metadata": {
    "scrolled": true
   },
   "outputs": [
    {
     "name": "stdout",
     "output_type": "stream",
     "text": [
      "Collecting PyAthena\n",
      "  Downloading PyAthena-2.1.1-py3-none-any.whl (37 kB)\n",
      "Requirement already satisfied: boto3>=1.4.4 in /home/ec2-user/anaconda3/envs/python3/lib/python3.6/site-packages (from PyAthena) (1.16.63)\n",
      "Requirement already satisfied: botocore>=1.5.52 in /home/ec2-user/anaconda3/envs/python3/lib/python3.6/site-packages (from PyAthena) (1.19.63)\n",
      "Requirement already satisfied: s3transfer<0.4.0,>=0.3.0 in /home/ec2-user/anaconda3/envs/python3/lib/python3.6/site-packages (from boto3>=1.4.4->PyAthena) (0.3.4)\n",
      "Requirement already satisfied: jmespath<1.0.0,>=0.7.1 in /home/ec2-user/anaconda3/envs/python3/lib/python3.6/site-packages (from boto3>=1.4.4->PyAthena) (0.10.0)\n",
      "Requirement already satisfied: python-dateutil<3.0.0,>=2.1 in /home/ec2-user/anaconda3/envs/python3/lib/python3.6/site-packages (from botocore>=1.5.52->PyAthena) (2.8.1)\n",
      "Requirement already satisfied: urllib3<1.27,>=1.25.4 in /home/ec2-user/anaconda3/envs/python3/lib/python3.6/site-packages (from botocore>=1.5.52->PyAthena) (1.26.2)\n",
      "Requirement already satisfied: six>=1.5 in /home/ec2-user/anaconda3/envs/python3/lib/python3.6/site-packages (from python-dateutil<3.0.0,>=2.1->botocore>=1.5.52->PyAthena) (1.15.0)\n",
      "Collecting tenacity>=4.1.0\n",
      "  Downloading tenacity-6.3.1-py2.py3-none-any.whl (36 kB)\n",
      "Installing collected packages: tenacity, PyAthena\n",
      "Successfully installed PyAthena-2.1.1 tenacity-6.3.1\n",
      "\u001b[33mWARNING: You are using pip version 20.3.3; however, version 21.0.1 is available.\n",
      "You should consider upgrading via the '/home/ec2-user/anaconda3/envs/python3/bin/python -m pip install --upgrade pip' command.\u001b[0m\n"
     ]
    }
   ],
   "source": [
    "import sys\n",
    "!{sys.executable} -m pip install PyAthena"
   ]
  },
  {
   "cell_type": "code",
   "execution_count": 2,
   "metadata": {},
   "outputs": [
    {
     "name": "stdout",
     "output_type": "stream",
     "text": [
      "Requirement already satisfied: pytz in /home/ec2-user/anaconda3/envs/python3/lib/python3.6/site-packages (2019.3)\n",
      "\u001b[33mWARNING: You are using pip version 20.3.3; however, version 21.0.1 is available.\n",
      "You should consider upgrading via the '/home/ec2-user/anaconda3/envs/python3/bin/python -m pip install --upgrade pip' command.\u001b[0m\n"
     ]
    }
   ],
   "source": [
    "import sys\n",
    "!{sys.executable} -m pip install pytz"
   ]
  },
  {
   "cell_type": "markdown",
   "metadata": {},
   "source": [
    "#### Conectar con pyathena"
   ]
  },
  {
   "cell_type": "code",
   "execution_count": 3,
   "metadata": {},
   "outputs": [],
   "source": [
    "from pyathena.pandas.cursor import PandasCursor\n",
    "from pyathena import connect\n",
    "import pandas as pd\n",
    "import time\n",
    "# agregar directorio en el cual se almacenan las tablas que se van a consultar\n",
    "directorio = 's3://iadbprod-csd-hub-analyticaldata/graphdata-mobility-temporal/athena-results/'\n",
    "# base de datos\n",
    "bd = 'graphdata' # Database in Glue\n",
    "cursor = connect(s3_staging_dir = directorio, region_name = 'us-east-1', schema_name = bd, cursor_class = PandasCursor).cursor()"
   ]
  },
  {
   "cell_type": "markdown",
   "metadata": {},
   "source": [
    "#### Lista de tablas de interes "
   ]
  },
  {
   "cell_type": "code",
   "execution_count": 4,
   "metadata": {},
   "outputs": [],
   "source": [
    "tabla_datos_input = f\"veraset_02030409_2020\" # Tabla original\n",
    "tabla_datos_output = f\"march_data_200_files\" # Tabla modificada para continuar con la query"
   ]
  },
  {
   "cell_type": "markdown",
   "metadata": {},
   "source": [
    "#### Eliminando tablas  "
   ]
  },
  {
   "cell_type": "code",
   "execution_count": 5,
   "metadata": {},
   "outputs": [
    {
     "name": "stdout",
     "output_type": "stream",
     "text": [
      " Se ha eliminado la vista: march_data_200_files \n"
     ]
    }
   ],
   "source": [
    "for tabla in [ tabla_datos_output ]:\n",
    "        query = (f\"DROP VIEW IF EXISTS {tabla} \")\n",
    "        cursor.execute(query)\n",
    "        print(f\" Se ha eliminado la vista: {tabla} \")"
   ]
  },
  {
   "cell_type": "markdown",
   "metadata": {},
   "source": [
    "#### Renombrar columnas de tabla original "
   ]
  },
  {
   "cell_type": "code",
   "execution_count": 6,
   "metadata": {},
   "outputs": [
    {
     "name": "stdout",
     "output_type": "stream",
     "text": [
      " Se ha creado la vista: march_data_200_files \n"
     ]
    }
   ],
   "source": [
    "# partition_1 - month\n",
    "# partition_2 - day\n",
    "query = (f'''CREATE VIEW {tabla_datos_output}\n",
    "AS SELECT  device_id AS caid,\n",
    "        timestamp AS utc_timestamp,\n",
    "        lat AS latitude,\n",
    "        lon AS longitude,\n",
    "        device_os AS id_type,\n",
    "        accuracy AS accuracy,\n",
    "        date AS date,\n",
    "        split_part(date,'-',2) AS partition_1, \n",
    "        split_part(split_part(date,'-',3),' ',1) AS partition_2,\n",
    "        country AS iso_country_code\n",
    "FROM {tabla_datos_input} ''')\n",
    "cursor.execute(query)\n",
    "print(f\" Se ha creado la vista: {tabla_datos_output} \")"
   ]
  },
  {
   "cell_type": "code",
   "execution_count": 14,
   "metadata": {},
   "outputs": [
    {
     "data": {
      "text/html": [
       "<div>\n",
       "<style scoped>\n",
       "    .dataframe tbody tr th:only-of-type {\n",
       "        vertical-align: middle;\n",
       "    }\n",
       "\n",
       "    .dataframe tbody tr th {\n",
       "        vertical-align: top;\n",
       "    }\n",
       "\n",
       "    .dataframe thead th {\n",
       "        text-align: right;\n",
       "    }\n",
       "</style>\n",
       "<table border=\"1\" class=\"dataframe\">\n",
       "  <thead>\n",
       "    <tr style=\"text-align: right;\">\n",
       "      <th></th>\n",
       "      <th>iso_country_code</th>\n",
       "      <th>n_pings</th>\n",
       "      <th>n_pings_unicos</th>\n",
       "    </tr>\n",
       "  </thead>\n",
       "  <tbody>\n",
       "    <tr>\n",
       "      <th>0</th>\n",
       "      <td>AR</td>\n",
       "      <td>95647318</td>\n",
       "      <td>47823659</td>\n",
       "    </tr>\n",
       "    <tr>\n",
       "      <th>1</th>\n",
       "      <td>BO</td>\n",
       "      <td>7050922</td>\n",
       "      <td>3525461</td>\n",
       "    </tr>\n",
       "    <tr>\n",
       "      <th>2</th>\n",
       "      <td>BR</td>\n",
       "      <td>769432940</td>\n",
       "      <td>384716470</td>\n",
       "    </tr>\n",
       "    <tr>\n",
       "      <th>3</th>\n",
       "      <td>BZ</td>\n",
       "      <td>515158</td>\n",
       "      <td>257579</td>\n",
       "    </tr>\n",
       "    <tr>\n",
       "      <th>4</th>\n",
       "      <td>CL</td>\n",
       "      <td>39963640</td>\n",
       "      <td>19981820</td>\n",
       "    </tr>\n",
       "    <tr>\n",
       "      <th>5</th>\n",
       "      <td>CO</td>\n",
       "      <td>70212350</td>\n",
       "      <td>35106175</td>\n",
       "    </tr>\n",
       "    <tr>\n",
       "      <th>6</th>\n",
       "      <td>CR</td>\n",
       "      <td>5947550</td>\n",
       "      <td>2973775</td>\n",
       "    </tr>\n",
       "    <tr>\n",
       "      <th>7</th>\n",
       "      <td>CU</td>\n",
       "      <td>390768</td>\n",
       "      <td>195384</td>\n",
       "    </tr>\n",
       "    <tr>\n",
       "      <th>8</th>\n",
       "      <td>DO</td>\n",
       "      <td>10940040</td>\n",
       "      <td>5470020</td>\n",
       "    </tr>\n",
       "    <tr>\n",
       "      <th>9</th>\n",
       "      <td>EC</td>\n",
       "      <td>13491982</td>\n",
       "      <td>6745991</td>\n",
       "    </tr>\n",
       "    <tr>\n",
       "      <th>10</th>\n",
       "      <td>GD</td>\n",
       "      <td>167942</td>\n",
       "      <td>83971</td>\n",
       "    </tr>\n",
       "    <tr>\n",
       "      <th>11</th>\n",
       "      <td>GT</td>\n",
       "      <td>5010864</td>\n",
       "      <td>2505432</td>\n",
       "    </tr>\n",
       "    <tr>\n",
       "      <th>12</th>\n",
       "      <td>GY</td>\n",
       "      <td>607024</td>\n",
       "      <td>303512</td>\n",
       "    </tr>\n",
       "    <tr>\n",
       "      <th>13</th>\n",
       "      <td>HN</td>\n",
       "      <td>4284390</td>\n",
       "      <td>2142195</td>\n",
       "    </tr>\n",
       "    <tr>\n",
       "      <th>14</th>\n",
       "      <td>JM</td>\n",
       "      <td>3081890</td>\n",
       "      <td>1540945</td>\n",
       "    </tr>\n",
       "    <tr>\n",
       "      <th>15</th>\n",
       "      <td>KM</td>\n",
       "      <td>19488</td>\n",
       "      <td>9744</td>\n",
       "    </tr>\n",
       "    <tr>\n",
       "      <th>16</th>\n",
       "      <td>KN</td>\n",
       "      <td>127292</td>\n",
       "      <td>63646</td>\n",
       "    </tr>\n",
       "    <tr>\n",
       "      <th>17</th>\n",
       "      <td>LC</td>\n",
       "      <td>226836</td>\n",
       "      <td>113418</td>\n",
       "    </tr>\n",
       "    <tr>\n",
       "      <th>18</th>\n",
       "      <td>LS</td>\n",
       "      <td>51320</td>\n",
       "      <td>25660</td>\n",
       "    </tr>\n",
       "    <tr>\n",
       "      <th>19</th>\n",
       "      <td>MX</td>\n",
       "      <td>378199230</td>\n",
       "      <td>189099615</td>\n",
       "    </tr>\n",
       "    <tr>\n",
       "      <th>20</th>\n",
       "      <td>PA</td>\n",
       "      <td>3086508</td>\n",
       "      <td>1543254</td>\n",
       "    </tr>\n",
       "    <tr>\n",
       "      <th>21</th>\n",
       "      <td>PE</td>\n",
       "      <td>31463306</td>\n",
       "      <td>15731653</td>\n",
       "    </tr>\n",
       "    <tr>\n",
       "      <th>22</th>\n",
       "      <td>PY</td>\n",
       "      <td>3352906</td>\n",
       "      <td>1676453</td>\n",
       "    </tr>\n",
       "    <tr>\n",
       "      <th>23</th>\n",
       "      <td>SV</td>\n",
       "      <td>3624272</td>\n",
       "      <td>1812136</td>\n",
       "    </tr>\n",
       "    <tr>\n",
       "      <th>24</th>\n",
       "      <td>TT</td>\n",
       "      <td>4224372</td>\n",
       "      <td>2112186</td>\n",
       "    </tr>\n",
       "    <tr>\n",
       "      <th>25</th>\n",
       "      <td>VC</td>\n",
       "      <td>118208</td>\n",
       "      <td>59104</td>\n",
       "    </tr>\n",
       "    <tr>\n",
       "      <th>26</th>\n",
       "      <td>VE</td>\n",
       "      <td>9000474</td>\n",
       "      <td>4500237</td>\n",
       "    </tr>\n",
       "  </tbody>\n",
       "</table>\n",
       "</div>"
      ],
      "text/plain": [
       "   iso_country_code    n_pings  n_pings_unicos\n",
       "0                AR   95647318        47823659\n",
       "1                BO    7050922         3525461\n",
       "2                BR  769432940       384716470\n",
       "3                BZ     515158          257579\n",
       "4                CL   39963640        19981820\n",
       "5                CO   70212350        35106175\n",
       "6                CR    5947550         2973775\n",
       "7                CU     390768          195384\n",
       "8                DO   10940040         5470020\n",
       "9                EC   13491982         6745991\n",
       "10               GD     167942           83971\n",
       "11               GT    5010864         2505432\n",
       "12               GY     607024          303512\n",
       "13               HN    4284390         2142195\n",
       "14               JM    3081890         1540945\n",
       "15               KM      19488            9744\n",
       "16               KN     127292           63646\n",
       "17               LC     226836          113418\n",
       "18               LS      51320           25660\n",
       "19               MX  378199230       189099615\n",
       "20               PA    3086508         1543254\n",
       "21               PE   31463306        15731653\n",
       "22               PY    3352906         1676453\n",
       "23               SV    3624272         1812136\n",
       "24               TT    4224372         2112186\n",
       "25               VC     118208           59104\n",
       "26               VE    9000474         4500237"
      ]
     },
     "execution_count": 14,
     "metadata": {},
     "output_type": "execute_result"
    }
   ],
   "source": [
    "query = f'''SELECT iso_country_code,\n",
    "        COUNT(*) as n_pings,\n",
    "        COUNT(distinct (caid, utc_timestamp)) as n_pings_unicos\n",
    "FROM {tabla_datos_output}\n",
    "WHERE partition_1 = '02' AND partition_2 = '01'\n",
    "GROUP BY iso_country_code \n",
    "ORDER BY iso_country_code '''\n",
    "cursor.execute(query).as_pandas()"
   ]
  }
 ],
 "metadata": {
  "kernelspec": {
   "display_name": "conda_python3",
   "language": "python",
   "name": "conda_python3"
  },
  "language_info": {
   "codemirror_mode": {
    "name": "ipython",
    "version": 3
   },
   "file_extension": ".py",
   "mimetype": "text/x-python",
   "name": "python",
   "nbconvert_exporter": "python",
   "pygments_lexer": "ipython3",
   "version": "3.6.13"
  }
 },
 "nbformat": 4,
 "nbformat_minor": 4
}
