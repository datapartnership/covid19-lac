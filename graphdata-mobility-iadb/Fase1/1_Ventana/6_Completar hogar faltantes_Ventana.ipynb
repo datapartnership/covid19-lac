{
 "cells": [
  {
   "cell_type": "markdown",
   "metadata": {},
   "source": [
    "### Preparar ambiente"
   ]
  },
  {
   "cell_type": "code",
   "execution_count": 1,
   "metadata": {
    "scrolled": false
   },
   "outputs": [
    {
     "name": "stdout",
     "output_type": "stream",
     "text": [
      "Requirement already satisfied: PyAthena in /home/ec2-user/anaconda3/envs/python3/lib/python3.6/site-packages (2.3.0)\n",
      "Requirement already satisfied: botocore>=1.5.52 in /home/ec2-user/anaconda3/envs/python3/lib/python3.6/site-packages (from PyAthena) (1.20.79)\n",
      "Requirement already satisfied: tenacity>=4.1.0 in /home/ec2-user/anaconda3/envs/python3/lib/python3.6/site-packages (from PyAthena) (7.0.0)\n",
      "Requirement already satisfied: boto3>=1.4.4 in /home/ec2-user/anaconda3/envs/python3/lib/python3.6/site-packages (from PyAthena) (1.17.79)\n",
      "Requirement already satisfied: s3transfer<0.5.0,>=0.4.0 in /home/ec2-user/anaconda3/envs/python3/lib/python3.6/site-packages (from boto3>=1.4.4->PyAthena) (0.4.2)\n",
      "Requirement already satisfied: jmespath<1.0.0,>=0.7.1 in /home/ec2-user/anaconda3/envs/python3/lib/python3.6/site-packages (from boto3>=1.4.4->PyAthena) (0.10.0)\n",
      "Requirement already satisfied: urllib3<1.27,>=1.25.4 in /home/ec2-user/anaconda3/envs/python3/lib/python3.6/site-packages (from botocore>=1.5.52->PyAthena) (1.26.4)\n",
      "Requirement already satisfied: python-dateutil<3.0.0,>=2.1 in /home/ec2-user/anaconda3/envs/python3/lib/python3.6/site-packages (from botocore>=1.5.52->PyAthena) (2.8.1)\n",
      "Requirement already satisfied: six>=1.5 in /home/ec2-user/anaconda3/envs/python3/lib/python3.6/site-packages (from python-dateutil<3.0.0,>=2.1->botocore>=1.5.52->PyAthena) (1.15.0)\n"
     ]
    }
   ],
   "source": [
    "import sys\n",
    "!{sys.executable} -m pip install PyAthena"
   ]
  },
  {
   "cell_type": "markdown",
   "metadata": {},
   "source": [
    "### Conectar con pyathena"
   ]
  },
  {
   "cell_type": "code",
   "execution_count": 2,
   "metadata": {},
   "outputs": [],
   "source": [
    "from pyathena.pandas.cursor import PandasCursor\n",
    "from pyathena import connect\n",
    "import pandas as pd\n",
    "import time\n",
    "# agregar directorio en el cual se almacenan las tablas que se van a consultar\n",
    "directorio = 's3://iadbprod-csd-hub-analyticaldata/graphdata-mobility-temporal/athena-results/'\n",
    "# base de datos\n",
    "bd = 'graphdata' # Database in Glue\n",
    "cursor = connect(s3_staging_dir = directorio, region_name = 'us-east-1', schema_name = bd, cursor_class = PandasCursor).cursor()"
   ]
  },
  {
   "cell_type": "markdown",
   "metadata": {},
   "source": [
    "### Completar con columnas lat_frecuentes, long_frecuentes y lat_final, long_final"
   ]
  },
  {
   "cell_type": "code",
   "execution_count": 3,
   "metadata": {},
   "outputs": [
    {
     "name": "stdout",
     "output_type": "stream",
     "text": [
      "901\n",
      "902\n",
      "903\n",
      "904\n",
      "905\n",
      "906\n",
      "907\n",
      "908\n",
      "909\n",
      "910\n",
      "911\n",
      "912\n",
      "913\n",
      "914\n",
      "915\n",
      "916\n",
      "917\n",
      "918\n",
      "919\n",
      "920\n",
      "921\n",
      "922\n",
      "923\n",
      "924\n",
      "925\n",
      "926\n",
      "927\n",
      "928\n",
      "929\n",
      "930\n"
     ]
    }
   ],
   "source": [
    "fecha_inicio = '09/01/2020'\n",
    "fecha_final = '09/30/2020'\n",
    "fechas = pd.date_range(fecha_inicio,fecha_final)\n",
    "\n",
    "for fecha in fechas:\n",
    "    day = str(fecha.day)\n",
    "    if len(day) == 1:\n",
    "        day = f'0{day}'\n",
    "    codigo_fecha = str(fecha.month) + day\n",
    "    print(codigo_fecha)\n",
    "    \n",
    "    tabla_usuarios_distancia = f'todos_usuarios_delta_dist_{codigo_fecha}'\n",
    "    \n",
    "    # Tabla historica preliminar para capturar latitud y longitud frecuente (mes base: 0 +1)\n",
    "    tabla_historico_usuarios = 'historico_usuarios_preliminar'\n",
    "    \n",
    "    query_usuario_freq = f'''CREATE VIEW hogares_frecuentes AS\n",
    "                                SELECT t_res.caid,\n",
    "                                         t_res.iso_country_code,\n",
    "                                         t_res.first_lat,\n",
    "                                         t_res.first_long\n",
    "                                FROM \n",
    "                                    (SELECT t_aux.caid AS caid,\n",
    "                                         t_aux.iso_country_code AS iso_country_code,\n",
    "                                         FIRST_VALUE(t_aux.lat_hogar) over( partition by t_aux.caid,\n",
    "                                         t_aux.iso_country_code) AS first_lat,\n",
    "                                         FIRST_VALUE(t_aux.long_hogar) over( partition by t_aux.caid,\n",
    "                                         t_aux.iso_country_code) AS first_long\n",
    "                                    FROM \n",
    "                                        (SELECT t_hist.caid,\n",
    "                                         t_hist.iso_country_code,\n",
    "                                         t_hist.lat_hogar,\n",
    "                                         t_hist.long_hogar,\n",
    "                                         COUNT(*) AS count_hogar\n",
    "                                        FROM {tabla_usuarios_distancia} AS t_ud\n",
    "                                        LEFT JOIN {tabla_historico_usuarios} AS t_hist\n",
    "                                            ON t_ud.caid = t_hist.caid\n",
    "                                                AND t_ud.iso_country_code = t_hist.iso_country_code\n",
    "                                        GROUP BY  t_hist.caid, t_hist.iso_country_code, t_hist.lat_hogar, t_hist.long_hogar\n",
    "                                        ORDER BY  COUNT(*) DESC, SUM(t_hist.n_obs_hogar) DESC) AS t_aux ) AS t_res\n",
    "                                    GROUP BY  t_res.caid, t_res.iso_country_code, t_res.first_lat, t_res.first_long'''\n",
    "                               \n",
    "\n",
    "    cursor.execute(query_usuario_freq)\n",
    "    time.sleep(6)\n",
    "    while (not cursor.has_result_set):\n",
    "        time.sleep(6)\n",
    "    cursor.close()\n",
    "    \n",
    "    tabla_usuarios_distancia_cor = f'todos_usuarios_delta_dist_corregida_{codigo_fecha}'\n",
    "  \n",
    "    query = f'''CREATE TABLE {tabla_usuarios_distancia_cor} AS \n",
    "                SELECT t_users.*,\n",
    "                    t_hogares.first_lat AS lat_frecuente,\n",
    "                    t_hogares.first_long AS long_frecuente,  \n",
    "                    CASE \n",
    "                    WHEN t_users.lat_hogar is NULL THEN\n",
    "                    t_hogares.first_lat\n",
    "                    ELSE t_users.lat_hogar END as lat_final,\n",
    "                    CASE \n",
    "                    WHEN t_users.long_hogar is NULL THEN\n",
    "                    t_hogares.first_long\n",
    "                    ELSE t_users.long_hogar END as long_final\n",
    "                FROM {tabla_usuarios_distancia} AS t_users\n",
    "                LEFT JOIN hogares_frecuentes AS t_hogares\n",
    "                    ON t_users.caid = t_hogares.caid\n",
    "                    AND t_users.iso_country_code = t_hogares.iso_country_code'''\n",
    "\n",
    "    cursor.execute(query)\n",
    "    cursor.execute(\"DROP VIEW graphdata.hogares_frecuentes\")"
   ]
  }
 ],
 "metadata": {
  "kernelspec": {
   "display_name": "conda_python3",
   "language": "python",
   "name": "conda_python3"
  },
  "language_info": {
   "codemirror_mode": {
    "name": "ipython",
    "version": 3
   },
   "file_extension": ".py",
   "mimetype": "text/x-python",
   "name": "python",
   "nbconvert_exporter": "python",
   "pygments_lexer": "ipython3",
   "version": "3.6.13"
  }
 },
 "nbformat": 4,
 "nbformat_minor": 4
}
