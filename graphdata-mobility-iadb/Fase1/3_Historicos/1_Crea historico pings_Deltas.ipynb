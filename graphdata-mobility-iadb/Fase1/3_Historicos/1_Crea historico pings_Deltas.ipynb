{
 "cells": [
  {
   "cell_type": "markdown",
   "metadata": {},
   "source": [
    "### Preparar ambiente"
   ]
  },
  {
   "cell_type": "markdown",
   "metadata": {},
   "source": [
    "Primero descomentar las siguientes lineas e instalar PyAthena. Solo se hace la primera vez que se abre la instancia"
   ]
  },
  {
   "cell_type": "code",
   "execution_count": 1,
   "metadata": {},
   "outputs": [
    {
     "name": "stdout",
     "output_type": "stream",
     "text": [
      "Requirement already satisfied: PyAthena in /home/ec2-user/anaconda3/envs/python3/lib/python3.6/site-packages (2.1.2)\r\n",
      "Requirement already satisfied: botocore>=1.5.52 in /home/ec2-user/anaconda3/envs/python3/lib/python3.6/site-packages (from PyAthena) (1.20.16)\r\n",
      "Requirement already satisfied: tenacity>=4.1.0 in /home/ec2-user/anaconda3/envs/python3/lib/python3.6/site-packages (from PyAthena) (7.0.0)\r\n",
      "Requirement already satisfied: boto3>=1.4.4 in /home/ec2-user/anaconda3/envs/python3/lib/python3.6/site-packages (from PyAthena) (1.17.16)\r\n",
      "Requirement already satisfied: s3transfer<0.4.0,>=0.3.0 in /home/ec2-user/anaconda3/envs/python3/lib/python3.6/site-packages (from boto3>=1.4.4->PyAthena) (0.3.4)\r\n",
      "Requirement already satisfied: jmespath<1.0.0,>=0.7.1 in /home/ec2-user/anaconda3/envs/python3/lib/python3.6/site-packages (from boto3>=1.4.4->PyAthena) (0.10.0)\r\n",
      "Requirement already satisfied: python-dateutil<3.0.0,>=2.1 in /home/ec2-user/anaconda3/envs/python3/lib/python3.6/site-packages (from botocore>=1.5.52->PyAthena) (2.8.1)\r\n",
      "Requirement already satisfied: urllib3<1.27,>=1.25.4 in /home/ec2-user/anaconda3/envs/python3/lib/python3.6/site-packages (from botocore>=1.5.52->PyAthena) (1.25.10)\r\n",
      "Requirement already satisfied: six>=1.5 in /home/ec2-user/anaconda3/envs/python3/lib/python3.6/site-packages (from python-dateutil<3.0.0,>=2.1->botocore>=1.5.52->PyAthena) (1.14.0)\r\n"
     ]
    }
   ],
   "source": [
    "import sys\n",
    "!{sys.executable} -m pip install PyAthena"
   ]
  },
  {
   "cell_type": "code",
   "execution_count": 2,
   "metadata": {},
   "outputs": [
    {
     "name": "stdout",
     "output_type": "stream",
     "text": [
      "Requirement already satisfied: pytz in /home/ec2-user/anaconda3/envs/python3/lib/python3.6/site-packages (2019.3)\r\n"
     ]
    }
   ],
   "source": [
    "import sys\n",
    "!{sys.executable} -m pip install pytz"
   ]
  },
  {
   "cell_type": "markdown",
   "metadata": {},
   "source": [
    "#### Conectar con pyathena"
   ]
  },
  {
   "cell_type": "code",
   "execution_count": 3,
   "metadata": {},
   "outputs": [],
   "source": [
    "from pyathena.pandas.cursor import PandasCursor\n",
    "from pyathena import connect\n",
    "import pandas as pd\n",
    "import time\n",
    "# agregar directorio en el cual se almacenan las tablas que se van a consultar\n",
    "directorio = 's3://iadbprod-csd-hub-analyticaldata/graphdata-mobility-temporal/athena-results/'\n",
    "# base de datos\n",
    "bd = 'graphdata'\n",
    "cursor = connect(s3_staging_dir = directorio, region_name = 'us-east-1', schema_name = bd, cursor_class = PandasCursor).cursor()"
   ]
  },
  {
   "cell_type": "code",
   "execution_count": 4,
   "metadata": {},
   "outputs": [],
   "source": [
    "fecha_inicio = '09-01-2020'\n",
    "fecha_final = '09-30-2020'\n",
    "fechas = pd.date_range(fecha_inicio, fecha_final)"
   ]
  },
  {
   "cell_type": "markdown",
   "metadata": {},
   "source": [
    "# Union de tablas pings"
   ]
  },
  {
   "cell_type": "code",
   "execution_count": 5,
   "metadata": {},
   "outputs": [
    {
     "name": "stdout",
     "output_type": "stream",
     "text": [
      "901\n",
      "901 insertada, 1 minutos\n",
      "902\n",
      "902 insertada, 1 minutos\n",
      "903\n",
      "903 insertada, 1 minutos\n",
      "904\n",
      "904 insertada, 1 minutos\n",
      "905\n",
      "905 insertada, 1 minutos\n",
      "906\n",
      "906 insertada, 1 minutos\n",
      "907\n",
      "907 insertada, 1 minutos\n",
      "908\n",
      "908 insertada, 1 minutos\n",
      "909\n",
      "909 insertada, 1 minutos\n",
      "910\n",
      "910 insertada, 1 minutos\n",
      "911\n",
      "911 insertada, 1 minutos\n",
      "912\n",
      "912 insertada, 0 minutos\n",
      "913\n",
      "913 insertada, 0 minutos\n",
      "914\n",
      "914 insertada, 0 minutos\n",
      "915\n",
      "915 insertada, 0 minutos\n",
      "916\n",
      "916 insertada, 0 minutos\n",
      "917\n",
      "917 insertada, 0 minutos\n",
      "918\n",
      "918 insertada, 0 minutos\n",
      "919\n",
      "919 insertada, 0 minutos\n",
      "920\n",
      "920 insertada, 0 minutos\n",
      "921\n",
      "921 insertada, 0 minutos\n",
      "922\n",
      "922 insertada, 1 minutos\n",
      "923\n",
      "923 insertada, 1 minutos\n",
      "924\n",
      "924 insertada, 1 minutos\n",
      "925\n",
      "925 insertada, 1 minutos\n",
      "926\n",
      "926 insertada, 1 minutos\n",
      "927\n",
      "927 insertada, 1 minutos\n",
      "928\n",
      "928 insertada, 1 minutos\n",
      "929\n",
      "929 insertada, 1 minutos\n",
      "930\n",
      "930 insertada, 1 minutos\n",
      "32.88312221368154\n"
     ]
    }
   ],
   "source": [
    "historico_pings = f'historico_pings'\n",
    "start_time = time.time()\n",
    "for i,fecha in enumerate(fechas):\n",
    "    time_fecha = time.time()\n",
    "    day = str(fecha.day)\n",
    "    if len(day) == 1:\n",
    "        day = f'0{day}'\n",
    "    codigo_fecha = str(fecha.month) + day\n",
    "    print(codigo_fecha)\n",
    "    tabla_pings_fecha = f'todos_pings_delta_{codigo_fecha}'\n",
    "    if i == 0 and (day == '01' and fecha.month == 2):\n",
    "        query = f'''\n",
    "                    CREATE TABLE {historico_pings}\n",
    "                    WITH ( external_location = 's3://iadbprod-csd-hub-analyticaldata/graphdata-mobility-pings/{historico_pings}', \n",
    "                        format = 'PARQUET', \n",
    "                        parquet_compression = 'SNAPPY',\n",
    "                        partitioned_by = ARRAY['iso_country_code']) AS\n",
    "                    SELECT caid, \n",
    "                            utc_timestamp,\n",
    "                            latitude,\n",
    "                            longitude,\n",
    "                            id_type,\n",
    "                            hour_of_day,\n",
    "                            year,\n",
    "                            month,\n",
    "                            day,\n",
    "                            iso_country_code\n",
    "                    FROM {tabla_pings_fecha}\n",
    "                '''\n",
    "    else:\n",
    "        query = f'''\n",
    "                    INSERT INTO {historico_pings} SELECT caid, \n",
    "                                                                utc_timestamp,\n",
    "                                                                latitude,\n",
    "                                                                longitude,\n",
    "                                                                id_type,\n",
    "                                                                hour_of_day,\n",
    "                                                                year,\n",
    "                                                                month,\n",
    "                                                                day,\n",
    "                                                                iso_country_code \n",
    "                                                        FROM {tabla_pings_fecha} \n",
    "                '''\n",
    "    cursor.execute(query)\n",
    "    tiempo = (time.time()-time_fecha)/60\n",
    "    print(f\"{codigo_fecha} insertada, {int(tiempo)} minutos\")\n",
    "print((time.time()-start_time)/60)"
   ]
  },
  {
   "cell_type": "code",
   "execution_count": 6,
   "metadata": {},
   "outputs": [
    {
     "data": {
      "text/plain": [
       "<pyathena.pandas.cursor.PandasCursor at 0x7f72c9d67a58>"
      ]
     },
     "execution_count": 6,
     "metadata": {},
     "output_type": "execute_result"
    }
   ],
   "source": [
    "query = f'''MSCK REPAIR TABLE {historico_pings}'''\n",
    "cursor.execute(query)"
   ]
  }
 ],
 "metadata": {
  "kernelspec": {
   "display_name": "conda_python3",
   "language": "python",
   "name": "conda_python3"
  },
  "language_info": {
   "codemirror_mode": {
    "name": "ipython",
    "version": 3
   },
   "file_extension": ".py",
   "mimetype": "text/x-python",
   "name": "python",
   "nbconvert_exporter": "python",
   "pygments_lexer": "ipython3",
   "version": "3.6.13"
  }
 },
 "nbformat": 4,
 "nbformat_minor": 4
}
